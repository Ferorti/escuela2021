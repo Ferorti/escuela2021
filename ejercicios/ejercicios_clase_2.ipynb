{
 "cells": [
  {
   "cell_type": "markdown",
   "metadata": {},
   "source": [
    "### Listas"
   ]
  },
  {
   "cell_type": "markdown",
   "metadata": {},
   "source": [
    "1. ¿Cúal es el tercer mayor valor de esta lista?¿en que orden está el número 950?"
   ]
  },
  {
   "cell_type": "code",
   "execution_count": null,
   "metadata": {},
   "outputs": [],
   "source": [
    "mi_lista = [ 2, 517, 7, 11, 528, 531, 19, 536, 31, 40, 552, 50, 565, 55, 568, 571, 572, 583, 584, 588, 78, 591, 80, 82, 596, 91, 605, 611, 99, 101, 102, 105, 110, 622, 114, 118, 635, 636, 129, 643, 131, 645, 136, 655, 661, 664, 156, 669, 672, 163, 167, 168, 170, 683, 171, 176, 688, 179, 697, 187, 700, 191, 703, 197, 709, 201, 713, 716, 204, 205, 719, 720, 209, 726, 728, 729, 219, 228, 741, 231, 745, 237, 238, 240, 759, 248, 251, 254, 771, 773, 775, 778, 266, 787, 276, 789, 279, 793, 285, 798, 799, 800, 803, 295, 818, 307, 306, 821, 822, 823, 310, 315, 323, 835, 839, 843, 331, 334, 854, 342, 343, 347, 860, 363, 878, 367, 882, 883, 373, 886, 887, 376, 889, 379, 387, 900, 903, 907, 399, 400, 913, 911, 915, 409, 925, 929, 421, 933, 939, 437, 950, 951, 949, 953, 446, 959, 962, 451, 452, 453, 969, 458, 970, 972, 463, 464, 978, 982, 986, 475, 988, 474, 482, 485, 486, 509, 510]"
   ]
  },
  {
   "cell_type": "code",
   "execution_count": null,
   "metadata": {},
   "outputs": [],
   "source": [
    "tercer_mayor = ... # Completar\n",
    "orden_950 = ...     # Completar\n",
    "print(tercer_mayor)\n",
    "print(orden_950)"
   ]
  },
  {
   "cell_type": "markdown",
   "metadata": {},
   "source": [
    "2. A partir de la lista numero generar otra lista con los cuadrados de cada numero"
   ]
  },
  {
   "cell_type": "code",
   "execution_count": null,
   "metadata": {},
   "outputs": [],
   "source": [
    "cuadrados = []\n",
    "numeros = [1, 2, 3, 4, 5, 6, 7, 8, 9, 10] \n",
    "for n in numeros:\n",
    "    ### Completar \n",
    "\n"
   ]
  },
  {
   "cell_type": "markdown",
   "metadata": {},
   "source": [
    "\n",
    "3. Se tienen dos listas ( l1 y l2 ), escribir una función que devuelva la intersección de ambas listas."
   ]
  },
  {
   "cell_type": "code",
   "execution_count": null,
   "metadata": {},
   "outputs": [],
   "source": [
    "l1 = [1,3,5,6,7,10,12,15,22]\n",
    "l2 = [3,4,6,7,8,9,10,11,13,15]\n",
    "def intersection( a, b) :\n",
    "    pass"
   ]
  },
  {
   "cell_type": "markdown",
   "metadata": {},
   "source": [
    "4. Escribir una función que dadas dos listas, devuelva un valor de verdad que dice si una lista es inversa a la otra."
   ]
  },
  {
   "cell_type": "code",
   "execution_count": 2,
   "metadata": {},
   "outputs": [],
   "source": [
    "l1 = [1,2,3]\n",
    "l2 = [3,2,1]\n",
    "\n",
    "def isReverse(a, b) :\n",
    "    pass"
   ]
  },
  {
   "cell_type": "markdown",
   "metadata": {},
   "source": [
    "5. Escribir una función que tome dos listas l1 y l2, y que devuelve True si todos los elementso de l1 están en l2, sino quq devuelva False.\n"
   ]
  },
  {
   "cell_type": "code",
   "execution_count": 3,
   "metadata": {},
   "outputs": [],
   "source": [
    "def contains_all(l1, l2):\n",
    "    pass"
   ]
  },
  {
   "cell_type": "markdown",
   "metadata": {},
   "source": [
    "#### Recorrer diccionario con listas\n",
    "6. Construir un diccionario cuya clave sea un nombre de persona y los valores sean listas de nombres de ciudades que esa persona visitó. Crear una función que dado un diccionario como el que se pide antes y un nombre de ciudad, devuelva la lista de las personas que visitaron esa ciudad.\n"
   ]
  },
  {
   "cell_type": "code",
   "execution_count": 4,
   "metadata": {},
   "outputs": [],
   "source": [
    "datos = {\n",
    "    'juan' : ['Berlin','Barcelona','Buenos Aires','Baradero','Boston'],\n",
    "    'pedro' : ['Asunción','Atenas','Alicante','Almería','Berlin'],\n",
    "    'pepe' : ['Asunción','Buenos Aires','Berlin']\n",
    "}\n",
    "\n",
    "def visitantes( dic, ciudad ):\n",
    "    pass"
   ]
  },
  {
   "cell_type": "markdown",
   "metadata": {},
   "source": [
    "7. Defina una función que dado un diccionario permita crear otro pero que este tenga invertidas las claves y los valores. Asuma que no hay valores repetidos y estos pueden ser usados como clave.\n"
   ]
  },
  {
   "cell_type": "code",
   "execution_count": 5,
   "metadata": {},
   "outputs": [],
   "source": [
    "def reverseDict(dic):\n",
    "    pass\n"
   ]
  },
  {
   "cell_type": "markdown",
   "metadata": {},
   "source": [
    "8. Defina una función que tenga como parametros un a partir de un diccionario de secuencias proteicas y una secuencia de interes, que imprima en pantalla los nombres las proteinas que posean la secuencia de interes, y que devuelva la cantidad de dichas proteinas:"
   ]
  },
  {
   "cell_type": "code",
   "execution_count": 15,
   "metadata": {},
   "outputs": [],
   "source": [
    "secuencias = {\n",
    "    'bos taurus': \"MEESQAELNVEPPLSQETFSDLWNLLPENNLLSSELSAPVDDLLPYTDVATWLDECPNEA\",\n",
    "    'homo sapiens': \"MEEPQSDPSVEPPLSQETFSDLWKLLPENNVLSPLPSQAMDDLMLSPDDIEQWFTEDPGP\",\n",
    "    'mus musculus': 'MTAMEESQSDISLELPLSQETFSGLWKLLPPEDILPSPHCMDDLLLPQDVEEFFEGPSEA',\n",
    "    'rattus norvegicus': 'MEDSQSDMSIELPLSQETFSCLWKLLPPDDILPTTATGSPNSMEDLFLPQDVAELLEGPE',\n",
    "    'macaca mulatta': 'MEEPQSDPSIEPPLSQETFSDLWKLLPENNVLSPLPSQAVDDLMLSPDDLAQWLTEDPGP',\n",
    "    'sus scrofa': 'MEESQSELGVEPPLSQETFSDLWKLLPENNLLSSELSLAAVNDLLLSPVTNWLDENPDDA',\n",
    "    \"cricetulus griseus\":'MEEPQSDLSIELPLSQETFSDLWKLLPPNNVLSTLPSSDSIEELFLSENVTGWLEDSGGA',\n",
    "    'canis lupus': \"MEESQSELNIDPPLSQETFSELWNLLPENNVLSSELCPAVDELLLPESVVNWLDEDSDDA\",\n",
    "    'felix catus': 'MQEPPLELTIEPPLSQETFSELWNLLPENNVLSSELSSAMNELPLSEDVANWLDEAPDDA'\n",
    "    \n",
    "}\n",
    "\n",
    "def funcion(secuencias, target):\n",
    "    pass # Completar"
   ]
  },
  {
   "cell_type": "markdown",
   "metadata": {},
   "source": [
    "Ayuda, la salida esperada para dicha funcion con una secuencia de interes \"LSSEL\" sería:"
   ]
  },
  {
   "cell_type": "code",
   "execution_count": 14,
   "metadata": {},
   "outputs": [
    {
     "name": "stdout",
     "output_type": "stream",
     "text": [
      "bos taurus\n",
      "sus scrofa\n",
      "canis lupus\n",
      "felix catus\n",
      "4\n"
     ]
    }
   ],
   "source": [
    "hits = funcion(secuencias, 'LSSEL')\n",
    "print(hits)"
   ]
  },
  {
   "cell_type": "markdown",
   "metadata": {},
   "source": [
    "9.  Modificar la funcion anterior para que: \n",
    "+ se puede utilizar solo con el argumento de la secuencia de interes.\n",
    "+ Si encuentra proteinas, imprima en pantalla \"Se ha encontrado la secuencia ... en los siguientes organismos:\" antes de enumerar los organismos (en los ... va la secuencia de interes)\n",
    "\n",
    "+ Si no encuentra proteinas, imprima en pantalla \"No se ha encontrado la secuencia de interes en las proteinas\"\n",
    "El resultado debería ser:"
   ]
  },
  {
   "cell_type": "code",
   "execution_count": 25,
   "metadata": {},
   "outputs": [
    {
     "name": "stdout",
     "output_type": "stream",
     "text": [
      "Se ha encontrado la secuencia LSSEL en los siguientes organismos:\n",
      "bos taurus\n",
      "sus scrofa\n",
      "canis lupus\n",
      "felix catus\n",
      "4\n"
     ]
    }
   ],
   "source": [
    "hits = funcion2('LSSEL')\n",
    "print(hits)"
   ]
  },
  {
   "cell_type": "code",
   "execution_count": 26,
   "metadata": {},
   "outputs": [
    {
     "name": "stdout",
     "output_type": "stream",
     "text": [
      "No se ha encontrado la secuencia de interes en las proteinas\n",
      "0\n"
     ]
    }
   ],
   "source": [
    "hits = funcion2('LSSELXXXXXX')\n",
    "print(hits)"
   ]
  },
  {
   "cell_type": "markdown",
   "metadata": {},
   "source": [
    "10. Defina una función que dado dos números, devuelva el mayor. En caso de ser iguales devuela el string \"Los dos son iguales\" y en caso de ser ambos 0 devuelva \"Los dos son 0\""
   ]
  },
  {
   "cell_type": "code",
   "execution_count": null,
   "metadata": {},
   "outputs": [],
   "source": [
    "def mayor(a,b):\n",
    "    pass"
   ]
  },
  {
   "cell_type": "markdown",
   "metadata": {},
   "source": [
    "11. Creemos una funcion para convertir secuencias de aminoacidos escritas en codigo de tres letras a una letra, y viceversa\n",
    "por ej, en el siguiente caso la funcion retornaria:"
   ]
  },
  {
   "cell_type": "code",
   "execution_count": 9,
   "metadata": {},
   "outputs": [
    {
     "data": {
      "text/plain": [
       "'STLEKN'"
      ]
     },
     "execution_count": 9,
     "metadata": {},
     "output_type": "execute_result"
    }
   ],
   "source": [
    "convertir_aa(\"Ser-Thr-Leu-Glu-Lys-Asn\")"
   ]
  },
  {
   "cell_type": "code",
   "execution_count": 10,
   "metadata": {},
   "outputs": [
    {
     "data": {
      "text/plain": [
       "'Ser-Thr-Leu-Glu-Lys-Asn'"
      ]
     },
     "execution_count": 10,
     "metadata": {},
     "output_type": "execute_result"
    }
   ],
   "source": [
    "convertir_aa('STLEKN')"
   ]
  },
  {
   "cell_type": "markdown",
   "metadata": {},
   "source": [
    "Ayuda y consideraciones:\n",
    "+ buscar el codigo de tres letras y de una letra en internet.\n",
    "+ Las secuencias de tres letras se separan con un guíon - \n",
    "+ La funcion debe reconocer por sí sola si el codigo ingresado es de 3 o 1 letra\n",
    "+ La funcion debe poder procesar secuencias con mayusculas y minusculas por igual, y devolver las secuencias de 3 letras con la primera en mayúscula y las de 1 letra en mayúscula\n",
    "+ Si la secuencia a convertir tiene caracteres que no estan en el codigo de aminoácidos debe imprimir un mensaje en pantalla que lo advierta y no realizar niguna otra acción."
   ]
  },
  {
   "cell_type": "code",
   "execution_count": 6,
   "metadata": {},
   "outputs": [],
   "source": [
    "def convertir_aa(secuencia):\n",
    "    salida = \"\"\n",
    "    s = secuencia.split(\"-\")\n",
    "    for aa in s:\n",
    "        salida = salida + d[aa]\n",
    "    return salida\n",
    "        "
   ]
  },
  {
   "cell_type": "code",
   "execution_count": 18,
   "metadata": {},
   "outputs": [],
   "source": [
    "def es_vocal(letra):\n",
    "    if letra in 'AEIOUaeiou':\n",
    "        print(letra, \"es una vocal\")\n",
    "        return 'VOCAL'\n",
    "    else:\n",
    "        print(letra, \"no es una vocal\")\n",
    "        return 'NO VOCAL'"
   ]
  },
  {
   "cell_type": "code",
   "execution_count": 19,
   "metadata": {},
   "outputs": [
    {
     "name": "stdout",
     "output_type": "stream",
     "text": [
      "j no es una vocal\n"
     ]
    },
    {
     "data": {
      "text/plain": [
       "'NO VOCAL'"
      ]
     },
     "execution_count": 19,
     "metadata": {},
     "output_type": "execute_result"
    }
   ],
   "source": [
    "es_vocal(\"j\")"
   ]
  },
  {
   "cell_type": "code",
   "execution_count": null,
   "metadata": {},
   "outputs": [],
   "source": []
  }
 ],
 "metadata": {
  "kernelspec": {
   "display_name": "Python 3",
   "language": "python",
   "name": "python3"
  },
  "language_info": {
   "codemirror_mode": {
    "name": "ipython",
    "version": 3
   },
   "file_extension": ".py",
   "mimetype": "text/x-python",
   "name": "python",
   "nbconvert_exporter": "python",
   "pygments_lexer": "ipython3",
   "version": "3.8.3"
  }
 },
 "nbformat": 4,
 "nbformat_minor": 4
}
