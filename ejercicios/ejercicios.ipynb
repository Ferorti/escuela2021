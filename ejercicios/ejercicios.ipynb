{
  "nbformat": 4,
  "nbformat_minor": 0,
  "metadata": {
    "language_info": {
      "codemirror_mode": {
        "name": "ipython",
        "version": 3
      },
      "file_extension": ".py",
      "mimetype": "text/x-python",
      "name": "python",
      "nbconvert_exporter": "python",
      "pygments_lexer": "ipython3",
      "version": "3.9.1-final"
    },
    "orig_nbformat": 2,
    "kernelspec": {
      "name": "python3",
      "display_name": "Python 3.9.1 64-bit",
      "metadata": {
        "interpreter": {
          "hash": "2647ea34e536f865ab67ff9ddee7fd78773d956cec0cab53c79b32cd10da5d83"
        }
      }
    },
    "colab": {
      "name": "ejercicios.ipynb",
      "provenance": [],
      "include_colab_link": true
    }
  },
  "cells": [
    {
      "cell_type": "markdown",
      "metadata": {
        "id": "view-in-github",
        "colab_type": "text"
      },
      "source": [
        "<a href=\"https://colab.research.google.com/github/Ferorti/escuela2021/blob/main/ejercicios.ipynb\" target=\"_parent\"><img src=\"https://colab.research.google.com/assets/colab-badge.svg\" alt=\"Open In Colab\"/></a>"
      ]
    },
    {
      "cell_type": "markdown",
      "metadata": {
        "id": "pH_cH6j5bWVc"
      },
      "source": [
        "## Ejercicio 1\n",
        "La Energía Potencial Gravitatoria se define como:  \n",
        ">$E_p$ = m $x$ g $x$ h  \n",
        "\n",
        "- Asigne a g 9,8  \n",
        "- Calcular la Ep de un cuerpo de 2,5 kg situado a una altura de 10,0 m.  \n",
        "- Imprima en pantalla el texto: \"La energía potencial vale ... J\"  \n",
        "- Qué tipo de dato es el resultado?"
      ]
    },
    {
      "source": [
        "## Ejercicio    \n",
        "Crear una funcion para calcular la energia potencial gravitatoria de un cuerpo. Asigne g como valor por defecto"
      ],
      "cell_type": "markdown",
      "metadata": {}
    },
    {
      "cell_type": "markdown",
      "metadata": {
        "id": "NOwXK0kwbWVj"
      },
      "source": [
        "## Ejercicio 2\n",
        "La velocidad específica de crecimiento (K) de un microorganismo se puede determinar durante fase exponencial según se indica:  \n",
        "$K$ =\t$\\frac{ln 2}{g}$  \n",
        "\n",
        "- Calcule K para una bacteria cuyo tiempo de duplicación (g1) es de 0,33 horas.  \n",
        "- Qué tipo de dato es K1?  \n",
        "*Puede importar la funcion log (que corresponde al logaritmo natural) de la libreria math*"
      ]
    },
    {
      "source": [
        "## Ejercicio 3:\n",
        "Dadas las seguientes listas:  \n",
        "\n",
        "- bacterias = \\['campylobacter_jejuni', 'vibrio_cholerae', 'staphylococcus_aureus', 'clostridium_perfringens', 'bacillus_cereus', 'eschericchia_coli', 'listeria_monocitogenes'\\]\n",
        "\n",
        "- levaduras = \\['saccharomyces_cerevisiae', 'zygosaccharomyces_rouxii', 'candida_albicans', 'cryptococcus_neoformans', 'cryptococcus_albidus'\\]\n",
        "\n",
        "1. Escriba en mayúscula la primer letra de cada género\n",
        "2. Ordenarlas alfabeticamente\n",
        "2. Compruebe cual es de mayor longitud\n",
        "3. Crear una lista nueva y almacenar los primeros tres generos de cada lista"
      ],
      "cell_type": "markdown",
      "metadata": {}
    },
    {
      "source": [
        "## Ejercicio\n",
        "La siguiente secuencia corresponde a la proteina luciferasa:  \n",
        "\n",
        ">luciferasa = >>MEDAKNIKKGPAPFYPLEDGTAGEQLHKAMKRYALVPGTIAFTDAHIEVNITYAEYFEMSVRLAEAMKRYGLNTNHRIVVCSENSLQFFMPVLGALFIGVAVAPANDIYNERELLNSMNISQPTVVFVSKKGLQKILNVQKKLPIIQKIIIMDSKTDYQGFQSMYTFVTSHLPPGFNEYDFVPESFDRDKTIALIMNSSGSTGLPKGVALPHRTACVRFSHARDPIFGNQIIPDTAILSVVPFHHGFGMFTTLGYLICGFRVVLMYRFEEELFLRSLQDYKIQSALLVPTLFSFFAKSTLIDKYDLSNLHEIASGGAPLSKEVGEAVAKRFHLPGIRQGYGLTETTSAILITPEGDDKPGAVGKVVPFFEAKVVDLDTGKTLGVNQRGELCVRGPMIMSGYVNNPEATNALIDKDGWLHSGDIAYWDEDEHFFIVDRLKSLIKYKGYQVAPAELESILLQHPNIFDAGVAGLPDDDAGELPAAVVVLEHGKTMTEKEIVDYVASQVTTAKKLRGGVVFVDEVPKGLTGKLDARKIREILIKAKKGGKSKL\n",
        "luciferasa[452:529]"
      ],
      "cell_type": "markdown",
      "metadata": {
        "colab": {
          "base_uri": "https://localhost:8080/",
          "height": 35
        },
        "id": "rRQzh1xk2CcU",
        "outputId": "619ba720-d995-4db5-d9db-1837083db819"
      }
    },
    {
      "cell_type": "markdown",
      "metadata": {
        "id": "A99DERF7Hmr1"
      },
      "source": [
        "## Ejercicio 4\n",
        "El siguiente diccionario representa las áreas (en metros cuadrados) de distintos espacios de un instituto de investigación:  \n",
        "areas = \\{\"entrada\": 4.0, \"pasillos\": 11.25, \"cocina\": 18.0, \"lab1\": 20.0, \"lab2\": 10.75, \"ciber\": 15.50, \"baño\": 9.50\\}  \n",
        "\n",
        "- Imprima el primer elemento de la lista\n",
        "- Imprima los 3 ultimos elementos\n",
        "- Guarde en una variable el área del lab1 y en otra el área del lab2\n",
        "- Sume las areas de lab1 y lab2 y guarde el resultado en la variable \"areas_de_trabajo\"\n",
        "- Cambie el nombre de \"ciber\" a \"sala_becarios\"\n",
        "- Agregue al diccionario las áreas de la biblioteca y del estacionamiento, de 12.0 y 25.75 respectivamente\n"
      ]
    },
    {
      "source": [
        "## Ejercicio  \n",
        "Crear un diccionario con la siguiente clasificacion aminoacidos:  \n",
        ">- hidrofobos: F, A, L, M, I, W, P, V  \n",
        ">- polares: C, G, Q, N, S, Y, T  \n",
        "1. como averiguamos el numero de aa que son polares?\n",
        "2. Agregue los siguientes aa al diccionario: basicos: H, R, K ; acidos: D, E"
      ],
      "cell_type": "markdown",
      "metadata": {
        "id": "ZljRFYOBBniK"
      }
    },
    {
      "source": [
        "## Ejericio x\n",
        "El contenido CG de una secuencia de DNA se puede calcular como la razón entre la suma de Cs y Gs en la secuencia y la sumatoria de los 4 nucleotidos en la secuencia:  \n",
        ">$\\frac{C+G}{A+T+C+G}$  \n",
        "\n",
        "- Escriba una funcion \"contenido_cg\" que pueda tomar cualquier secuencia de DNA y calcular su contenido CG\n",
        "- Calcule el contenido CG de la siguiente secuencia \"ACTGATCGATTACGTATAGTATTTGCTATCATACATATATATCGATGCGTTCAT\"\n",
        "- Calcule el contenido CG de la secuencia \"aactgtagctagctagcagcgta\""
      ],
      "cell_type": "markdown",
      "metadata": {}
    },
    {
      "cell_type": "code",
      "metadata": {
        "id": "fGGDpb8LHmDt",
        "colab": {
          "base_uri": "https://localhost:8080/"
        },
        "outputId": "b67b7ba6-210d-4530-9964-2704105b69ae"
      },
      "source": [
        "def contenido_cg(dna):\n",
        "    c = dna.upper().count('C')\n",
        "    g = dna.upper().count('G')\n",
        "    cg_content = (c+g)/len(dna)\n",
        "    return cg_content\n",
        "\n",
        "my_seq = \"aactgtagctagctagcagcgta\"\n",
        "contenido_cg(my_seq)"
      ],
      "execution_count": 29,
      "outputs": [
        {
          "output_type": "execute_result",
          "data": {
            "text/plain": [
              "0.4782608695652174"
            ]
          },
          "metadata": {},
          "execution_count": 29
        }
      ]
    },
    {
      "cell_type": "markdown",
      "metadata": {
        "id": "Y41Mqs2Hm3ch"
      },
      "source": [
        "## Ejercicio x\n",
        "Dada la siguiente secuencia:  \n",
        "\n",
        ">CTGCAGAAATAACTAGGTACTAAGCCCGTTTGTGAAAAGTGGCCAAACCCATAAATTTGGCAATTACAATAAAGAAGCTAAAATTGTGGTCAAACTCACAAACATTTTTATTATATACATTTTAGTAGCTGATGCTTATAAAAGCAATATTTAAATCGTAAACAACAAATAAAATAAAATTTAAACGATGTGATTAAGAGCCAAAGGTCCTCTAGAAAAAGGTATTTAAGCAACGGAATTCCTTTGTGTTACATTCTTGAATGTCGCTCGCAGTGACATTAGCATTCCGGTACTGTTGGTAAAATGGAAGACGCCAAAAACATAAAGAAAGGCCCGGCGCCATTCTATCCTCTAGAGGATGGAACCGCTGGAGAGCAACTGCATAAGGCTATGAAGAGATACGCCCTGGTTCCTGGAACAATTGCTTTTGTGAGTATTTCTGTCTGATTTCTTTCGAGTTAACGAAATGTTCTTATGTTTCTTTAGACAGATGCACATATCGAGGTGAACATCACGTACGCGGAATACTTCGAAATGTCCGTTCGGTTGGCAGAAGCTATGAAACGATATGGGCTGAATACAAATCACAGAATCGTCGTATGCAGTGAAAACTCTCTTCAATTCTTTATGCCGGTGTTGGGCGCGTTATTTATCGGAGTTGCAGTTGCGCCCGCGAACGACATTTATAATGAACGTAAGCACCCTCGCCATCAGACCAAAGGGAATGACGTATTTAATTTTTAAGGTGAATTGCTCAACAGTATGAACATTTCGCAGCCTACCGTAGTGTTTGTTTCCAAAAAGGGGTTGCAAAAAATTTTGAACGTGCAAAAAAAATTACCAATAATCCAGAAAATTATTATCATGGATTCTAAAACGGATTACCAGGGATTTCAGTCGATGTACACGTTCGTCACATCTCATCTACCTCCCGGTTTTAATGAATACGATTTTGTACCAGAGTCCTTTGATCGTGACAAAACAATTGCACTGATAATGAATTCCTCTGGATCTACTGGGTTACCTAAGGGTGTGGCCCTTCCGCATAGAACTGCCTGCGTCAGATTCTCGCATGCCAGGTATGTCGTATAACAAGAGATTAAGTAATGTTGCTACACACATTGTAGAGATCCTATTTTTGGCAATCAAATCATTCCGGATACTGCGATTTTAAGTGTTGTTCCATTCCATCACGGTTTTGGAATGTTTACTACACTCGGATATTTGATATGTGGATTTCGAGTCGTCTTAATGTATAGATTTGAAGAAGAGCTGTTTTTACGATCCCTTCAGGATTACAAAATTCAAAGTGCGTTGCTAGTACCAACCCTATTTTCATTCTTCGCCAAAAGCACTCTGATTGACAAATACGATTTATCTAATTTACACGAAATTGCTTCTGGGGGCGCACCTCTTTCGAAAGAAGTCGGGGAAGCGGTTGCAAAACGGTGAGTTAAGCGCATTGCTAGTATTTCAAGGCTCTAAAACGGCGCGTAGCTTCCATCTTCCAGGGATACGACAAGGATATGGGCTCACTGAGACTACATCAGCTATTCTGATTACACCCGAGGGGGATGATAAACCGGGCGCGGTCGGTAAAGTTGTTCCATTTTTTGAAGCGAAGGTTGTGGATCTGGATACCGGGAAAACGCTGGGCGTTAATCAGAGAGGCGAATTATGTGTCAGAGGACCTATGATTATGTCCGGTTATGTAAACAATCCGGAAGCGACCAACGCCTTGATTGACAAGGATGGATGGCTACATTCTGGAGACATAGCTTACTGGGACGAAGACGAACACTTCTTCATAGTTGACCGCTTGAAGTCTTTAATTAAATACAAAGGATATCAGGTAATGAAGATTTTTACATGCACACACGCTACAATACCTGTAGGTGGCCCCCGCTGAATTGGAATCGATATTGTTACAACACCCCAACATCTTCGACGCGGGCGTGGCAGGTCTTCCCGACGATGACGCCGGTGAACTTCCCGCCGCCGTTGTTGTTTTGGAGCACGGAAAGACGATGACGGAAAAAGAGATCGTGGATTACGTCGCCAGTAAATGAATTCGTTTTACGTTACTCGTACTACAATTCTTTTCATAGGTCAAGTAACAACCGCGAAAAAGTTGCGCGGAGGAGTTGTGTTTGTGGACGAAGTACCGAAAGGTCTTACCGGAAAACTCGACGCAAGAAAAATCAGAGAGATCCTCATAAAGGCCAAGAAGGGCGGAAAGTCCAAATTGTAAAATGTAACTGTATTCAGCGATGACGAAATTCTTAGCTATTGTAATATTATATGCAAATTGATGAATGGTAATTTTGTAATTGTGGGTCACTGTACTATTTTAACGAATAATAAAATCAGGTATAGGTAACTAAAAA\n",
        "\n",
        "- Imprima el tamaño de la misma  \n",
        "- Calcule su contenido CG\n",
        "- Seleccione los nucleotidos 304 al 429 y guardelos como lista en la variable 'exon1'\n"
      ]
    },
    {
      "source": [
        "## Ejercicio x  \n",
        "En el siguiente diccionario se representan algunas proteinas con su contenido de desorden. Las claves corresponden al codigo de acceso de la proteina en UniProt    \n",
        ">{'Q8WZ42': \\['Titin', 'Homo sapiens', 0.0626\\], 'P04818': \\['Thymidylate synthase', 'Homo sapiens', 0.1565\\], 'P37840': \\['Alpha-synuclein', 'Homo sapiens', 1.0\\], 'P11387': \\['DNA topoisomerase 1', 'Homo sapiens', 0.3804\\], 'P19339': \\['Protein sex-lethal', 'Drosophila melanogaster', 0.0876\\], 'P04637': \\['Cellular tumor antigen p53', 'Homo sapiens', 0.4809\\], 'Q9MAA7': \\['Gibberellin receptor GID1A', 'Arabidopsis thaliana', 0.0377\\], 'P11473': \\['Vitamin D3 receptor', 'Homo sapiens', 0.3489\\], 'Q8RWK8': \\['Coilin', 'Arabidopsis thaliana', 0.3849\\]}\n",
        "\n",
        "- Crear un DataFrame a partir del diccionario\n",
        "- Agregue una columna que represente el desorden porcentual (%)\n",
        "- Realice un subset donde el organismo corresponda a 'Homo sapiens' y el contenido de desorden mayor al 30%"
      ],
      "cell_type": "markdown",
      "metadata": {
        "id": "qXLH8kAy6hqo"
      }
    },
    {
      "cell_type": "code",
      "execution_count": 53,
      "metadata": {},
      "outputs": [
        {
          "output_type": "execute_result",
          "data": {
            "text/plain": [
              "                            nombre     organismo  desorden  \\\n",
              "P37840             Alpha-synuclein  Homo sapiens    1.0000   \n",
              "P11387         DNA topoisomerase 1  Homo sapiens    0.3804   \n",
              "P04637  Cellular tumor antigen p53  Homo sapiens    0.4809   \n",
              "P11473         Vitamin D3 receptor  Homo sapiens    0.3489   \n",
              "\n",
              "        desorden_porcentual  \n",
              "P37840               100.00  \n",
              "P11387                38.04  \n",
              "P04637                48.09  \n",
              "P11473                34.89  "
            ],
            "text/html": "<div>\n<style scoped>\n    .dataframe tbody tr th:only-of-type {\n        vertical-align: middle;\n    }\n\n    .dataframe tbody tr th {\n        vertical-align: top;\n    }\n\n    .dataframe thead th {\n        text-align: right;\n    }\n</style>\n<table border=\"1\" class=\"dataframe\">\n  <thead>\n    <tr style=\"text-align: right;\">\n      <th></th>\n      <th>nombre</th>\n      <th>organismo</th>\n      <th>desorden</th>\n      <th>desorden_porcentual</th>\n    </tr>\n  </thead>\n  <tbody>\n    <tr>\n      <th>P37840</th>\n      <td>Alpha-synuclein</td>\n      <td>Homo sapiens</td>\n      <td>1.0000</td>\n      <td>100.00</td>\n    </tr>\n    <tr>\n      <th>P11387</th>\n      <td>DNA topoisomerase 1</td>\n      <td>Homo sapiens</td>\n      <td>0.3804</td>\n      <td>38.04</td>\n    </tr>\n    <tr>\n      <th>P04637</th>\n      <td>Cellular tumor antigen p53</td>\n      <td>Homo sapiens</td>\n      <td>0.4809</td>\n      <td>48.09</td>\n    </tr>\n    <tr>\n      <th>P11473</th>\n      <td>Vitamin D3 receptor</td>\n      <td>Homo sapiens</td>\n      <td>0.3489</td>\n      <td>34.89</td>\n    </tr>\n  </tbody>\n</table>\n</div>"
          },
          "metadata": {},
          "execution_count": 53
        }
      ],
      "source": [
        "import pandas as pd\n",
        "d = {'Q8WZ42': ['Titin', 'Homo sapiens', 0.0626],\n",
        "'P04818': ['Thymidylate synthase', 'Homo sapiens', 0.1565],\n",
        "'P37840': ['Alpha-synuclein', 'Homo sapiens', 1.0],\n",
        "'P11387': ['DNA topoisomerase 1', 'Homo sapiens', 0.3804],\n",
        "'P19339': ['Protein sex-lethal', 'Drosophila melanogaster', 0.0876],\n",
        "'P04637': ['Cellular tumor antigen p53', 'Homo sapiens', 0.4809],\n",
        "'Q9MAA7': ['Gibberellin receptor GID1A', 'Arabidopsis thaliana', 0.0377],\n",
        "'P11473': ['Vitamin D3 receptor', 'Homo sapiens', 0.3489],\n",
        "'Q8RWK8': ['Coilin', 'Arabidopsis thaliana', 0.3849]}\n",
        "\n",
        "data = pd.DataFrame.from_dict(d, orient='index', columns= ['nombre', 'organismo', 'desorden'])\n",
        "data['desorden_porcentual'] = data['desorden']*100\n",
        "data[(data['organismo'] == 'Homo sapiens') & (data['desorden_porcentual'] > 30)]"
      ]
    }
  ]
}