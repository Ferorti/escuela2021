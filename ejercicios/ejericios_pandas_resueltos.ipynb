{
  "nbformat": 4,
  "nbformat_minor": 0,
  "metadata": {
    "kernelspec": {
      "display_name": "Python 3",
      "language": "python",
      "name": "python3"
    },
    "language_info": {
      "codemirror_mode": {
        "name": "ipython",
        "version": 3
      },
      "file_extension": ".py",
      "mimetype": "text/x-python",
      "name": "python",
      "nbconvert_exporter": "python",
      "pygments_lexer": "ipython3",
      "version": "3.8.3"
    },
    "colab": {
      "name": "ejericios_pandas.ipynb",
      "provenance": []
    }
  },
  "cells": [
    {
      "cell_type": "code",
      "metadata": {
        "id": "gOzHHAA6gcWu"
      },
      "source": [
        "import pandas as pd\n",
        "pd.options.mode.chained_assignment = None  # ocultar alertas"
      ],
      "execution_count": null,
      "outputs": []
    },
    {
      "cell_type": "code",
      "metadata": {
        "id": "Hsx7odz_gcW0"
      },
      "source": [
        "#Desargar en la compu de google los archivos\n",
        "\n",
        "!wget https://raw.githubusercontent.com/Ferorti/escuela2021/main/data/iris.data.csv\n",
        "!wget https://raw.githubusercontent.com/Ferorti/escuela2021/main/data/provincias.csv\n",
        "!wget https://raw.githubusercontent.com/Ferorti/escuela2021/main/data/dominios.csv\n",
        "!wget https://raw.githubusercontent.com/Ferorti/escuela2021/main/data/gene.de.tab"
      ],
      "execution_count": null,
      "outputs": []
    },
    {
      "cell_type": "code",
      "metadata": {
        "id": "cj04XCv0gcW1"
      },
      "source": [
        "!ls # ver los aarchivos\n",
        "# deben cargar cada uno segun el ejercicio que corresponde, tener cuidado los sepearadores."
      ],
      "execution_count": null,
      "outputs": []
    },
    {
      "cell_type": "markdown",
      "metadata": {
        "id": "I2omywJcgcW1"
      },
      "source": [
        "Además con Pandas podemos cargar tablas directamente de internet sin descargarlas:"
      ]
    },
    {
      "cell_type": "code",
      "metadata": {
        "id": "wy0iw-BlgcW2"
      },
      "source": [
        "archivo1 = \"https://raw.githubusercontent.com/Ferorti/escuela2021/main/data/provincias.csv\"\n",
        "archivo2 = \"https://raw.githubusercontent.com/Ferorti/escuela2021/main/data/iris.data.csv\"\n",
        "archivo3 = \"https://raw.githubusercontent.com/Ferorti/escuela2021/main/data/dominios.csv\"\n",
        "archivo4 = \"https://raw.githubusercontent.com/Ferorti/escuela2021/main/data/gene.de.tab\""
      ],
      "execution_count": null,
      "outputs": []
    },
    {
      "cell_type": "markdown",
      "metadata": {
        "id": "QGZcQYTZgcW2"
      },
      "source": [
        "y pasandole ese argumento a pd.read_csv() segun el problema"
      ]
    },
    {
      "cell_type": "code",
      "metadata": {
        "id": "U-UcHTvdgeYH"
      },
      "source": [
        "\n",
        "\n",
        "\n",
        "archivo4 = pd.read_csv(\"https://raw.githubusercontent.com/Ferorti/escuela2021/main/data/gene.de.tab\")"
      ],
      "execution_count": null,
      "outputs": []
    },
    {
      "cell_type": "code",
      "metadata": {
        "id": "NqmSOxnbhF4l"
      },
      "source": [
        "import pandas as pd"
      ],
      "execution_count": 2,
      "outputs": []
    },
    {
      "cell_type": "markdown",
      "metadata": {
        "id": "ItgdadTwhGIG"
      },
      "source": [
        "---"
      ]
    },
    {
      "cell_type": "markdown",
      "metadata": {
        "id": "Ojgjqy29gcW3"
      },
      "source": [
        "1. Población Argentina"
      ]
    },
    {
      "cell_type": "markdown",
      "metadata": {
        "id": "Esh_h6WzgcW3"
      },
      "source": [
        "La siguiente tabla contiene la cantidad de habitantes y la superficie (en Kms cuadrados) de las provincias argentinas.\n",
        "\n",
        "+ ordene la tabla por provincia alfabeticamente, tiene algun problema? qué puede estar pasando? Si no pudo, no importa, lo vemos despues\n",
        "+ calcule la densidad de habitantes por provincia\n",
        "+ Cuales son las 5 provincias argentinas con mayor cantidad de habitantes? y las 5 menos pobladas?\n",
        "+ Cuales son las 5 provincias argentinas con mayor densidad poblacional? y las 5 con menor densidad?\n",
        "+ ordene el dataframe por densidad de habitantes (de mayor a menor)\n",
        "+ Cual sería la población total y la densidad total de Argentina segun estos datos?\n",
        "\n",
        "tips: recordar los separadores de los archivos"
      ]
    },
    {
      "cell_type": "code",
      "metadata": {
        "colab": {
          "base_uri": "https://localhost:8080/",
          "height": 206
        },
        "id": "Fl-xLDl6gcW3",
        "outputId": "3f37e9c7-b721-4d34-dff0-e5bc2c08463c"
      },
      "source": [
        "poblacion = pd.read_csv(\"https://raw.githubusercontent.com/Ferorti/escuela2021/main/data/provincias.csv\", sep='\\t') # Cargamos los datos, ojo al separador\n",
        "poblacion.head()"
      ],
      "execution_count": 5,
      "outputs": [
        {
          "output_type": "execute_result",
          "data": {
            "text/html": [
              "<div>\n",
              "<style scoped>\n",
              "    .dataframe tbody tr th:only-of-type {\n",
              "        vertical-align: middle;\n",
              "    }\n",
              "\n",
              "    .dataframe tbody tr th {\n",
              "        vertical-align: top;\n",
              "    }\n",
              "\n",
              "    .dataframe thead th {\n",
              "        text-align: right;\n",
              "    }\n",
              "</style>\n",
              "<table border=\"1\" class=\"dataframe\">\n",
              "  <thead>\n",
              "    <tr style=\"text-align: right;\">\n",
              "      <th></th>\n",
              "      <th>provincia</th>\n",
              "      <th>habitantes</th>\n",
              "      <th>superficie</th>\n",
              "    </tr>\n",
              "  </thead>\n",
              "  <tbody>\n",
              "    <tr>\n",
              "      <th>0</th>\n",
              "      <td>Ciudad Autónoma de Buenos Aires</td>\n",
              "      <td>2890151</td>\n",
              "      <td>200</td>\n",
              "    </tr>\n",
              "    <tr>\n",
              "      <th>1</th>\n",
              "      <td>Buenos Aires</td>\n",
              "      <td>15625084</td>\n",
              "      <td>307571</td>\n",
              "    </tr>\n",
              "    <tr>\n",
              "      <th>2</th>\n",
              "      <td>Gran Buenos Aires</td>\n",
              "      <td>9916715</td>\n",
              "      <td>3680</td>\n",
              "    </tr>\n",
              "    <tr>\n",
              "      <th>3</th>\n",
              "      <td>Interior de Buenos Aires</td>\n",
              "      <td>5708369</td>\n",
              "      <td>303891</td>\n",
              "    </tr>\n",
              "    <tr>\n",
              "      <th>4</th>\n",
              "      <td>Catamarca</td>\n",
              "      <td>367828</td>\n",
              "      <td>102602</td>\n",
              "    </tr>\n",
              "  </tbody>\n",
              "</table>\n",
              "</div>"
            ],
            "text/plain": [
              "                         provincia  habitantes  superficie\n",
              "0  Ciudad Autónoma de Buenos Aires     2890151         200\n",
              "1                     Buenos Aires    15625084      307571\n",
              "2                Gran Buenos Aires     9916715        3680\n",
              "3         Interior de Buenos Aires     5708369      303891\n",
              "4                        Catamarca      367828      102602"
            ]
          },
          "metadata": {
            "tags": []
          },
          "execution_count": 5
        }
      ]
    },
    {
      "cell_type": "code",
      "metadata": {
        "colab": {
          "base_uri": "https://localhost:8080/",
          "height": 206
        },
        "id": "W2H2uk1Phc8A",
        "outputId": "3141d23a-1387-4ebd-a13d-6d9d0aab6802"
      },
      "source": [
        "poblacion.sort_values('provincia').head() # Queda mal ordenada, por que?"
      ],
      "execution_count": 6,
      "outputs": [
        {
          "output_type": "execute_result",
          "data": {
            "text/html": [
              "<div>\n",
              "<style scoped>\n",
              "    .dataframe tbody tr th:only-of-type {\n",
              "        vertical-align: middle;\n",
              "    }\n",
              "\n",
              "    .dataframe tbody tr th {\n",
              "        vertical-align: top;\n",
              "    }\n",
              "\n",
              "    .dataframe thead th {\n",
              "        text-align: right;\n",
              "    }\n",
              "</style>\n",
              "<table border=\"1\" class=\"dataframe\">\n",
              "  <thead>\n",
              "    <tr style=\"text-align: right;\">\n",
              "      <th></th>\n",
              "      <th>provincia</th>\n",
              "      <th>habitantes</th>\n",
              "      <th>superficie</th>\n",
              "    </tr>\n",
              "  </thead>\n",
              "  <tbody>\n",
              "    <tr>\n",
              "      <th>2</th>\n",
              "      <td>Gran Buenos Aires</td>\n",
              "      <td>9916715</td>\n",
              "      <td>3680</td>\n",
              "    </tr>\n",
              "    <tr>\n",
              "      <th>3</th>\n",
              "      <td>Interior de Buenos Aires</td>\n",
              "      <td>5708369</td>\n",
              "      <td>303891</td>\n",
              "    </tr>\n",
              "    <tr>\n",
              "      <th>1</th>\n",
              "      <td>Buenos Aires</td>\n",
              "      <td>15625084</td>\n",
              "      <td>307571</td>\n",
              "    </tr>\n",
              "    <tr>\n",
              "      <th>4</th>\n",
              "      <td>Catamarca</td>\n",
              "      <td>367828</td>\n",
              "      <td>102602</td>\n",
              "    </tr>\n",
              "    <tr>\n",
              "      <th>5</th>\n",
              "      <td>Chaco</td>\n",
              "      <td>1055259</td>\n",
              "      <td>99633</td>\n",
              "    </tr>\n",
              "  </tbody>\n",
              "</table>\n",
              "</div>"
            ],
            "text/plain": [
              "                        provincia  habitantes  superficie\n",
              "2               Gran Buenos Aires     9916715        3680\n",
              "3        Interior de Buenos Aires     5708369      303891\n",
              "1                    Buenos Aires    15625084      307571\n",
              "4                       Catamarca      367828      102602\n",
              "5                           Chaco     1055259       99633"
            ]
          },
          "metadata": {
            "tags": []
          },
          "execution_count": 6
        }
      ]
    },
    {
      "cell_type": "markdown",
      "metadata": {
        "id": "pyx8f4mKiUdH"
      },
      "source": [
        "Algunos nombres están mal ingresados, tienen espacios de más.\n",
        "Lo podemos solucionar con el método map de las series pasando como argumento la el método .strip() de los strings, sin los parentesis.\n",
        "Para operaciones con strings, las series tienen el método str() el cual ofrece funciones para trabajar los strings en forma vectorizada."
      ]
    },
    {
      "cell_type": "code",
      "metadata": {
        "colab": {
          "base_uri": "https://localhost:8080/"
        },
        "id": "EK_sDLRNhqYw",
        "outputId": "f25edb15-fa95-4451-820d-54e7f7991a68"
      },
      "source": [
        "print(poblacion.sort_values('provincia').loc[2,'provincia'])\n",
        "# poblacion.sort_values('provincia').iloc[0,0]  # da lo mismo)"
      ],
      "execution_count": 10,
      "outputs": [
        {
          "output_type": "stream",
          "text": [
            "      Gran Buenos Aires\n"
          ],
          "name": "stdout"
        }
      ]
    },
    {
      "cell_type": "code",
      "metadata": {
        "id": "pTg8qhJGi8T-"
      },
      "source": [
        "# Forma con el metodo str(). de las series\n",
        "#poblacion['provincia'] = poblacion['provincia'].str.strip()\n",
        "\n",
        "# Forma con map() y strip()\n",
        "poblacion['provincia'] = poblacion.provincia.map(str.strip)\n"
      ],
      "execution_count": 21,
      "outputs": []
    },
    {
      "cell_type": "code",
      "metadata": {
        "id": "CL1iksIIkvfu"
      },
      "source": [
        "# probar que pasa si por corremos\n",
        "poblacion['provincia'].str[:5].str.upper().str.replace(' ','_')\n"
      ],
      "execution_count": null,
      "outputs": []
    },
    {
      "cell_type": "code",
      "metadata": {
        "id": "zt5MKZ_RozgT"
      },
      "source": [
        "poblacion = poblacion.sort_values('habitantes', ascending=False)"
      ],
      "execution_count": 39,
      "outputs": []
    },
    {
      "cell_type": "code",
      "metadata": {
        "id": "0ahhD4q4ohv_"
      },
      "source": [
        "# Calcular la densidad\n",
        "poblacion['densidad'] = poblacion['habitantes'] / poblacion['superficie']"
      ],
      "execution_count": 38,
      "outputs": []
    },
    {
      "cell_type": "markdown",
      "metadata": {
        "id": "_V_YOlIVkzv2"
      },
      "source": [
        "Como pueden ver, utilizando str. antes de los métodos de strings, podemos realizar operaciones con strings en forma vectorizada, sin tener que hacer bucles for."
      ]
    },
    {
      "cell_type": "code",
      "metadata": {
        "colab": {
          "base_uri": "https://localhost:8080/"
        },
        "id": "k5EjFTkqlDXX",
        "outputId": "29badc8e-dcfd-418f-deea-97bb81a1ebe3"
      },
      "source": [
        "solo_provincias = poblacion[ ~ poblacion.provincia.isin(['Gran Buenos Aires', 'Interior de Buenos Aires'])]\n",
        "# El operador ~ funciona como un \"not\" que convierte todos los True de una serie en False y viceversa\n",
        "# Recordemos que con el metodo .isin(lista) nos quedar con elementos de la serie estan en la lista,\n",
        "# Agregando ~ nos vamos a quedar con elementos NO esten en la lista:\n",
        "\n",
        "# Otra alternativa sería\n",
        "poblacion[(poblacion.provincia != \"Gran Buenos Aires\") &  (poblacion.provincia != \"Interior de Buenos Aires\") ]  # Notar que el & quivale al operador and (que no sepuede utilizar con series)\n",
        "# Además los paréntesis son necesarios.\n",
        "\n",
        "top5 = solo_provincias.sort_values('habitantes', ascending=False).head().provincia.to_list() # to_list() convierte una serie a una lista\n",
        "menos_pobladas = solo_provincias.sort_values('habitantes').head().provincia.to_list()\n",
        "\n",
        "print('Las 5 provincias más pobladas de la argentina son:')\n",
        "print('\\n'.join(top5))\n",
        "\n",
        "print()\n",
        "\n",
        "print('Las 5 provincias menos pobladas de la argentina son:')\n",
        "print('\\n'.join(menos_pobladas))"
      ],
      "execution_count": 42,
      "outputs": [
        {
          "output_type": "stream",
          "text": [
            "Las 5 provincias más pobladas de la argentina son:\n",
            "Buenos Aires\n",
            "Córdoba\n",
            "Santa Fe\n",
            "Ciudad Autónoma de Buenos Aires\n",
            "Mendoza\n",
            "\n",
            "Las 5 provincias menos pobladas de la argentina son:\n",
            "Tierra del Fuego, Antártida e Islas del Atlántico Sur\n",
            "Santa Cruz\n",
            "La Pampa\n",
            "La Rioja\n",
            "Catamarca\n"
          ],
          "name": "stdout"
        }
      ]
    },
    {
      "cell_type": "code",
      "metadata": {
        "colab": {
          "base_uri": "https://localhost:8080/"
        },
        "id": "WGZPQ0JvoTdK",
        "outputId": "4bd27a31-3fa8-4243-8571-a0b7f52305c1"
      },
      "source": [
        "top5_densidad = solo_provincias.sort_values('densidad', ascending=False).head().provincia.to_list() # to_list() convierte una serie a una lista\n",
        "menos_densas = solo_provincias.sort_values('densidad').head().provincia.to_list()\n",
        "\n",
        "print('Las 5 provincias más densamente pobladas de la argentina son:')\n",
        "print('\\n'.join(top5_densidad))\n",
        "\n",
        "print()\n",
        "\n",
        "print('Las 5 provincias menos densamente pobladas de la argentina son:')\n",
        "print('\\n'.join(menos_densas))"
      ],
      "execution_count": 43,
      "outputs": [
        {
          "output_type": "stream",
          "text": [
            "Las 5 provincias más densamente pobladas de la argentina son:\n",
            "Ciudad Autónoma de Buenos Aires\n",
            "Tucumán\n",
            "Buenos Aires\n",
            "Misiones\n",
            "Santa Fe\n",
            "\n",
            "Las 5 provincias menos densamente pobladas de la argentina son:\n",
            "Tierra del Fuego, Antártida e Islas del Atlántico Sur\n",
            "Santa Cruz\n",
            "La Pampa\n",
            "Chubut\n",
            "Río Negro\n"
          ],
          "name": "stdout"
        }
      ]
    },
    {
      "cell_type": "code",
      "metadata": {
        "id": "jNMpmVbanspW"
      },
      "source": [
        "# ordenar por densidad\n",
        "poblacion = poblacion.sort_values('densidad', ascending=False)"
      ],
      "execution_count": 44,
      "outputs": []
    },
    {
      "cell_type": "code",
      "metadata": {
        "colab": {
          "base_uri": "https://localhost:8080/"
        },
        "id": "_V85dmHinPs1",
        "outputId": "3b9f5aae-e590-4583-9fc3-61fbca0c1c16"
      },
      "source": [
        "densidad_argentina = solo_provincias.habitantes.sum() / solo_provincias.superficie.sum() # Por que no con el dataframe poblacion?\n",
        "print(\"La densidad poblacional de Argentina en 2010 es de:\", round(densidad_argentina,2),'Habitantes/Km2')"
      ],
      "execution_count": 47,
      "outputs": [
        {
          "output_type": "stream",
          "text": [
            "La densidad poblacional de Argentina en 2010 es de: 10.67 Habitantes/Km2\n"
          ],
          "name": "stdout"
        }
      ]
    },
    {
      "cell_type": "code",
      "metadata": {
        "id": "tIpS9mM1mI6G"
      },
      "source": [
        ""
      ],
      "execution_count": 47,
      "outputs": []
    },
    {
      "cell_type": "markdown",
      "metadata": {
        "id": "p5F6c8Qbg97m"
      },
      "source": [
        "---"
      ]
    },
    {
      "cell_type": "code",
      "metadata": {
        "colab": {
          "base_uri": "https://localhost:8080/"
        },
        "id": "lo7OXaG4qwt3",
        "outputId": "d9df62af-595b-4f05-bfb7-efd6c028e1b8"
      },
      "source": [
        "list(iris.shape)"
      ],
      "execution_count": 51,
      "outputs": [
        {
          "output_type": "execute_result",
          "data": {
            "text/plain": [
              "[150, 5]"
            ]
          },
          "metadata": {
            "tags": []
          },
          "execution_count": 51
        }
      ]
    },
    {
      "cell_type": "markdown",
      "metadata": {
        "id": "AFlq6O-ggcW3"
      },
      "source": [
        "2-Tenemos el dataframe Iris, un dataset muy utilizado en análisis de datos, con mediciones del ancho y el largo del petatalo y del sepalo para algunas variedades de flores iris\n",
        "\n",
        "* Cuantas filas y columnas tiene el dataset?\n",
        "* de qué tipo de datos es cada columna?\n",
        "* Cuantas variedades de iris tiene el dataset?\n",
        "* Calcule la media y el desvio standard del largo del sepalo y del petalo, sin discriminar por variedad de flor\n",
        "* Calcule de nuevo la media y el std pero ahora para cada variedad\n",
        "\n",
        "Tips: La media y el STD lo pueden obtener con .describe() o usando los métodos se las series. EJ:\n",
        "\n",
        "```python \n",
        "df.desbribe()[\"mean\"]\n",
        "serie.mean()\n",
        "serie.std()\n",
        "```\n"
      ]
    },
    {
      "cell_type": "code",
      "metadata": {
        "colab": {
          "base_uri": "https://localhost:8080/"
        },
        "id": "e35aE0SugcW3",
        "outputId": "3751d166-f15a-440e-f0e0-9ba51787b6e5"
      },
      "source": [
        "iris = pd.read_csv(\"https://raw.githubusercontent.com/Ferorti/escuela2021/main/data/iris.data.csv\")\n",
        "nrow, ncol = iris.shape\n",
        "\n",
        "print('Iris tiene {} filas y {} columnas'.format(nrow, ncol))"
      ],
      "execution_count": 60,
      "outputs": [
        {
          "output_type": "stream",
          "text": [
            "Iris tiene 150 filas y 5 columnas\n"
          ],
          "name": "stdout"
        }
      ]
    },
    {
      "cell_type": "code",
      "metadata": {
        "colab": {
          "base_uri": "https://localhost:8080/"
        },
        "id": "0XEN1e39rUGw",
        "outputId": "77fda33d-788e-4369-d367-f249ee943349"
      },
      "source": [
        "print(iris.info())"
      ],
      "execution_count": 62,
      "outputs": [
        {
          "output_type": "stream",
          "text": [
            "<class 'pandas.core.frame.DataFrame'>\n",
            "RangeIndex: 150 entries, 0 to 149\n",
            "Data columns (total 5 columns):\n",
            " #   Column        Non-Null Count  Dtype  \n",
            "---  ------        --------------  -----  \n",
            " 0   sepal_length  150 non-null    float64\n",
            " 1   sepal_width   150 non-null    float64\n",
            " 2   petal_length  150 non-null    float64\n",
            " 3   petal_width   150 non-null    float64\n",
            " 4   variedad      150 non-null    object \n",
            "dtypes: float64(4), object(1)\n",
            "memory usage: 6.0+ KB\n",
            "None\n"
          ],
          "name": "stdout"
        }
      ]
    },
    {
      "cell_type": "code",
      "metadata": {
        "colab": {
          "base_uri": "https://localhost:8080/"
        },
        "id": "N_LNVVTWrJzp",
        "outputId": "5ea27519-a70e-48a9-def4-a8a5fe3d0670"
      },
      "source": [
        "variedades = iris.variedad.unique()\n",
        "\n",
        "print('Iris tiene', len(variedades), 'variedades de flor:', \", \".join(variedades))"
      ],
      "execution_count": 73,
      "outputs": [
        {
          "output_type": "stream",
          "text": [
            "Iris tiene 3 variedades de flor: Iris-setosa, Iris-versicolor, Iris-virginica\n"
          ],
          "name": "stdout"
        }
      ]
    },
    {
      "cell_type": "code",
      "metadata": {
        "colab": {
          "base_uri": "https://localhost:8080/",
          "height": 129
        },
        "id": "ma7SHH76sqEE",
        "outputId": "154108eb-2e27-44bb-dc81-8095248c04ba"
      },
      "source": [
        "print('Mean y Std sin discriminar por variedad de flor:')\n",
        "iris.describe().loc[['mean','std'], ['sepal_length', 'petal_length']]"
      ],
      "execution_count": 77,
      "outputs": [
        {
          "output_type": "stream",
          "text": [
            "Mean y Std sin discriminar por variedad de flor:\n"
          ],
          "name": "stdout"
        },
        {
          "output_type": "execute_result",
          "data": {
            "text/html": [
              "<div>\n",
              "<style scoped>\n",
              "    .dataframe tbody tr th:only-of-type {\n",
              "        vertical-align: middle;\n",
              "    }\n",
              "\n",
              "    .dataframe tbody tr th {\n",
              "        vertical-align: top;\n",
              "    }\n",
              "\n",
              "    .dataframe thead th {\n",
              "        text-align: right;\n",
              "    }\n",
              "</style>\n",
              "<table border=\"1\" class=\"dataframe\">\n",
              "  <thead>\n",
              "    <tr style=\"text-align: right;\">\n",
              "      <th></th>\n",
              "      <th>sepal_length</th>\n",
              "      <th>petal_length</th>\n",
              "    </tr>\n",
              "  </thead>\n",
              "  <tbody>\n",
              "    <tr>\n",
              "      <th>mean</th>\n",
              "      <td>5.843333</td>\n",
              "      <td>3.758667</td>\n",
              "    </tr>\n",
              "    <tr>\n",
              "      <th>std</th>\n",
              "      <td>0.828066</td>\n",
              "      <td>1.764420</td>\n",
              "    </tr>\n",
              "  </tbody>\n",
              "</table>\n",
              "</div>"
            ],
            "text/plain": [
              "      sepal_length  petal_length\n",
              "mean      5.843333      3.758667\n",
              "std       0.828066      1.764420"
            ]
          },
          "metadata": {
            "tags": []
          },
          "execution_count": 77
        }
      ]
    },
    {
      "cell_type": "code",
      "metadata": {
        "colab": {
          "base_uri": "https://localhost:8080/",
          "height": 224
        },
        "id": "VX0oCmlfs_pF",
        "outputId": "c11e6d56-14bc-4883-c8c5-92cbff54ba52"
      },
      "source": [
        "print('Separando por variedad de flor:')\n",
        "\n",
        "iris.groupby('variedad')[['sepal_length', \"petal_length\"]].describe()"
      ],
      "execution_count": 100,
      "outputs": [
        {
          "output_type": "stream",
          "text": [
            "Separando por variedad de flor:\n"
          ],
          "name": "stdout"
        },
        {
          "output_type": "execute_result",
          "data": {
            "text/html": [
              "<div>\n",
              "<style scoped>\n",
              "    .dataframe tbody tr th:only-of-type {\n",
              "        vertical-align: middle;\n",
              "    }\n",
              "\n",
              "    .dataframe tbody tr th {\n",
              "        vertical-align: top;\n",
              "    }\n",
              "\n",
              "    .dataframe thead tr th {\n",
              "        text-align: left;\n",
              "    }\n",
              "\n",
              "    .dataframe thead tr:last-of-type th {\n",
              "        text-align: right;\n",
              "    }\n",
              "</style>\n",
              "<table border=\"1\" class=\"dataframe\">\n",
              "  <thead>\n",
              "    <tr>\n",
              "      <th></th>\n",
              "      <th colspan=\"8\" halign=\"left\">sepal_length</th>\n",
              "      <th colspan=\"8\" halign=\"left\">petal_length</th>\n",
              "    </tr>\n",
              "    <tr>\n",
              "      <th></th>\n",
              "      <th>count</th>\n",
              "      <th>mean</th>\n",
              "      <th>std</th>\n",
              "      <th>min</th>\n",
              "      <th>25%</th>\n",
              "      <th>50%</th>\n",
              "      <th>75%</th>\n",
              "      <th>max</th>\n",
              "      <th>count</th>\n",
              "      <th>mean</th>\n",
              "      <th>std</th>\n",
              "      <th>min</th>\n",
              "      <th>25%</th>\n",
              "      <th>50%</th>\n",
              "      <th>75%</th>\n",
              "      <th>max</th>\n",
              "    </tr>\n",
              "    <tr>\n",
              "      <th>variedad</th>\n",
              "      <th></th>\n",
              "      <th></th>\n",
              "      <th></th>\n",
              "      <th></th>\n",
              "      <th></th>\n",
              "      <th></th>\n",
              "      <th></th>\n",
              "      <th></th>\n",
              "      <th></th>\n",
              "      <th></th>\n",
              "      <th></th>\n",
              "      <th></th>\n",
              "      <th></th>\n",
              "      <th></th>\n",
              "      <th></th>\n",
              "      <th></th>\n",
              "    </tr>\n",
              "  </thead>\n",
              "  <tbody>\n",
              "    <tr>\n",
              "      <th>Iris-setosa</th>\n",
              "      <td>50.0</td>\n",
              "      <td>5.006</td>\n",
              "      <td>0.352490</td>\n",
              "      <td>4.3</td>\n",
              "      <td>4.800</td>\n",
              "      <td>5.0</td>\n",
              "      <td>5.2</td>\n",
              "      <td>5.8</td>\n",
              "      <td>50.0</td>\n",
              "      <td>1.464</td>\n",
              "      <td>0.173511</td>\n",
              "      <td>1.0</td>\n",
              "      <td>1.4</td>\n",
              "      <td>1.50</td>\n",
              "      <td>1.575</td>\n",
              "      <td>1.9</td>\n",
              "    </tr>\n",
              "    <tr>\n",
              "      <th>Iris-versicolor</th>\n",
              "      <td>50.0</td>\n",
              "      <td>5.936</td>\n",
              "      <td>0.516171</td>\n",
              "      <td>4.9</td>\n",
              "      <td>5.600</td>\n",
              "      <td>5.9</td>\n",
              "      <td>6.3</td>\n",
              "      <td>7.0</td>\n",
              "      <td>50.0</td>\n",
              "      <td>4.260</td>\n",
              "      <td>0.469911</td>\n",
              "      <td>3.0</td>\n",
              "      <td>4.0</td>\n",
              "      <td>4.35</td>\n",
              "      <td>4.600</td>\n",
              "      <td>5.1</td>\n",
              "    </tr>\n",
              "    <tr>\n",
              "      <th>Iris-virginica</th>\n",
              "      <td>50.0</td>\n",
              "      <td>6.588</td>\n",
              "      <td>0.635880</td>\n",
              "      <td>4.9</td>\n",
              "      <td>6.225</td>\n",
              "      <td>6.5</td>\n",
              "      <td>6.9</td>\n",
              "      <td>7.9</td>\n",
              "      <td>50.0</td>\n",
              "      <td>5.552</td>\n",
              "      <td>0.551895</td>\n",
              "      <td>4.5</td>\n",
              "      <td>5.1</td>\n",
              "      <td>5.55</td>\n",
              "      <td>5.875</td>\n",
              "      <td>6.9</td>\n",
              "    </tr>\n",
              "  </tbody>\n",
              "</table>\n",
              "</div>"
            ],
            "text/plain": [
              "                sepal_length                        ... petal_length                  \n",
              "                       count   mean       std  min  ...          25%   50%    75%  max\n",
              "variedad                                            ...                               \n",
              "Iris-setosa             50.0  5.006  0.352490  4.3  ...          1.4  1.50  1.575  1.9\n",
              "Iris-versicolor         50.0  5.936  0.516171  4.9  ...          4.0  4.35  4.600  5.1\n",
              "Iris-virginica          50.0  6.588  0.635880  4.9  ...          5.1  5.55  5.875  6.9\n",
              "\n",
              "[3 rows x 16 columns]"
            ]
          },
          "metadata": {
            "tags": []
          },
          "execution_count": 100
        }
      ]
    },
    {
      "cell_type": "markdown",
      "metadata": {
        "id": "KOdu8la8gcW5"
      },
      "source": [
        "3. Dominios PFAM"
      ]
    },
    {
      "cell_type": "code",
      "metadata": {
        "colab": {
          "base_uri": "https://localhost:8080/"
        },
        "id": "ceF9ZnDgq-D4",
        "outputId": "c263fcba-4ace-4d36-8428-768d6dee2f6a"
      },
      "source": [
        "list(iris.shape)"
      ],
      "execution_count": 56,
      "outputs": [
        {
          "output_type": "execute_result",
          "data": {
            "text/plain": [
              "[150, 5]"
            ]
          },
          "metadata": {
            "tags": []
          },
          "execution_count": 56
        }
      ]
    },
    {
      "cell_type": "markdown",
      "metadata": {
        "id": "pH5GJNfYgcW5"
      },
      "source": [
        "A continuación tenemos una tabla con información sobre los dominios de PFAM que tienen un grupo de proteínas.\n",
        "\n",
        "* Que tipo de columnas tiene la tabla, cuantas filas tiene?\n",
        "* Corresponden a varios organismos las proteinas?\n",
        "* Hay una fila por proteína o puede habar más de una?\n",
        "* Cuantas veces aparece cada dominio en la tabla?\n",
        "* Que proteínas tienen más dominios?\n",
        "* Que proteínas tienen más dominios diferentes?\n",
        "* calcule el largo del dominio a partir del start y end (posiciones de los aminoácidos)\n",
        "* que proteinas poseen al menos un dominio RRM_1\n",
        "\n",
        "tips: pruebe o averigue para qué sirve el método ```.value_counts()``` de las Series. En lo posible con series con strings.\n",
        "\n",
        "Aclaracion: La tabla es un subset de una tabla muy grande, por eso algunos dominios no aparecen en las proteinas"
      ]
    },
    {
      "cell_type": "code",
      "metadata": {
        "id": "8Sci0MA7gcW5"
      },
      "source": [
        "dominios = pd.read_csv(\"https://raw.githubusercontent.com/Ferorti/escuela2021/main/data/dominios.csv\")"
      ],
      "execution_count": 101,
      "outputs": []
    },
    {
      "cell_type": "code",
      "metadata": {
        "id": "0C4DD4nru38a",
        "outputId": "b5c5b2df-6f05-4f0c-947e-5b15f9850fc0",
        "colab": {
          "base_uri": "https://localhost:8080/"
        }
      },
      "source": [
        "dominios.info()"
      ],
      "execution_count": 102,
      "outputs": [
        {
          "output_type": "stream",
          "text": [
            "<class 'pandas.core.frame.DataFrame'>\n",
            "RangeIndex: 2048 entries, 0 to 2047\n",
            "Data columns (total 6 columns):\n",
            " #   Column   Non-Null Count  Dtype \n",
            "---  ------   --------------  ----- \n",
            " 0   gen      2044 non-null   object\n",
            " 1   uniprot  2048 non-null   object\n",
            " 2   org      2048 non-null   object\n",
            " 3   domain   2048 non-null   object\n",
            " 4   start    2048 non-null   int64 \n",
            " 5   end      2048 non-null   int64 \n",
            "dtypes: int64(2), object(4)\n",
            "memory usage: 96.1+ KB\n"
          ],
          "name": "stdout"
        }
      ]
    },
    {
      "cell_type": "code",
      "metadata": {
        "id": "Mh1TZlOku8z0",
        "outputId": "a938f775-f80c-4a51-d8f6-422c95cd76c0",
        "colab": {
          "base_uri": "https://localhost:8080/"
        }
      },
      "source": [
        "dominios.org.value_counts()"
      ],
      "execution_count": 104,
      "outputs": [
        {
          "output_type": "execute_result",
          "data": {
            "text/plain": [
              "Homo sapiens    2048\n",
              "Name: org, dtype: int64"
            ]
          },
          "metadata": {
            "tags": []
          },
          "execution_count": 104
        }
      ]
    },
    {
      "cell_type": "code",
      "metadata": {
        "id": "gard843WvD_V",
        "outputId": "35d7be84-0fc8-47bc-93ea-9ccfc6ad41f3",
        "colab": {
          "base_uri": "https://localhost:8080/"
        }
      },
      "source": [
        "dominios.gen.value_counts() # Hay proteinas con anotaciones en varias filas"
      ],
      "execution_count": 105,
      "outputs": [
        {
          "output_type": "execute_result",
          "data": {
            "text/plain": [
              "TTN       295\n",
              "TNXB       31\n",
              "SPTBN5     27\n",
              "DST        20\n",
              "SPTAN1     20\n",
              "         ... \n",
              "DDX53       1\n",
              "NIPBL       1\n",
              "LYST        1\n",
              "PKN1        1\n",
              "ZFHX3       1\n",
              "Name: gen, Length: 714, dtype: int64"
            ]
          },
          "metadata": {
            "tags": []
          },
          "execution_count": 105
        }
      ]
    },
    {
      "cell_type": "code",
      "metadata": {
        "id": "_NaKWzpHvMnu",
        "outputId": "b95ff590-d8ec-40a8-95cc-539f68a85b17",
        "colab": {
          "base_uri": "https://localhost:8080/"
        }
      },
      "source": [
        "dominios.domain.value_counts() # cantidad de veces que aparece cada dominio en la tabla"
      ],
      "execution_count": 107,
      "outputs": [
        {
          "output_type": "execute_result",
          "data": {
            "text/plain": [
              "WD40        346\n",
              "fn3         292\n",
              "RRM_1       290\n",
              "Pkinase     235\n",
              "I-set       233\n",
              "Spectrin    179\n",
              "zf-C2H2     164\n",
              "PLD         115\n",
              "Ank_2       107\n",
              "KH_1         87\n",
              "Name: domain, dtype: int64"
            ]
          },
          "metadata": {
            "tags": []
          },
          "execution_count": 107
        }
      ]
    },
    {
      "cell_type": "code",
      "metadata": {
        "id": "XaMNnUHevbY2",
        "outputId": "89bc2310-7af2-4650-fbd5-b153de337d22",
        "colab": {
          "base_uri": "https://localhost:8080/"
        }
      },
      "source": [
        "dominios.groupby('gen').agg('size').sort_values(ascending= False)[:20]"
      ],
      "execution_count": 119,
      "outputs": [
        {
          "output_type": "execute_result",
          "data": {
            "text/plain": [
              "gen\n",
              "TTN        295\n",
              "TNXB        31\n",
              "SPTBN5      27\n",
              "DST         20\n",
              "SPTAN1      20\n",
              "SPTB        17\n",
              "SPTBN1      17\n",
              "SPTBN2      17\n",
              "MACF1       17\n",
              "TNC         15\n",
              "SPTBN4      14\n",
              "HDLBP       14\n",
              "IGF2BP2     12\n",
              "ZNF774      11\n",
              "ZNF79       11\n",
              "PTPRF       10\n",
              "ANKHD1      10\n",
              "SYNE1       10\n",
              "ZSCAN12     10\n",
              "ANKRD17     10\n",
              "dtype: int64"
            ]
          },
          "metadata": {
            "tags": []
          },
          "execution_count": 119
        }
      ]
    },
    {
      "cell_type": "code",
      "metadata": {
        "id": "WraCrCy6wINp",
        "outputId": "62642257-8971-4271-dc39-6a2e47fc9017",
        "colab": {
          "base_uri": "https://localhost:8080/"
        }
      },
      "source": [
        "dominios.drop_duplicates([\"gen\",'domain']).groupby('uniprot').agg('size').sort_values(ascending= False)[:20]"
      ],
      "execution_count": 123,
      "outputs": [
        {
          "output_type": "execute_result",
          "data": {
            "text/plain": [
              "uniprot\n",
              "O60229    4\n",
              "O75962    3\n",
              "Q8WZ42    3\n",
              "P32004    2\n",
              "P22626    2\n",
              "Q01085    2\n",
              "Q9H4A3    2\n",
              "P13591    2\n",
              "Q86SG3    2\n",
              "Q12860    2\n",
              "Q38SD2    2\n",
              "Q9NZI8    2\n",
              "Q32P51    2\n",
              "P23246    2\n",
              "O15394    2\n",
              "Q13148    2\n",
              "Q9NQZ3    2\n",
              "Q13151    2\n",
              "Q96PK6    2\n",
              "Q01844    2\n",
              "dtype: int64"
            ]
          },
          "metadata": {
            "tags": []
          },
          "execution_count": 123
        }
      ]
    },
    {
      "cell_type": "code",
      "metadata": {
        "id": "OjS5nMUYxS_u"
      },
      "source": [
        "dominios['largo'] = dominios['end'] - dominios['start'] + 1"
      ],
      "execution_count": 125,
      "outputs": []
    },
    {
      "cell_type": "code",
      "metadata": {
        "id": "bZBS38Q8xeUl",
        "outputId": "bce22362-d0d2-46f2-ab25-114157e569ba",
        "colab": {
          "base_uri": "https://localhost:8080/",
          "height": 424
        }
      },
      "source": [
        "dominios"
      ],
      "execution_count": 126,
      "outputs": [
        {
          "output_type": "execute_result",
          "data": {
            "text/html": [
              "<div>\n",
              "<style scoped>\n",
              "    .dataframe tbody tr th:only-of-type {\n",
              "        vertical-align: middle;\n",
              "    }\n",
              "\n",
              "    .dataframe tbody tr th {\n",
              "        vertical-align: top;\n",
              "    }\n",
              "\n",
              "    .dataframe thead th {\n",
              "        text-align: right;\n",
              "    }\n",
              "</style>\n",
              "<table border=\"1\" class=\"dataframe\">\n",
              "  <thead>\n",
              "    <tr style=\"text-align: right;\">\n",
              "      <th></th>\n",
              "      <th>gen</th>\n",
              "      <th>uniprot</th>\n",
              "      <th>org</th>\n",
              "      <th>domain</th>\n",
              "      <th>start</th>\n",
              "      <th>end</th>\n",
              "      <th>largo</th>\n",
              "    </tr>\n",
              "  </thead>\n",
              "  <tbody>\n",
              "    <tr>\n",
              "      <th>0</th>\n",
              "      <td>FUS</td>\n",
              "      <td>P35637</td>\n",
              "      <td>Homo sapiens</td>\n",
              "      <td>RRM_1</td>\n",
              "      <td>287</td>\n",
              "      <td>365</td>\n",
              "      <td>79</td>\n",
              "    </tr>\n",
              "    <tr>\n",
              "      <th>1</th>\n",
              "      <td>FUS</td>\n",
              "      <td>P35637</td>\n",
              "      <td>Homo sapiens</td>\n",
              "      <td>PLD</td>\n",
              "      <td>120</td>\n",
              "      <td>179</td>\n",
              "      <td>60</td>\n",
              "    </tr>\n",
              "    <tr>\n",
              "      <th>2</th>\n",
              "      <td>FMR1</td>\n",
              "      <td>Q06787</td>\n",
              "      <td>Homo sapiens</td>\n",
              "      <td>KH_1</td>\n",
              "      <td>221</td>\n",
              "      <td>277</td>\n",
              "      <td>57</td>\n",
              "    </tr>\n",
              "    <tr>\n",
              "      <th>3</th>\n",
              "      <td>FMR1</td>\n",
              "      <td>Q06787</td>\n",
              "      <td>Homo sapiens</td>\n",
              "      <td>KH_1</td>\n",
              "      <td>285</td>\n",
              "      <td>332</td>\n",
              "      <td>48</td>\n",
              "    </tr>\n",
              "    <tr>\n",
              "      <th>4</th>\n",
              "      <td>TAF15</td>\n",
              "      <td>Q92804</td>\n",
              "      <td>Homo sapiens</td>\n",
              "      <td>RRM_1</td>\n",
              "      <td>236</td>\n",
              "      <td>314</td>\n",
              "      <td>79</td>\n",
              "    </tr>\n",
              "    <tr>\n",
              "      <th>...</th>\n",
              "      <td>...</td>\n",
              "      <td>...</td>\n",
              "      <td>...</td>\n",
              "      <td>...</td>\n",
              "      <td>...</td>\n",
              "      <td>...</td>\n",
              "      <td>...</td>\n",
              "    </tr>\n",
              "    <tr>\n",
              "      <th>2043</th>\n",
              "      <td>FBXW11</td>\n",
              "      <td>Q9UKB1</td>\n",
              "      <td>Homo sapiens</td>\n",
              "      <td>WD40</td>\n",
              "      <td>433</td>\n",
              "      <td>469</td>\n",
              "      <td>37</td>\n",
              "    </tr>\n",
              "    <tr>\n",
              "      <th>2044</th>\n",
              "      <td>FBXW11</td>\n",
              "      <td>Q9UKB1</td>\n",
              "      <td>Homo sapiens</td>\n",
              "      <td>WD40</td>\n",
              "      <td>484</td>\n",
              "      <td>518</td>\n",
              "      <td>35</td>\n",
              "    </tr>\n",
              "    <tr>\n",
              "      <th>2045</th>\n",
              "      <td>PPRC1</td>\n",
              "      <td>Q5VV67</td>\n",
              "      <td>Homo sapiens</td>\n",
              "      <td>RRM_1</td>\n",
              "      <td>1545</td>\n",
              "      <td>1600</td>\n",
              "      <td>56</td>\n",
              "    </tr>\n",
              "    <tr>\n",
              "      <th>2046</th>\n",
              "      <td>EYA1</td>\n",
              "      <td>Q99502</td>\n",
              "      <td>Homo sapiens</td>\n",
              "      <td>PLD</td>\n",
              "      <td>174</td>\n",
              "      <td>233</td>\n",
              "      <td>60</td>\n",
              "    </tr>\n",
              "    <tr>\n",
              "      <th>2047</th>\n",
              "      <td>KRT3</td>\n",
              "      <td>P12035</td>\n",
              "      <td>Homo sapiens</td>\n",
              "      <td>PLD</td>\n",
              "      <td>536</td>\n",
              "      <td>595</td>\n",
              "      <td>60</td>\n",
              "    </tr>\n",
              "  </tbody>\n",
              "</table>\n",
              "<p>2048 rows × 7 columns</p>\n",
              "</div>"
            ],
            "text/plain": [
              "         gen uniprot           org domain  start   end  largo\n",
              "0        FUS  P35637  Homo sapiens  RRM_1    287   365     79\n",
              "1        FUS  P35637  Homo sapiens    PLD    120   179     60\n",
              "2       FMR1  Q06787  Homo sapiens   KH_1    221   277     57\n",
              "3       FMR1  Q06787  Homo sapiens   KH_1    285   332     48\n",
              "4      TAF15  Q92804  Homo sapiens  RRM_1    236   314     79\n",
              "...      ...     ...           ...    ...    ...   ...    ...\n",
              "2043  FBXW11  Q9UKB1  Homo sapiens   WD40    433   469     37\n",
              "2044  FBXW11  Q9UKB1  Homo sapiens   WD40    484   518     35\n",
              "2045   PPRC1  Q5VV67  Homo sapiens  RRM_1   1545  1600     56\n",
              "2046    EYA1  Q99502  Homo sapiens    PLD    174   233     60\n",
              "2047    KRT3  P12035  Homo sapiens    PLD    536   595     60\n",
              "\n",
              "[2048 rows x 7 columns]"
            ]
          },
          "metadata": {
            "tags": []
          },
          "execution_count": 126
        }
      ]
    },
    {
      "cell_type": "markdown",
      "metadata": {
        "id": "_hwmSc58gcW5"
      },
      "source": [
        "4. Genes enriquecidos en RNAseq\n",
        "\n",
        "Se tiene una tabla con el resultado de un RNAseq con el fin de ver que transcriptos se encuentras sobre o subexpresados.\n",
        "\n",
        "* Descartar todos los transcriptos no significativamente relevantes según fdr < 0.05\n",
        "* Que transcriptos se encuentran sobre expresados al doble o mas? (logFC > 1)\n",
        "* Que transcriptos se encuentran sib expresados a la mitad o menos? (logFC < -1)\n",
        "\n",
        "* repetir con fdr < 0.01"
      ]
    },
    {
      "cell_type": "code",
      "metadata": {
        "id": "4-WGdJ3jgcW6"
      },
      "source": [
        ""
      ],
      "execution_count": null,
      "outputs": []
    }
  ]
}