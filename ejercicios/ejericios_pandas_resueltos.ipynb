{
  "nbformat": 4,
  "nbformat_minor": 0,
  "metadata": {
    "kernelspec": {
      "display_name": "Python 3",
      "language": "python",
      "name": "python3"
    },
    "language_info": {
      "codemirror_mode": {
        "name": "ipython",
        "version": 3
      },
      "file_extension": ".py",
      "mimetype": "text/x-python",
      "name": "python",
      "nbconvert_exporter": "python",
      "pygments_lexer": "ipython3",
      "version": "3.8.3"
    },
    "colab": {
      "name": "ejericios_pandas.ipynb",
      "provenance": []
    }
  },
  "cells": [
    {
      "cell_type": "code",
      "metadata": {
        "id": "gOzHHAA6gcWu"
      },
      "source": [
        "import pandas as pd\n",
        "pd.options.mode.chained_assignment = None  # ocultar alertas"
      ],
      "execution_count": null,
      "outputs": []
    },
    {
      "cell_type": "markdown",
      "metadata": {
        "id": "ItgdadTwhGIG"
      },
      "source": [
        "---"
      ]
    },
    {
      "cell_type": "markdown",
      "metadata": {
        "id": "Ojgjqy29gcW3"
      },
      "source": [
        "1. Población Argentina"
      ]
    },
    {
      "cell_type": "markdown",
      "metadata": {
        "id": "Esh_h6WzgcW3"
      },
      "source": [
        "La siguiente tabla contiene la cantidad de habitantes y la superficie (en Kms cuadrados) de las provincias argentinas.\n",
        "\n",
        "+ ordene la tabla por provincia alfabeticamente, tiene algun problema? qué puede estar pasando? Si no pudo, no importa, lo vemos despues\n",
        "+ calcule la densidad de habitantes por provincia\n",
        "+ Cuales son las 5 provincias argentinas con mayor cantidad de habitantes? y las 5 menos pobladas?\n",
        "+ Cuales son las 5 provincias argentinas con mayor densidad poblacional? y las 5 con menor densidad?\n",
        "+ ordene el dataframe por densidad de habitantes (de mayor a menor)\n",
        "+ Cual sería la población total y la densidad total de Argentina segun estos datos?\n",
        "\n",
        "tips: recordar los separadores de los archivos"
      ]
    },
    {
      "cell_type": "code",
      "metadata": {
        "colab": {
          "base_uri": "https://localhost:8080/",
          "height": 206
        },
        "id": "Fl-xLDl6gcW3",
        "outputId": "3f37e9c7-b721-4d34-dff0-e5bc2c08463c"
      },
      "source": [
        "poblacion = pd.read_csv(\"https://raw.githubusercontent.com/Ferorti/escuela2021/main/data/provincias.csv\", sep='\\t') # Cargamos los datos, ojo al separador\n",
        "poblacion.head()"
      ],
      "execution_count": 5,
      "outputs": [
        {
          "output_type": "execute_result",
          "data": {
            "text/html": [
              "<div>\n",
              "<style scoped>\n",
              "    .dataframe tbody tr th:only-of-type {\n",
              "        vertical-align: middle;\n",
              "    }\n",
              "\n",
              "    .dataframe tbody tr th {\n",
              "        vertical-align: top;\n",
              "    }\n",
              "\n",
              "    .dataframe thead th {\n",
              "        text-align: right;\n",
              "    }\n",
              "</style>\n",
              "<table border=\"1\" class=\"dataframe\">\n",
              "  <thead>\n",
              "    <tr style=\"text-align: right;\">\n",
              "      <th></th>\n",
              "      <th>provincia</th>\n",
              "      <th>habitantes</th>\n",
              "      <th>superficie</th>\n",
              "    </tr>\n",
              "  </thead>\n",
              "  <tbody>\n",
              "    <tr>\n",
              "      <th>0</th>\n",
              "      <td>Ciudad Autónoma de Buenos Aires</td>\n",
              "      <td>2890151</td>\n",
              "      <td>200</td>\n",
              "    </tr>\n",
              "    <tr>\n",
              "      <th>1</th>\n",
              "      <td>Buenos Aires</td>\n",
              "      <td>15625084</td>\n",
              "      <td>307571</td>\n",
              "    </tr>\n",
              "    <tr>\n",
              "      <th>2</th>\n",
              "      <td>Gran Buenos Aires</td>\n",
              "      <td>9916715</td>\n",
              "      <td>3680</td>\n",
              "    </tr>\n",
              "    <tr>\n",
              "      <th>3</th>\n",
              "      <td>Interior de Buenos Aires</td>\n",
              "      <td>5708369</td>\n",
              "      <td>303891</td>\n",
              "    </tr>\n",
              "    <tr>\n",
              "      <th>4</th>\n",
              "      <td>Catamarca</td>\n",
              "      <td>367828</td>\n",
              "      <td>102602</td>\n",
              "    </tr>\n",
              "  </tbody>\n",
              "</table>\n",
              "</div>"
            ],
            "text/plain": [
              "                         provincia  habitantes  superficie\n",
              "0  Ciudad Autónoma de Buenos Aires     2890151         200\n",
              "1                     Buenos Aires    15625084      307571\n",
              "2                Gran Buenos Aires     9916715        3680\n",
              "3         Interior de Buenos Aires     5708369      303891\n",
              "4                        Catamarca      367828      102602"
            ]
          },
          "metadata": {
            "tags": []
          },
          "execution_count": 5
        }
      ]
    },
    {
      "cell_type": "code",
      "metadata": {
        "colab": {
          "base_uri": "https://localhost:8080/",
          "height": 206
        },
        "id": "W2H2uk1Phc8A",
        "outputId": "3141d23a-1387-4ebd-a13d-6d9d0aab6802"
      },
      "source": [
        "poblacion.sort_values('provincia').head() # Queda mal ordenada, por que?"
      ],
      "execution_count": 6,
      "outputs": [
        {
          "output_type": "execute_result",
          "data": {
            "text/html": [
              "<div>\n",
              "<style scoped>\n",
              "    .dataframe tbody tr th:only-of-type {\n",
              "        vertical-align: middle;\n",
              "    }\n",
              "\n",
              "    .dataframe tbody tr th {\n",
              "        vertical-align: top;\n",
              "    }\n",
              "\n",
              "    .dataframe thead th {\n",
              "        text-align: right;\n",
              "    }\n",
              "</style>\n",
              "<table border=\"1\" class=\"dataframe\">\n",
              "  <thead>\n",
              "    <tr style=\"text-align: right;\">\n",
              "      <th></th>\n",
              "      <th>provincia</th>\n",
              "      <th>habitantes</th>\n",
              "      <th>superficie</th>\n",
              "    </tr>\n",
              "  </thead>\n",
              "  <tbody>\n",
              "    <tr>\n",
              "      <th>2</th>\n",
              "      <td>Gran Buenos Aires</td>\n",
              "      <td>9916715</td>\n",
              "      <td>3680</td>\n",
              "    </tr>\n",
              "    <tr>\n",
              "      <th>3</th>\n",
              "      <td>Interior de Buenos Aires</td>\n",
              "      <td>5708369</td>\n",
              "      <td>303891</td>\n",
              "    </tr>\n",
              "    <tr>\n",
              "      <th>1</th>\n",
              "      <td>Buenos Aires</td>\n",
              "      <td>15625084</td>\n",
              "      <td>307571</td>\n",
              "    </tr>\n",
              "    <tr>\n",
              "      <th>4</th>\n",
              "      <td>Catamarca</td>\n",
              "      <td>367828</td>\n",
              "      <td>102602</td>\n",
              "    </tr>\n",
              "    <tr>\n",
              "      <th>5</th>\n",
              "      <td>Chaco</td>\n",
              "      <td>1055259</td>\n",
              "      <td>99633</td>\n",
              "    </tr>\n",
              "  </tbody>\n",
              "</table>\n",
              "</div>"
            ],
            "text/plain": [
              "                        provincia  habitantes  superficie\n",
              "2               Gran Buenos Aires     9916715        3680\n",
              "3        Interior de Buenos Aires     5708369      303891\n",
              "1                    Buenos Aires    15625084      307571\n",
              "4                       Catamarca      367828      102602\n",
              "5                           Chaco     1055259       99633"
            ]
          },
          "metadata": {
            "tags": []
          },
          "execution_count": 6
        }
      ]
    },
    {
      "cell_type": "markdown",
      "metadata": {
        "id": "pyx8f4mKiUdH"
      },
      "source": [
        "Algunos nombres están mal ingresados, tienen espacios de más.\n",
        "Lo podemos solucionar con el método map de las series pasando como argumento la el método .strip() de los strings, sin los parentesis.\n",
        "Para operaciones con strings, las series tienen el método str() el cual ofrece funciones para trabajar los strings en forma vectorizada."
      ]
    },
    {
      "cell_type": "code",
      "metadata": {
        "colab": {
          "base_uri": "https://localhost:8080/"
        },
        "id": "EK_sDLRNhqYw",
        "outputId": "f25edb15-fa95-4451-820d-54e7f7991a68"
      },
      "source": [
        "print(poblacion.sort_values('provincia').loc[2,'provincia'])\n",
        "# poblacion.sort_values('provincia').iloc[0,0]  # da lo mismo)"
      ],
      "execution_count": 10,
      "outputs": [
        {
          "output_type": "stream",
          "text": [
            "      Gran Buenos Aires\n"
          ],
          "name": "stdout"
        }
      ]
    },
    {
      "cell_type": "code",
      "metadata": {
        "id": "pTg8qhJGi8T-"
      },
      "source": [
        "# Forma con el metodo str(). de las series\n",
        "#poblacion['provincia'] = poblacion['provincia'].str.strip()\n",
        "\n",
        "# Forma con map() y strip()\n",
        "poblacion['provincia'] = poblacion.provincia.map(str.strip)\n"
      ],
      "execution_count": 21,
      "outputs": []
    },
    {
      "cell_type": "code",
      "metadata": {
        "id": "CL1iksIIkvfu"
      },
      "source": [
        "# probar que pasa si por corremos\n",
        "poblacion['provincia'].str[:5].str.upper().str.replace(' ','_')\n"
      ],
      "execution_count": null,
      "outputs": []
    },
    {
      "cell_type": "code",
      "metadata": {
        "id": "zt5MKZ_RozgT"
      },
      "source": [
        "poblacion = poblacion.sort_values('habitantes', ascending=False)"
      ],
      "execution_count": 39,
      "outputs": []
    },
    {
      "cell_type": "code",
      "metadata": {
        "id": "0ahhD4q4ohv_"
      },
      "source": [
        "# Calcular la densidad\n",
        "poblacion['densidad'] = poblacion['habitantes'] / poblacion['superficie']"
      ],
      "execution_count": 38,
      "outputs": []
    },
    {
      "cell_type": "markdown",
      "metadata": {
        "id": "_V_YOlIVkzv2"
      },
      "source": [
        "Como pueden ver, utilizando str. antes de los métodos de strings, podemos realizar operaciones con strings en forma vectorizada, sin tener que hacer bucles for."
      ]
    },
    {
      "cell_type": "code",
      "metadata": {
        "colab": {
          "base_uri": "https://localhost:8080/"
        },
        "id": "k5EjFTkqlDXX",
        "outputId": "29badc8e-dcfd-418f-deea-97bb81a1ebe3"
      },
      "source": [
        "solo_provincias = poblacion[ ~ poblacion.provincia.isin(['Gran Buenos Aires', 'Interior de Buenos Aires'])]\n",
        "# El operador ~ funciona como un \"not\" que convierte todos los True de una serie en False y viceversa\n",
        "# Recordemos que con el metodo .isin(lista) nos quedar con elementos de la serie estan en la lista,\n",
        "# Agregando ~ nos vamos a quedar con elementos NO esten en la lista:\n",
        "\n",
        "# Otra alternativa sería\n",
        "poblacion[(poblacion.provincia != \"Gran Buenos Aires\") &  (poblacion.provincia != \"Interior de Buenos Aires\") ]  # Notar que el & quivale al operador and (que no sepuede utilizar con series)\n",
        "# Además los paréntesis son necesarios.\n",
        "\n",
        "top5 = solo_provincias.sort_values('habitantes', ascending=False).head().provincia.to_list() # to_list() convierte una serie a una lista\n",
        "menos_pobladas = solo_provincias.sort_values('habitantes').head().provincia.to_list()\n",
        "\n",
        "print('Las 5 provincias más pobladas de la argentina son:')\n",
        "print('\\n'.join(top5))\n",
        "\n",
        "print()\n",
        "\n",
        "print('Las 5 provincias menos pobladas de la argentina son:')\n",
        "print('\\n'.join(menos_pobladas))"
      ],
      "execution_count": 42,
      "outputs": [
        {
          "output_type": "stream",
          "text": [
            "Las 5 provincias más pobladas de la argentina son:\n",
            "Buenos Aires\n",
            "Córdoba\n",
            "Santa Fe\n",
            "Ciudad Autónoma de Buenos Aires\n",
            "Mendoza\n",
            "\n",
            "Las 5 provincias menos pobladas de la argentina son:\n",
            "Tierra del Fuego, Antártida e Islas del Atlántico Sur\n",
            "Santa Cruz\n",
            "La Pampa\n",
            "La Rioja\n",
            "Catamarca\n"
          ],
          "name": "stdout"
        }
      ]
    },
    {
      "cell_type": "code",
      "metadata": {
        "colab": {
          "base_uri": "https://localhost:8080/"
        },
        "id": "WGZPQ0JvoTdK",
        "outputId": "4bd27a31-3fa8-4243-8571-a0b7f52305c1"
      },
      "source": [
        "top5_densidad = solo_provincias.sort_values('densidad', ascending=False).head().provincia.to_list() # to_list() convierte una serie a una lista\n",
        "menos_densas = solo_provincias.sort_values('densidad').head().provincia.to_list()\n",
        "\n",
        "print('Las 5 provincias más densamente pobladas de la argentina son:')\n",
        "print('\\n'.join(top5_densidad))\n",
        "\n",
        "print()\n",
        "\n",
        "print('Las 5 provincias menos densamente pobladas de la argentina son:')\n",
        "print('\\n'.join(menos_densas))"
      ],
      "execution_count": 43,
      "outputs": [
        {
          "output_type": "stream",
          "text": [
            "Las 5 provincias más densamente pobladas de la argentina son:\n",
            "Ciudad Autónoma de Buenos Aires\n",
            "Tucumán\n",
            "Buenos Aires\n",
            "Misiones\n",
            "Santa Fe\n",
            "\n",
            "Las 5 provincias menos densamente pobladas de la argentina son:\n",
            "Tierra del Fuego, Antártida e Islas del Atlántico Sur\n",
            "Santa Cruz\n",
            "La Pampa\n",
            "Chubut\n",
            "Río Negro\n"
          ],
          "name": "stdout"
        }
      ]
    },
    {
      "cell_type": "code",
      "metadata": {
        "id": "jNMpmVbanspW"
      },
      "source": [
        "# ordenar por densidad\n",
        "poblacion = poblacion.sort_values('densidad', ascending=False)"
      ],
      "execution_count": 44,
      "outputs": []
    },
    {
      "cell_type": "code",
      "metadata": {
        "colab": {
          "base_uri": "https://localhost:8080/"
        },
        "id": "_V85dmHinPs1",
        "outputId": "3b9f5aae-e590-4583-9fc3-61fbca0c1c16"
      },
      "source": [
        "densidad_argentina = solo_provincias.habitantes.sum() / solo_provincias.superficie.sum() # Por que no con el dataframe poblacion?\n",
        "print(\"La densidad poblacional de Argentina en 2010 es de:\", round(densidad_argentina,2),'Habitantes/Km2')"
      ],
      "execution_count": 47,
      "outputs": [
        {
          "output_type": "stream",
          "text": [
            "La densidad poblacional de Argentina en 2010 es de: 10.67 Habitantes/Km2\n"
          ],
          "name": "stdout"
        }
      ]
    },
    {
      "cell_type": "code",
      "metadata": {
        "id": "tIpS9mM1mI6G"
      },
      "source": [
        ""
      ],
      "execution_count": 47,
      "outputs": []
    },
    {
      "cell_type": "markdown",
      "metadata": {
        "id": "p5F6c8Qbg97m"
      },
      "source": [
        "---"
      ]
    },
    {
      "cell_type": "markdown",
      "metadata": {
        "id": "AFlq6O-ggcW3"
      },
      "source": [
        "2-Tenemos el dataframe Iris, un dataset muy utilizado en análisis de datos, con mediciones del ancho y el largo del petatalo y del sepalo para algunas variedades de flores iris\n",
        "\n",
        "* Cuantas filas y columnas tiene el dataset?\n",
        "* de qué tipo de datos es cada columna?\n",
        "* Cuantas variedades de iris tiene el dataset?\n",
        "* Calcule la media y el desvio standard del largo del sepalo y del petalo, sin discriminar por variedad de flor\n",
        "* Calcule de nuevo la media y el std pero ahora para cada variedad\n",
        "\n",
        "\n"
      ]
    },
    {
      "cell_type": "code",
      "metadata": {
        "colab": {
          "base_uri": "https://localhost:8080/"
        },
        "id": "e35aE0SugcW3",
        "outputId": "3751d166-f15a-440e-f0e0-9ba51787b6e5"
      },
      "source": [
        "iris = pd.read_csv(\"https://raw.githubusercontent.com/Ferorti/escuela2021/main/data/iris.data.csv\")\n",
        "nrow, ncol = iris.shape\n",
        "\n",
        "print('Iris tiene {} filas y {} columnas'.format(nrow, ncol))"
      ],
      "execution_count": 60,
      "outputs": [
        {
          "output_type": "stream",
          "text": [
            "Iris tiene 150 filas y 5 columnas\n"
          ],
          "name": "stdout"
        }
      ]
    },
    {
      "cell_type": "code",
      "metadata": {
        "colab": {
          "base_uri": "https://localhost:8080/"
        },
        "id": "0XEN1e39rUGw",
        "outputId": "77fda33d-788e-4369-d367-f249ee943349"
      },
      "source": [
        "print(iris.info())"
      ],
      "execution_count": 62,
      "outputs": [
        {
          "output_type": "stream",
          "text": [
            "<class 'pandas.core.frame.DataFrame'>\n",
            "RangeIndex: 150 entries, 0 to 149\n",
            "Data columns (total 5 columns):\n",
            " #   Column        Non-Null Count  Dtype  \n",
            "---  ------        --------------  -----  \n",
            " 0   sepal_length  150 non-null    float64\n",
            " 1   sepal_width   150 non-null    float64\n",
            " 2   petal_length  150 non-null    float64\n",
            " 3   petal_width   150 non-null    float64\n",
            " 4   variedad      150 non-null    object \n",
            "dtypes: float64(4), object(1)\n",
            "memory usage: 6.0+ KB\n",
            "None\n"
          ],
          "name": "stdout"
        }
      ]
    },
    {
      "cell_type": "code",
      "metadata": {
        "colab": {
          "base_uri": "https://localhost:8080/"
        },
        "id": "N_LNVVTWrJzp",
        "outputId": "5ea27519-a70e-48a9-def4-a8a5fe3d0670"
      },
      "source": [
        "variedades = iris.variedad.unique()\n",
        "\n",
        "print('Iris tiene', len(variedades), 'variedades de flor:', \", \".join(variedades))"
      ],
      "execution_count": 73,
      "outputs": [
        {
          "output_type": "stream",
          "text": [
            "Iris tiene 3 variedades de flor: Iris-setosa, Iris-versicolor, Iris-virginica\n"
          ],
          "name": "stdout"
        }
      ]
    },
    {
      "cell_type": "code",
      "metadata": {
        "colab": {
          "base_uri": "https://localhost:8080/",
          "height": 129
        },
        "id": "ma7SHH76sqEE",
        "outputId": "154108eb-2e27-44bb-dc81-8095248c04ba"
      },
      "source": [
        "print('Mean y Std sin discriminar por variedad de flor:')\n",
        "iris.describe().loc[['mean','std'], ['sepal_length', 'petal_length']]"
      ],
      "execution_count": 77,
      "outputs": [
        {
          "output_type": "stream",
          "text": [
            "Mean y Std sin discriminar por variedad de flor:\n"
          ],
          "name": "stdout"
        },
        {
          "output_type": "execute_result",
          "data": {
            "text/html": [
              "<div>\n",
              "<style scoped>\n",
              "    .dataframe tbody tr th:only-of-type {\n",
              "        vertical-align: middle;\n",
              "    }\n",
              "\n",
              "    .dataframe tbody tr th {\n",
              "        vertical-align: top;\n",
              "    }\n",
              "\n",
              "    .dataframe thead th {\n",
              "        text-align: right;\n",
              "    }\n",
              "</style>\n",
              "<table border=\"1\" class=\"dataframe\">\n",
              "  <thead>\n",
              "    <tr style=\"text-align: right;\">\n",
              "      <th></th>\n",
              "      <th>sepal_length</th>\n",
              "      <th>petal_length</th>\n",
              "    </tr>\n",
              "  </thead>\n",
              "  <tbody>\n",
              "    <tr>\n",
              "      <th>mean</th>\n",
              "      <td>5.843333</td>\n",
              "      <td>3.758667</td>\n",
              "    </tr>\n",
              "    <tr>\n",
              "      <th>std</th>\n",
              "      <td>0.828066</td>\n",
              "      <td>1.764420</td>\n",
              "    </tr>\n",
              "  </tbody>\n",
              "</table>\n",
              "</div>"
            ],
            "text/plain": [
              "      sepal_length  petal_length\n",
              "mean      5.843333      3.758667\n",
              "std       0.828066      1.764420"
            ]
          },
          "metadata": {
            "tags": []
          },
          "execution_count": 77
        }
      ]
    },
    {
      "cell_type": "code",
      "metadata": {
        "colab": {
          "base_uri": "https://localhost:8080/",
          "height": 224
        },
        "id": "VX0oCmlfs_pF",
        "outputId": "c11e6d56-14bc-4883-c8c5-92cbff54ba52"
      },
      "source": [
        "print('Separando por variedad de flor:')\n",
        "\n",
        "iris.groupby('variedad')[['sepal_length', \"petal_length\"]].describe()"
      ],
      "execution_count": 100,
      "outputs": [
        {
          "output_type": "stream",
          "text": [
            "Separando por variedad de flor:\n"
          ],
          "name": "stdout"
        },
        {
          "output_type": "execute_result",
          "data": {
            "text/html": [
              "<div>\n",
              "<style scoped>\n",
              "    .dataframe tbody tr th:only-of-type {\n",
              "        vertical-align: middle;\n",
              "    }\n",
              "\n",
              "    .dataframe tbody tr th {\n",
              "        vertical-align: top;\n",
              "    }\n",
              "\n",
              "    .dataframe thead tr th {\n",
              "        text-align: left;\n",
              "    }\n",
              "\n",
              "    .dataframe thead tr:last-of-type th {\n",
              "        text-align: right;\n",
              "    }\n",
              "</style>\n",
              "<table border=\"1\" class=\"dataframe\">\n",
              "  <thead>\n",
              "    <tr>\n",
              "      <th></th>\n",
              "      <th colspan=\"8\" halign=\"left\">sepal_length</th>\n",
              "      <th colspan=\"8\" halign=\"left\">petal_length</th>\n",
              "    </tr>\n",
              "    <tr>\n",
              "      <th></th>\n",
              "      <th>count</th>\n",
              "      <th>mean</th>\n",
              "      <th>std</th>\n",
              "      <th>min</th>\n",
              "      <th>25%</th>\n",
              "      <th>50%</th>\n",
              "      <th>75%</th>\n",
              "      <th>max</th>\n",
              "      <th>count</th>\n",
              "      <th>mean</th>\n",
              "      <th>std</th>\n",
              "      <th>min</th>\n",
              "      <th>25%</th>\n",
              "      <th>50%</th>\n",
              "      <th>75%</th>\n",
              "      <th>max</th>\n",
              "    </tr>\n",
              "    <tr>\n",
              "      <th>variedad</th>\n",
              "      <th></th>\n",
              "      <th></th>\n",
              "      <th></th>\n",
              "      <th></th>\n",
              "      <th></th>\n",
              "      <th></th>\n",
              "      <th></th>\n",
              "      <th></th>\n",
              "      <th></th>\n",
              "      <th></th>\n",
              "      <th></th>\n",
              "      <th></th>\n",
              "      <th></th>\n",
              "      <th></th>\n",
              "      <th></th>\n",
              "      <th></th>\n",
              "    </tr>\n",
              "  </thead>\n",
              "  <tbody>\n",
              "    <tr>\n",
              "      <th>Iris-setosa</th>\n",
              "      <td>50.0</td>\n",
              "      <td>5.006</td>\n",
              "      <td>0.352490</td>\n",
              "      <td>4.3</td>\n",
              "      <td>4.800</td>\n",
              "      <td>5.0</td>\n",
              "      <td>5.2</td>\n",
              "      <td>5.8</td>\n",
              "      <td>50.0</td>\n",
              "      <td>1.464</td>\n",
              "      <td>0.173511</td>\n",
              "      <td>1.0</td>\n",
              "      <td>1.4</td>\n",
              "      <td>1.50</td>\n",
              "      <td>1.575</td>\n",
              "      <td>1.9</td>\n",
              "    </tr>\n",
              "    <tr>\n",
              "      <th>Iris-versicolor</th>\n",
              "      <td>50.0</td>\n",
              "      <td>5.936</td>\n",
              "      <td>0.516171</td>\n",
              "      <td>4.9</td>\n",
              "      <td>5.600</td>\n",
              "      <td>5.9</td>\n",
              "      <td>6.3</td>\n",
              "      <td>7.0</td>\n",
              "      <td>50.0</td>\n",
              "      <td>4.260</td>\n",
              "      <td>0.469911</td>\n",
              "      <td>3.0</td>\n",
              "      <td>4.0</td>\n",
              "      <td>4.35</td>\n",
              "      <td>4.600</td>\n",
              "      <td>5.1</td>\n",
              "    </tr>\n",
              "    <tr>\n",
              "      <th>Iris-virginica</th>\n",
              "      <td>50.0</td>\n",
              "      <td>6.588</td>\n",
              "      <td>0.635880</td>\n",
              "      <td>4.9</td>\n",
              "      <td>6.225</td>\n",
              "      <td>6.5</td>\n",
              "      <td>6.9</td>\n",
              "      <td>7.9</td>\n",
              "      <td>50.0</td>\n",
              "      <td>5.552</td>\n",
              "      <td>0.551895</td>\n",
              "      <td>4.5</td>\n",
              "      <td>5.1</td>\n",
              "      <td>5.55</td>\n",
              "      <td>5.875</td>\n",
              "      <td>6.9</td>\n",
              "    </tr>\n",
              "  </tbody>\n",
              "</table>\n",
              "</div>"
            ],
            "text/plain": [
              "                sepal_length                        ... petal_length                  \n",
              "                       count   mean       std  min  ...          25%   50%    75%  max\n",
              "variedad                                            ...                               \n",
              "Iris-setosa             50.0  5.006  0.352490  4.3  ...          1.4  1.50  1.575  1.9\n",
              "Iris-versicolor         50.0  5.936  0.516171  4.9  ...          4.0  4.35  4.600  5.1\n",
              "Iris-virginica          50.0  6.588  0.635880  4.9  ...          5.1  5.55  5.875  6.9\n",
              "\n",
              "[3 rows x 16 columns]"
            ]
          },
          "metadata": {
            "tags": []
          },
          "execution_count": 100
        }
      ]
    },
    {
      "cell_type": "markdown",
      "metadata": {
        "id": "KOdu8la8gcW5"
      },
      "source": [
        "---\n",
        "3. Dominios PFAM"
      ]
    },
    {
      "cell_type": "markdown",
      "metadata": {
        "id": "pH5GJNfYgcW5"
      },
      "source": [
        "A continuación tenemos una tabla con información sobre los dominios de PFAM que tienen un grupo de proteínas.\n",
        "\n",
        "* Que tipo de columnas tiene la tabla, cuantas filas tiene?\n",
        "* Corresponden a varios organismos las proteinas?\n",
        "* Hay una fila por proteína o puede habar más de una?\n",
        "* Cuantas veces aparece cada dominio en la tabla?\n",
        "* Que proteínas tienen más dominios?\n",
        "* Que proteínas tienen más dominios diferentes?\n",
        "* calcule el largo del dominio a partir del start y end (posiciones de los aminoácidos)\n",
        "* que proteinas poseen al menos un dominio RRM_1\n",
        "\n",
        "tips: pruebe o averigue para qué sirve el método ```.value_counts()``` de las Series. En lo posible con series con strings.\n",
        "\n",
        "Aclaracion: La tabla es un subset de una tabla muy grande, por eso algunos dominios no aparecen en las proteinas"
      ]
    },
    {
      "cell_type": "code",
      "metadata": {
        "id": "8Sci0MA7gcW5"
      },
      "source": [
        "dominios = pd.read_csv(\"https://raw.githubusercontent.com/Ferorti/escuela2021/main/data/dominios.csv\")"
      ],
      "execution_count": 101,
      "outputs": []
    },
    {
      "cell_type": "code",
      "metadata": {
        "colab": {
          "base_uri": "https://localhost:8080/"
        },
        "id": "0C4DD4nru38a",
        "outputId": "b5c5b2df-6f05-4f0c-947e-5b15f9850fc0"
      },
      "source": [
        "dominios.info()"
      ],
      "execution_count": 102,
      "outputs": [
        {
          "output_type": "stream",
          "text": [
            "<class 'pandas.core.frame.DataFrame'>\n",
            "RangeIndex: 2048 entries, 0 to 2047\n",
            "Data columns (total 6 columns):\n",
            " #   Column   Non-Null Count  Dtype \n",
            "---  ------   --------------  ----- \n",
            " 0   gen      2044 non-null   object\n",
            " 1   uniprot  2048 non-null   object\n",
            " 2   org      2048 non-null   object\n",
            " 3   domain   2048 non-null   object\n",
            " 4   start    2048 non-null   int64 \n",
            " 5   end      2048 non-null   int64 \n",
            "dtypes: int64(2), object(4)\n",
            "memory usage: 96.1+ KB\n"
          ],
          "name": "stdout"
        }
      ]
    },
    {
      "cell_type": "code",
      "metadata": {
        "colab": {
          "base_uri": "https://localhost:8080/"
        },
        "id": "Mh1TZlOku8z0",
        "outputId": "a938f775-f80c-4a51-d8f6-422c95cd76c0"
      },
      "source": [
        "dominios.org.value_counts()"
      ],
      "execution_count": 104,
      "outputs": [
        {
          "output_type": "execute_result",
          "data": {
            "text/plain": [
              "Homo sapiens    2048\n",
              "Name: org, dtype: int64"
            ]
          },
          "metadata": {
            "tags": []
          },
          "execution_count": 104
        }
      ]
    },
    {
      "cell_type": "code",
      "metadata": {
        "colab": {
          "base_uri": "https://localhost:8080/"
        },
        "id": "gard843WvD_V",
        "outputId": "35d7be84-0fc8-47bc-93ea-9ccfc6ad41f3"
      },
      "source": [
        "dominios.gen.value_counts() # Hay proteinas con anotaciones en varias filas"
      ],
      "execution_count": 105,
      "outputs": [
        {
          "output_type": "execute_result",
          "data": {
            "text/plain": [
              "TTN       295\n",
              "TNXB       31\n",
              "SPTBN5     27\n",
              "DST        20\n",
              "SPTAN1     20\n",
              "         ... \n",
              "DDX53       1\n",
              "NIPBL       1\n",
              "LYST        1\n",
              "PKN1        1\n",
              "ZFHX3       1\n",
              "Name: gen, Length: 714, dtype: int64"
            ]
          },
          "metadata": {
            "tags": []
          },
          "execution_count": 105
        }
      ]
    },
    {
      "cell_type": "code",
      "metadata": {
        "colab": {
          "base_uri": "https://localhost:8080/"
        },
        "id": "_NaKWzpHvMnu",
        "outputId": "b95ff590-d8ec-40a8-95cc-539f68a85b17"
      },
      "source": [
        "dominios.domain.value_counts() # cantidad de veces que aparece cada dominio en la tabla"
      ],
      "execution_count": 107,
      "outputs": [
        {
          "output_type": "execute_result",
          "data": {
            "text/plain": [
              "WD40        346\n",
              "fn3         292\n",
              "RRM_1       290\n",
              "Pkinase     235\n",
              "I-set       233\n",
              "Spectrin    179\n",
              "zf-C2H2     164\n",
              "PLD         115\n",
              "Ank_2       107\n",
              "KH_1         87\n",
              "Name: domain, dtype: int64"
            ]
          },
          "metadata": {
            "tags": []
          },
          "execution_count": 107
        }
      ]
    },
    {
      "cell_type": "code",
      "metadata": {
        "colab": {
          "base_uri": "https://localhost:8080/"
        },
        "id": "XaMNnUHevbY2",
        "outputId": "89bc2310-7af2-4650-fbd5-b153de337d22"
      },
      "source": [
        "dominios.groupby('gen').agg('size').sort_values(ascending= False)[:20]"
      ],
      "execution_count": 119,
      "outputs": [
        {
          "output_type": "execute_result",
          "data": {
            "text/plain": [
              "gen\n",
              "TTN        295\n",
              "TNXB        31\n",
              "SPTBN5      27\n",
              "DST         20\n",
              "SPTAN1      20\n",
              "SPTB        17\n",
              "SPTBN1      17\n",
              "SPTBN2      17\n",
              "MACF1       17\n",
              "TNC         15\n",
              "SPTBN4      14\n",
              "HDLBP       14\n",
              "IGF2BP2     12\n",
              "ZNF774      11\n",
              "ZNF79       11\n",
              "PTPRF       10\n",
              "ANKHD1      10\n",
              "SYNE1       10\n",
              "ZSCAN12     10\n",
              "ANKRD17     10\n",
              "dtype: int64"
            ]
          },
          "metadata": {
            "tags": []
          },
          "execution_count": 119
        }
      ]
    },
    {
      "cell_type": "code",
      "metadata": {
        "colab": {
          "base_uri": "https://localhost:8080/"
        },
        "id": "WraCrCy6wINp",
        "outputId": "62642257-8971-4271-dc39-6a2e47fc9017"
      },
      "source": [
        "dominios.drop_duplicates([\"gen\",'domain']).groupby('uniprot').agg('size').sort_values(ascending= False)[:20]"
      ],
      "execution_count": 123,
      "outputs": [
        {
          "output_type": "execute_result",
          "data": {
            "text/plain": [
              "uniprot\n",
              "O60229    4\n",
              "O75962    3\n",
              "Q8WZ42    3\n",
              "P32004    2\n",
              "P22626    2\n",
              "Q01085    2\n",
              "Q9H4A3    2\n",
              "P13591    2\n",
              "Q86SG3    2\n",
              "Q12860    2\n",
              "Q38SD2    2\n",
              "Q9NZI8    2\n",
              "Q32P51    2\n",
              "P23246    2\n",
              "O15394    2\n",
              "Q13148    2\n",
              "Q9NQZ3    2\n",
              "Q13151    2\n",
              "Q96PK6    2\n",
              "Q01844    2\n",
              "dtype: int64"
            ]
          },
          "metadata": {
            "tags": []
          },
          "execution_count": 123
        }
      ]
    },
    {
      "cell_type": "code",
      "metadata": {
        "id": "OjS5nMUYxS_u"
      },
      "source": [
        "dominios['largo'] = dominios['end'] - dominios['start'] + 1 "
      ],
      "execution_count": 125,
      "outputs": []
    },
    {
      "cell_type": "code",
      "metadata": {
        "colab": {
          "base_uri": "https://localhost:8080/",
          "height": 424
        },
        "id": "bZBS38Q8xeUl",
        "outputId": "6f61f52f-ea50-4c35-d108-6f5e32d4a3d8"
      },
      "source": [
        "dominios.sort_values('largo')"
      ],
      "execution_count": 127,
      "outputs": [
        {
          "output_type": "execute_result",
          "data": {
            "text/html": [
              "<div>\n",
              "<style scoped>\n",
              "    .dataframe tbody tr th:only-of-type {\n",
              "        vertical-align: middle;\n",
              "    }\n",
              "\n",
              "    .dataframe tbody tr th {\n",
              "        vertical-align: top;\n",
              "    }\n",
              "\n",
              "    .dataframe thead th {\n",
              "        text-align: right;\n",
              "    }\n",
              "</style>\n",
              "<table border=\"1\" class=\"dataframe\">\n",
              "  <thead>\n",
              "    <tr style=\"text-align: right;\">\n",
              "      <th></th>\n",
              "      <th>gen</th>\n",
              "      <th>uniprot</th>\n",
              "      <th>org</th>\n",
              "      <th>domain</th>\n",
              "      <th>start</th>\n",
              "      <th>end</th>\n",
              "      <th>largo</th>\n",
              "    </tr>\n",
              "  </thead>\n",
              "  <tbody>\n",
              "    <tr>\n",
              "      <th>1902</th>\n",
              "      <td>LLGL1</td>\n",
              "      <td>Q15334</td>\n",
              "      <td>Homo sapiens</td>\n",
              "      <td>WD40</td>\n",
              "      <td>447</td>\n",
              "      <td>461</td>\n",
              "      <td>15</td>\n",
              "    </tr>\n",
              "    <tr>\n",
              "      <th>1621</th>\n",
              "      <td>CTCFL</td>\n",
              "      <td>Q8NI51</td>\n",
              "      <td>Homo sapiens</td>\n",
              "      <td>zf-C2H2</td>\n",
              "      <td>546</td>\n",
              "      <td>564</td>\n",
              "      <td>19</td>\n",
              "    </tr>\n",
              "    <tr>\n",
              "      <th>135</th>\n",
              "      <td>CTCF</td>\n",
              "      <td>P49711</td>\n",
              "      <td>Homo sapiens</td>\n",
              "      <td>zf-C2H2</td>\n",
              "      <td>555</td>\n",
              "      <td>573</td>\n",
              "      <td>19</td>\n",
              "    </tr>\n",
              "    <tr>\n",
              "      <th>536</th>\n",
              "      <td>SNAI2</td>\n",
              "      <td>O43623</td>\n",
              "      <td>Homo sapiens</td>\n",
              "      <td>zf-C2H2</td>\n",
              "      <td>241</td>\n",
              "      <td>259</td>\n",
              "      <td>19</td>\n",
              "    </tr>\n",
              "    <tr>\n",
              "      <th>2020</th>\n",
              "      <td>WDR62</td>\n",
              "      <td>O43379</td>\n",
              "      <td>Homo sapiens</td>\n",
              "      <td>WD40</td>\n",
              "      <td>422</td>\n",
              "      <td>441</td>\n",
              "      <td>20</td>\n",
              "    </tr>\n",
              "    <tr>\n",
              "      <th>...</th>\n",
              "      <td>...</td>\n",
              "      <td>...</td>\n",
              "      <td>...</td>\n",
              "      <td>...</td>\n",
              "      <td>...</td>\n",
              "      <td>...</td>\n",
              "      <td>...</td>\n",
              "    </tr>\n",
              "    <tr>\n",
              "      <th>1350</th>\n",
              "      <td>CLK3</td>\n",
              "      <td>P49761</td>\n",
              "      <td>Homo sapiens</td>\n",
              "      <td>Pkinase</td>\n",
              "      <td>304</td>\n",
              "      <td>620</td>\n",
              "      <td>317</td>\n",
              "    </tr>\n",
              "    <tr>\n",
              "      <th>521</th>\n",
              "      <td>CLK2</td>\n",
              "      <td>P49760</td>\n",
              "      <td>Homo sapiens</td>\n",
              "      <td>Pkinase</td>\n",
              "      <td>163</td>\n",
              "      <td>479</td>\n",
              "      <td>317</td>\n",
              "    </tr>\n",
              "    <tr>\n",
              "      <th>1201</th>\n",
              "      <td>CLK4</td>\n",
              "      <td>Q9HAZ1</td>\n",
              "      <td>Homo sapiens</td>\n",
              "      <td>Pkinase</td>\n",
              "      <td>159</td>\n",
              "      <td>475</td>\n",
              "      <td>317</td>\n",
              "    </tr>\n",
              "    <tr>\n",
              "      <th>39</th>\n",
              "      <td>DYRK1A</td>\n",
              "      <td>Q13627</td>\n",
              "      <td>Homo sapiens</td>\n",
              "      <td>Pkinase</td>\n",
              "      <td>159</td>\n",
              "      <td>479</td>\n",
              "      <td>321</td>\n",
              "    </tr>\n",
              "    <tr>\n",
              "      <th>245</th>\n",
              "      <td>HIPK2</td>\n",
              "      <td>Q9H2X6</td>\n",
              "      <td>Homo sapiens</td>\n",
              "      <td>Pkinase</td>\n",
              "      <td>199</td>\n",
              "      <td>527</td>\n",
              "      <td>329</td>\n",
              "    </tr>\n",
              "  </tbody>\n",
              "</table>\n",
              "<p>2048 rows × 7 columns</p>\n",
              "</div>"
            ],
            "text/plain": [
              "         gen uniprot           org   domain  start  end  largo\n",
              "1902   LLGL1  Q15334  Homo sapiens     WD40    447  461     15\n",
              "1621   CTCFL  Q8NI51  Homo sapiens  zf-C2H2    546  564     19\n",
              "135     CTCF  P49711  Homo sapiens  zf-C2H2    555  573     19\n",
              "536    SNAI2  O43623  Homo sapiens  zf-C2H2    241  259     19\n",
              "2020   WDR62  O43379  Homo sapiens     WD40    422  441     20\n",
              "...      ...     ...           ...      ...    ...  ...    ...\n",
              "1350    CLK3  P49761  Homo sapiens  Pkinase    304  620    317\n",
              "521     CLK2  P49760  Homo sapiens  Pkinase    163  479    317\n",
              "1201    CLK4  Q9HAZ1  Homo sapiens  Pkinase    159  475    317\n",
              "39    DYRK1A  Q13627  Homo sapiens  Pkinase    159  479    321\n",
              "245    HIPK2  Q9H2X6  Homo sapiens  Pkinase    199  527    329\n",
              "\n",
              "[2048 rows x 7 columns]"
            ]
          },
          "metadata": {
            "tags": []
          },
          "execution_count": 127
        }
      ]
    },
    {
      "cell_type": "markdown",
      "metadata": {
        "id": "e48CpQIszcab"
      },
      "source": [
        "---"
      ]
    },
    {
      "cell_type": "markdown",
      "metadata": {
        "id": "_hwmSc58gcW5"
      },
      "source": [
        "4. Genes enriquecidos en RNAseq\n",
        "\n",
        "Se tiene una tabla con el resultado de un RNAseq con el fin de ver que transcriptos se encuentras sobre o subexpresados.\n",
        "\n",
        "* Descartar todos los transcriptos no significativamente relevantes según fdr < 0.05\n",
        "* Que transcriptos se encuentran sobre expresados al doble o mas? (logFC > 1)\n",
        "* Que transcriptos se encuentran sib expresados a la mitad o menos? (logFC < -1)\n",
        "\n",
        "* repetir con fdr < 0.01"
      ]
    },
    {
      "cell_type": "code",
      "metadata": {
        "id": "4-WGdJ3jgcW6"
      },
      "source": [
        "datos = pd.read_csv(\"https://raw.githubusercontent.com/Ferorti/escuela2021/main/data/gene.de.tab\")"
      ],
      "execution_count": 128,
      "outputs": []
    },
    {
      "cell_type": "code",
      "metadata": {
        "id": "0RieTfVdzhKO"
      },
      "source": [
        "significativos = datos[datos['gen.fdr'] < 0.05]"
      ],
      "execution_count": 131,
      "outputs": []
    },
    {
      "cell_type": "code",
      "metadata": {
        "colab": {
          "base_uri": "https://localhost:8080/"
        },
        "id": "-XsI8Zgjztv-",
        "outputId": "ca95a6e5-f9b7-4302-d4cf-869b24745407"
      },
      "source": [
        "sobreexpresados = significativos[significativos.logFC > 1].symbol.unique().tolist()\n",
        "print(len(sobreexpresados), 'transcriptos sobreexpresados')"
      ],
      "execution_count": 133,
      "outputs": [
        {
          "output_type": "stream",
          "text": [
            "545 transcriptos sobreexpresados\n"
          ],
          "name": "stdout"
        }
      ]
    },
    {
      "cell_type": "code",
      "metadata": {
        "colab": {
          "base_uri": "https://localhost:8080/"
        },
        "id": "Y3yatuLR0M2J",
        "outputId": "1bc5e55a-8c29-4646-d64b-9fd52edd3fa9"
      },
      "source": [
        "subexpresados = significativos[significativos.logFC < -1].symbol.unique().tolist()\n",
        "print(len(subexpresados), 'transcriptos subexpresados')"
      ],
      "execution_count": 134,
      "outputs": [
        {
          "output_type": "stream",
          "text": [
            "437 transcriptos subexpresados\n"
          ],
          "name": "stdout"
        }
      ]
    },
    {
      "cell_type": "code",
      "metadata": {
        "colab": {
          "base_uri": "https://localhost:8080/"
        },
        "id": "l_AqXW45z5OP",
        "outputId": "7d8bc55f-8923-4d8a-98cf-cc2600a3232e"
      },
      "source": [
        "# Con 0.01\n",
        "\n",
        "significativos = datos[datos['gen.fdr'] < 0.01]\n",
        "\n",
        "sobreexpresados = significativos[significativos.logFC > 1].symbol.unique().tolist()\n",
        "print(len(sobreexpresados), 'transcriptos sobreexpresados')\n",
        "\n",
        "subexpresados = significativos[significativos.logFC < -1].symbol.unique().tolist()\n",
        "print(len(subexpresados), 'transcriptos subexpresados')"
      ],
      "execution_count": 145,
      "outputs": [
        {
          "output_type": "stream",
          "text": [
            "527 transcriptos sobreexpresados\n",
            "431 transcriptos subexpresados\n"
          ],
          "name": "stdout"
        }
      ]
    },
    {
      "cell_type": "code",
      "metadata": {
        "id": "EJ0Ggyge0urK"
      },
      "source": [
        ""
      ],
      "execution_count": null,
      "outputs": []
    }
  ]
}