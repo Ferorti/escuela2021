{
 "cells": [
  {
   "cell_type": "code",
   "execution_count": 1,
   "metadata": {},
   "outputs": [],
   "source": [
    "import pandas as pd\n",
    "pd.options.mode.chained_assignment = None  # ocultar alertas"
   ]
  },
  {
   "cell_type": "code",
   "execution_count": null,
   "metadata": {},
   "outputs": [],
   "source": [
    "#Desargar en la compu de google los archivos\n",
    "\n",
    "!wget https://raw.githubusercontent.com/Ferorti/escuela2021/main/data/iris.data.csv\n",
    "!wget https://raw.githubusercontent.com/Ferorti/escuela2021/main/data/provincias.csv\n",
    "!wget https://raw.githubusercontent.com/Ferorti/escuela2021/main/data/dominios.csv\n",
    "!wget https://raw.githubusercontent.com/Ferorti/escuela2021/main/data/gene.de.tab"
   ]
  },
  {
   "cell_type": "code",
   "execution_count": null,
   "metadata": {},
   "outputs": [],
   "source": [
    "!ls # ver los aarchivos\n",
    "# deben cargar cada uno segun el ejercicio que corresponde, tener cuidado los sepearadores."
   ]
  },
  {
   "cell_type": "markdown",
   "metadata": {},
   "source": [
    "1. Población Argentina"
   ]
  },
  {
   "cell_type": "markdown",
   "metadata": {},
   "source": [
    "La siguiente tabla contiene la cantidad de habitantes y la superficie (en Kms cuadrados) de las provincias argentinas.\n",
    "\n",
    "+ ordene la tabla por provincia alfabeticamente, tiene algun problema? qué puede estar pasando? Si no pudo, no importa, lo vemos despues\n",
    "+ calcule la densidad de habitantes por provincia\n",
    "+ Cuales son las 5 provincias argentinas con mayor cantidad de habitantes? y las 5 menos pobladas?\n",
    "+ Cuales son las 5 provincias argentinas con mayor densidad poblacional? y las 5 con menor densidad?\n",
    "+ ordene el dataframe por densidad de habitantes (de mayor a menor)\n",
    "+ Cual sería la población total y la densidad total de Argentina segun estos datos?\n",
    "\n",
    "tips: recordar los separadores de los archivos"
   ]
  },
  {
   "cell_type": "code",
   "execution_count": null,
   "metadata": {},
   "outputs": [],
   "source": []
  },
  {
   "cell_type": "markdown",
   "metadata": {},
   "source": [
    "2-Tenemos el dataframe Iris, un dataset muy utilizado en análisis de datos, con mediciones del ancho y el largo del petatalo y del sepalo para algunas variedades de flores iris\n",
    "\n",
    "* Cuantas filas y columnas tiene el dataset?\n",
    "* de qué tipo de datos es cada columna?\n",
    "* Cuantas variedades de iris tiene el dataset?\n",
    "* Calcule la media y el desvio standard del largo del sepalo y del petalo, sin discriminar por variedad de flor\n",
    "* Calcule de nuevo la media y el std pero ahora para cada variedad\n",
    "\n",
    "Tips: La media y el STD lo pueden obtener con .describe() o usando los métodos se las series. EJ:\n",
    "\n",
    "```python \n",
    "df.desbribe()[\"mean\"]\n",
    "serie.mean()\n",
    "serie.std()\n",
    "```\n"
   ]
  },
  {
   "cell_type": "code",
   "execution_count": null,
   "metadata": {},
   "outputs": [],
   "source": []
  },
  {
   "cell_type": "markdown",
   "metadata": {},
   "source": [
    "3. Dominios PFAM"
   ]
  },
  {
   "cell_type": "markdown",
   "metadata": {},
   "source": [
    "A continuación tenemos una tabla con información sobre los dominios de PFAM que tienen un grupo de proteínas.\n",
    "\n",
    "* Que tipo de columnas tiene la tabla, cuantas filas tiene?\n",
    "* Corresponden a varios organismos las proteinas?\n",
    "* Hay una fila por proteína o puede habar más de una?\n",
    "* Cuantas veces aparece cada dominio en la tabla?\n",
    "* Que proteínas tienen más dominios?\n",
    "* Que proteínas tienen más dominios diferentes?\n",
    "* calcule el largo del dominio a partir del start y end (posiciones de los aminoácidos)\n",
    "* que proteinas poseen al menos un dominio RRM_1\n",
    "\n",
    "tips: pruebe o averigue para qué sirve el método ```.value_counts()``` de las Series. En lo posible con series con strings."
   ]
  },
  {
   "cell_type": "code",
   "execution_count": null,
   "metadata": {},
   "outputs": [],
   "source": []
  },
  {
   "cell_type": "markdown",
   "metadata": {},
   "source": [
    "4. Genes enriquecidos en RNAseq\n",
    "\n",
    "Se tiene una tabla con el resultado de un RNAseq con el fin de ver que transcriptos se encuentras sobre o subexpresados.\n",
    "\n",
    "* Descartar todos los transcriptos no significativamente relevantes según fdr < 0.05\n",
    "* Que genes se encuentran sobre expresados al doble o mas? (logFC > 1)\n",
    "* Que genes se encuentran sib expresados a la mitad o menos? (logFC < -1)\n",
    "\n",
    "* repetir con fdr < 0.01"
   ]
  },
  {
   "cell_type": "code",
   "execution_count": null,
   "metadata": {},
   "outputs": [],
   "source": []
  }
 ],
 "metadata": {
  "kernelspec": {
   "display_name": "Python 3",
   "language": "python",
   "name": "python3"
  },
  "language_info": {
   "codemirror_mode": {
    "name": "ipython",
    "version": 3
   },
   "file_extension": ".py",
   "mimetype": "text/x-python",
   "name": "python",
   "nbconvert_exporter": "python",
   "pygments_lexer": "ipython3",
   "version": "3.8.3"
  }
 },
 "nbformat": 4,
 "nbformat_minor": 4
}
