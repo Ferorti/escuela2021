{
 "cells": [
  {
   "cell_type": "markdown",
   "metadata": {
    "colab_type": "text",
    "id": "view-in-github"
   },
   "source": [
    "# Ejercicios de Python base\n",
    "\n",
    "<a href=\"https://colab.research.google.com/github/Ferorti/escuela2021/blob/main/ejercicios/ejercicios_python_base.ipynb\" target=\"_parent\"><img src=\"https://colab.research.google.com/assets/colab-badge.svg\" alt=\"Open In Colab\"/></a>"
   ]
  },
  {
   "cell_type": "markdown",
   "metadata": {
    "id": "pH_cH6j5bWVc"
   },
   "source": [
    "## Ejercicio 1\n",
    "La Energía Potencial Gravitatoria se define como:  \n",
    "$$E_p = m \\times g \\times h$$\n",
    "\n",
    "1. Asigne a g el valor 9,8  \n",
    "2. Calcular la Ep de un cuerpo de 2,5 kg situado a una altura de 10,0 m.  \n",
    "3. Imprima en pantalla el texto: \"La energía potencial vale ... J\"  \n",
    "4. Qué tipo de dato es el resultado?"
   ]
  },
  {
   "source": [],
   "cell_type": "markdown",
   "metadata": {}
  },
  {
   "cell_type": "markdown",
   "metadata": {},
   "source": [
    "## Ejercicio 2    \n",
    "Crear una funcion para calcular la energia potencial gravitatoria de un cuerpo."
   ]
  },
  {
   "source": [],
   "cell_type": "code",
   "metadata": {},
   "execution_count": null,
   "outputs": []
  },
  {
   "cell_type": "markdown",
   "metadata": {
    "id": "NOwXK0kwbWVj"
   },
   "source": [
    "## Ejercicio 3\n",
    "\n",
    "La velocidad específica de crecimiento (K) de un microorganismo se puede determinar durante fase exponencial según se indica:  \n",
    "\n",
    "$$K = \\frac{ln{2}}{g}$$\n",
    "\n",
    "1. Calcule K para una bacteria cuyo tiempo de duplicación (g) es de 0,33 horas.  \n",
    "2. ¿Qué tipo de dato es K?  \n"
   ]
  },
  {
   "source": [],
   "cell_type": "code",
   "metadata": {},
   "execution_count": null,
   "outputs": []
  },
  {
   "cell_type": "markdown",
   "metadata": {},
   "source": [
    "## Ejercicio 4:\n",
    "Dadas las seguientes listas:  \n",
    "\n",
    "```python\n",
    "bacterias = [\n",
    "    'campylobacter_jejuni', 'vibrio_cholerae',\n",
    "    'staphylococcus_aureus', 'clostridium_perfringens',\n",
    "    'bacillus_cereus', 'eschericchia_coli',\n",
    "    'listeria_monocitogenes'\n",
    "]\n",
    "levaduras = [\n",
    "    'saccharomyces_cerevisiae', 'zygosaccharomyces_rouxii',\n",
    "    'candida_albicans', 'cryptococcus_neoformans',\n",
    "    'cryptococcus_albidus'\n",
    "]\n",
    "```\n",
    "1. Escriba en mayúscula la primer letra de cada género\n",
    "2. Ordenarlas alfabeticamente\n",
    "2. Compruebe cual es de mayor longitud\n",
    "3. Crear una lista nueva y almacenar los primeros tres generos de cada lista"
   ]
  },
  {
   "source": [],
   "cell_type": "code",
   "metadata": {},
   "execution_count": null,
   "outputs": []
  },
  {
   "cell_type": "markdown",
   "metadata": {
    "colab": {
     "base_uri": "https://localhost:8080/",
     "height": 35
    },
    "id": "rRQzh1xk2CcU",
    "outputId": "619ba720-d995-4db5-d9db-1837083db819"
   },
   "source": [
    "## Ejercicio 5\n",
    "\n",
    "La siguiente secuencia corresponde a la proteina luciferasa:  \n",
    "\n",
    "```python\n",
    "luciferasa = (\n",
    "    \"MEDAKNIKKGPAPFYPLEDGTAGEQLHKAMKRYALVPGTIAFTDAHIEVNITYAEYFEMSVRLAEAMKRYGLNTNHRIVV\"\n",
    "    \"CSENSLQFFMPVLGALFIGVAVAPANDIYNERELLNSMNISQPTVVFVSKKGLQKILNVQKKLPIIQKIIIMDSKTDYQG\"\n",
    "    \"FQSMYTFVTSHLPPGFNEYDFVPESFDRDKTIALIMNSSGSTGLPKGVALPHRTACVRFSHARDPIFGNQIIPDTAILSV\"\n",
    "    \"VPFHHGFGMFTTLGYLICGFRVVLMYRFEEELFLRSLQDYKIQSALLVPTLFSFFAKSTLIDKYDLSNLHEIASGGAPLS\"\n",
    "    \"KEVGEAVAKRFHLPGIRQGYGLTETTSAILITPEGDDKPGAVGKVVPFFEAKVVDLDTGKTLGVNQRGELCVRGPMIMSG\"\n",
    "    \"YVNNPEATNALIDKDGWLHSGDIAYWDEDEHFFIVDRLKSLIKYKGYQVAPAELESILLQHPNIFDAGVAGLPDDDAGEL\"\n",
    "    \"PAAVVVLEHGKTMTEKEIVDYVASQVTTAKKLRGGVVFVDEVPKGLTGKLDARKIREILIKAKKGGKSKL\"\n",
    ")\n",
    "```\n",
    "\n",
    "Esta proteína tiene dos dominios descriptos en la base de datos [Pfam](https://pfam.xfam.org/protein/P08659):\n",
    "\n",
    "- AMP-binding enzyme. Residuos 30 a 445\n",
    "- AMP-binding enzyme C-terminal domain: Residuos 453 a 529\n",
    "\n",
    "1. Extraiga las subsecuencias (usando _slices_) y guardelas en dos variables."
   ]
  },
  {
   "source": [],
   "cell_type": "code",
   "metadata": {},
   "execution_count": null,
   "outputs": []
  },
  {
   "cell_type": "markdown",
   "metadata": {
    "id": "A99DERF7Hmr1"
   },
   "source": [
    "## Ejercicio 6\n",
    "El siguiente diccionario representa las áreas (en metros cuadrados) de distintos espacios de un instituto de investigación:  \n",
    "\n",
    "```python\n",
    "areas = {\n",
    "    \"entrada\": 4.0,\n",
    "    \"pasillos\": 11.25,\n",
    "    \"cocina\": 18.0,\n",
    "    \"lab1\": 20.0,\n",
    "    \"lab2\": 10.75,\n",
    "    \"ciber\": 15.50,\n",
    "    \"baño\": 9.50\n",
    "}\n",
    "```\n",
    "1. Guarde en una variable el área del lab1 y en otra el área del lab2\n",
    "2. Sume las areas de lab1 y lab2 y guarde el resultado en la variable \"areas_de_trabajo\"\n",
    "3. Cambie el nombre de \"ciber\" a \"sala_becarios\"\n",
    "4. Agregue al diccionario las áreas de la biblioteca y del estacionamiento, de 12.0 y 25.75 respectivamente\n"
   ]
  },
  {
   "source": [],
   "cell_type": "code",
   "metadata": {},
   "execution_count": null,
   "outputs": []
  },
  {
   "cell_type": "markdown",
   "metadata": {
    "id": "ZljRFYOBBniK"
   },
   "source": [
    "## Ejercicio 7\n",
    "1. Crear un diccionario con la siguiente clasificacion aminoacidos:  \n",
    "  - Hidrófobos: F, A, L, M, I, W, P, V  \n",
    "  - Polares: C, G, Q, N, S, Y, T  \n",
    "2. ¿Cómo averiguamos el numero de aminoácidos que son polares?\n",
    "3. Agregue los siguientes grupos de aminoacidos al diccionario:\n",
    "  - Básicos: H, R, K \n",
    "  - Ácidos: D, E"
   ]
  },
  {
   "cell_type": "code",
   "execution_count": null,
   "metadata": {},
   "outputs": [],
   "source": []
  },
  {
   "cell_type": "markdown",
   "metadata": {},
   "source": [
    "## Ejericio 8\n",
    "\n",
    "El contenido CG de una secuencia de DNA se puede calcular como la razón entre la suma de Cs y Gs en la secuencia y la sumatoria de los 4 nucleotidos en la secuencia:\n",
    "$$\\frac{C+G}{A+T+C+G}$$\n",
    "\n",
    "1. Escriba una funcion \"contenido_cg\" que pueda tomar cualquier secuencia de DNA y calcular su contenido CG\n",
    "2. Calcule el contenido CG de la siguiente secuencia \"ACTGATCGATTACGTATAGTATTTGCTATCATACATATATATCGATGCGTTCAT\"\n",
    "3. Calcule el contenido CG de la secuencia \"aactgtagctagctagcagcgta\""
   ]
  },
  {
   "source": [],
   "cell_type": "code",
   "metadata": {
    "colab": {
     "base_uri": "https://localhost:8080/"
    },
    "id": "fGGDpb8LHmDt",
    "outputId": "b67b7ba6-210d-4530-9964-2704105b69ae"
   },
   "execution_count": null,
   "outputs": []
  },
  {
   "cell_type": "markdown",
   "metadata": {
    "id": "Y41Mqs2Hm3ch"
   },
   "source": [
    "## Ejercicio 9\n",
    "Dada la siguiente secuencia:\n",
    "\n",
    "`\n",
    "CTGCAGAAATAACTAGGTACTAAGCCCGTTTGTGAAAAGTGGCCAAACCCATAAATTTGGCAATTACAATAAAGAAGCTA\n",
    "AAATTGTGGTCAAACTCACAAACATTTTTATTATATACATTTTAGTAGCTGATGCTTATAAAAGCAATATTTAAATCGTA\n",
    "AACAACAAATAAAATAAAATTTAAACGATGTGATTAAGAGCCAAAGGTCCTCTAGAAAAAGGTATTTAAGCAACGGAATT\n",
    "CCTTTGTGTTACATTCTTGAATGTCGCTCGCAGTGACATTAGCATTCCGGTACTGTTGGTAAAATGGAAGACGCCAAAAA\n",
    "CATAAAGAAAGGCCCGGCGCCATTCTATCCTCTAGAGGATGGAACCGCTGGAGAGCAACTGCATAAGGCTATGAAGAGAT\n",
    "ACGCCCTGGTTCCTGGAACAATTGCTTTTGTGAGTATTTCTGTCTGATTTCTTTCGAGTTAACGAAATGTTCTTATGTTT\n",
    "CTTTAGACAGATGCACATATCGAGGTGAACATCACGTACGCGGAATACTTCGAAATGTCCGTTCGGTTGGCAGAAGCTAT\n",
    "GAAACGATATGGGCTGAATACAAATCACAGAATCGTCGTATGCAGTGAAAACTCTCTTCAATTCTTTATGCCGGTGTTGG\n",
    "GCGCGTTATTTATCGGAGTTGCAGTTGCGCCCGCGAACGACATTTATAATGAACGTAAGCACCCTCGCCATCAGACCAAA\n",
    "GGGAATGACGTATTTAATTTTTAAGGTGAATTGCTCAACAGTATGAACATTTCGCAGCCTACCGTAGTGTTTGTTTCCAA\n",
    "AAAGGGGTTGCAAAAAATTTTGAACGTGCAAAAAAAATTACCAATAATCCAGAAAATTATTATCATGGATTCTAAAACGG\n",
    "ATTACCAGGGATTTCAGTCGATGTACACGTTCGTCACATCTCATCTACCTCCCGGTTTTAATGAATACGATTTTGTACCA\n",
    "GAGTCCTTTGATCGTGACAAAACAATTGCACTGATAATGAATTCCTCTGGATCTACTGGGTTACCTAAGGGTGTGGCCCT\n",
    "TCCGCATAGAACTGCCTGCGTCAGATTCTCGCATGCCAGGTATGTCGTATAACAAGAGATTAAGTAATGTTGCTACACAC\n",
    "ATTGTAGAGATCCTATTTTTGGCAATCAAATCATTCCGGATACTGCGATTTTAAGTGTTGTTCCATTCCATCACGGTTTT\n",
    "GGAATGTTTACTACACTCGGATATTTGATATGTGGATTTCGAGTCGTCTTAATGTATAGATTTGAAGAAGAGCTGTTTTT\n",
    "ACGATCCCTTCAGGATTACAAAATTCAAAGTGCGTTGCTAGTACCAACCCTATTTTCATTCTTCGCCAAAAGCACTCTGA\n",
    "TTGACAAATACGATTTATCTAATTTACACGAAATTGCTTCTGGGGGCGCACCTCTTTCGAAAGAAGTCGGGGAAGCGGTT\n",
    "GCAAAACGGTGAGTTAAGCGCATTGCTAGTATTTCAAGGCTCTAAAACGGCGCGTAGCTTCCATCTTCCAGGGATACGAC\n",
    "AAGGATATGGGCTCACTGAGACTACATCAGCTATTCTGATTACACCCGAGGGGGATGATAAACCGGGCGCGGTCGGTAAA\n",
    "GTTGTTCCATTTTTTGAAGCGAAGGTTGTGGATCTGGATACCGGGAAAACGCTGGGCGTTAATCAGAGAGGCGAATTATG\n",
    "TGTCAGAGGACCTATGATTATGTCCGGTTATGTAAACAATCCGGAAGCGACCAACGCCTTGATTGACAAGGATGGATGGC\n",
    "TACATTCTGGAGACATAGCTTACTGGGACGAAGACGAACACTTCTTCATAGTTGACCGCTTGAAGTCTTTAATTAAATAC\n",
    "AAAGGATATCAGGTAATGAAGATTTTTACATGCACACACGCTACAATACCTGTAGGTGGCCCCCGCTGAATTGGAATCGA\n",
    "TATTGTTACAACACCCCAACATCTTCGACGCGGGCGTGGCAGGTCTTCCCGACGATGACGCCGGTGAACTTCCCGCCGCC\n",
    "GTTGTTGTTTTGGAGCACGGAAAGACGATGACGGAAAAAGAGATCGTGGATTACGTCGCCAGTAAATGAATTCGTTTTAC\n",
    "GTTACTCGTACTACAATTCTTTTCATAGGTCAAGTAACAACCGCGAAAAAGTTGCGCGGAGGAGTTGTGTTTGTGGACGA\n",
    "AGTACCGAAAGGTCTTACCGGAAAACTCGACGCAAGAAAAATCAGAGAGATCCTCATAAAGGCCAAGAAGGGCGGAAAGT\n",
    "CCAAATTGTAAAATGTAACTGTATTCAGCGATGACGAAATTCTTAGCTATTGTAATATTATATGCAAATTGATGAATGGT\n",
    "AATTTTGTAATTGTGGGTCACTGTACTATTTTAACGAATAATAAAATCAGGTATAGGTAACTAAAAA\n",
    "`\n",
    "\n",
    "1. Imprima el tamaño de la misma  \n",
    "2. Calcule su contenido CG\n",
    "3. Seleccione los nucleotidos 304 al 429 y guardelos como lista en la variable 'exon1'\n"
   ]
  },
  {
   "source": [],
   "cell_type": "code",
   "metadata": {},
   "execution_count": null,
   "outputs": []
  },
  {
   "cell_type": "markdown",
   "metadata": {
    "id": "qXLH8kAy6hqo"
   },
   "source": [
    "## Ejercicio 10  \n",
    "En el siguiente diccionario se representan algunas proteinas con su contenido de desorden (fracción de las posiciones que son condideradas como desordenadas). Las claves corresponden al codigo de acceso de la proteina en UniProt    \n",
    "```python\n",
    "{\n",
    "    'Q8WZ42': ['Titin', 'Homo sapiens', 0.0626],\n",
    "    'P04818': ['Thymidylate synthase', 'Homo sapiens', 0.1565],\n",
    "    'P37840': ['Alpha-synuclein', 'Homo sapiens', 1.0],\n",
    "    'P11387': ['DNA topoisomerase 1', 'Homo sapiens', 0.3804],\n",
    "    'P19339': ['Protein sex-lethal', 'Drosophila melanogaster', 0.0876],\n",
    "    'P04637': ['Cellular tumor antigen p53', 'Homo sapiens', 0.4809],\n",
    "    'Q9MAA7': ['Gibberellin receptor GID1A', 'Arabidopsis thaliana', 0.0377],\n",
    "    'P11473': ['Vitamin D3 receptor', 'Homo sapiens', 0.3489],\n",
    "    'Q8RWK8': ['Coilin', 'Arabidopsis thaliana', 0.3849]\n",
    "}\n",
    "```\n",
    "\n",
    "1. Crear un DataFrame a partir del diccionario\n",
    "2. Agregue una columna que represente el desorden porcentual (%)\n",
    "3. Realice un subset donde el organismo corresponda a 'Homo sapiens' y el contenido de desorden mayor al 30%"
   ]
  },
  {
   "source": [],
   "cell_type": "code",
   "metadata": {},
   "execution_count": null,
   "outputs": []
  },
  {
   "source": [
    "## Ejercicio 11\n",
    "\n",
    "1. Escribir una función para calcular la temperatura de Melting de un oligonucleótido según las siguientes aproximaciones:\n",
    "\n",
    "- Para secuencias con 13 o menos nuleotidos se usa la ecuación:\n",
    "\n",
    "$$\n",
    "    T_m = (wA+xT) \\times 2 + (yG+zC) \\times 4\n",
    "$$\n",
    "\n",
    "- Para secuencias más largas:\n",
    "\n",
    "$$\n",
    "    Tm = 64.9 + 41 \\times \\frac{(yG+zC-16.4)}{(wA+xT+yG+zC)}\n",
    "$$\n",
    "\n",
    "La función tiene que tener cuatro argumentos, uno con la cantidad de A, otro con la cantidad de C, otro con la cantidad de G y otro con la cantidad de T."
   ],
   "cell_type": "markdown",
   "metadata": {}
  },
  {
   "cell_type": "code",
   "execution_count": null,
   "metadata": {},
   "outputs": [],
   "source": []
  },
  {
   "source": [
    "## Ejercicio 12\n",
    "\n",
    "Escribir una función similar al del ejericio aneterior, pero que tenga un solo argumento, que sea la secuencia del oligoneleótido."
   ],
   "cell_type": "markdown",
   "metadata": {}
  },
  {
   "cell_type": "code",
   "execution_count": null,
   "metadata": {},
   "outputs": [],
   "source": []
  },
  {
   "source": [
    "## Ejercicio 13\n",
    "\n",
    "Dada una secuencia de DNA, escribir una función que encuentre la repetición de un nucleótido más larga. La función debe devolver la posición dentro de la secuencia donde comienza la repteción, el nucleótido que se repite y el largo de la repetición.\n"
   ],
   "cell_type": "markdown",
   "metadata": {}
  },
  {
   "source": [],
   "cell_type": "code",
   "metadata": {},
   "execution_count": null,
   "outputs": []
  },
  {
   "source": [
    "## Ejercicio 14\n",
    "\n",
    "Vamos a jugar al MasterMind.\n",
    "\n",
    "MasterMind es un juego donde el jugador debe adivinar un número de cuatro cifras elegido al azar por la computadora.\n",
    "Este número debe cumplir ciertas reglas:\n",
    "\n",
    "- Debe estar formado por los números del al 4.\n",
    "- Cada número debe estar presente solo una vez.\n",
    "\n",
    "El jugador tiene seis intentos para adivinar el número. \n",
    "El jugador gana si adivina en alguno de los intentos el número elegido.\n",
    "Luego de cada intento fallido, se le informa al jugador\n",
    "cuantos números está ubicados en la posición correcta (pero no cuales).\n",
    "\n",
    "Si el jugador ingresa un número inválido, ese intento no se computa y puede volver a intentarlo.\n",
    "El número es inválido si:\n",
    "\n",
    "- Tiene más o menos de cuatros dígitos.\n",
    "- Si hay dígitos diferentes a los números de 1 al 4.\n",
    "- Si tiene dígitos repetidos.\n",
    "- Si contiene símbolos que no son números.\n",
    "\n",
    "Si el jugador ingresa la palabra 'salir' el juego termina inmediatamente.\n",
    "\n",
    "1. Escribir una función que permita jugar al MasterMind"
   ],
   "cell_type": "markdown",
   "metadata": {}
  },
  {
   "source": [],
   "cell_type": "code",
   "metadata": {},
   "execution_count": null,
   "outputs": []
  }
 ],
 "metadata": {
  "colab": {
   "include_colab_link": true,
   "name": "ejercicios.ipynb",
   "provenance": []
  },
  "kernelspec": {
   "display_name": "Python 3",
   "language": "python",
   "name": "python3"
  },
  "language_info": {
   "codemirror_mode": {
    "name": "ipython",
    "version": 3
   },
   "file_extension": ".py",
   "mimetype": "text/x-python",
   "name": "python",
   "nbconvert_exporter": "python",
   "pygments_lexer": "ipython3",
   "version": "3.9.0-final"
  }
 },
 "nbformat": 4,
 "nbformat_minor": 1
}