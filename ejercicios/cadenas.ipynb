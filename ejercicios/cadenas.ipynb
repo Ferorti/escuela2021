{
  "nbformat": 4,
  "nbformat_minor": 0,
  "metadata": {
    "colab": {
      "name": "ejercicios_cadenas.ipynb",
      "provenance": [],
      "collapsed_sections": [],
      "authorship_tag": "ABX9TyO+HlfCQwsCtqtRFBI076Lp",
      "include_colab_link": true
    },
    "kernelspec": {
      "name": "python3",
      "display_name": "Python 3"
    }
  },
  "cells": [
    {
      "cell_type": "markdown",
      "metadata": {
        "id": "view-in-github",
        "colab_type": "text"
      },
      "source": [
        "<a href=\"https://colab.research.google.com/github/Ferorti/escuela2021/blob/main/ejercicios/cadenas.ipynb\" target=\"_parent\"><img src=\"https://colab.research.google.com/assets/colab-badge.svg\" alt=\"Open In Colab\"/></a>"
      ]
    },
    {
      "cell_type": "markdown",
      "metadata": {
        "id": "JMqCOSwwACPl"
      },
      "source": [
        "# Ejercicios sobre cadenas"
      ]
    },
    {
      "cell_type": "markdown",
      "metadata": {
        "id": "yQ2S_413AjKQ"
      },
      "source": [
        "No se olvide de ejecutar el siguiente código para tener las cadenas que utilizaremos en los ejercicios."
      ]
    },
    {
      "cell_type": "code",
      "metadata": {
        "id": "SGgAZ7j7Asqr"
      },
      "source": [
        "cadena1 = \"  \\t    GENE XXX tiene id YYY y ZZZ aa---\"\r\n",
        "cadena2 = \"Gene\\tUniprot\\tAA\\tPeso\\nBRAF\\tP15056\\t766\\t84436.135 DA\\nEGFR\\tP00533\\t1210\\t134276.185\\nTP53\\tP04637\\t393\\t43652.79 DA\\nKRAS\\tP01116\\t189\\t21655.67\\n\"\r\n"
      ],
      "execution_count": 1,
      "outputs": []
    },
    {
      "cell_type": "markdown",
      "metadata": {
        "id": "I-Mij1I9Kku9"
      },
      "source": [
        "**Ejercicio 1**\r\n",
        "\r\n",
        "Elimine los caracteres blancos del inicio de la cadena1 y los caracteres \"-\" del final de la cadena1. Imprima esta nueva cadena"
      ]
    },
    {
      "cell_type": "code",
      "metadata": {
        "id": "oHWnRMBAQ4uC"
      },
      "source": [
        "# respuesta ejercicio 1"
      ],
      "execution_count": 2,
      "outputs": []
    },
    {
      "cell_type": "markdown",
      "metadata": {
        "id": "Ix3OWl7JLZL6"
      },
      "source": [
        "**Ejercicio 2**\r\n",
        "\r\n",
        "Imprima la cadena1 resultante del **Ejercicio 1**\r\n",
        "\r\n",
        "*   toda en minúsculas\r\n",
        "*   toda en mayúsculas\r\n",
        "*   toda en minúsculas y solo con la primera letra en mayúscula\r\n",
        "\r\n"
      ]
    },
    {
      "cell_type": "code",
      "metadata": {
        "id": "_Ps_zLEgQ50T"
      },
      "source": [
        "# respuesta ejercicio 2"
      ],
      "execution_count": 3,
      "outputs": []
    },
    {
      "cell_type": "markdown",
      "metadata": {
        "id": "-qBJ2_VKK3nR"
      },
      "source": [
        "**Ejercicio 3**\r\n",
        "\r\n",
        "Realice las siguientes sustituciones en la cadena1, e imprima la nueva cadena:\r\n",
        " \r\n",
        "*   XXX por BRAF\r\n",
        "*   YYY por P15056\r\n",
        "*   ZZZ por 766\r\n",
        "\r\n"
      ]
    },
    {
      "cell_type": "code",
      "metadata": {
        "id": "3KNcgDL-Q7AK"
      },
      "source": [
        "# respuesta ejercicio 3"
      ],
      "execution_count": 4,
      "outputs": []
    },
    {
      "cell_type": "markdown",
      "metadata": {
        "id": "6rPEkWi2Mp6e"
      },
      "source": [
        "**Ejercicio 4**\r\n",
        "\r\n",
        "Divida la cadena2 por el separador \\t obteniendo y guarde el resultado"
      ]
    },
    {
      "cell_type": "code",
      "metadata": {
        "id": "gf53fzAnQ8gq"
      },
      "source": [
        "# respuesta ejercicio 4"
      ],
      "execution_count": 5,
      "outputs": []
    },
    {
      "cell_type": "markdown",
      "metadata": {
        "id": "qPORTmRZM2-l"
      },
      "source": [
        "**Ejercicio 5**\r\n",
        "\r\n",
        "Utilize el resultado del **Ejercicio 4** para unir los elementos de la lista en una nueva cadena que utilize como separador el caracter \",\""
      ]
    },
    {
      "cell_type": "code",
      "metadata": {
        "id": "rPTUFfThQ9mM"
      },
      "source": [
        "# respuesta ejercicio 5"
      ],
      "execution_count": 6,
      "outputs": []
    },
    {
      "cell_type": "markdown",
      "metadata": {
        "id": "JXWGuftxAIPe"
      },
      "source": [
        "**Ejercicio 6**\r\n",
        "\r\n",
        "Convierta la cadena2 en una lista de tuplas como la siguiente:\r\n",
        "\r\n",
        "```\r\n",
        "[\r\n",
        "  (\"BRAF\", \"P15056\", 766, 84436.135), \r\n",
        "  (\"EGFR\", \"P00533\", 1210, 134276.185),\r\n",
        "  (\"TP53\", \"P04637\", 393, 43652.79), \r\n",
        "  (\"KRAS\", \"P01116\", 189, 21655.67)\r\n",
        "]\r\n",
        "```\r\n",
        "\r\n",
        "Sugerencias:\r\n",
        "\r\n",
        "*   Utilize la función split\r\n",
        "*   Utilize ciclo for o while \r\n",
        "\r\n",
        "\r\n",
        "\r\n"
      ]
    },
    {
      "cell_type": "code",
      "metadata": {
        "id": "hMTQzGLERARz"
      },
      "source": [
        "# respuesta ejercicio 6"
      ],
      "execution_count": 7,
      "outputs": []
    },
    {
      "cell_type": "markdown",
      "metadata": {
        "id": "36GoU1BQGfG9"
      },
      "source": [
        "**Ejercicio 7**\r\n",
        "\r\n",
        "Convierta la cadena2 en un diccionario como el siguiente:\r\n",
        "\r\n",
        "\r\n",
        "```\r\n",
        "{\r\n",
        "  \"BRAF\" : {\"uniprot\": \"P15056\", \"aa\": 766, \"peso\": 84436.135}, \r\n",
        "  \"EGFR\": {\"uniprot\":\"P00533\", \"aa\": 1210, \"peso\": 134276.185}, \r\n",
        "  \"TP53\": {\"uniprot\":\"P04637\", \"aa\": 393,  \"peso\": 43652.79 }, \r\n",
        "  \"KRAS\": {\"uniprot\":\"P01116\", \"aa\": 189, \"peso\": 21655.67}\r\n",
        "}\r\n",
        "```\r\n",
        "\r\n",
        "\r\n",
        "\r\n",
        "\r\n",
        "\r\n",
        "Sugerencias:\r\n",
        "\r\n",
        "*   Utilize la función split\r\n",
        "*   Utilize ciclo for o while "
      ]
    },
    {
      "cell_type": "code",
      "metadata": {
        "id": "ktsJuoDJABVe"
      },
      "source": [
        "# respuesta ejercicio 7\r\n"
      ],
      "execution_count": 8,
      "outputs": []
    },
    {
      "cell_type": "markdown",
      "metadata": {
        "id": "CYkEE3T8NX5S"
      },
      "source": [
        "**Ejercicio 8**\r\n",
        "\r\n",
        "Haciendo uso de la lista obtenida en el **Ejercicio 6** imprima un texto por cada tupla en la lista que tenga el siguiente formato:\r\n",
        "\r\n",
        "*   cada nombre de gene ocupe 8 espacios y esté alineado a la izquierda \r\n",
        "*   cada id de uniprot ocupe 10 espacios y esté alineado al centro\r\n",
        "*   cada cantidad de aminoacidos ocupe 5 espacios y esté alineado a la derecha\r\n",
        "*   después halla dos tabulaciones \r\n",
        "*   cada peso molecular ocupe 10 espacios, dos de los espacios reservados para los decimales y esté alineado a la derecha\r\n",
        "\r\n",
        "Debe quedar una cadena como la siguiente:\r\n",
        "\r\n",
        "```\r\n",
        "\"BRAF      P15056    766\t\t  84436.13\"\r\n",
        "```\r\n",
        "\r\n",
        "Sugerencia: Utilize la función format. Si le es más cómodo puede utilizar el diccionario obtenido en el **Ejercicio 7**.\r\n",
        "\r\n"
      ]
    },
    {
      "cell_type": "code",
      "metadata": {
        "id": "cbPWH_crKfkg"
      },
      "source": [
        "# respuesta ejercicio 8"
      ],
      "execution_count": 9,
      "outputs": []
    }
  ]
}