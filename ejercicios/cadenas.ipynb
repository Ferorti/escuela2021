{
  "nbformat": 4,
  "nbformat_minor": 0,
  "metadata": {
    "colab": {
      "name": "cadenas.ipynb",
      "provenance": [],
      "collapsed_sections": [],
      "authorship_tag": "ABX9TyN5BGA8mWEmNG1p+LMumL8/",
      "include_colab_link": true
    },
    "kernelspec": {
      "name": "python3",
      "display_name": "Python 3"
    }
  },
  "cells": [
    {
      "cell_type": "markdown",
      "metadata": {
        "id": "JMqCOSwwACPl"
      },
      "source": [
        "# Ejercicios sobre cadenas\n",
        "\n",
        "<a href=\"https://colab.research.google.com/github/Ferorti/escuela2021/blob/main/ejercicios/cadenas.ipynb\" target=\"_parent\"><img src=\"https://colab.research.google.com/assets/colab-badge.svg\" alt=\"Open In Colab\"/></a>"
      ]
    },
    {
      "cell_type": "markdown",
      "metadata": {
        "id": "yQ2S_413AjKQ"
      },
      "source": [
        "No se olvide de ejecutar el siguiente código para tener las cadenas que utilizaremos en los ejercicios."
      ]
    },
    {
      "cell_type": "code",
      "metadata": {
        "id": "SGgAZ7j7Asqr",
        "colab": {
          "base_uri": "https://localhost:8080/"
        },
        "outputId": "7b8f28ad-16eb-4e5b-df66-504988314273"
      },
      "source": [
        "cadena1 = \"  \\t    GENE XXX tiene id YYY y ZZZ aa---\"\r\n",
        "cadena2 = \"Gene\\tUniprot\\tAA\\tPeso\\nBRAF\\tP15056\\t766\\t84436.135 DA\\nEGFR\\tP00533\\t1210\\t134276.185\\nTP53\\tP04637\\t393\\t43652.79 DA\\nKRAS\\tP01116\\t189\\t21655.67\\n\"\r\n",
        "print(cadena1)\r\n",
        "print(cadena2)"
      ],
      "execution_count": 1,
      "outputs": [
        {
          "output_type": "stream",
          "text": [
            "  \t    GENE XXX tiene id YYY y ZZZ aa---\n",
            "Gene\tUniprot\tAA\tPeso\n",
            "BRAF\tP15056\t766\t84436.135 DA\n",
            "EGFR\tP00533\t1210\t134276.185\n",
            "TP53\tP04637\t393\t43652.79 DA\n",
            "KRAS\tP01116\t189\t21655.67\n",
            "\n"
          ],
          "name": "stdout"
        }
      ]
    },
    {
      "cell_type": "markdown",
      "metadata": {
        "id": "I-Mij1I9Kku9"
      },
      "source": [
        "## Ejercicio 1\n",
        "\n",
        "Elimine los caracteres blancos del inicio de la cadena1 y los caracteres \"-\" del final de la cadena1. Imprima esta nueva cadena"
      ]
    },
    {
      "cell_type": "code",
      "metadata": {
        "id": "oHWnRMBAQ4uC"
      },
      "source": [
        "# respuesta ejercicio 1"
      ],
      "execution_count": 2,
      "outputs": []
    },
    {
      "cell_type": "markdown",
      "metadata": {
        "id": "Ix3OWl7JLZL6"
      },
      "source": [
        "## Ejercicio 2\n",
        "\n",
        "Imprima la cadena1 resultante del **Ejercicio 1**\n",
        "\n",
        "*   toda en minúsculas\n",
        "*   toda en mayúsculas\n",
        "*   toda en minúsculas y solo con la primera letra en mayúscula\n",
        "\n"
      ]
    },
    {
      "cell_type": "code",
      "metadata": {
        "id": "_Ps_zLEgQ50T"
      },
      "source": [
        "# respuesta ejercicio 2"
      ],
      "execution_count": 3,
      "outputs": []
    },
    {
      "cell_type": "markdown",
      "metadata": {
        "id": "-qBJ2_VKK3nR"
      },
      "source": [
        "## Ejercicio 3\n",
        "\n",
        "Realice las siguientes sustituciones en la cadena1, e imprima la nueva cadena:\n",
        " \n",
        "*   XXX por BRAF\n",
        "*   YYY por P15056\n",
        "*   ZZZ por 766\n",
        "\n"
      ]
    },
    {
      "cell_type": "code",
      "metadata": {
        "id": "3KNcgDL-Q7AK"
      },
      "source": [
        "# respuesta ejercicio 3"
      ],
      "execution_count": 4,
      "outputs": []
    },
    {
      "cell_type": "markdown",
      "metadata": {
        "id": "6rPEkWi2Mp6e"
      },
      "source": [
        "## Ejercicio 4\n",
        "\n",
        "Divida la cadena2 por el separador \\t obteniendo y guarde el resultado"
      ]
    },
    {
      "cell_type": "code",
      "metadata": {
        "id": "gf53fzAnQ8gq"
      },
      "source": [
        "# respuesta ejercicio 4"
      ],
      "execution_count": 5,
      "outputs": []
    },
    {
      "cell_type": "markdown",
      "metadata": {
        "id": "qPORTmRZM2-l"
      },
      "source": [
        "## Ejercicio 5\n",
        "\n",
        "Utilize el resultado del **Ejercicio 4** para unir los elementos de la lista en una nueva cadena que utilize como separador el caracter \",\""
      ]
    },
    {
      "cell_type": "code",
      "metadata": {
        "id": "rPTUFfThQ9mM"
      },
      "source": [
        "# respuesta ejercicio 5"
      ],
      "execution_count": 6,
      "outputs": []
    },
    {
      "cell_type": "markdown",
      "metadata": {
        "id": "JXWGuftxAIPe"
      },
      "source": [
        "## Ejercicio 6\n",
        "\n",
        "Convierta la cadena2 en una lista de listas como la siguiente:\n",
        "\n",
        "```python\n",
        "[\n",
        "  [\"BRAF\", \"P15056\", 766, 84436.135], \n",
        "  [\"EGFR\", \"P00533\", 1210, 134276.185],\n",
        "  [\"TP53\", \"P04637\", 393, 43652.79], \n",
        "  [\"KRAS\", \"P01116\", 189, 21655.67]\n",
        "]\n",
        "```\n",
        "\n",
        "Sugerencias:\n",
        "\n",
        "*   Utilize el método .split\n",
        "*   Utilize ciclo for o while \n",
        "\n",
        "\n",
        "\n"
      ]
    },
    {
      "cell_type": "code",
      "metadata": {
        "id": "hMTQzGLERARz"
      },
      "source": [
        "# respuesta ejercicio 6"
      ],
      "execution_count": 7,
      "outputs": []
    },
    {
      "cell_type": "markdown",
      "metadata": {
        "id": "36GoU1BQGfG9"
      },
      "source": [
        "## Ejercicio 7\n",
        "\n",
        "Convierta la cadena2 en un diccionario como el siguiente:\n",
        "\n",
        "\n",
        "```python\n",
        "{\n",
        "  \"BRAF\": {\"uniprot\": \"P15056\", \"aa\": 766, \"peso\": 84436.135}, \n",
        "  \"EGFR\": {\"uniprot\": \"P00533\", \"aa\": 1210, \"peso\": 134276.185}, \n",
        "  \"TP53\": {\"uniprot\": \"P04637\", \"aa\": 393,  \"peso\": 43652.79}, \n",
        "  \"KRAS\": {\"uniprot\": \"P01116\", \"aa\": 189, \"peso\": 21655.67}\n",
        "}\n",
        "```\n",
        "\n",
        "\n",
        "\n",
        "\n",
        "\n",
        "Sugerencias:\n",
        "\n",
        "*   Utilize él método split.\n",
        "*   Utilize ciclo for o while."
      ]
    },
    {
      "cell_type": "code",
      "metadata": {
        "id": "ktsJuoDJABVe"
      },
      "source": [
        "# respuesta ejercicio 7\r\n"
      ],
      "execution_count": 8,
      "outputs": []
    },
    {
      "cell_type": "markdown",
      "metadata": {
        "id": "CYkEE3T8NX5S"
      },
      "source": [
        "## Ejercicio 8\n",
        "\n",
        "Haciendo uso de la lista obtenida en el **Ejercicio 6** imprima un texto por cada lista en ella que tenga el siguiente formato:\n",
        "\n",
        "*   cada nombre de gene ocupe 8 espacios y esté alineado a la izquierda \n",
        "*   cada id de uniprot ocupe 10 espacios, esté alineado al centro y utilize como caracter de relleno el \"*\"\n",
        "*   cada cantidad de aminoacidos ocupe 5 espacios y esté alineado a la derecha\n",
        "*   después halla dos tabulaciones \n",
        "*   cada peso molecular ocupe 10 espacios, dos de los espacios reservados para los decimales y esté alineado a la derecha\n",
        "\n",
        "Debe quedar una cadena como la siguiente:\n",
        "\n",
        "`\n",
        "BRAF    **P15056**  766\t\t  84436.13\n",
        "`\n",
        "\n",
        "Sugerencia: Utilize la función format. Si le es más cómodo puede utilizar el diccionario obtenido en el **Ejercicio 7**.\n",
        "\n"
      ]
    },
    {
      "cell_type": "code",
      "metadata": {
        "id": "cbPWH_crKfkg"
      },
      "source": [
        "# respuesta ejercicio 8"
      ],
      "execution_count": 9,
      "outputs": []
    }
  ]
}