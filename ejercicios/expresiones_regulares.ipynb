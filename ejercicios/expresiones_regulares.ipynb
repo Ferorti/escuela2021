{
  "nbformat": 4,
  "nbformat_minor": 0,
  "metadata": {
    "colab": {
      "name": "ejercicios_expresiones_regulares.ipynb",
      "provenance": [],
      "collapsed_sections": [],
      "authorship_tag": "ABX9TyPzAptgITnsWBc8Dj+qmlKQ",
      "include_colab_link": true
    },
    "kernelspec": {
      "name": "python3",
      "display_name": "Python 3"
    }
  },
  "cells": [
    {
      "cell_type": "markdown",
      "metadata": {
        "id": "view-in-github",
        "colab_type": "text"
      },
      "source": [
        "<a href=\"https://colab.research.google.com/github/Ferorti/escuela2021/blob/main/ejercicios/expresiones_regulares.ipynb\" target=\"_parent\"><img src=\"https://colab.research.google.com/assets/colab-badge.svg\" alt=\"Open In Colab\"/></a>"
      ]
    },
    {
      "cell_type": "markdown",
      "metadata": {
        "id": "nEbDgqLxEwmH"
      },
      "source": [
        "# Ejercicios de expresiones regulares sobre una secuencia"
      ]
    },
    {
      "cell_type": "markdown",
      "metadata": {
        "id": "mIyYDhWTFbBx"
      },
      "source": [
        "Uilizaremos la secuencia siguiente para los ejercicios.\r\n",
        "Por favor recuerde ejecutar la siguiente celda de código aantes de comenzar a resolver los ejercicios para que tenga la variable **secuencia_ejemplo** definida"
      ]
    },
    {
      "cell_type": "code",
      "metadata": {
        "id": "8F3H-q1QFzfC"
      },
      "source": [
        "secuencia_ejemplo = \"MAALSGGGGGGAEPGQALFNGDMEPEAGAGAGAAASSAADPAIPEEVWNIKQMIKLTQEH\"\r\n",
        "secuencia_ejemplo += \"IEALLDKFGGEHNPPSIYLEAYEEYTSKLDALQQREQQLLESLGNGTDFSVSSSASMDTV\"\r\n",
        "secuencia_ejemplo += \"TSSSSSSLSVLPSSLSVFQNPTDVARSNPKSPQKPIVRVFLPNKQRTVVPARCGVTVRDS\"\r\n",
        "secuencia_ejemplo += \"LKKALMMRGLIPECCAVYRIQDGEKKPIGWDTDISWLTGEELHVEVLENVPLTTHNFVRK\"\r\n",
        "secuencia_ejemplo += \"TFFTLAFCDFCRKLLFQGFRCQTCGYKFHQRCSTEVPLMCVNYDQLDLLFVSKFFEHHPI\"\r\n",
        "secuencia_ejemplo += \"PQEEASLAETALTSGSSPSAPASDSIGPQILTSPSPSKSIPIPQPFRPADEDHRNQFGQR\"\r\n",
        "secuencia_ejemplo += \"DRSSSAPNVHINTIEPVNIDDLIRDQGFRGDGGSTTGLSATPPASLPGSLTNVKALQKSP\"\r\n",
        "secuencia_ejemplo += \"GPQRERKSSSSSEDRNRMKTLGRRDSSDDWEIPDGQITVGQRIGSGSFGTVYKGKWHGDV\"\r\n",
        "secuencia_ejemplo += \"AVKMLNVTAPTPQQLQAFKNEVGVLRKTRHVNILLFMGYSTKPQLAIVTQWCEGSSLYHH\"\r\n",
        "secuencia_ejemplo += \"LHIIETKFEMIKLIDIARQTAQGMDYLHAKSIIHRDLKSNNIFLHEDLTVKIGDFGLATV\"\r\n",
        "secuencia_ejemplo += \"KSRWSGSHQFEQLSGSILWMAPEVIRMQDKNPYSFQSDVYAFGIVLYELMTGQLPYSNIN\"\r\n",
        "secuencia_ejemplo += \"NRDQIIFMVGRGYLSPDLSKVRSNCPKAMKRLMAECLKKKRDERPLFPQILASIELLARS\"\r\n",
        "secuencia_ejemplo += \"LPKIHRSASEPSLNRAGFQTEDFSLYACASPKTPIQAGGYGAFPVH\""
      ],
      "execution_count": 1,
      "outputs": []
    },
    {
      "cell_type": "markdown",
      "metadata": {
        "id": "GXkB6YA7HIGf"
      },
      "source": [
        "**Ejercicio 1**\r\n",
        "\r\n",
        "Si el patrón de 2 aminoácidos AE se encuentra en la secuencia_ejemplo imprimir el rango de aminoácidos correspondientes a la primera ocurrencia del patrón, además imprimir el total de ocurrencias de este patrón en la secuencia.\r\n",
        "\r\n",
        "Sugerencias: \r\n",
        "\r\n",
        "*   testear que exista el patrón\r\n",
        "*   Utilizar función search para buscar el patrón y devolver el rango\r\n",
        "*   Utilizar función findall para buscar todas las coincidencias del patrón\r\n",
        "\r\n",
        "\r\n"
      ]
    },
    {
      "cell_type": "code",
      "metadata": {
        "id": "NjQnqM0-JbNE"
      },
      "source": [
        "#Respuesta al ejercicio 1"
      ],
      "execution_count": 2,
      "outputs": []
    },
    {
      "cell_type": "markdown",
      "metadata": {
        "id": "dwT8zcbbJlOf"
      },
      "source": [
        "**Ejercicio 2**\r\n",
        "\r\n",
        "Buscar el patrón de 2 aminoácidos AE a partir del aminoácido 100 y hasta el 350 y devolver en que posiicón comienza el patrón.\r\n",
        "\r\n",
        "Sugerencias: \r\n",
        "\r\n",
        "*   testear que exista el patrón\r\n",
        "*   Utilizar función search acotando la búsqueda al rango dado para buscar el patrón y devolver el rango"
      ]
    },
    {
      "cell_type": "code",
      "metadata": {
        "id": "wUlX2ImvMpys"
      },
      "source": [
        "#Respuesta al ejercicio 2"
      ],
      "execution_count": 3,
      "outputs": []
    },
    {
      "cell_type": "markdown",
      "metadata": {
        "id": "_QNM7BCYLaeT"
      },
      "source": [
        "**Ejercicio 3**\r\n",
        "\r\n",
        "Buscar el patrón compuesto por un primer aminoácido A luego cualquier aminoácido y luego un aminoácido A y substituirlo por 3 gaps (---). Imprimir la nueva secuencia\r\n",
        "\r\n",
        "Sugerencias: \r\n",
        "\r\n",
        "*   testear que exista el patrón\r\n",
        "*   Utilizar función sub"
      ]
    },
    {
      "cell_type": "code",
      "metadata": {
        "id": "u_7XgyeHLVQw"
      },
      "source": [
        "#Respuesta al ejercicio 3"
      ],
      "execution_count": 4,
      "outputs": []
    },
    {
      "cell_type": "markdown",
      "metadata": {
        "id": "QvIBF0vvMtGb"
      },
      "source": [
        "**Ejercicio 4**\r\n",
        "\r\n",
        "Escriba un patrón capaz de obtener las siguientes coincidencias, patrón que identifica a moléculas que interactúan con MAPK:\r\n",
        "\r\n",
        "*   RKTFFTLAF\r\n",
        "*   RKTRHVNILLF\r\n",
        "\r\n",
        "Sugerencia: Trate de alinear las secuencias y así notar el patrón.\r\n",
        "\r\n",
        "\r\n",
        "\r\n",
        "\r\n"
      ]
    },
    {
      "cell_type": "code",
      "metadata": {
        "id": "UAUXqhTxNXc2"
      },
      "source": [
        "#Respuesta al ejercicio 4"
      ],
      "execution_count": 5,
      "outputs": []
    },
    {
      "cell_type": "markdown",
      "metadata": {
        "id": "3AnDWA5YOf3u"
      },
      "source": [
        "**Ejercicio 5**\r\n",
        "\r\n",
        "Aplique el patrón del **Ejercicio 4** a la secuencia_ejemplo e imprima todas las coincidencias."
      ]
    },
    {
      "cell_type": "code",
      "metadata": {
        "id": "rD1-D2Y6SThF"
      },
      "source": [
        "#Respuesta al ejercicio 5"
      ],
      "execution_count": 6,
      "outputs": []
    },
    {
      "cell_type": "markdown",
      "metadata": {
        "id": "AjQbK2HKOio2"
      },
      "source": [
        "**Ejercicio 6**\r\n",
        "\r\n",
        "Escriba un patrón capaz de reconocer una secuencia compuesta por un aminoácido alifático, seguido de 10-20 aminoácidos cualquieras, y luego otro aminoácido alifático."
      ]
    },
    {
      "cell_type": "code",
      "metadata": {
        "id": "Z-oy9hp-SWdH"
      },
      "source": [
        "#Respuesta al ejercicio 6"
      ],
      "execution_count": 7,
      "outputs": []
    },
    {
      "cell_type": "markdown",
      "metadata": {
        "id": "BdRvQGWId-mu"
      },
      "source": [
        "**Ejercicio 7**\r\n",
        "\r\n",
        "Aplique el patrón del **Ejercicio 6** en la secuencia_ejemplo."
      ]
    },
    {
      "cell_type": "code",
      "metadata": {
        "id": "MD8_JNggeKsX"
      },
      "source": [
        "#Respuesta al ejercicio 7"
      ],
      "execution_count": 8,
      "outputs": []
    },
    {
      "cell_type": "markdown",
      "metadata": {
        "id": "2pKAt4nNnByi"
      },
      "source": [
        "**Ejercicio 8**\r\n",
        "\r\n",
        "Escriba un patrón capaz de reconocer una secuencia compuesta por un aminoácido alifático, seguido de 10-20 aminoácidos cualquieras, y luego el mismo aminoácido alifático reconocido en el patrón."
      ]
    },
    {
      "cell_type": "code",
      "metadata": {
        "id": "91IPiXdvnESk"
      },
      "source": [
        "#Respuesta al ejercicio 8"
      ],
      "execution_count": null,
      "outputs": []
    },
    {
      "cell_type": "markdown",
      "metadata": {
        "id": "-QmyN2V4m6Mp"
      },
      "source": [
        "**Ejercicio 9**\r\n",
        "\r\n",
        "Aplique el patrón del **Ejercicio 8** en la secuencia_ejemplo."
      ]
    },
    {
      "cell_type": "code",
      "metadata": {
        "id": "9J4ZoGjXnD0s"
      },
      "source": [
        "#Respuesta al ejercicio 9"
      ],
      "execution_count": null,
      "outputs": []
    }
  ]
}