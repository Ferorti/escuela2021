{
 "metadata": {
  "language_info": {
   "codemirror_mode": {
    "name": "ipython",
    "version": 3
   },
   "file_extension": ".py",
   "mimetype": "text/x-python",
   "name": "python",
   "nbconvert_exporter": "python",
   "pygments_lexer": "ipython3",
   "version": "3.9.0-final"
  },
  "orig_nbformat": 2,
  "kernelspec": {
   "name": "python3",
   "display_name": "Python 3",
   "language": "python"
  }
 },
 "nbformat": 4,
 "nbformat_minor": 2,
 "cells": [
  {
   "source": [
    "# Trabajo final\n"
   ],
   "cell_type": "markdown",
   "metadata": {}
  },
  {
   "source": [
    "## Ejercicio 0 * - Precalentamiento"
   ],
   "cell_type": "markdown",
   "metadata": {}
  },
  {
   "source": [
    "La desigualdad triangular es un teorema que dice que en todo triángulo la suma de las longitudes de dos lados \n",
    "cualesquiera es siempre mayor a la longitud del lado restante.\n",
    "\n",
    "Es decir, que si tengo un triángulo de lados a, b y c, se tiene que cumplir que:\n",
    "\n",
    "- a + b > c\n",
    "- a + c > b\n",
    "- b + c > a\n",
    "\n",
    "Escribir una función que dados tres valores, diga si cumple o no la desigualdad triangular.\n",
    "\n"
   ],
   "cell_type": "markdown",
   "metadata": {}
  },
  {
   "source": [],
   "cell_type": "code",
   "metadata": {},
   "execution_count": null,
   "outputs": []
  },
  {
   "source": [
    "## Ejercicio 1 *\n",
    "\n",
    "El archivo 'cazymes.tab.gz' contiene datos en formato tabular de un conjunto de proteínas revisadas de interés de algunos organismos modelo:\n",
    "\n",
    "- Homo sapiens\n",
    "- Mus musculus\n",
    "- Arabidopsis thaliana\n",
    "- Rattus norvergicus\n",
    "- Saccharomyces cerevisiae\n",
    "\n",
    "Todas las entradas tienen varios datos, incluyendo el número de acceso y nombre de identificador de la proteína en la base de datos Uniprot, el organimo al que pertenece, la longitud, la secuencia primaria, etc. Llamaremos a este conjunto de datos Cazy.\n",
    "\n",
    "Cargar la tabla de datos como un Data Frame de pandas.\n",
    "Nota: los campos están separados por el caracter de tabulación ('\\t')\n",
    "\n",
    "- Diga cuantas filas y columnas tiene la tabla de datos."
   ],
   "cell_type": "markdown",
   "metadata": {}
  },
  {
   "cell_type": "code",
   "execution_count": 86,
   "metadata": {},
   "outputs": [
    {
     "output_type": "execute_result",
     "data": {
      "text/plain": [
       "    Entry   Entry name    Status  \\\n",
       "0  P38130   KTR3_YEAST  reviewed   \n",
       "1  P15703   BGL2_YEAST  reviewed   \n",
       "2  Q06350   CHI2_YEAST  reviewed   \n",
       "3  P38211  GPI18_YEAST  reviewed   \n",
       "4  P32363   GPI3_YEAST  reviewed   \n",
       "\n",
       "                                       Protein names  \\\n",
       "0     Probable mannosyltransferase KTR3 (EC 2.4.1.-)   \n",
       "1  Glucan 1,3-beta-glucosidase (EC 3.2.1.58) (Exo...   \n",
       "2     Sporulation-specific chitinase 2 (EC 3.2.1.14)   \n",
       "3  GPI mannosyltransferase 2 (EC 2.4.1.-) (GPI ma...   \n",
       "4  Phosphatidylinositol N-acetylglucosaminyltrans...   \n",
       "\n",
       "                                            Organism  Length  \\\n",
       "0  Saccharomyces cerevisiae (strain ATCC 204508 /...     404   \n",
       "1  Saccharomyces cerevisiae (strain ATCC 204508 /...     313   \n",
       "2  Saccharomyces cerevisiae (strain ATCC 204508 /...     511   \n",
       "3  Saccharomyces cerevisiae (strain ATCC 204508 /...     433   \n",
       "4  Saccharomyces cerevisiae (strain ATCC 204508 /...     452   \n",
       "\n",
       "  Gene names  (primary ) Cross-reference (CAZy)  \\\n",
       "0                   KTR3                  GT15;   \n",
       "1                   BGL2                  GH17;   \n",
       "2                   CTS2                  GH18;   \n",
       "3                  GPI18                  GT76;   \n",
       "4                  SPT14                   GT4;   \n",
       "\n",
       "                  Gene ontology (molecular function)  \\\n",
       "0  alpha-1,2-mannosyltransferase activity [GO:000...   \n",
       "1  1,3-beta-glucanosyltransferase activity [GO:00...   \n",
       "2  chitinase activity [GO:0004568]; chitin bindin...   \n",
       "3  alpha-1,6-mannosyltransferase activity [GO:000...   \n",
       "4  phosphatidylinositol N-acetylglucosaminyltrans...   \n",
       "\n",
       "                                   Gene ontology IDs  Organism ID  \\\n",
       "0  GO:0000026; GO:0000030; GO:0000032; GO:0000324...       559292   \n",
       "1  GO:0000324; GO:0004338; GO:0005576; GO:0005975...       559292   \n",
       "2  GO:0000272; GO:0004568; GO:0005576; GO:0005737...       559292   \n",
       "3  GO:0000009; GO:0000030; GO:0004376; GO:0005739...       559292   \n",
       "4  GO:0000506; GO:0005783; GO:0005829; GO:0006506...       559292   \n",
       "\n",
       "                                            Sequence  \n",
       "0  MSVHHKKKLMPKSALLIRKYQKGIRSSFIGLIIVLSFLFFMSGSRS...  \n",
       "1  MRFSTTLATAATALFFTASQVSAIGELAFNLGVKNNDGTCKSTSDY...  \n",
       "2  MVGHSAQHRSKSSLVSHLLILLIFITIIIEMCLYNKIFKNQRSDDI...  \n",
       "3  MIVGLTLYFVLFRSIQYLLVFLTPIRQFDTSTSLLLNELCSSPSEI...  \n",
       "4  MGFNIAMLCDFFYPQLGGVEFHIYHLSQKLIDLGHSVVIITHAYKD...  "
      ],
      "text/html": "<div>\n<style scoped>\n    .dataframe tbody tr th:only-of-type {\n        vertical-align: middle;\n    }\n\n    .dataframe tbody tr th {\n        vertical-align: top;\n    }\n\n    .dataframe thead th {\n        text-align: right;\n    }\n</style>\n<table border=\"1\" class=\"dataframe\">\n  <thead>\n    <tr style=\"text-align: right;\">\n      <th></th>\n      <th>Entry</th>\n      <th>Entry name</th>\n      <th>Status</th>\n      <th>Protein names</th>\n      <th>Organism</th>\n      <th>Length</th>\n      <th>Gene names  (primary )</th>\n      <th>Cross-reference (CAZy)</th>\n      <th>Gene ontology (molecular function)</th>\n      <th>Gene ontology IDs</th>\n      <th>Organism ID</th>\n      <th>Sequence</th>\n    </tr>\n  </thead>\n  <tbody>\n    <tr>\n      <th>0</th>\n      <td>P38130</td>\n      <td>KTR3_YEAST</td>\n      <td>reviewed</td>\n      <td>Probable mannosyltransferase KTR3 (EC 2.4.1.-)</td>\n      <td>Saccharomyces cerevisiae (strain ATCC 204508 /...</td>\n      <td>404</td>\n      <td>KTR3</td>\n      <td>GT15;</td>\n      <td>alpha-1,2-mannosyltransferase activity [GO:000...</td>\n      <td>GO:0000026; GO:0000030; GO:0000032; GO:0000324...</td>\n      <td>559292</td>\n      <td>MSVHHKKKLMPKSALLIRKYQKGIRSSFIGLIIVLSFLFFMSGSRS...</td>\n    </tr>\n    <tr>\n      <th>1</th>\n      <td>P15703</td>\n      <td>BGL2_YEAST</td>\n      <td>reviewed</td>\n      <td>Glucan 1,3-beta-glucosidase (EC 3.2.1.58) (Exo...</td>\n      <td>Saccharomyces cerevisiae (strain ATCC 204508 /...</td>\n      <td>313</td>\n      <td>BGL2</td>\n      <td>GH17;</td>\n      <td>1,3-beta-glucanosyltransferase activity [GO:00...</td>\n      <td>GO:0000324; GO:0004338; GO:0005576; GO:0005975...</td>\n      <td>559292</td>\n      <td>MRFSTTLATAATALFFTASQVSAIGELAFNLGVKNNDGTCKSTSDY...</td>\n    </tr>\n    <tr>\n      <th>2</th>\n      <td>Q06350</td>\n      <td>CHI2_YEAST</td>\n      <td>reviewed</td>\n      <td>Sporulation-specific chitinase 2 (EC 3.2.1.14)</td>\n      <td>Saccharomyces cerevisiae (strain ATCC 204508 /...</td>\n      <td>511</td>\n      <td>CTS2</td>\n      <td>GH18;</td>\n      <td>chitinase activity [GO:0004568]; chitin bindin...</td>\n      <td>GO:0000272; GO:0004568; GO:0005576; GO:0005737...</td>\n      <td>559292</td>\n      <td>MVGHSAQHRSKSSLVSHLLILLIFITIIIEMCLYNKIFKNQRSDDI...</td>\n    </tr>\n    <tr>\n      <th>3</th>\n      <td>P38211</td>\n      <td>GPI18_YEAST</td>\n      <td>reviewed</td>\n      <td>GPI mannosyltransferase 2 (EC 2.4.1.-) (GPI ma...</td>\n      <td>Saccharomyces cerevisiae (strain ATCC 204508 /...</td>\n      <td>433</td>\n      <td>GPI18</td>\n      <td>GT76;</td>\n      <td>alpha-1,6-mannosyltransferase activity [GO:000...</td>\n      <td>GO:0000009; GO:0000030; GO:0004376; GO:0005739...</td>\n      <td>559292</td>\n      <td>MIVGLTLYFVLFRSIQYLLVFLTPIRQFDTSTSLLLNELCSSPSEI...</td>\n    </tr>\n    <tr>\n      <th>4</th>\n      <td>P32363</td>\n      <td>GPI3_YEAST</td>\n      <td>reviewed</td>\n      <td>Phosphatidylinositol N-acetylglucosaminyltrans...</td>\n      <td>Saccharomyces cerevisiae (strain ATCC 204508 /...</td>\n      <td>452</td>\n      <td>SPT14</td>\n      <td>GT4;</td>\n      <td>phosphatidylinositol N-acetylglucosaminyltrans...</td>\n      <td>GO:0000506; GO:0005783; GO:0005829; GO:0006506...</td>\n      <td>559292</td>\n      <td>MGFNIAMLCDFFYPQLGGVEFHIYHLSQKLIDLGHSVVIITHAYKD...</td>\n    </tr>\n  </tbody>\n</table>\n</div>"
     },
     "metadata": {},
     "execution_count": 86
    }
   ],
   "source": [
    "# carga los datos\n",
    "import pandas as pd\n",
    "cazy_url = \"https://github.com/Ferorti/escuela2021/raw/main/cazymes.tab.gz\"\n",
    "cazy = pd.read_csv(cazy_url, sep=\"\\t\", comment='#')\n",
    "cazy.head()\n"
   ]
  },
  {
   "source": [
    "## Ejercicio 2 *\n",
    "\n",
    "Se quiere cambiar el formato de los datos leidos anteriormente.\n",
    "Para ello:\n",
    "- Convierta el nombre de las columnas del Dataframe a minúsculas.\n",
    "- Cambie el formato de la columna 'organism', para que el contenido sea solamente el genero y la especie, separados por un guion bajo ('_'), y todo en minúsculas (por ejemplo, 'homo_sapiens'). Para ello, use expresiones regulares.\n",
    "- Elimine las columnas \"status\" y \"organism id\" del Dataframe.\n",
    "- Cree una nueva columna 'ec number', que contenga el número E.C. de cada proteína. Para ello, debe extraer este dato de la columna ('protein name') del Dataframe usando expresiones regulares.\n",
    "- Diga qué columnas tienen datos faltantes (NaN).\n",
    "  - Hint: Use la el método '.apply' de Dataframe, el método '.isna' de las Series y la función 'any()'.\n",
    "- Elimine las filas que tengan 'NaN' en la columa que corresponde a los nombre de los genes.\n",
    "  - Hint: Use el método '.dropna', con el argumento 'subset'."
   ],
   "cell_type": "markdown",
   "metadata": {}
  },
  {
   "source": [],
   "cell_type": "code",
   "metadata": {},
   "execution_count": null,
   "outputs": []
  },
  {
   "source": [
    "## Ejercicio 3 **\n",
    "\n",
    "- Haga un recuento de la cantidad de proteínas por organismo.\n",
    "- ¿Qué nombres de genes aparecen repetidos en más de una proteína?\n",
    "- ¿Hay algún caso en el que se repita el nombre del gen en proteínas del mismo organismo?\n"
   ],
   "cell_type": "markdown",
   "metadata": {}
  },
  {
   "source": [],
   "cell_type": "code",
   "metadata": {},
   "execution_count": null,
   "outputs": []
  },
  {
   "source": [
    "## Ejercicio 4 *\n",
    "\n",
    "- Genere un subset de las proteínas que corresponda a las proteínas de _Arabidopsis thaliana_ y un tamaño menor a 400 residuos.\n",
    "- ¿Cuál es la longitud promedio de las proteínas de este subset?\n",
    "- ¿Cuál es el rango de tamaños del percentil 5 al percentil 95?\n"
   ],
   "cell_type": "markdown",
   "metadata": {}
  },
  {
   "source": [],
   "cell_type": "code",
   "metadata": {},
   "execution_count": null,
   "outputs": []
  },
  {
   "source": [
    "## Ejercicio 5 ***\n",
    "\n",
    "El archivo ubicado en la URL: \"http://elm.eu.org/elms/elms_index.tsv\", contiene datos de la bases de datos de ELM de motivos lineales en proteínas. El archivo es una tabla, en la cual cada fila es una clase de motivos, y las columnas son diferentes descriptores.\n",
    "Entre ellos está el código de acceso de la clase en la base de datos ('Accession') y otra con una expresión regular que permite reconocer posibles instancias de ese motivo en la secuencia de una proteína ('Regex').\n",
    "\n",
    "Basado en los datos de este archivo, juntos con los de datos de Cazy, construya un nuevo DataFrame que muestre que clases de motivos lineales puede ser encontrado en la secuencia de cada proteína del conjunto Cazy.\n",
    "\n",
    "Este DataFrame debe tener tantas filas como el dataframe del conjunto Cazy y tres columnas:\n",
    "\n",
    "- La primer columna debe tener el número de acceso de Uniprot de la proteína.\n",
    "- La segunda columna debe tener una lista con los códigos de acceso de ELM de cada clase de motivo lineal que fue encontrada en la secuencia de la proteína.\n",
    "- La tercer columna deber contener el tamaño de las lista de la segunda columna.\n"
   ],
   "cell_type": "markdown",
   "metadata": {}
  },
  {
   "cell_type": "code",
   "execution_count": 85,
   "metadata": {},
   "outputs": [
    {
     "output_type": "execute_result",
     "data": {
      "text/plain": [
       "    Accession       ELMIdentifier            FunctionalSiteName  \\\n",
       "0  ELME000321  CLV_C14_Caspase3-7        Caspase cleavage motif   \n",
       "1  ELME000172       CLV_MEL_PAP_1  Melanisation activation site   \n",
       "2  ELME000102       CLV_NRD_NRD_1             NRD cleavage site   \n",
       "3  ELME000101      CLV_PCSK_FUR_1            PCSK cleavage site   \n",
       "4  ELME000108     CLV_PCSK_KEX2_1            PCSK cleavage site   \n",
       "\n",
       "                                         Description  \\\n",
       "0             Caspase-3 and Caspase-7 cleavage site.   \n",
       "1  Prophenoloxidase-activating proteinase (PAP) c...   \n",
       "2  N-Arg dibasic convertase (NRD/Nardilysin) clea...   \n",
       "3       Furin (PACE) cleavage site (R-X-[RK]-R-|-X).   \n",
       "4  Yeast kexin 2 cleavage site (K-R-|-X or R-R-|-X).   \n",
       "\n",
       "                         Regex  Probability  #Instances  #Instances_in_PDB  \n",
       "0  [DSTE][^P][^DEWHFYC]D[GSAN]     0.003094          41                  0  \n",
       "1            [ILV]..R[VF][GS].     0.000105          12                  0  \n",
       "2              (.RK)|(RR[^KR])     0.007465           2                  0  \n",
       "3                     R.[RK]R.     0.000509          13                  0  \n",
       "4                       [KR]R.     0.007973           1                  0  "
      ],
      "text/html": "<div>\n<style scoped>\n    .dataframe tbody tr th:only-of-type {\n        vertical-align: middle;\n    }\n\n    .dataframe tbody tr th {\n        vertical-align: top;\n    }\n\n    .dataframe thead th {\n        text-align: right;\n    }\n</style>\n<table border=\"1\" class=\"dataframe\">\n  <thead>\n    <tr style=\"text-align: right;\">\n      <th></th>\n      <th>Accession</th>\n      <th>ELMIdentifier</th>\n      <th>FunctionalSiteName</th>\n      <th>Description</th>\n      <th>Regex</th>\n      <th>Probability</th>\n      <th>#Instances</th>\n      <th>#Instances_in_PDB</th>\n    </tr>\n  </thead>\n  <tbody>\n    <tr>\n      <th>0</th>\n      <td>ELME000321</td>\n      <td>CLV_C14_Caspase3-7</td>\n      <td>Caspase cleavage motif</td>\n      <td>Caspase-3 and Caspase-7 cleavage site.</td>\n      <td>[DSTE][^P][^DEWHFYC]D[GSAN]</td>\n      <td>0.003094</td>\n      <td>41</td>\n      <td>0</td>\n    </tr>\n    <tr>\n      <th>1</th>\n      <td>ELME000172</td>\n      <td>CLV_MEL_PAP_1</td>\n      <td>Melanisation activation site</td>\n      <td>Prophenoloxidase-activating proteinase (PAP) c...</td>\n      <td>[ILV]..R[VF][GS].</td>\n      <td>0.000105</td>\n      <td>12</td>\n      <td>0</td>\n    </tr>\n    <tr>\n      <th>2</th>\n      <td>ELME000102</td>\n      <td>CLV_NRD_NRD_1</td>\n      <td>NRD cleavage site</td>\n      <td>N-Arg dibasic convertase (NRD/Nardilysin) clea...</td>\n      <td>(.RK)|(RR[^KR])</td>\n      <td>0.007465</td>\n      <td>2</td>\n      <td>0</td>\n    </tr>\n    <tr>\n      <th>3</th>\n      <td>ELME000101</td>\n      <td>CLV_PCSK_FUR_1</td>\n      <td>PCSK cleavage site</td>\n      <td>Furin (PACE) cleavage site (R-X-[RK]-R-|-X).</td>\n      <td>R.[RK]R.</td>\n      <td>0.000509</td>\n      <td>13</td>\n      <td>0</td>\n    </tr>\n    <tr>\n      <th>4</th>\n      <td>ELME000108</td>\n      <td>CLV_PCSK_KEX2_1</td>\n      <td>PCSK cleavage site</td>\n      <td>Yeast kexin 2 cleavage site (K-R-|-X or R-R-|-X).</td>\n      <td>[KR]R.</td>\n      <td>0.007973</td>\n      <td>1</td>\n      <td>0</td>\n    </tr>\n  </tbody>\n</table>\n</div>"
     },
     "metadata": {},
     "execution_count": 85
    }
   ],
   "source": [
    "elm_classes_url = \"http://elm.eu.org/elms/elms_index.tsv\"\n",
    "elm_data = pd.read_csv(elm_classes_url, sep=\"\\t\", comment='#')\n",
    "elm_data.head()"
   ]
  },
  {
   "source": [
    "## Ejercicio 6 *\n",
    "\n",
    "Cree un Dataframe que tenga las tres clases de elm_data, que tengan mayor probabilidad de aparición (Columna 'Probability') del Dataframe, ordenados de mayor a menor.\n"
   ],
   "cell_type": "markdown",
   "metadata": {}
  }
 ]
}