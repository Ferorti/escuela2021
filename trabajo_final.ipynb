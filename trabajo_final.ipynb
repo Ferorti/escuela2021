{
 "metadata": {
  "language_info": {
   "codemirror_mode": {
    "name": "ipython",
    "version": 3
   },
   "file_extension": ".py",
   "mimetype": "text/x-python",
   "name": "python",
   "nbconvert_exporter": "python",
   "pygments_lexer": "ipython3",
   "version": "3.9.2-final"
  },
  "orig_nbformat": 2,
  "kernelspec": {
   "name": "python3",
   "display_name": "Python 3.9.2 64-bit",
   "metadata": {
    "interpreter": {
     "hash": "781e53ef07953b5196b2d16d15776f60f6494556205459ffb584c30f90b985a8"
    }
   }
  }
 },
 "nbformat": 4,
 "nbformat_minor": 2,
 "cells": [
  {
   "source": [
    "### Posible enunciado para trabajo final\n",
    "1. Cargar el dataset 'cazymes.tab.gz'\n",
    "2. Escriba todos los nombres de las columnas en minusculas\n",
    "3. Cuantos organismos hay en el dataset? Reemplace sus nombres por el formato \"Genero_especie\" ultilizando expresiones regulares\n",
    "3. Realice un subset del organismo 'Arabidopsis thaliana'\n",
    "4. Elimine las columnas \"status\" y \"organism id\"\n",
    "6. Utilizando expresiones regulares extraiga el numero EC de la col \"protein name\" y guardelo en una nueva columna \"ec_codigo\"\n",
    "7. Cambie el nombre de la columna \"cross-reference (cazy)\" por \"familia_cazy\"\n",
    "8. Elimine el punto y coma (\";\") en la Serie \"familia_cazy\"\n",
    "9. me faltaria que hagan algo con las secuencias y algo de cuentas o agrupamiento con los grupos de Cazy (GT, GH, PL, etc)\n"
   ],
   "cell_type": "markdown",
   "metadata": {}
  },
  {
   "cell_type": "code",
   "execution_count": 16,
   "metadata": {},
   "outputs": [],
   "source": [
    "import pandas as pd\n",
    "\n",
    "table = pd.read_csv('uniprot-filtered-reviewed_yes.tab.gz', sep='\\t')\n",
    "table = table[table.Organism.isin([\"Homo sapiens (Human)\", \"Mus musculus (Mouse)\", \"Arabidopsis thaliana (Mouse-ear cress)\", \"Rattus norvegicus (Rat)\", \"Saccharomyces cerevisiae (strain ATCC 204508 / S288c) (Baker's yeast)\"])]\n",
    "table = table[(table['Cross-reference (CAZy)'].notnull())]\n",
    "table.to_csv('cazymes.tab.gz', sep='\\t', index=False, compression='gzip')\n",
    "\n"
   ]
  },
  {
   "cell_type": "code",
   "execution_count": 68,
   "metadata": {},
   "outputs": [
    {
     "output_type": "execute_result",
     "data": {
      "text/plain": [
       "    entry   entry name    status  \\\n",
       "0  P38130   KTR3_YEAST  reviewed   \n",
       "1  P15703   BGL2_YEAST  reviewed   \n",
       "2  Q06350   CHI2_YEAST  reviewed   \n",
       "3  P38211  GPI18_YEAST  reviewed   \n",
       "4  P32363   GPI3_YEAST  reviewed   \n",
       "\n",
       "                                       protein names  \\\n",
       "0     Probable mannosyltransferase KTR3 (EC 2.4.1.-)   \n",
       "1  Glucan 1,3-beta-glucosidase (EC 3.2.1.58) (Exo...   \n",
       "2     Sporulation-specific chitinase 2 (EC 3.2.1.14)   \n",
       "3  GPI mannosyltransferase 2 (EC 2.4.1.-) (GPI ma...   \n",
       "4  Phosphatidylinositol N-acetylglucosaminyltrans...   \n",
       "\n",
       "                                            organism  length  \\\n",
       "0  Saccharomyces cerevisiae (strain ATCC 204508 /...     404   \n",
       "1  Saccharomyces cerevisiae (strain ATCC 204508 /...     313   \n",
       "2  Saccharomyces cerevisiae (strain ATCC 204508 /...     511   \n",
       "3  Saccharomyces cerevisiae (strain ATCC 204508 /...     433   \n",
       "4  Saccharomyces cerevisiae (strain ATCC 204508 /...     452   \n",
       "\n",
       "  gene names  (primary ) cross-reference (cazy)  \\\n",
       "0                   KTR3                  GT15;   \n",
       "1                   BGL2                  GH17;   \n",
       "2                   CTS2                  GH18;   \n",
       "3                  GPI18                  GT76;   \n",
       "4                  SPT14                   GT4;   \n",
       "\n",
       "                  gene ontology (molecular function)  \\\n",
       "0  alpha-1,2-mannosyltransferase activity [GO:000...   \n",
       "1  1,3-beta-glucanosyltransferase activity [GO:00...   \n",
       "2  chitinase activity [GO:0004568]; chitin bindin...   \n",
       "3  alpha-1,6-mannosyltransferase activity [GO:000...   \n",
       "4  phosphatidylinositol N-acetylglucosaminyltrans...   \n",
       "\n",
       "                                   gene ontology ids  organism id  \\\n",
       "0  GO:0000026; GO:0000030; GO:0000032; GO:0000324...       559292   \n",
       "1  GO:0000324; GO:0004338; GO:0005576; GO:0005975...       559292   \n",
       "2  GO:0000272; GO:0004568; GO:0005576; GO:0005737...       559292   \n",
       "3  GO:0000009; GO:0000030; GO:0004376; GO:0005739...       559292   \n",
       "4  GO:0000506; GO:0005783; GO:0005829; GO:0006506...       559292   \n",
       "\n",
       "                                            sequence  \n",
       "0  MSVHHKKKLMPKSALLIRKYQKGIRSSFIGLIIVLSFLFFMSGSRS...  \n",
       "1  MRFSTTLATAATALFFTASQVSAIGELAFNLGVKNNDGTCKSTSDY...  \n",
       "2  MVGHSAQHRSKSSLVSHLLILLIFITIIIEMCLYNKIFKNQRSDDI...  \n",
       "3  MIVGLTLYFVLFRSIQYLLVFLTPIRQFDTSTSLLLNELCSSPSEI...  \n",
       "4  MGFNIAMLCDFFYPQLGGVEFHIYHLSQKLIDLGHSVVIITHAYKD...  "
      ],
      "text/html": "<div>\n<style scoped>\n    .dataframe tbody tr th:only-of-type {\n        vertical-align: middle;\n    }\n\n    .dataframe tbody tr th {\n        vertical-align: top;\n    }\n\n    .dataframe thead th {\n        text-align: right;\n    }\n</style>\n<table border=\"1\" class=\"dataframe\">\n  <thead>\n    <tr style=\"text-align: right;\">\n      <th></th>\n      <th>entry</th>\n      <th>entry name</th>\n      <th>status</th>\n      <th>protein names</th>\n      <th>organism</th>\n      <th>length</th>\n      <th>gene names  (primary )</th>\n      <th>cross-reference (cazy)</th>\n      <th>gene ontology (molecular function)</th>\n      <th>gene ontology ids</th>\n      <th>organism id</th>\n      <th>sequence</th>\n    </tr>\n  </thead>\n  <tbody>\n    <tr>\n      <th>0</th>\n      <td>P38130</td>\n      <td>KTR3_YEAST</td>\n      <td>reviewed</td>\n      <td>Probable mannosyltransferase KTR3 (EC 2.4.1.-)</td>\n      <td>Saccharomyces cerevisiae (strain ATCC 204508 /...</td>\n      <td>404</td>\n      <td>KTR3</td>\n      <td>GT15;</td>\n      <td>alpha-1,2-mannosyltransferase activity [GO:000...</td>\n      <td>GO:0000026; GO:0000030; GO:0000032; GO:0000324...</td>\n      <td>559292</td>\n      <td>MSVHHKKKLMPKSALLIRKYQKGIRSSFIGLIIVLSFLFFMSGSRS...</td>\n    </tr>\n    <tr>\n      <th>1</th>\n      <td>P15703</td>\n      <td>BGL2_YEAST</td>\n      <td>reviewed</td>\n      <td>Glucan 1,3-beta-glucosidase (EC 3.2.1.58) (Exo...</td>\n      <td>Saccharomyces cerevisiae (strain ATCC 204508 /...</td>\n      <td>313</td>\n      <td>BGL2</td>\n      <td>GH17;</td>\n      <td>1,3-beta-glucanosyltransferase activity [GO:00...</td>\n      <td>GO:0000324; GO:0004338; GO:0005576; GO:0005975...</td>\n      <td>559292</td>\n      <td>MRFSTTLATAATALFFTASQVSAIGELAFNLGVKNNDGTCKSTSDY...</td>\n    </tr>\n    <tr>\n      <th>2</th>\n      <td>Q06350</td>\n      <td>CHI2_YEAST</td>\n      <td>reviewed</td>\n      <td>Sporulation-specific chitinase 2 (EC 3.2.1.14)</td>\n      <td>Saccharomyces cerevisiae (strain ATCC 204508 /...</td>\n      <td>511</td>\n      <td>CTS2</td>\n      <td>GH18;</td>\n      <td>chitinase activity [GO:0004568]; chitin bindin...</td>\n      <td>GO:0000272; GO:0004568; GO:0005576; GO:0005737...</td>\n      <td>559292</td>\n      <td>MVGHSAQHRSKSSLVSHLLILLIFITIIIEMCLYNKIFKNQRSDDI...</td>\n    </tr>\n    <tr>\n      <th>3</th>\n      <td>P38211</td>\n      <td>GPI18_YEAST</td>\n      <td>reviewed</td>\n      <td>GPI mannosyltransferase 2 (EC 2.4.1.-) (GPI ma...</td>\n      <td>Saccharomyces cerevisiae (strain ATCC 204508 /...</td>\n      <td>433</td>\n      <td>GPI18</td>\n      <td>GT76;</td>\n      <td>alpha-1,6-mannosyltransferase activity [GO:000...</td>\n      <td>GO:0000009; GO:0000030; GO:0004376; GO:0005739...</td>\n      <td>559292</td>\n      <td>MIVGLTLYFVLFRSIQYLLVFLTPIRQFDTSTSLLLNELCSSPSEI...</td>\n    </tr>\n    <tr>\n      <th>4</th>\n      <td>P32363</td>\n      <td>GPI3_YEAST</td>\n      <td>reviewed</td>\n      <td>Phosphatidylinositol N-acetylglucosaminyltrans...</td>\n      <td>Saccharomyces cerevisiae (strain ATCC 204508 /...</td>\n      <td>452</td>\n      <td>SPT14</td>\n      <td>GT4;</td>\n      <td>phosphatidylinositol N-acetylglucosaminyltrans...</td>\n      <td>GO:0000506; GO:0005783; GO:0005829; GO:0006506...</td>\n      <td>559292</td>\n      <td>MGFNIAMLCDFFYPQLGGVEFHIYHLSQKLIDLGHSVVIITHAYKD...</td>\n    </tr>\n  </tbody>\n</table>\n</div>"
     },
     "metadata": {},
     "execution_count": 68
    }
   ],
   "source": [
    "import pandas as pd\n",
    "\n",
    "cazy = pd.read_csv('cazymes.tab.gz', sep='\\t')\n",
    "cazy.columns = cazy.columns.str.lower()\n",
    "cazy.head()"
   ]
  },
  {
   "cell_type": "code",
   "execution_count": 69,
   "metadata": {},
   "outputs": [
    {
     "output_type": "execute_result",
     "data": {
      "text/plain": [
       "Arabidopsis thaliana (Mouse-ear cress)                                   660\n",
       "Homo sapiens (Human)                                                     293\n",
       "Mus musculus (Mouse)                                                     266\n",
       "Rattus norvegicus (Rat)                                                  134\n",
       "Saccharomyces cerevisiae (strain ATCC 204508 / S288c) (Baker's yeast)    125\n",
       "Name: organism, dtype: int64"
      ]
     },
     "metadata": {},
     "execution_count": 69
    }
   ],
   "source": [
    "cazy.organism.value_counts()"
   ]
  },
  {
   "cell_type": "code",
   "execution_count": 71,
   "metadata": {},
   "outputs": [
    {
     "output_type": "execute_result",
     "data": {
      "text/plain": [
       "0       Saccharomyces cerevisiae\n",
       "1       Saccharomyces cerevisiae\n",
       "2       Saccharomyces cerevisiae\n",
       "3       Saccharomyces cerevisiae\n",
       "4       Saccharomyces cerevisiae\n",
       "                  ...           \n",
       "1473        Arabidopsis thaliana\n",
       "1474        Arabidopsis thaliana\n",
       "1475        Arabidopsis thaliana\n",
       "1476        Arabidopsis thaliana\n",
       "1477        Arabidopsis thaliana\n",
       "Name: organism, Length: 1478, dtype: object"
      ]
     },
     "metadata": {},
     "execution_count": 71
    }
   ],
   "source": [
    "patt ='[A-Z]{1}[a-z]+\\s[a-z]+'\n",
    "cazy.organism = cazy.organism.map(lambda x: re.findall(patt, x))\n",
    "cazy.organism = cazy.organism.str[0]\n",
    "cazy.organism"
   ]
  },
  {
   "cell_type": "code",
   "execution_count": 119,
   "metadata": {},
   "outputs": [
    {
     "output_type": "execute_result",
     "data": {
      "text/plain": [
       "0       Saccharomyces_cerevisiae\n",
       "1       Saccharomyces_cerevisiae\n",
       "2       Saccharomyces_cerevisiae\n",
       "3       Saccharomyces_cerevisiae\n",
       "4       Saccharomyces_cerevisiae\n",
       "                  ...           \n",
       "1473        Arabidopsis_thaliana\n",
       "1474        Arabidopsis_thaliana\n",
       "1475        Arabidopsis_thaliana\n",
       "1476        Arabidopsis_thaliana\n",
       "1477        Arabidopsis_thaliana\n",
       "Name: organism, Length: 1478, dtype: object"
      ]
     },
     "metadata": {},
     "execution_count": 119
    }
   ],
   "source": [
    "cazy.organism = cazy.organism.str.replace(' ','_')\n",
    "cazy.organism"
   ]
  },
  {
   "cell_type": "code",
   "execution_count": 120,
   "metadata": {},
   "outputs": [
    {
     "output_type": "execute_result",
     "data": {
      "text/plain": [
       "       entry   entry name    status  \\\n",
       "818   Q9ZSJ0  RGXT2_ARATH  reviewed   \n",
       "819   Q9LZV3   MAN6_ARATH  reviewed   \n",
       "820   Q8LPJ3  MANA2_ARATH  reviewed   \n",
       "821   Q9LW07  PGLR3_ARATH  reviewed   \n",
       "822   Q940Q1   PLY1_ARATH  reviewed   \n",
       "...      ...          ...       ...   \n",
       "1473  Q9SJL9  XTH32_ARATH  reviewed   \n",
       "1474  Q1PEF8   INV2_ARATH  reviewed   \n",
       "1475  B9DFA8   INVC_ARATH  reviewed   \n",
       "1476  Q500W7   PIGM_ARATH  reviewed   \n",
       "1477  Q9LFP5  PLY19_ARATH  reviewed   \n",
       "\n",
       "                                          protein names              organism  \\\n",
       "818   UDP-D-xylose:L-fucose alpha-1,3-D-xylosyltrans...  Arabidopsis_thaliana   \n",
       "819   Mannan endo-1,4-beta-mannosidase 6 (EC 3.2.1.7...  Arabidopsis_thaliana   \n",
       "820   Probable alpha-mannosidase At5g13980 (EC 3.2.1...  Arabidopsis_thaliana   \n",
       "821   Probable polygalacturonase At3g15720 (PG) (EC ...  Arabidopsis_thaliana   \n",
       "822   Probable pectate lyase 1 (EC 4.2.2.2) (Pectate...  Arabidopsis_thaliana   \n",
       "...                                                 ...                   ...   \n",
       "1473  Probable xyloglucan endotransglucosylase/hydro...  Arabidopsis_thaliana   \n",
       "1474  Beta-fructofuranosidase, insoluble isoenzyme C...  Arabidopsis_thaliana   \n",
       "1475  Alkaline/neutral invertase C, mitochondrial (A...  Arabidopsis_thaliana   \n",
       "1476  GPI mannosyltransferase 1 (EC 2.4.1.-) (GPI ma...  Arabidopsis_thaliana   \n",
       "1477             Probable pectate lyase 19 (EC 4.2.2.2)  Arabidopsis_thaliana   \n",
       "\n",
       "      length gene names  (primary ) cross-reference (cazy)  \\\n",
       "818      367                  RGXT2                  GT77;   \n",
       "819      448                   MAN6                   GH5;   \n",
       "820     1024                    NaN                  GH38;   \n",
       "821      456                    NaN                  GH28;   \n",
       "822      431                    NaN                   PL1;   \n",
       "...      ...                    ...                    ...   \n",
       "1473     299                  XTH32                  GH16;   \n",
       "1474     590                 CWINV2                  GH32;   \n",
       "1475     664                   INVC                 GH100;   \n",
       "1476     450                   PIGM                  GT50;   \n",
       "1477     472                    NaN                   PL1;   \n",
       "\n",
       "                     gene ontology (molecular function)  \\\n",
       "818   transferase activity, transferring glycosyl gr...   \n",
       "819   mannan endo-1,4-beta-mannosidase activity [GO:...   \n",
       "820   alpha-mannosidase activity [GO:0004559]; carbo...   \n",
       "821             polygalacturonase activity [GO:0004650]   \n",
       "822   metal ion binding [GO:0046872]; pectate lyase ...   \n",
       "...                                                 ...   \n",
       "1473  hydrolase activity, hydrolyzing O-glycosyl com...   \n",
       "1474      beta-fructofuranosidase activity [GO:0004564]   \n",
       "1475  glycopeptide alpha-N-acetylgalactosaminidase a...   \n",
       "1476  alpha-1,4-mannosyltransferase activity [GO:005...   \n",
       "1477  metal ion binding [GO:0046872]; pectate lyase ...   \n",
       "\n",
       "                                      gene ontology ids  organism id  \\\n",
       "818   GO:0000139; GO:0005794; GO:0010306; GO:0016021...         3702   \n",
       "819      GO:0005576; GO:0009845; GO:0016985; GO:0071704         3702   \n",
       "820   GO:0004559; GO:0005618; GO:0005773; GO:0005774...         3702   \n",
       "821   GO:0004650; GO:0005576; GO:0005975; GO:0009505...         3702   \n",
       "822                  GO:0030570; GO:0045490; GO:0046872         3702   \n",
       "...                                                 ...          ...   \n",
       "1473  GO:0004553; GO:0005618; GO:0010411; GO:0016762...         3702   \n",
       "1474     GO:0004564; GO:0005618; GO:0005975; GO:0048046         3702   \n",
       "1475  GO:0004575; GO:0005739; GO:0005987; GO:0007623...         3702   \n",
       "1476  GO:0000030; GO:0004376; GO:0005789; GO:0006506...         3702   \n",
       "1477                 GO:0030570; GO:0045490; GO:0046872         3702   \n",
       "\n",
       "                                               sequence  \n",
       "818   MAQKQQTLHQQRPFSSSPRSYSSISNRPIFLLSRNGLLLVLLALFL...  \n",
       "819   MKDQLGFRIVLCSAVFIILTQNRALADLDSESHEVNSESVGEEQWE...  \n",
       "820   MDLAKFLCWIVLLLGISLVESRYMVYNTSHTIVPGKLNVHVVPHSH...  \n",
       "821   MKKKTWFLNFSLFFLQIFTSSNALDVTQFGAVGDGVTDDSQAFLKA...  \n",
       "822   MAVLPTWLLAMMCLLFFVGAMENTTHDNISSLPRSDETEWNQHAVT...  \n",
       "...                                                 ...  \n",
       "1473  MGNSLISLLSIFHLLVLWGSSVNAYWPPSPGYWPSSKVGSLNFYKG...  \n",
       "1474  MSAPKFGYVLLLIVLINISNNGVDAFHKVFKKLQSKSTSLESVSPL...  \n",
       "1475  MNSRSCICVSAMKPCCRFLISFRSSSLFGFSPPNSGKFINSSKLHC...  \n",
       "1476  MSRESENTDDEPSKWMKFRSLLVFSMLLRVFLIVYGEWQDAHMEVR...  \n",
       "1477  MEMVRLSKLMFTFCIAVLIPTIRGNISELDEYWSQRADEAREFTLQ...  \n",
       "\n",
       "[660 rows x 12 columns]"
      ],
      "text/html": "<div>\n<style scoped>\n    .dataframe tbody tr th:only-of-type {\n        vertical-align: middle;\n    }\n\n    .dataframe tbody tr th {\n        vertical-align: top;\n    }\n\n    .dataframe thead th {\n        text-align: right;\n    }\n</style>\n<table border=\"1\" class=\"dataframe\">\n  <thead>\n    <tr style=\"text-align: right;\">\n      <th></th>\n      <th>entry</th>\n      <th>entry name</th>\n      <th>status</th>\n      <th>protein names</th>\n      <th>organism</th>\n      <th>length</th>\n      <th>gene names  (primary )</th>\n      <th>cross-reference (cazy)</th>\n      <th>gene ontology (molecular function)</th>\n      <th>gene ontology ids</th>\n      <th>organism id</th>\n      <th>sequence</th>\n    </tr>\n  </thead>\n  <tbody>\n    <tr>\n      <th>818</th>\n      <td>Q9ZSJ0</td>\n      <td>RGXT2_ARATH</td>\n      <td>reviewed</td>\n      <td>UDP-D-xylose:L-fucose alpha-1,3-D-xylosyltrans...</td>\n      <td>Arabidopsis_thaliana</td>\n      <td>367</td>\n      <td>RGXT2</td>\n      <td>GT77;</td>\n      <td>transferase activity, transferring glycosyl gr...</td>\n      <td>GO:0000139; GO:0005794; GO:0010306; GO:0016021...</td>\n      <td>3702</td>\n      <td>MAQKQQTLHQQRPFSSSPRSYSSISNRPIFLLSRNGLLLVLLALFL...</td>\n    </tr>\n    <tr>\n      <th>819</th>\n      <td>Q9LZV3</td>\n      <td>MAN6_ARATH</td>\n      <td>reviewed</td>\n      <td>Mannan endo-1,4-beta-mannosidase 6 (EC 3.2.1.7...</td>\n      <td>Arabidopsis_thaliana</td>\n      <td>448</td>\n      <td>MAN6</td>\n      <td>GH5;</td>\n      <td>mannan endo-1,4-beta-mannosidase activity [GO:...</td>\n      <td>GO:0005576; GO:0009845; GO:0016985; GO:0071704</td>\n      <td>3702</td>\n      <td>MKDQLGFRIVLCSAVFIILTQNRALADLDSESHEVNSESVGEEQWE...</td>\n    </tr>\n    <tr>\n      <th>820</th>\n      <td>Q8LPJ3</td>\n      <td>MANA2_ARATH</td>\n      <td>reviewed</td>\n      <td>Probable alpha-mannosidase At5g13980 (EC 3.2.1...</td>\n      <td>Arabidopsis_thaliana</td>\n      <td>1024</td>\n      <td>NaN</td>\n      <td>GH38;</td>\n      <td>alpha-mannosidase activity [GO:0004559]; carbo...</td>\n      <td>GO:0004559; GO:0005618; GO:0005773; GO:0005774...</td>\n      <td>3702</td>\n      <td>MDLAKFLCWIVLLLGISLVESRYMVYNTSHTIVPGKLNVHVVPHSH...</td>\n    </tr>\n    <tr>\n      <th>821</th>\n      <td>Q9LW07</td>\n      <td>PGLR3_ARATH</td>\n      <td>reviewed</td>\n      <td>Probable polygalacturonase At3g15720 (PG) (EC ...</td>\n      <td>Arabidopsis_thaliana</td>\n      <td>456</td>\n      <td>NaN</td>\n      <td>GH28;</td>\n      <td>polygalacturonase activity [GO:0004650]</td>\n      <td>GO:0004650; GO:0005576; GO:0005975; GO:0009505...</td>\n      <td>3702</td>\n      <td>MKKKTWFLNFSLFFLQIFTSSNALDVTQFGAVGDGVTDDSQAFLKA...</td>\n    </tr>\n    <tr>\n      <th>822</th>\n      <td>Q940Q1</td>\n      <td>PLY1_ARATH</td>\n      <td>reviewed</td>\n      <td>Probable pectate lyase 1 (EC 4.2.2.2) (Pectate...</td>\n      <td>Arabidopsis_thaliana</td>\n      <td>431</td>\n      <td>NaN</td>\n      <td>PL1;</td>\n      <td>metal ion binding [GO:0046872]; pectate lyase ...</td>\n      <td>GO:0030570; GO:0045490; GO:0046872</td>\n      <td>3702</td>\n      <td>MAVLPTWLLAMMCLLFFVGAMENTTHDNISSLPRSDETEWNQHAVT...</td>\n    </tr>\n    <tr>\n      <th>...</th>\n      <td>...</td>\n      <td>...</td>\n      <td>...</td>\n      <td>...</td>\n      <td>...</td>\n      <td>...</td>\n      <td>...</td>\n      <td>...</td>\n      <td>...</td>\n      <td>...</td>\n      <td>...</td>\n      <td>...</td>\n    </tr>\n    <tr>\n      <th>1473</th>\n      <td>Q9SJL9</td>\n      <td>XTH32_ARATH</td>\n      <td>reviewed</td>\n      <td>Probable xyloglucan endotransglucosylase/hydro...</td>\n      <td>Arabidopsis_thaliana</td>\n      <td>299</td>\n      <td>XTH32</td>\n      <td>GH16;</td>\n      <td>hydrolase activity, hydrolyzing O-glycosyl com...</td>\n      <td>GO:0004553; GO:0005618; GO:0010411; GO:0016762...</td>\n      <td>3702</td>\n      <td>MGNSLISLLSIFHLLVLWGSSVNAYWPPSPGYWPSSKVGSLNFYKG...</td>\n    </tr>\n    <tr>\n      <th>1474</th>\n      <td>Q1PEF8</td>\n      <td>INV2_ARATH</td>\n      <td>reviewed</td>\n      <td>Beta-fructofuranosidase, insoluble isoenzyme C...</td>\n      <td>Arabidopsis_thaliana</td>\n      <td>590</td>\n      <td>CWINV2</td>\n      <td>GH32;</td>\n      <td>beta-fructofuranosidase activity [GO:0004564]</td>\n      <td>GO:0004564; GO:0005618; GO:0005975; GO:0048046</td>\n      <td>3702</td>\n      <td>MSAPKFGYVLLLIVLINISNNGVDAFHKVFKKLQSKSTSLESVSPL...</td>\n    </tr>\n    <tr>\n      <th>1475</th>\n      <td>B9DFA8</td>\n      <td>INVC_ARATH</td>\n      <td>reviewed</td>\n      <td>Alkaline/neutral invertase C, mitochondrial (A...</td>\n      <td>Arabidopsis_thaliana</td>\n      <td>664</td>\n      <td>INVC</td>\n      <td>GH100;</td>\n      <td>glycopeptide alpha-N-acetylgalactosaminidase a...</td>\n      <td>GO:0004575; GO:0005739; GO:0005987; GO:0007623...</td>\n      <td>3702</td>\n      <td>MNSRSCICVSAMKPCCRFLISFRSSSLFGFSPPNSGKFINSSKLHC...</td>\n    </tr>\n    <tr>\n      <th>1476</th>\n      <td>Q500W7</td>\n      <td>PIGM_ARATH</td>\n      <td>reviewed</td>\n      <td>GPI mannosyltransferase 1 (EC 2.4.1.-) (GPI ma...</td>\n      <td>Arabidopsis_thaliana</td>\n      <td>450</td>\n      <td>PIGM</td>\n      <td>GT50;</td>\n      <td>alpha-1,4-mannosyltransferase activity [GO:005...</td>\n      <td>GO:0000030; GO:0004376; GO:0005789; GO:0006506...</td>\n      <td>3702</td>\n      <td>MSRESENTDDEPSKWMKFRSLLVFSMLLRVFLIVYGEWQDAHMEVR...</td>\n    </tr>\n    <tr>\n      <th>1477</th>\n      <td>Q9LFP5</td>\n      <td>PLY19_ARATH</td>\n      <td>reviewed</td>\n      <td>Probable pectate lyase 19 (EC 4.2.2.2)</td>\n      <td>Arabidopsis_thaliana</td>\n      <td>472</td>\n      <td>NaN</td>\n      <td>PL1;</td>\n      <td>metal ion binding [GO:0046872]; pectate lyase ...</td>\n      <td>GO:0030570; GO:0045490; GO:0046872</td>\n      <td>3702</td>\n      <td>MEMVRLSKLMFTFCIAVLIPTIRGNISELDEYWSQRADEAREFTLQ...</td>\n    </tr>\n  </tbody>\n</table>\n<p>660 rows × 12 columns</p>\n</div>"
     },
     "metadata": {},
     "execution_count": 120
    }
   ],
   "source": [
    "at = cazy[cazy.organism == 'Arabidopsis_thaliana']\n",
    "at"
   ]
  },
  {
   "cell_type": "code",
   "execution_count": 121,
   "metadata": {},
   "outputs": [
    {
     "output_type": "execute_result",
     "data": {
      "text/plain": [
       "      entry   entry name                                      protein names  \\\n",
       "818  Q9ZSJ0  RGXT2_ARATH  UDP-D-xylose:L-fucose alpha-1,3-D-xylosyltrans...   \n",
       "819  Q9LZV3   MAN6_ARATH  Mannan endo-1,4-beta-mannosidase 6 (EC 3.2.1.7...   \n",
       "820  Q8LPJ3  MANA2_ARATH  Probable alpha-mannosidase At5g13980 (EC 3.2.1...   \n",
       "821  Q9LW07  PGLR3_ARATH  Probable polygalacturonase At3g15720 (PG) (EC ...   \n",
       "822  Q940Q1   PLY1_ARATH  Probable pectate lyase 1 (EC 4.2.2.2) (Pectate...   \n",
       "\n",
       "                 organism  length gene names  (primary )  \\\n",
       "818  Arabidopsis_thaliana     367                  RGXT2   \n",
       "819  Arabidopsis_thaliana     448                   MAN6   \n",
       "820  Arabidopsis_thaliana    1024                    NaN   \n",
       "821  Arabidopsis_thaliana     456                    NaN   \n",
       "822  Arabidopsis_thaliana     431                    NaN   \n",
       "\n",
       "    cross-reference (cazy)                 gene ontology (molecular function)  \\\n",
       "818                  GT77;  transferase activity, transferring glycosyl gr...   \n",
       "819                   GH5;  mannan endo-1,4-beta-mannosidase activity [GO:...   \n",
       "820                  GH38;  alpha-mannosidase activity [GO:0004559]; carbo...   \n",
       "821                  GH28;            polygalacturonase activity [GO:0004650]   \n",
       "822                   PL1;  metal ion binding [GO:0046872]; pectate lyase ...   \n",
       "\n",
       "                                     gene ontology ids  \\\n",
       "818  GO:0000139; GO:0005794; GO:0010306; GO:0016021...   \n",
       "819     GO:0005576; GO:0009845; GO:0016985; GO:0071704   \n",
       "820  GO:0004559; GO:0005618; GO:0005773; GO:0005774...   \n",
       "821  GO:0004650; GO:0005576; GO:0005975; GO:0009505...   \n",
       "822                 GO:0030570; GO:0045490; GO:0046872   \n",
       "\n",
       "                                              sequence  \n",
       "818  MAQKQQTLHQQRPFSSSPRSYSSISNRPIFLLSRNGLLLVLLALFL...  \n",
       "819  MKDQLGFRIVLCSAVFIILTQNRALADLDSESHEVNSESVGEEQWE...  \n",
       "820  MDLAKFLCWIVLLLGISLVESRYMVYNTSHTIVPGKLNVHVVPHSH...  \n",
       "821  MKKKTWFLNFSLFFLQIFTSSNALDVTQFGAVGDGVTDDSQAFLKA...  \n",
       "822  MAVLPTWLLAMMCLLFFVGAMENTTHDNISSLPRSDETEWNQHAVT...  "
      ],
      "text/html": "<div>\n<style scoped>\n    .dataframe tbody tr th:only-of-type {\n        vertical-align: middle;\n    }\n\n    .dataframe tbody tr th {\n        vertical-align: top;\n    }\n\n    .dataframe thead th {\n        text-align: right;\n    }\n</style>\n<table border=\"1\" class=\"dataframe\">\n  <thead>\n    <tr style=\"text-align: right;\">\n      <th></th>\n      <th>entry</th>\n      <th>entry name</th>\n      <th>protein names</th>\n      <th>organism</th>\n      <th>length</th>\n      <th>gene names  (primary )</th>\n      <th>cross-reference (cazy)</th>\n      <th>gene ontology (molecular function)</th>\n      <th>gene ontology ids</th>\n      <th>sequence</th>\n    </tr>\n  </thead>\n  <tbody>\n    <tr>\n      <th>818</th>\n      <td>Q9ZSJ0</td>\n      <td>RGXT2_ARATH</td>\n      <td>UDP-D-xylose:L-fucose alpha-1,3-D-xylosyltrans...</td>\n      <td>Arabidopsis_thaliana</td>\n      <td>367</td>\n      <td>RGXT2</td>\n      <td>GT77;</td>\n      <td>transferase activity, transferring glycosyl gr...</td>\n      <td>GO:0000139; GO:0005794; GO:0010306; GO:0016021...</td>\n      <td>MAQKQQTLHQQRPFSSSPRSYSSISNRPIFLLSRNGLLLVLLALFL...</td>\n    </tr>\n    <tr>\n      <th>819</th>\n      <td>Q9LZV3</td>\n      <td>MAN6_ARATH</td>\n      <td>Mannan endo-1,4-beta-mannosidase 6 (EC 3.2.1.7...</td>\n      <td>Arabidopsis_thaliana</td>\n      <td>448</td>\n      <td>MAN6</td>\n      <td>GH5;</td>\n      <td>mannan endo-1,4-beta-mannosidase activity [GO:...</td>\n      <td>GO:0005576; GO:0009845; GO:0016985; GO:0071704</td>\n      <td>MKDQLGFRIVLCSAVFIILTQNRALADLDSESHEVNSESVGEEQWE...</td>\n    </tr>\n    <tr>\n      <th>820</th>\n      <td>Q8LPJ3</td>\n      <td>MANA2_ARATH</td>\n      <td>Probable alpha-mannosidase At5g13980 (EC 3.2.1...</td>\n      <td>Arabidopsis_thaliana</td>\n      <td>1024</td>\n      <td>NaN</td>\n      <td>GH38;</td>\n      <td>alpha-mannosidase activity [GO:0004559]; carbo...</td>\n      <td>GO:0004559; GO:0005618; GO:0005773; GO:0005774...</td>\n      <td>MDLAKFLCWIVLLLGISLVESRYMVYNTSHTIVPGKLNVHVVPHSH...</td>\n    </tr>\n    <tr>\n      <th>821</th>\n      <td>Q9LW07</td>\n      <td>PGLR3_ARATH</td>\n      <td>Probable polygalacturonase At3g15720 (PG) (EC ...</td>\n      <td>Arabidopsis_thaliana</td>\n      <td>456</td>\n      <td>NaN</td>\n      <td>GH28;</td>\n      <td>polygalacturonase activity [GO:0004650]</td>\n      <td>GO:0004650; GO:0005576; GO:0005975; GO:0009505...</td>\n      <td>MKKKTWFLNFSLFFLQIFTSSNALDVTQFGAVGDGVTDDSQAFLKA...</td>\n    </tr>\n    <tr>\n      <th>822</th>\n      <td>Q940Q1</td>\n      <td>PLY1_ARATH</td>\n      <td>Probable pectate lyase 1 (EC 4.2.2.2) (Pectate...</td>\n      <td>Arabidopsis_thaliana</td>\n      <td>431</td>\n      <td>NaN</td>\n      <td>PL1;</td>\n      <td>metal ion binding [GO:0046872]; pectate lyase ...</td>\n      <td>GO:0030570; GO:0045490; GO:0046872</td>\n      <td>MAVLPTWLLAMMCLLFFVGAMENTTHDNISSLPRSDETEWNQHAVT...</td>\n    </tr>\n  </tbody>\n</table>\n</div>"
     },
     "metadata": {},
     "execution_count": 121
    }
   ],
   "source": [
    "at = at.drop(columns=['status', 'organism id'])\n",
    "at.head()"
   ]
  },
  {
   "cell_type": "code",
   "execution_count": 102,
   "metadata": {},
   "outputs": [
    {
     "output_type": "execute_result",
     "data": {
      "text/plain": [
       "818     [EC 2.4.]\n",
       "819     [EC 3.2.]\n",
       "820     [EC 3.2.]\n",
       "821     [EC 3.2.]\n",
       "822     [EC 4.2.]\n",
       "          ...    \n",
       "1473    [EC 2.4.]\n",
       "1474    [EC 3.2.]\n",
       "1475    [EC 3.2.]\n",
       "1476    [EC 2.4.]\n",
       "1477    [EC 4.2.]\n",
       "Name: protein names, Length: 660, dtype: object"
      ]
     },
     "metadata": {},
     "execution_count": 102
    }
   ],
   "source": [
    "patt2 ='EC\\s[1-9]\\.[1-9]\\.'\n",
    "at['protein names'].map(lambda x: re.findall(patt2, x))\n"
   ]
  },
  {
   "cell_type": "code",
   "execution_count": 108,
   "metadata": {},
   "outputs": [
    {
     "output_type": "execute_result",
     "data": {
      "text/plain": [
       "Index(['entry', 'entry name', 'protein names', 'organism', 'length',\n",
       "       'gene names  (primary )', 'familia_cazy',\n",
       "       'gene ontology (molecular function)', 'gene ontology ids', 'sequence'],\n",
       "      dtype='object')"
      ]
     },
     "metadata": {},
     "execution_count": 108
    }
   ],
   "source": [
    "at = at.rename(columns={\"cross-reference (cazy)\": \"familia_cazy\"})\n",
    "at.columns"
   ]
  },
  {
   "cell_type": "code",
   "execution_count": 113,
   "metadata": {},
   "outputs": [
    {
     "output_type": "execute_result",
     "data": {
      "text/plain": [
       "818      GT77\n",
       "819       GH5\n",
       "820      GH38\n",
       "821      GH28\n",
       "822       PL1\n",
       "        ...  \n",
       "1473     GH16\n",
       "1474     GH32\n",
       "1475    GH100\n",
       "1476     GT50\n",
       "1477      PL1\n",
       "Name: familia_cazy, Length: 660, dtype: object"
      ]
     },
     "metadata": {},
     "execution_count": 113
    }
   ],
   "source": [
    "at.familia_cazy = at.familia_cazy.str.strip(';')\n",
    "at.familia_cazy"
   ]
  },
  {
   "cell_type": "code",
   "execution_count": 30,
   "metadata": {},
   "outputs": [
    {
     "output_type": "execute_result",
     "data": {
      "text/plain": [
       "'NISELDEYWSQRADEAREFTLQAYHSDPYEIVDHFHERHYDNSTDVTTPEEDGDAKPEEEEKEFIEMLGSSTNSTRRSL'"
      ]
     },
     "metadata": {},
     "execution_count": 30
    }
   ],
   "source": [
    "# Aca pensaba es darles un dominio y que lo busquen, pero no estoy muy seguro si esta correcto esto\n",
    "# Dominio pectato liasa N: 25 - 103\n",
    "at.Sequence[542151][24:103]"
   ]
  },
  {
   "cell_type": "code",
   "execution_count": 33,
   "metadata": {},
   "outputs": [
    {
     "output_type": "execute_result",
     "data": {
      "text/plain": [
       "'NISELDEYWSQRADEAREFTLQAYHSDPYEIVDHFHERHYDNSTDVTTPEEDGDAKPEEEEKEFIEMLGSSTNSTRRSL'"
      ]
     },
     "metadata": {},
     "execution_count": 33
    }
   ],
   "source": [
    "import re\n",
    "regex1 = re.compile('NISELDEYWSQRADEAREFTLQAYHSDPYEIVDHFHERHYDNSTDVTTPEEDGDAKPEEEEKEFIEMLGSSTNSTRRSL', re.IGNORECASE)\n",
    "match = regex1.search(at.Sequence[542151][24:103])\n",
    "match.group()"
   ]
  },
  {
   "cell_type": "code",
   "execution_count": 43,
   "metadata": {},
   "outputs": [
    {
     "output_type": "execute_result",
     "data": {
      "text/plain": [
       "818                                                  None\n",
       "819                                                  None\n",
       "820                                                  None\n",
       "821                                                  None\n",
       "822                                                  None\n",
       "                              ...                        \n",
       "1473                                                 None\n",
       "1474                                                 None\n",
       "1475                                                 None\n",
       "1476                                                 None\n",
       "1477    <re.Match object; span=(24, 103), match='NISEL...\n",
       "Name: sequence, Length: 660, dtype: object"
      ]
     },
     "metadata": {},
     "execution_count": 43
    }
   ],
   "source": [
    "at.sequence.map(lambda x: regex1.search(x))"
   ]
  },
  {
   "cell_type": "code",
   "execution_count": 114,
   "metadata": {},
   "outputs": [
    {
     "output_type": "execute_result",
     "data": {
      "text/plain": [
       "GT1           110\n",
       "GH1            48\n",
       "GT2            41\n",
       "GT8            41\n",
       "GH16           33\n",
       "             ... \n",
       "CBM53;GT5       1\n",
       "GT58            1\n",
       "CBM45;GH13      1\n",
       "CBM20           1\n",
       "GT19            1\n",
       "Name: familia_cazy, Length: 80, dtype: int64"
      ]
     },
     "metadata": {},
     "execution_count": 114
    }
   ],
   "source": [
    "at['familia_cazy'].value_counts()"
   ]
  },
  {
   "cell_type": "code",
   "execution_count": null,
   "metadata": {},
   "outputs": [],
   "source": []
  }
 ]
}