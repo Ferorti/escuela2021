{
 "metadata": {
  "language_info": {
   "codemirror_mode": {
    "name": "ipython",
    "version": 3
   },
   "file_extension": ".py",
   "mimetype": "text/x-python",
   "name": "python",
   "nbconvert_exporter": "python",
   "pygments_lexer": "ipython3",
   "version": "3.9.0-final"
  },
  "orig_nbformat": 2,
  "kernelspec": {
   "name": "python3",
   "display_name": "Python 3",
   "language": "python"
  }
 },
 "nbformat": 4,
 "nbformat_minor": 2,
 "cells": [
  {
   "source": [
    "# Trabajo final\n"
   ],
   "cell_type": "markdown",
   "metadata": {}
  },
  {
   "source": [
    "## Ejercicio 0 * - Precalentamiento"
   ],
   "cell_type": "markdown",
   "metadata": {}
  },
  {
   "source": [
    "La desigualdad triangular es un teorema que dice que en todo triángulo la suma de las longitudes de dos lados \n",
    "cualesquiera es siempre mayor a la longitud del lado restante.\n",
    "\n",
    "Es decir, que si tengo un triángulo de lados a, b y c, se tiene que cumplir que:\n",
    "\n",
    "- a + b > c\n",
    "- a + c > b\n",
    "- b + c > a\n",
    "\n",
    "Escribir una función que dados tres valores, diga si cumple o no la desigualdad triangular.\n",
    "\n"
   ],
   "cell_type": "markdown",
   "metadata": {}
  },
  {
   "cell_type": "code",
   "execution_count": null,
   "metadata": {},
   "outputs": [],
   "source": []
  },
  {
   "source": [
    "## Ejercicio 1 *\n",
    "\n",
    "El archivo 'cazymes.tab.gz' contiene datos en formato tabular de un conjunto de proteínas revisadas de interés de algunos organismos modelo:\n",
    "\n",
    "- Homo sapiens\n",
    "- Mus musculus\n",
    "- Arabidopsis thaliana\n",
    "- Rattus norvergicus\n",
    "- Saccharomyces cerevisiae\n",
    "\n",
    "Todas las entradas tienen varios datos, incluyendo el número de acceso y nombre de identificador de la proteína en la base de datos Uniprot, el organimo al que pertenece, la longitud, la secuencia primaria, etc. Llamaremos a este conjunto de datos Cazy.\n",
    "\n",
    "Cargar la tabla de datos como un Data Frame de pandas.\n",
    "Nota: los campos están separados por el caracter de tabulación ('\\t')\n",
    "\n",
    "Diga cuantas filas y columnas tiene la tabla de datos."
   ],
   "cell_type": "markdown",
   "metadata": {}
  },
  {
   "cell_type": "code",
   "execution_count": 219,
   "metadata": {},
   "outputs": [
    {
     "output_type": "execute_result",
     "data": {
      "text/plain": [
       "    Entry   Entry name    Status  \\\n",
       "0  P38130   KTR3_YEAST  reviewed   \n",
       "1  P15703   BGL2_YEAST  reviewed   \n",
       "2  Q06350   CHI2_YEAST  reviewed   \n",
       "3  P38211  GPI18_YEAST  reviewed   \n",
       "4  P32363   GPI3_YEAST  reviewed   \n",
       "\n",
       "                                       Protein names  \\\n",
       "0     Probable mannosyltransferase KTR3 (EC 2.4.1.-)   \n",
       "1  Glucan 1,3-beta-glucosidase (EC 3.2.1.58) (Exo...   \n",
       "2     Sporulation-specific chitinase 2 (EC 3.2.1.14)   \n",
       "3  GPI mannosyltransferase 2 (EC 2.4.1.-) (GPI ma...   \n",
       "4  Phosphatidylinositol N-acetylglucosaminyltrans...   \n",
       "\n",
       "                                            Organism  Length  \\\n",
       "0  Saccharomyces cerevisiae (strain ATCC 204508 /...     404   \n",
       "1  Saccharomyces cerevisiae (strain ATCC 204508 /...     313   \n",
       "2  Saccharomyces cerevisiae (strain ATCC 204508 /...     511   \n",
       "3  Saccharomyces cerevisiae (strain ATCC 204508 /...     433   \n",
       "4  Saccharomyces cerevisiae (strain ATCC 204508 /...     452   \n",
       "\n",
       "  Gene names  (primary ) Cross-reference (CAZy)  \\\n",
       "0                   KTR3                  GT15;   \n",
       "1                   BGL2                  GH17;   \n",
       "2                   CTS2                  GH18;   \n",
       "3                  GPI18                  GT76;   \n",
       "4                  SPT14                   GT4;   \n",
       "\n",
       "                  Gene ontology (molecular function)  \\\n",
       "0  alpha-1,2-mannosyltransferase activity [GO:000...   \n",
       "1  1,3-beta-glucanosyltransferase activity [GO:00...   \n",
       "2  chitinase activity [GO:0004568]; chitin bindin...   \n",
       "3  alpha-1,6-mannosyltransferase activity [GO:000...   \n",
       "4  phosphatidylinositol N-acetylglucosaminyltrans...   \n",
       "\n",
       "                                   Gene ontology IDs  Organism ID  \\\n",
       "0  GO:0000026; GO:0000030; GO:0000032; GO:0000324...       559292   \n",
       "1  GO:0000324; GO:0004338; GO:0005576; GO:0005975...       559292   \n",
       "2  GO:0000272; GO:0004568; GO:0005576; GO:0005737...       559292   \n",
       "3  GO:0000009; GO:0000030; GO:0004376; GO:0005739...       559292   \n",
       "4  GO:0000506; GO:0005783; GO:0005829; GO:0006506...       559292   \n",
       "\n",
       "                                            Sequence  \n",
       "0  MSVHHKKKLMPKSALLIRKYQKGIRSSFIGLIIVLSFLFFMSGSRS...  \n",
       "1  MRFSTTLATAATALFFTASQVSAIGELAFNLGVKNNDGTCKSTSDY...  \n",
       "2  MVGHSAQHRSKSSLVSHLLILLIFITIIIEMCLYNKIFKNQRSDDI...  \n",
       "3  MIVGLTLYFVLFRSIQYLLVFLTPIRQFDTSTSLLLNELCSSPSEI...  \n",
       "4  MGFNIAMLCDFFYPQLGGVEFHIYHLSQKLIDLGHSVVIITHAYKD...  "
      ],
      "text/html": "<div>\n<style scoped>\n    .dataframe tbody tr th:only-of-type {\n        vertical-align: middle;\n    }\n\n    .dataframe tbody tr th {\n        vertical-align: top;\n    }\n\n    .dataframe thead th {\n        text-align: right;\n    }\n</style>\n<table border=\"1\" class=\"dataframe\">\n  <thead>\n    <tr style=\"text-align: right;\">\n      <th></th>\n      <th>Entry</th>\n      <th>Entry name</th>\n      <th>Status</th>\n      <th>Protein names</th>\n      <th>Organism</th>\n      <th>Length</th>\n      <th>Gene names  (primary )</th>\n      <th>Cross-reference (CAZy)</th>\n      <th>Gene ontology (molecular function)</th>\n      <th>Gene ontology IDs</th>\n      <th>Organism ID</th>\n      <th>Sequence</th>\n    </tr>\n  </thead>\n  <tbody>\n    <tr>\n      <th>0</th>\n      <td>P38130</td>\n      <td>KTR3_YEAST</td>\n      <td>reviewed</td>\n      <td>Probable mannosyltransferase KTR3 (EC 2.4.1.-)</td>\n      <td>Saccharomyces cerevisiae (strain ATCC 204508 /...</td>\n      <td>404</td>\n      <td>KTR3</td>\n      <td>GT15;</td>\n      <td>alpha-1,2-mannosyltransferase activity [GO:000...</td>\n      <td>GO:0000026; GO:0000030; GO:0000032; GO:0000324...</td>\n      <td>559292</td>\n      <td>MSVHHKKKLMPKSALLIRKYQKGIRSSFIGLIIVLSFLFFMSGSRS...</td>\n    </tr>\n    <tr>\n      <th>1</th>\n      <td>P15703</td>\n      <td>BGL2_YEAST</td>\n      <td>reviewed</td>\n      <td>Glucan 1,3-beta-glucosidase (EC 3.2.1.58) (Exo...</td>\n      <td>Saccharomyces cerevisiae (strain ATCC 204508 /...</td>\n      <td>313</td>\n      <td>BGL2</td>\n      <td>GH17;</td>\n      <td>1,3-beta-glucanosyltransferase activity [GO:00...</td>\n      <td>GO:0000324; GO:0004338; GO:0005576; GO:0005975...</td>\n      <td>559292</td>\n      <td>MRFSTTLATAATALFFTASQVSAIGELAFNLGVKNNDGTCKSTSDY...</td>\n    </tr>\n    <tr>\n      <th>2</th>\n      <td>Q06350</td>\n      <td>CHI2_YEAST</td>\n      <td>reviewed</td>\n      <td>Sporulation-specific chitinase 2 (EC 3.2.1.14)</td>\n      <td>Saccharomyces cerevisiae (strain ATCC 204508 /...</td>\n      <td>511</td>\n      <td>CTS2</td>\n      <td>GH18;</td>\n      <td>chitinase activity [GO:0004568]; chitin bindin...</td>\n      <td>GO:0000272; GO:0004568; GO:0005576; GO:0005737...</td>\n      <td>559292</td>\n      <td>MVGHSAQHRSKSSLVSHLLILLIFITIIIEMCLYNKIFKNQRSDDI...</td>\n    </tr>\n    <tr>\n      <th>3</th>\n      <td>P38211</td>\n      <td>GPI18_YEAST</td>\n      <td>reviewed</td>\n      <td>GPI mannosyltransferase 2 (EC 2.4.1.-) (GPI ma...</td>\n      <td>Saccharomyces cerevisiae (strain ATCC 204508 /...</td>\n      <td>433</td>\n      <td>GPI18</td>\n      <td>GT76;</td>\n      <td>alpha-1,6-mannosyltransferase activity [GO:000...</td>\n      <td>GO:0000009; GO:0000030; GO:0004376; GO:0005739...</td>\n      <td>559292</td>\n      <td>MIVGLTLYFVLFRSIQYLLVFLTPIRQFDTSTSLLLNELCSSPSEI...</td>\n    </tr>\n    <tr>\n      <th>4</th>\n      <td>P32363</td>\n      <td>GPI3_YEAST</td>\n      <td>reviewed</td>\n      <td>Phosphatidylinositol N-acetylglucosaminyltrans...</td>\n      <td>Saccharomyces cerevisiae (strain ATCC 204508 /...</td>\n      <td>452</td>\n      <td>SPT14</td>\n      <td>GT4;</td>\n      <td>phosphatidylinositol N-acetylglucosaminyltrans...</td>\n      <td>GO:0000506; GO:0005783; GO:0005829; GO:0006506...</td>\n      <td>559292</td>\n      <td>MGFNIAMLCDFFYPQLGGVEFHIYHLSQKLIDLGHSVVIITHAYKD...</td>\n    </tr>\n  </tbody>\n</table>\n</div>"
     },
     "metadata": {},
     "execution_count": 219
    }
   ],
   "source": [
    "cazy_url = \"https://github.com/Ferorti/escuela2021/raw/main/cazymes.tab.gz\"\n",
    "cazy_url = pd.read_csv(cazy_url, sep=\"\\t\", comment='#')\n",
    "cazy_url.head()\n"
   ]
  },
  {
   "source": [
    "## Ejercicio 2 *\n",
    "\n",
    "Se quiere cambiar el formato de los datos leidos anteriormente.\n",
    "Para ello:\n",
    "- Convierta el nombre de las columnas del Dataframe a minúsculas.\n",
    "- Cambie el formato de la columna 'organism', para que el contenido sea solamente el genero y la especie, separados por un guion bajo ('_'), y todo en minúsculas (por ejemplo, 'homo_sapiens'). Para ello, use expresiones regulares.\n",
    "- Elimine las columnas \"status\" y \"organism id\" del Dataframe.\n",
    "- Cree una nueva columna 'ec number', que contenga el número E.C. de cada proteína. Para ello, debe extraer este dato de la columna ('protein name') del Dataframe usando expresiones regulares.\n",
    "- Elimine las filas que tengan 'NaN' en la columa que corresponde a los nombre de los genes."
   ],
   "cell_type": "markdown",
   "metadata": {}
  },
  {
   "cell_type": "code",
   "execution_count": 213,
   "metadata": {},
   "outputs": [
    {
     "output_type": "execute_result",
     "data": {
      "text/plain": [
       "gene names  (primary )\n",
       "A3galt2    2\n",
       "A4galt     2\n",
       "ALG1       2\n",
       "ALG10      2\n",
       "ALG11      3\n",
       "          ..\n",
       "Ugt2a1     2\n",
       "Ugt2b17    2\n",
       "Ugt8       2\n",
       "Xylt1      2\n",
       "Xylt2      2\n",
       "Name: organism, Length: 158, dtype: int64"
      ]
     },
     "metadata": {},
     "execution_count": 213
    }
   ],
   "source": [
    "\n"
   ]
  },
  {
   "source": [
    "## Ejercicio 3 **\n",
    "\n",
    "- Haga un recuento de la cantidad de proteínas por organismo.\n",
    "- ¿Qué nombres de genes aparecen repetidos en más de una proteína?\n",
    "- ¿Hay algún caso en el que se repita el nombre en proteínas del mismo organismo?\n"
   ],
   "cell_type": "markdown",
   "metadata": {}
  },
  {
   "cell_type": "code",
   "execution_count": 90,
   "metadata": {},
   "outputs": [
    {
     "output_type": "execute_result",
     "data": {
      "text/plain": [
       "Arabidopsis thaliana (Mouse-ear cress)                                   660\n",
       "Homo sapiens (Human)                                                     293\n",
       "Mus musculus (Mouse)                                                     266\n",
       "Rattus norvegicus (Rat)                                                  134\n",
       "Saccharomyces cerevisiae (strain ATCC 204508 / S288c) (Baker's yeast)    125\n",
       "Name: organism, dtype: int64"
      ]
     },
     "metadata": {},
     "execution_count": 90
    }
   ],
   "source": []
  },
  {
   "source": [
    "## Ejercicio 4 *\n",
    "\n",
    "Genere un subset de las proteínas que corresponda a las proteínas de _Arabidopsis thaliana_ y que tengan una longitud menor a 400 \n",
    "residuos. \n"
   ],
   "cell_type": "markdown",
   "metadata": {}
  },
  {
   "cell_type": "code",
   "execution_count": 218,
   "metadata": {},
   "outputs": [
    {
     "output_type": "execute_result",
     "data": {
      "text/plain": [
       "       entry   entry name    status  \\\n",
       "818   Q9ZSJ0  RGXT2_ARATH  reviewed   \n",
       "826   O65388   PLY2_ARATH  reviewed   \n",
       "827   Q9SD84  PDCB2_ARATH  reviewed   \n",
       "828   O49352    BG4_ARATH  reviewed   \n",
       "848   O65456  PLY16_ARATH  reviewed   \n",
       "...      ...          ...       ...   \n",
       "1436  Q38909  XTH28_ARATH  reviewed   \n",
       "1446  Q9SV60   XTH2_ARATH  reviewed   \n",
       "1465  Q9LJR7   XTH3_ARATH  reviewed   \n",
       "1466  Q38857  XTH22_ARATH  reviewed   \n",
       "1473  Q9SJL9  XTH32_ARATH  reviewed   \n",
       "\n",
       "                                          protein names  \\\n",
       "818   UDP-D-xylose:L-fucose alpha-1,3-D-xylosyltrans...   \n",
       "826               Putative pectate lyase 2 (EC 4.2.2.2)   \n",
       "827   PLASMODESMATA CALLOSE-BINDING PROTEIN 2 (AtPDC...   \n",
       "828   Probable glucan endo-1,3-beta-glucosidase BG4 ...   \n",
       "848              Probable pectate lyase 16 (EC 4.2.2.2)   \n",
       "...                                                 ...   \n",
       "1436  Probable xyloglucan endotransglucosylase/hydro...   \n",
       "1446  Xyloglucan endotransglucosylase/hydrolase prot...   \n",
       "1465  Xyloglucan endotransglucosylase/hydrolase prot...   \n",
       "1466  Xyloglucan endotransglucosylase/hydrolase prot...   \n",
       "1473  Probable xyloglucan endotransglucosylase/hydro...   \n",
       "\n",
       "                                    organism  length gene names  (primary )  \\\n",
       "818   Arabidopsis thaliana (Mouse-ear cress)     367                  RGXT2   \n",
       "826   Arabidopsis thaliana (Mouse-ear cress)     384                    NaN   \n",
       "827   Arabidopsis thaliana (Mouse-ear cress)     194                  PDCB2   \n",
       "828   Arabidopsis thaliana (Mouse-ear cress)     345                    BG4   \n",
       "848   Arabidopsis thaliana (Mouse-ear cress)     394                    NaN   \n",
       "...                                      ...     ...                    ...   \n",
       "1436  Arabidopsis thaliana (Mouse-ear cress)     332                  XTH28   \n",
       "1446  Arabidopsis thaliana (Mouse-ear cress)     292                   XTH2   \n",
       "1465  Arabidopsis thaliana (Mouse-ear cress)     290                   XTH3   \n",
       "1466  Arabidopsis thaliana (Mouse-ear cress)     284                  XTH22   \n",
       "1473  Arabidopsis thaliana (Mouse-ear cress)     299                  XTH32   \n",
       "\n",
       "     cross-reference (cazy)  \\\n",
       "818                   GT77;   \n",
       "826                    PL1;   \n",
       "827                  CBM43;   \n",
       "828                   GH17;   \n",
       "848                    PL1;   \n",
       "...                     ...   \n",
       "1436                  GH16;   \n",
       "1446                  GH16;   \n",
       "1465                  GH16;   \n",
       "1466                  GH16;   \n",
       "1473                  GH16;   \n",
       "\n",
       "                     gene ontology (molecular function)  \\\n",
       "818   transferase activity, transferring glycosyl gr...   \n",
       "826   metal ion binding [GO:0046872]; pectate lyase ...   \n",
       "827   (1->3)-beta-D-glucan binding [GO:0001872]; pol...   \n",
       "828   glucan endo-1,3-beta-D-glucosidase activity [G...   \n",
       "848   metal ion binding [GO:0046872]; pectate lyase ...   \n",
       "...                                                 ...   \n",
       "1436  hydrolase activity, hydrolyzing O-glycosyl com...   \n",
       "1446  hydrolase activity, hydrolyzing O-glycosyl com...   \n",
       "1465  hydrolase activity, hydrolyzing O-glycosyl com...   \n",
       "1466  hydrolase activity, hydrolyzing O-glycosyl com...   \n",
       "1473  hydrolase activity, hydrolyzing O-glycosyl com...   \n",
       "\n",
       "                                      gene ontology ids  organism id  \\\n",
       "818   GO:0000139; GO:0005794; GO:0010306; GO:0016021...         3702   \n",
       "826                  GO:0030570; GO:0045490; GO:0046872         3702   \n",
       "827   GO:0001872; GO:0009408; GO:0009506; GO:0030247...         3702   \n",
       "828   GO:0005576; GO:0005975; GO:0006952; GO:0042973...         3702   \n",
       "848                  GO:0030570; GO:0045490; GO:0046872         3702   \n",
       "...                                                 ...          ...   \n",
       "1436  GO:0004553; GO:0005618; GO:0010154; GO:0010411...         3702   \n",
       "1446  GO:0004553; GO:0005618; GO:0010411; GO:0016762...         3702   \n",
       "1465  GO:0004553; GO:0005618; GO:0009832; GO:0010411...         3702   \n",
       "1466  GO:0004553; GO:0005618; GO:0005794; GO:0009408...         3702   \n",
       "1473  GO:0004553; GO:0005618; GO:0010411; GO:0016762...         3702   \n",
       "\n",
       "                                               sequence  \n",
       "818   MAQKQQTLHQQRPFSSSPRSYSSISNRPIFLLSRNGLLLVLLALFL...  \n",
       "826   MASLFLTIISLLFAAFSSSVVEAAYSNGYTIPKLLPNPIDSCWRRN...  \n",
       "827   MAPLVLYLLTLLMAGHTSASWCVCKTGLSDSVLQKTLDYACGNGAD...  \n",
       "828   MLYSPKKLFLFFLSCIVLYVNSNNSGFVTAANSIGLNYGLLGDNLP...  \n",
       "848   MTLFTVSCLLVVLFLCHSLVHAENNGYYGYTPTVANYLPEKPQNIM...  \n",
       "...                                                 ...  \n",
       "1436  MGFITRFLVFMSLFTSLVSGFALQKLPLIQFDEGYTQLFGDQNLIV...  \n",
       "1446  MNRIRYCFELVSVLFLMFTANARARGRGAIDFDVNYVVTWGQDHIL...  \n",
       "1465  MDYMRIFSVFVVTLWIIRVDARVFGGRGIEKFVTFGQNYIVTWGQS...  \n",
       "1466  MAITYLLPLFLSLIITSSVSANFQRDVEITWGDGRGQIKNNGELLT...  \n",
       "1473  MGNSLISLLSIFHLLVLWGSSVNAYWPPSPGYWPSSKVGSLNFYKG...  \n",
       "\n",
       "[117 rows x 12 columns]"
      ],
      "text/html": "<div>\n<style scoped>\n    .dataframe tbody tr th:only-of-type {\n        vertical-align: middle;\n    }\n\n    .dataframe tbody tr th {\n        vertical-align: top;\n    }\n\n    .dataframe thead th {\n        text-align: right;\n    }\n</style>\n<table border=\"1\" class=\"dataframe\">\n  <thead>\n    <tr style=\"text-align: right;\">\n      <th></th>\n      <th>entry</th>\n      <th>entry name</th>\n      <th>status</th>\n      <th>protein names</th>\n      <th>organism</th>\n      <th>length</th>\n      <th>gene names  (primary )</th>\n      <th>cross-reference (cazy)</th>\n      <th>gene ontology (molecular function)</th>\n      <th>gene ontology ids</th>\n      <th>organism id</th>\n      <th>sequence</th>\n    </tr>\n  </thead>\n  <tbody>\n    <tr>\n      <th>818</th>\n      <td>Q9ZSJ0</td>\n      <td>RGXT2_ARATH</td>\n      <td>reviewed</td>\n      <td>UDP-D-xylose:L-fucose alpha-1,3-D-xylosyltrans...</td>\n      <td>Arabidopsis thaliana (Mouse-ear cress)</td>\n      <td>367</td>\n      <td>RGXT2</td>\n      <td>GT77;</td>\n      <td>transferase activity, transferring glycosyl gr...</td>\n      <td>GO:0000139; GO:0005794; GO:0010306; GO:0016021...</td>\n      <td>3702</td>\n      <td>MAQKQQTLHQQRPFSSSPRSYSSISNRPIFLLSRNGLLLVLLALFL...</td>\n    </tr>\n    <tr>\n      <th>826</th>\n      <td>O65388</td>\n      <td>PLY2_ARATH</td>\n      <td>reviewed</td>\n      <td>Putative pectate lyase 2 (EC 4.2.2.2)</td>\n      <td>Arabidopsis thaliana (Mouse-ear cress)</td>\n      <td>384</td>\n      <td>NaN</td>\n      <td>PL1;</td>\n      <td>metal ion binding [GO:0046872]; pectate lyase ...</td>\n      <td>GO:0030570; GO:0045490; GO:0046872</td>\n      <td>3702</td>\n      <td>MASLFLTIISLLFAAFSSSVVEAAYSNGYTIPKLLPNPIDSCWRRN...</td>\n    </tr>\n    <tr>\n      <th>827</th>\n      <td>Q9SD84</td>\n      <td>PDCB2_ARATH</td>\n      <td>reviewed</td>\n      <td>PLASMODESMATA CALLOSE-BINDING PROTEIN 2 (AtPDC...</td>\n      <td>Arabidopsis thaliana (Mouse-ear cress)</td>\n      <td>194</td>\n      <td>PDCB2</td>\n      <td>CBM43;</td>\n      <td>(1-&gt;3)-beta-D-glucan binding [GO:0001872]; pol...</td>\n      <td>GO:0001872; GO:0009408; GO:0009506; GO:0030247...</td>\n      <td>3702</td>\n      <td>MAPLVLYLLTLLMAGHTSASWCVCKTGLSDSVLQKTLDYACGNGAD...</td>\n    </tr>\n    <tr>\n      <th>828</th>\n      <td>O49352</td>\n      <td>BG4_ARATH</td>\n      <td>reviewed</td>\n      <td>Probable glucan endo-1,3-beta-glucosidase BG4 ...</td>\n      <td>Arabidopsis thaliana (Mouse-ear cress)</td>\n      <td>345</td>\n      <td>BG4</td>\n      <td>GH17;</td>\n      <td>glucan endo-1,3-beta-D-glucosidase activity [G...</td>\n      <td>GO:0005576; GO:0005975; GO:0006952; GO:0042973...</td>\n      <td>3702</td>\n      <td>MLYSPKKLFLFFLSCIVLYVNSNNSGFVTAANSIGLNYGLLGDNLP...</td>\n    </tr>\n    <tr>\n      <th>848</th>\n      <td>O65456</td>\n      <td>PLY16_ARATH</td>\n      <td>reviewed</td>\n      <td>Probable pectate lyase 16 (EC 4.2.2.2)</td>\n      <td>Arabidopsis thaliana (Mouse-ear cress)</td>\n      <td>394</td>\n      <td>NaN</td>\n      <td>PL1;</td>\n      <td>metal ion binding [GO:0046872]; pectate lyase ...</td>\n      <td>GO:0030570; GO:0045490; GO:0046872</td>\n      <td>3702</td>\n      <td>MTLFTVSCLLVVLFLCHSLVHAENNGYYGYTPTVANYLPEKPQNIM...</td>\n    </tr>\n    <tr>\n      <th>...</th>\n      <td>...</td>\n      <td>...</td>\n      <td>...</td>\n      <td>...</td>\n      <td>...</td>\n      <td>...</td>\n      <td>...</td>\n      <td>...</td>\n      <td>...</td>\n      <td>...</td>\n      <td>...</td>\n      <td>...</td>\n    </tr>\n    <tr>\n      <th>1436</th>\n      <td>Q38909</td>\n      <td>XTH28_ARATH</td>\n      <td>reviewed</td>\n      <td>Probable xyloglucan endotransglucosylase/hydro...</td>\n      <td>Arabidopsis thaliana (Mouse-ear cress)</td>\n      <td>332</td>\n      <td>XTH28</td>\n      <td>GH16;</td>\n      <td>hydrolase activity, hydrolyzing O-glycosyl com...</td>\n      <td>GO:0004553; GO:0005618; GO:0010154; GO:0010411...</td>\n      <td>3702</td>\n      <td>MGFITRFLVFMSLFTSLVSGFALQKLPLIQFDEGYTQLFGDQNLIV...</td>\n    </tr>\n    <tr>\n      <th>1446</th>\n      <td>Q9SV60</td>\n      <td>XTH2_ARATH</td>\n      <td>reviewed</td>\n      <td>Xyloglucan endotransglucosylase/hydrolase prot...</td>\n      <td>Arabidopsis thaliana (Mouse-ear cress)</td>\n      <td>292</td>\n      <td>XTH2</td>\n      <td>GH16;</td>\n      <td>hydrolase activity, hydrolyzing O-glycosyl com...</td>\n      <td>GO:0004553; GO:0005618; GO:0010411; GO:0016762...</td>\n      <td>3702</td>\n      <td>MNRIRYCFELVSVLFLMFTANARARGRGAIDFDVNYVVTWGQDHIL...</td>\n    </tr>\n    <tr>\n      <th>1465</th>\n      <td>Q9LJR7</td>\n      <td>XTH3_ARATH</td>\n      <td>reviewed</td>\n      <td>Xyloglucan endotransglucosylase/hydrolase prot...</td>\n      <td>Arabidopsis thaliana (Mouse-ear cress)</td>\n      <td>290</td>\n      <td>XTH3</td>\n      <td>GH16;</td>\n      <td>hydrolase activity, hydrolyzing O-glycosyl com...</td>\n      <td>GO:0004553; GO:0005618; GO:0009832; GO:0010411...</td>\n      <td>3702</td>\n      <td>MDYMRIFSVFVVTLWIIRVDARVFGGRGIEKFVTFGQNYIVTWGQS...</td>\n    </tr>\n    <tr>\n      <th>1466</th>\n      <td>Q38857</td>\n      <td>XTH22_ARATH</td>\n      <td>reviewed</td>\n      <td>Xyloglucan endotransglucosylase/hydrolase prot...</td>\n      <td>Arabidopsis thaliana (Mouse-ear cress)</td>\n      <td>284</td>\n      <td>XTH22</td>\n      <td>GH16;</td>\n      <td>hydrolase activity, hydrolyzing O-glycosyl com...</td>\n      <td>GO:0004553; GO:0005618; GO:0005794; GO:0009408...</td>\n      <td>3702</td>\n      <td>MAITYLLPLFLSLIITSSVSANFQRDVEITWGDGRGQIKNNGELLT...</td>\n    </tr>\n    <tr>\n      <th>1473</th>\n      <td>Q9SJL9</td>\n      <td>XTH32_ARATH</td>\n      <td>reviewed</td>\n      <td>Probable xyloglucan endotransglucosylase/hydro...</td>\n      <td>Arabidopsis thaliana (Mouse-ear cress)</td>\n      <td>299</td>\n      <td>XTH32</td>\n      <td>GH16;</td>\n      <td>hydrolase activity, hydrolyzing O-glycosyl com...</td>\n      <td>GO:0004553; GO:0005618; GO:0010411; GO:0016762...</td>\n      <td>3702</td>\n      <td>MGNSLISLLSIFHLLVLWGSSVNAYWPPSPGYWPSSKVGSLNFYKG...</td>\n    </tr>\n  </tbody>\n</table>\n<p>117 rows × 12 columns</p>\n</div>"
     },
     "metadata": {},
     "execution_count": 218
    }
   ],
   "source": []
  },
  {
   "source": [
    "## Ejercicio 5 ***\n",
    "\n",
    "El archivo ubicado en la URL: \"http://elm.eu.org/elms/elms_index.tsv\", contiene datos de la bases de datos de ELM de motivos lineales en proteínas. El archivo es una tabla, en la cual cada fila es una clase de motivos, y las columnas son diferentes descriptores.\n",
    "Entre ellos está el código de acceso de la clase en la base de datos ('Accession') y otra con una expresión regular que permite reconocer posibles instancias de ese motivo en la secuencia de una proteína ('Regex').\n",
    "\n",
    "Basado en los datos de este archivo, juntos con los de datos de Cazy, construya un nuevo DataFrame que muestre que clases de motivos lineales puede ser encontrado en la secuencia de cada proteína del conjunto Cazy.\n",
    "\n",
    "Este DataFrame debe tener tantas filas como el dataframe del conjunto Cazy y tres columnas:\n",
    "\n",
    "- La primer columna debe tener el número de acceso de Uniprot de la proteína.\n",
    "- La segunda columna debe tener una lista con los códigos de acceso de ELM de cada clase de motivo lineal que fue encontrada en la secuencia de la proteína.\n",
    "- La tercer columna deber contener el tamaño de las lista de la segunda columna.\n"
   ],
   "cell_type": "markdown",
   "metadata": {}
  },
  {
   "cell_type": "code",
   "execution_count": 11,
   "metadata": {},
   "outputs": [
    {
     "output_type": "execute_result",
     "data": {
      "text/plain": [
       "    Accession       ELMIdentifier            FunctionalSiteName  \\\n",
       "0  ELME000321  CLV_C14_Caspase3-7        Caspase cleavage motif   \n",
       "1  ELME000172       CLV_MEL_PAP_1  Melanisation activation site   \n",
       "2  ELME000102       CLV_NRD_NRD_1             NRD cleavage site   \n",
       "3  ELME000101      CLV_PCSK_FUR_1            PCSK cleavage site   \n",
       "4  ELME000108     CLV_PCSK_KEX2_1            PCSK cleavage site   \n",
       "\n",
       "                                         Description  \\\n",
       "0             Caspase-3 and Caspase-7 cleavage site.   \n",
       "1  Prophenoloxidase-activating proteinase (PAP) c...   \n",
       "2  N-Arg dibasic convertase (NRD/Nardilysin) clea...   \n",
       "3       Furin (PACE) cleavage site (R-X-[RK]-R-|-X).   \n",
       "4  Yeast kexin 2 cleavage site (K-R-|-X or R-R-|-X).   \n",
       "\n",
       "                         Regex  Probability  #Instances  #Instances_in_PDB  \n",
       "0  [DSTE][^P][^DEWHFYC]D[GSAN]     0.003094          41                  0  \n",
       "1            [ILV]..R[VF][GS].     0.000105          12                  0  \n",
       "2              (.RK)|(RR[^KR])     0.007465           2                  0  \n",
       "3                     R.[RK]R.     0.000509          13                  0  \n",
       "4                       [KR]R.     0.007973           1                  0  "
      ],
      "text/html": "<div>\n<style scoped>\n    .dataframe tbody tr th:only-of-type {\n        vertical-align: middle;\n    }\n\n    .dataframe tbody tr th {\n        vertical-align: top;\n    }\n\n    .dataframe thead th {\n        text-align: right;\n    }\n</style>\n<table border=\"1\" class=\"dataframe\">\n  <thead>\n    <tr style=\"text-align: right;\">\n      <th></th>\n      <th>Accession</th>\n      <th>ELMIdentifier</th>\n      <th>FunctionalSiteName</th>\n      <th>Description</th>\n      <th>Regex</th>\n      <th>Probability</th>\n      <th>#Instances</th>\n      <th>#Instances_in_PDB</th>\n    </tr>\n  </thead>\n  <tbody>\n    <tr>\n      <th>0</th>\n      <td>ELME000321</td>\n      <td>CLV_C14_Caspase3-7</td>\n      <td>Caspase cleavage motif</td>\n      <td>Caspase-3 and Caspase-7 cleavage site.</td>\n      <td>[DSTE][^P][^DEWHFYC]D[GSAN]</td>\n      <td>0.003094</td>\n      <td>41</td>\n      <td>0</td>\n    </tr>\n    <tr>\n      <th>1</th>\n      <td>ELME000172</td>\n      <td>CLV_MEL_PAP_1</td>\n      <td>Melanisation activation site</td>\n      <td>Prophenoloxidase-activating proteinase (PAP) c...</td>\n      <td>[ILV]..R[VF][GS].</td>\n      <td>0.000105</td>\n      <td>12</td>\n      <td>0</td>\n    </tr>\n    <tr>\n      <th>2</th>\n      <td>ELME000102</td>\n      <td>CLV_NRD_NRD_1</td>\n      <td>NRD cleavage site</td>\n      <td>N-Arg dibasic convertase (NRD/Nardilysin) clea...</td>\n      <td>(.RK)|(RR[^KR])</td>\n      <td>0.007465</td>\n      <td>2</td>\n      <td>0</td>\n    </tr>\n    <tr>\n      <th>3</th>\n      <td>ELME000101</td>\n      <td>CLV_PCSK_FUR_1</td>\n      <td>PCSK cleavage site</td>\n      <td>Furin (PACE) cleavage site (R-X-[RK]-R-|-X).</td>\n      <td>R.[RK]R.</td>\n      <td>0.000509</td>\n      <td>13</td>\n      <td>0</td>\n    </tr>\n    <tr>\n      <th>4</th>\n      <td>ELME000108</td>\n      <td>CLV_PCSK_KEX2_1</td>\n      <td>PCSK cleavage site</td>\n      <td>Yeast kexin 2 cleavage site (K-R-|-X or R-R-|-X).</td>\n      <td>[KR]R.</td>\n      <td>0.007973</td>\n      <td>1</td>\n      <td>0</td>\n    </tr>\n  </tbody>\n</table>\n</div>"
     },
     "metadata": {},
     "execution_count": 11
    }
   ],
   "source": [
    "elm_classes_url = \"http://elm.eu.org/elms/elms_index.tsv\"\r\n",
    "elm_data = pd.read_csv(elm_classes_url, sep=\"\\t\", comment='#')\r\n",
    "elm_data.head()"
   ]
  },
  {
   "cell_type": "code",
   "execution_count": 78,
   "metadata": {},
   "outputs": [
    {
     "output_type": "execute_result",
     "data": {
      "text/plain": [
       "           0                                                  1   2\n",
       "0     P38130  0      ELME000321\n",
       "2      ELME000102\n",
       "4      ELM...  60\n",
       "1     P15703  0      ELME000321\n",
       "7      ELME000146\n",
       "23     ELM...  34\n",
       "2     Q06350  0      ELME000321\n",
       "2      ELME000102\n",
       "4      ELM...  66\n",
       "3     P38211  0      ELME000321\n",
       "2      ELME000102\n",
       "7      ELM...  60\n",
       "4     P32363  2      ELME000102\n",
       "4      ELME000108\n",
       "5      ELM...  62\n",
       "...      ...                                                ...  ..\n",
       "1473  Q9SJL9  2      ELME000102\n",
       "4      ELME000108\n",
       "5      ELM...  51\n",
       "1474  Q1PEF8  0      ELME000321\n",
       "2      ELME000102\n",
       "4      ELM...  67\n",
       "1475  B9DFA8  0      ELME000321\n",
       "2      ELME000102\n",
       "4      ELM...  71\n",
       "1476  Q500W7  0      ELME000321\n",
       "2      ELME000102\n",
       "4      ELM...  67\n",
       "1477  Q9LFP5  0      ELME000321\n",
       "1      ELME000172\n",
       "2      ELM...  67\n",
       "\n",
       "[1478 rows x 3 columns]"
      ],
      "text/html": "<div>\n<style scoped>\n    .dataframe tbody tr th:only-of-type {\n        vertical-align: middle;\n    }\n\n    .dataframe tbody tr th {\n        vertical-align: top;\n    }\n\n    .dataframe thead th {\n        text-align: right;\n    }\n</style>\n<table border=\"1\" class=\"dataframe\">\n  <thead>\n    <tr style=\"text-align: right;\">\n      <th></th>\n      <th>0</th>\n      <th>1</th>\n      <th>2</th>\n    </tr>\n  </thead>\n  <tbody>\n    <tr>\n      <th>0</th>\n      <td>P38130</td>\n      <td>0      ELME000321\n2      ELME000102\n4      ELM...</td>\n      <td>60</td>\n    </tr>\n    <tr>\n      <th>1</th>\n      <td>P15703</td>\n      <td>0      ELME000321\n7      ELME000146\n23     ELM...</td>\n      <td>34</td>\n    </tr>\n    <tr>\n      <th>2</th>\n      <td>Q06350</td>\n      <td>0      ELME000321\n2      ELME000102\n4      ELM...</td>\n      <td>66</td>\n    </tr>\n    <tr>\n      <th>3</th>\n      <td>P38211</td>\n      <td>0      ELME000321\n2      ELME000102\n7      ELM...</td>\n      <td>60</td>\n    </tr>\n    <tr>\n      <th>4</th>\n      <td>P32363</td>\n      <td>2      ELME000102\n4      ELME000108\n5      ELM...</td>\n      <td>62</td>\n    </tr>\n    <tr>\n      <th>...</th>\n      <td>...</td>\n      <td>...</td>\n      <td>...</td>\n    </tr>\n    <tr>\n      <th>1473</th>\n      <td>Q9SJL9</td>\n      <td>2      ELME000102\n4      ELME000108\n5      ELM...</td>\n      <td>51</td>\n    </tr>\n    <tr>\n      <th>1474</th>\n      <td>Q1PEF8</td>\n      <td>0      ELME000321\n2      ELME000102\n4      ELM...</td>\n      <td>67</td>\n    </tr>\n    <tr>\n      <th>1475</th>\n      <td>B9DFA8</td>\n      <td>0      ELME000321\n2      ELME000102\n4      ELM...</td>\n      <td>71</td>\n    </tr>\n    <tr>\n      <th>1476</th>\n      <td>Q500W7</td>\n      <td>0      ELME000321\n2      ELME000102\n4      ELM...</td>\n      <td>67</td>\n    </tr>\n    <tr>\n      <th>1477</th>\n      <td>Q9LFP5</td>\n      <td>0      ELME000321\n1      ELME000172\n2      ELM...</td>\n      <td>67</td>\n    </tr>\n  </tbody>\n</table>\n<p>1478 rows × 3 columns</p>\n</div>"
     },
     "metadata": {},
     "execution_count": 78
    }
   ],
   "source": [
    "\r\n"
   ]
  }
 ]
}