{
  "nbformat": 4,
  "nbformat_minor": 0,
  "metadata": {
    "language_info": {
      "codemirror_mode": {
        "name": "ipython",
        "version": 3
      },
      "file_extension": ".py",
      "mimetype": "text/x-python",
      "name": "python",
      "nbconvert_exporter": "python",
      "pygments_lexer": "ipython3",
      "version": "3.9.1-final"
    },
    "orig_nbformat": 2,
    "kernelspec": {
      "name": "python3",
      "display_name": "Python 3.9.1 64-bit",
      "metadata": {
        "interpreter": {
          "hash": "2647ea34e536f865ab67ff9ddee7fd78773d956cec0cab53c79b32cd10da5d83"
        }
      }
    },
    "colab": {
      "name": "ejercicios.ipynb",
      "provenance": [],
      "include_colab_link": true
    }
  },
  "cells": [
    {
      "cell_type": "markdown",
      "metadata": {
        "id": "view-in-github",
        "colab_type": "text"
      },
      "source": [
        "<a href=\"https://colab.research.google.com/github/Ferorti/escuela2021/blob/main/ejercicios.ipynb\" target=\"_parent\"><img src=\"https://colab.research.google.com/assets/colab-badge.svg\" alt=\"Open In Colab\"/></a>"
      ]
    },
    {
      "cell_type": "markdown",
      "metadata": {
        "id": "pH_cH6j5bWVc"
      },
      "source": [
        "La Energía Potencial Gravitatoria se define como:\n",
        "![](../energia-potencial-de-un-cuerpo.png)\n",
        "Asigne a g 9,8\n",
        "Calcular la Ep de un cuerpo de 2,5 kg situado a una altura de 10,0 m.\n",
        "Imprima en pantalla el texto: \"La energía potencial vale ... J\""
      ]
    },
    {
      "cell_type": "code",
      "metadata": {
        "id": "2G2V-MerbWVh"
      },
      "source": [
        "#Asigne a g 9,8\n",
        "#Calcular la Ep de un cuerpo de 2,5 kg situado a una altura de 10,0 m. Imprima en pantalla el texto: \"La energía potencial vale ### J\""
      ],
      "execution_count": null,
      "outputs": []
    },
    {
      "cell_type": "code",
      "metadata": {
        "id": "znLoshHcbWVh",
        "outputId": "55603965-d2ec-4129-b8e7-534667518878"
      },
      "source": [
        "g = 9.8\n",
        "Ep = 2.5 * g * 10.0\n",
        "print(Ep)"
      ],
      "execution_count": null,
      "outputs": [
        {
          "output_type": "stream",
          "text": [
            "245.0\n"
          ],
          "name": "stdout"
        }
      ]
    },
    {
      "cell_type": "markdown",
      "metadata": {
        "id": "NOwXK0kwbWVj"
      },
      "source": [
        "La velocidad específica de crecimiento (K) de un microorganismo se puede determinar durante fase exponencial según se indica:\n",
        "![](img/https://www.ugr.es/~eianez/Microbiologia/images/12crec9.gif)\n",
        "\n",
        "Calcule K para una bacteria cuyo tiempo de duplicación (g1) es de 0,33 horas. Que tipo de dato es K1? Puede importar la funcion log (que corresponde al logaritmo natural) de la libreria math"
      ]
    },
    {
      "cell_type": "code",
      "metadata": {
        "id": "coQHvF5tbWVj",
        "outputId": "15ce8e22-3de7-4832-b15e-a5a7a719fbc6"
      },
      "source": [
        "import math\n",
        "g1= 0.33\n",
        "K1 = math.log(2)/g1\n",
        "K1"
      ],
      "execution_count": null,
      "outputs": [
        {
          "output_type": "execute_result",
          "data": {
            "text/plain": [
              "2.100446001696804"
            ]
          },
          "metadata": {
            "tags": []
          },
          "execution_count": 13
        }
      ]
    },
    {
      "cell_type": "code",
      "metadata": {
        "id": "Uza3_kxGbWVj",
        "outputId": "81415513-b9d5-48e8-c60e-ef75785d1a84"
      },
      "source": [
        "print(type(Ep), type(K1))"
      ],
      "execution_count": null,
      "outputs": [
        {
          "output_type": "stream",
          "text": [
            "<class 'float'> <class 'float'>\n"
          ],
          "name": "stdout"
        }
      ]
    },
    {
      "cell_type": "code",
      "metadata": {
        "id": "SMSMzIgGbWVk",
        "outputId": "4983c91e-7611-439d-e386-2e8418e06ae0"
      },
      "source": [
        "str(Ep)"
      ],
      "execution_count": null,
      "outputs": [
        {
          "output_type": "execute_result",
          "data": {
            "text/plain": [
              "'245.0'"
            ]
          },
          "metadata": {
            "tags": []
          },
          "execution_count": 11
        }
      ]
    },
    {
      "cell_type": "code",
      "metadata": {
        "id": "mr3KRxkibWVk"
      },
      "source": [
        "Dadas las seguientes listas:\n",
        "\n",
        "bacterias = ['Campylobacter_jejuni', 'Vibrio_cholerae', 'Staphylococcus_aureus', 'Clostridium_perfringens', 'Bacillus_cereus', 'Eschericchia_coli', 'Listeria_monocitogenes']\n",
        "\n",
        "yeast = ['Saccharomyces_cerevisiae', 'Zygosaccharomyces_rouxii', 'Candida_albicans', 'Cryptococcus_neoformans', 'Cryptococcus_albidus']\n",
        "\n",
        "a) Ordenarlas alfabeticamente\n",
        "b) Compruebe cual es de mayor longitud\n",
        "c) Crear una lista nueva y almacenar los primeros tres generos de cada lista"
      ],
      "execution_count": null,
      "outputs": []
    },
    {
      "cell_type": "code",
      "metadata": {
        "id": "mqzvHp8RdT9R"
      },
      "source": [
        "bacterias = ['Campylobacter_jejuni', 'Vibrio_cholerae', 'Staphylococcus_aureus', 'Clostridium_perfringens', 'Bacillus_cereus', 'Eschericchia_coli', 'Listeria_monocitogenes']\r\n",
        "yeast = ['Saccharomyces_cerevisiae', 'Zygosaccharomyces_rouxii', 'Candida_albicans', 'Cryptococcus_neoformans', 'Cryptococcus_albidus']"
      ],
      "execution_count": null,
      "outputs": []
    },
    {
      "cell_type": "code",
      "metadata": {
        "colab": {
          "base_uri": "https://localhost:8080/"
        },
        "id": "IdLxJM0ld0Fp",
        "outputId": "b90b7055-d565-4861-897b-c559b25c448e"
      },
      "source": [
        "bacterias.sort()\r\n",
        "yeast.sort()\r\n",
        "print(\"En orden alfabetico: \",bacterias, yeast)"
      ],
      "execution_count": null,
      "outputs": [
        {
          "output_type": "stream",
          "text": [
            "En orden alfabetico:  ['Bacillus_cereus', 'Campylobacter_jejuni', 'Clostridium_perfringens', 'Eschericchia_coli', 'Listeria_monocitogenes', 'Staphylococcus_aureus', 'Vibrio_cholerae'] ['Candida_albicans', 'Cryptococcus_albidus', 'Cryptococcus_neoformans', 'Saccharomyces_cerevisiae', 'Zygosaccharomyces_rouxii']\n"
          ],
          "name": "stdout"
        }
      ]
    },
    {
      "cell_type": "code",
      "metadata": {
        "colab": {
          "base_uri": "https://localhost:8080/"
        },
        "id": "gyMH3SsNiuW0",
        "outputId": "adaf45f5-0a04-41f1-dce7-5716206e64b7"
      },
      "source": [
        "len(yeast) < len(bacterias)"
      ],
      "execution_count": null,
      "outputs": [
        {
          "output_type": "execute_result",
          "data": {
            "text/plain": [
              "True"
            ]
          },
          "metadata": {
            "tags": []
          },
          "execution_count": 13
        }
      ]
    },
    {
      "cell_type": "code",
      "metadata": {
        "colab": {
          "base_uri": "https://localhost:8080/"
        },
        "id": "yU11F_nTjWC0",
        "outputId": "406c0d32-4bf1-414f-ee95-f3c9b0452a7b"
      },
      "source": [
        "generos = [bacterias[0][0:8], bacterias[1][0:13], bacterias[2][0:11]]\r\n",
        "generos"
      ],
      "execution_count": null,
      "outputs": [
        {
          "output_type": "execute_result",
          "data": {
            "text/plain": [
              "['Bacillus', 'Campylobacter', 'Clostridium']"
            ]
          },
          "metadata": {
            "tags": []
          },
          "execution_count": 31
        }
      ]
    },
    {
      "cell_type": "markdown",
      "metadata": {
        "id": "Y41Mqs2Hm3ch"
      },
      "source": [
        "Dada la siguiente secuencia:\r\n",
        "\r\n",
        "CTGCAGAAATAACTAGGTACTAAGCCCGTTTGTGAAAAGTGGCCAAACCCATAAATTTGGCAATTACAATAAAGAAGCTAAAATTGTGGTCAAACTCACAAACATTTTTATTATATACATTTTAGTAGCTGATGCTTATAAAAGCAATATTTAAATCGTAAACAACAAATAAAATAAAATTTAAACGATGTGATTAAGAGCCAAAGGTCCTCTAGAAAAAGGTATTTAAGCAACGGAATTCCTTTGTGTTACATTCTTGAATGTCGCTCGCAGTGACATTAGCATTCCGGTACTGTTGGTAAAATGGAAGACGCCAAAAACATAAAGAAAGGCCCGGCGCCATTCTATCCTCTAGAGGATGGAACCGCTGGAGAGCAACTGCATAAGGCTATGAAGAGATACGCCCTGGTTCCTGGAACAATTGCTTTTGTGAGTATTTCTGTCTGATTTCTTTCGAGTTAACGAAATGTTCTTATGTTTCTTTAGACAGATGCACATATCGAGGTGAACATCACGTACGCGGAATACTTCGAAATGTCCGTTCGGTTGGCAGAAGCTATGAAACGATATGGGCTGAATACAAATCACAGAATCGTCGTATGCAGTGAAAACTCTCTTCAATTCTTTATGCCGGTGTTGGGCGCGTTATTTATCGGAGTTGCAGTTGCGCCCGCGAACGACATTTATAATGAACGTAAGCACCCTCGCCATCAGACCAAAGGGAATGACGTATTTAATTTTTAAGGTGAATTGCTCAACAGTATGAACATTTCGCAGCCTACCGTAGTGTTTGTTTCCAAAAAGGGGTTGCAAAAAATTTTGAACGTGCAAAAAAAATTACCAATAATCCAGAAAATTATTATCATGGATTCTAAAACGGATTACCAGGGATTTCAGTCGATGTACACGTTCGTCACATCTCATCTACCTCCCGGTTTTAATGAATACGATTTTGTACCAGAGTCCTTTGATCGTGACAAAACAATTGCACTGATAATGAATTCCTCTGGATCTACTGGGTTACCTAAGGGTGTGGCCCTTCCGCATAGAACTGCCTGCGTCAGATTCTCGCATGCCAGGTATGTCGTATAACAAGAGATTAAGTAATGTTGCTACACACATTGTAGAGATCCTATTTTTGGCAATCAAATCATTCCGGATACTGCGATTTTAAGTGTTGTTCCATTCCATCACGGTTTTGGAATGTTTACTACACTCGGATATTTGATATGTGGATTTCGAGTCGTCTTAATGTATAGATTTGAAGAAGAGCTGTTTTTACGATCCCTTCAGGATTACAAAATTCAAAGTGCGTTGCTAGTACCAACCCTATTTTCATTCTTCGCCAAAAGCACTCTGATTGACAAATACGATTTATCTAATTTACACGAAATTGCTTCTGGGGGCGCACCTCTTTCGAAAGAAGTCGGGGAAGCGGTTGCAAAACGGTGAGTTAAGCGCATTGCTAGTATTTCAAGGCTCTAAAACGGCGCGTAGCTTCCATCTTCCAGGGATACGACAAGGATATGGGCTCACTGAGACTACATCAGCTATTCTGATTACACCCGAGGGGGATGATAAACCGGGCGCGGTCGGTAAAGTTGTTCCATTTTTTGAAGCGAAGGTTGTGGATCTGGATACCGGGAAAACGCTGGGCGTTAATCAGAGAGGCGAATTATGTGTCAGAGGACCTATGATTATGTCCGGTTATGTAAACAATCCGGAAGCGACCAACGCCTTGATTGACAAGGATGGATGGCTACATTCTGGAGACATAGCTTACTGGGACGAAGACGAACACTTCTTCATAGTTGACCGCTTGAAGTCTTTAATTAAATACAAAGGATATCAGGTAATGAAGATTTTTACATGCACACACGCTACAATACCTGTAGGTGGCCCCCGCTGAATTGGAATCGATATTGTTACAACACCCCAACATCTTCGACGCGGGCGTGGCAGGTCTTCCCGACGATGACGCCGGTGAACTTCCCGCCGCCGTTGTTGTTTTGGAGCACGGAAAGACGATGACGGAAAAAGAGATCGTGGATTACGTCGCCAGTAAATGAATTCGTTTTACGTTACTCGTACTACAATTCTTTTCATAGGTCAAGTAACAACCGCGAAAAAGTTGCGCGGAGGAGTTGTGTTTGTGGACGAAGTACCGAAAGGTCTTACCGGAAAACTCGACGCAAGAAAAATCAGAGAGATCCTCATAAAGGCCAAGAAGGGCGGAAAGTCCAAATTGTAAAATGTAACTGTATTCAGCGATGACGAAATTCTTAGCTATTGTAATATTATATGCAAATTGATGAATGGTAATTTTGTAATTGTGGGTCACTGTACTATTTTAACGAATAATAAAATCAGGTATAGGTAACTAAAAA\r\n",
        "\r\n",
        "a) Imprima el tamaño de la misma\r\n",
        "b) Seleccione los nucleotidos 304 al 429 y guardelos como lista en la variable 'exon1'\r\n"
      ]
    },
    {
      "cell_type": "code",
      "metadata": {
        "colab": {
          "base_uri": "https://localhost:8080/",
          "height": 35
        },
        "id": "rRQzh1xk2CcU",
        "outputId": "619ba720-d995-4db5-d9db-1837083db819"
      },
      "source": [
        "#La siguiente secuencia corresponde a la proteina luciferasa:\r\n",
        "\r\n",
        "luciferasa = \"MEDAKNIKKGPAPFYPLEDGTAGEQLHKAMKRYALVPGTIAFTDAHIEVNITYAEYFEMSVRLAEAMKRYGLNTNHRIVVCSENSLQFFMPVLGALFIGVAVAPANDIYNERELLNSMNISQPTVVFVSKKGLQKILNVQKKLPIIQKIIIMDSKTDYQGFQSMYTFVTSHLPPGFNEYDFVPESFDRDKTIALIMNSSGSTGLPKGVALPHRTACVRFSHARDPIFGNQIIPDTAILSVVPFHHGFGMFTTLGYLICGFRVVLMYRFEEELFLRSLQDYKIQSALLVPTLFSFFAKSTLIDKYDLSNLHEIASGGAPLSKEVGEAVAKRFHLPGIRQGYGLTETTSAILITPEGDDKPGAVGKVVPFFEAKVVDLDTGKTLGVNQRGELCVRGPMIMSGYVNNPEATNALIDKDGWLHSGDIAYWDEDEHFFIVDRLKSLIKYKGYQVAPAELESILLQHPNIFDAGVAGLPDDDAGELPAAVVVLEHGKTMTEKEIVDYVASQVTTAKKLRGGVVFVDEVPKGLTGKLDARKIREILIKAKKGGKSKL\"\r\n",
        "luciferasa[452:529]"
      ],
      "execution_count": null,
      "outputs": [
        {
          "output_type": "execute_result",
          "data": {
            "application/vnd.google.colaboratory.intrinsic+json": {
              "type": "string"
            },
            "text/plain": [
              "'ELESILLQHPNIFDAGVAGLPDDDAGELPAAVVVLEHGKTMTEKEIVDYVASQVTTAKKLRGGVVFVDEVPKGLTGK'"
            ]
          },
          "metadata": {
            "tags": []
          },
          "execution_count": 34
        }
      ]
    },
    {
      "cell_type": "code",
      "metadata": {
        "colab": {
          "base_uri": "https://localhost:8080/"
        },
        "id": "Ie7MThps5QGx",
        "outputId": "fc2013b1-67e8-42f4-8eea-347858dff7ff"
      },
      "source": [
        "luciferasa.find('ELESILLQHPNIFDAGVAGLPDDDAGELPAAVVVLEHGKTMTEKEIVDYVASQVTTAKKLRGGVVFVDEVPKGLTGK')"
      ],
      "execution_count": null,
      "outputs": [
        {
          "output_type": "execute_result",
          "data": {
            "text/plain": [
              "452"
            ]
          },
          "metadata": {
            "tags": []
          },
          "execution_count": 38
        }
      ]
    },
    {
      "cell_type": "code",
      "metadata": {
        "id": "qXLH8kAy6hqo"
      },
      "source": [
        "#Algunas proteinas con su contenido de desorden (%)\r\n",
        "{Q8WZ42:6.26, P04818:15.65, P37840:100.00, P11387:38.04, P04637:48.09}"
      ],
      "execution_count": null,
      "outputs": []
    },
    {
      "cell_type": "code",
      "metadata": {
        "id": "ZljRFYOBBniK"
      },
      "source": [
        "#Crear un diccionario con la siguiente clasificacion aminoacidos:\r\n",
        "#hidrofobos: F, A, L, M, I, W, P, V ; polares: C, G, Q, N, S, Y, T\r\n",
        " a) como averiguamos el numero de aa que son polares?\r\n",
        " b) Agregue los siguientes aa al diccionario: basicos: H, R, K ; acidos: D, E"
      ],
      "execution_count": null,
      "outputs": []
    },
    {
      "cell_type": "markdown",
      "metadata": {
        "id": "A99DERF7Hmr1"
      },
      "source": [
        "La siguiente lista representa las áreas (en metros cuadrados) de distintos espacios de instituto de investigación:\r\n",
        "areas = [\"entrada\", 4.0 ,\"pasillos\", 11.25, \"cocina\", 18.0, \"lab1\", 20.0, \"lab2\", 10.75, \"ciber\", 15.50, \"baño\", 9.50]\r\n",
        "\r\n",
        "a) Imprima el primer elemento de la lista\r\n",
        "b) Imprima los 3 ultimos elementos\r\n",
        "c) Guarde en una variable el área del lab1 y en otra el área del lab2\r\n",
        "d) Sume las areas de lab1 y lab2 y guarde el resultado en la variable \"areas_de_trabajo\"\r\n",
        "e) Cambie el nombre de \"ciber\" a \"sala_becarios\"\r\n",
        "f) Agregue a la lista el área de la biblioteca y del estacionamiento, de 12.0 y 25.75 respectivamente\r\n"
      ]
    },
    {
      "cell_type": "code",
      "metadata": {
        "id": "fGGDpb8LHmDt",
        "colab": {
          "base_uri": "https://localhost:8080/"
        },
        "outputId": "b67b7ba6-210d-4530-9964-2704105b69ae"
      },
      "source": [
        "#El contenido CG de una secuencia de DNA se puede calcular como la razón entre la suma de Cs y Gs en la secuencia y la sumatoria de nucleotidos en la secuencia.\r\n",
        "#a) Escriba una funcion \"contenido_cg\" que pueda tomar cualquier secuencia de DNA y calcular su contenido CG\r\n",
        "#b) Calcule el contenido CG de la siguiente secuencia \"ACTGATCGATTACGTATAGTATTTGCTATCATACATATATATCGATGCGTTCAT\"\r\n",
        "#c) Calcule el contenido CG de la secuencia \"aactgtagctagctagcagcgta\"\r\n",
        "def contenido_cg(dna):\r\n",
        "    c = dna.count('C')\r\n",
        "    g = dna.count('G')\r\n",
        "    cg_content = (c+g)/len(dna)\r\n",
        "    return cg_content\r\n",
        "\r\n",
        "my_seq = '\"ACTGATCGATTACGTATAGTATTTGCTATCATACATATATATCGATGCGTTCAT\"'\r\n",
        "contenido_cg(my_seq)"
      ],
      "execution_count": null,
      "outputs": [
        {
          "output_type": "execute_result",
          "data": {
            "text/plain": [
              "0.30357142857142855"
            ]
          },
          "metadata": {
            "tags": []
          },
          "execution_count": 5
        }
      ]
    },
    {
      "cell_type": "code",
      "metadata": {
        "id": "PLl81wlQuN_Z"
      },
      "source": [
        "#Defina una funcion para calcular la energia potencial gravitatoria de un cuerpo. Asigne g como valor por defecto"
      ],
      "execution_count": null,
      "outputs": []
    }
  ]
}