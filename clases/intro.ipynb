{
 "cells": [
  {
   "cell_type": "markdown",
   "metadata": {},
   "source": [
    "## Algunos de los tipos básicos de datos en Python son:\n",
    "* **int** - para representar números enteros <br/>\n",
    "```python\n",
    "entero = 40``` \n",
    "* **long** - para representar números enteros muy largos. _(Solo en Python 2.x)_<br/>\n",
    "```python \n",
    "ent_long =  8947842156455143213546```\n",
    "* **float** - para representar números decimales <br/>\n",
    "```python \n",
    "flotante = 3.14\n",
    "```\n",
    "* **complex** - para representar números complejos<br/>\n",
    "```python\n",
    "complejo = 1 + 2j```\n"
   ]
  },
  {
   "cell_type": "markdown",
   "metadata": {},
   "source": [
    "Vamos a jugar un poco con los datos numéricos utilizando el intérprete de Python como calculadora"
   ]
  },
  {
   "cell_type": "markdown",
   "metadata": {},
   "source": [
    "## Listas"
   ]
  },
  {
   "cell_type": "markdown",
   "metadata": {},
   "source": [
    "* Colección **ordenada** de elementos (datos)\n",
    "* Mutable (se pueden cambiar los elementos)"
   ]
  },
  {
   "cell_type": "markdown",
   "metadata": {},
   "source": [
    "Las listas se definen mediante corchetes [] con los elementos que conforman la lista separados por comas ,"
   ]
  },
  {
   "cell_type": "code",
   "execution_count": 28,
   "metadata": {},
   "outputs": [],
   "source": [
    "organismos = ['Homo sapiens', 'Mus musculus', 'Drosophila melanogaster', 'Arabidopsis thaliana', \"Xenopus laevis\"]"
   ]
  },
  {
   "cell_type": "code",
   "execution_count": 4,
   "metadata": {},
   "outputs": [
    {
     "name": "stdout",
     "output_type": "stream",
     "text": [
      "['Homo sapiens', 'Mus musculus', 'Drosophila melanogaster', 'Arabidopsis thaliana', 'Xenopus laevis']\n",
      "<class 'list'>\n"
     ]
    }
   ],
   "source": [
    "print(organismos)\n",
    "print(type(organismos))"
   ]
  },
  {
   "cell_type": "markdown",
   "metadata": {},
   "source": [
    "### Qué podemos hacer con una lista?\n",
    "\n",
    "* Acceder a los elementos\n",
    "* Modificar elementos\n",
    "* Contar elementos\n",
    "* Agregar elementos\n",
    "* Quitar elementos\n",
    "* Ordenar la lista\n",
    "* Saber si un elemento está en la lista\n"
   ]
  },
  {
   "cell_type": "markdown",
   "metadata": {},
   "source": [
    "Utilizando los [ ] podemos acceder a los elementos de la lista según su posición (similar a como hicimos con los strings)"
   ]
  },
  {
   "cell_type": "code",
   "execution_count": 9,
   "metadata": {},
   "outputs": [
    {
     "name": "stdout",
     "output_type": "stream",
     "text": [
      "El tercer organismo de la lista es: Arabidopsis thaliana\n"
     ]
    }
   ],
   "source": [
    "print('El tercer organismo de la lista es:', organismos[3])\n"
   ]
  },
  {
   "cell_type": "markdown",
   "metadata": {},
   "source": [
    "Completar"
   ]
  },
  {
   "cell_type": "code",
   "execution_count": null,
   "metadata": {},
   "outputs": [],
   "source": [
    "print('El primer organismo de la lista es:', _____ )\n",
    "print('El segundo organismo de la lista es:', _____ )\n",
    "print('El organismo de la lista es:', organismos [__])\n"
   ]
  },
  {
   "cell_type": "markdown",
   "metadata": {},
   "source": [
    "Utilizando los índices y la asignación podemos modificar los elementos de la lista"
   ]
  },
  {
   "cell_type": "code",
   "execution_count": 35,
   "metadata": {},
   "outputs": [
    {
     "name": "stdout",
     "output_type": "stream",
     "text": [
      "['Arabidopsis thaliana', 'Drosophila melanogaster', 'Homo sapiens', 'Mus musculus', 'Xenopus laevis']\n"
     ]
    }
   ],
   "source": [
    "organismos2 = organismos.copy() # copiamos la lista para no modificar la original\n",
    "print(organismos2)"
   ]
  },
  {
   "cell_type": "code",
   "execution_count": null,
   "metadata": {},
   "outputs": [],
   "source": [
    "organimos2[2] = 'S. Pombe'\n",
    "print(organismos2)"
   ]
  },
  {
   "cell_type": "code",
   "execution_count": 36,
   "metadata": {},
   "outputs": [
    {
     "name": "stdout",
     "output_type": "stream",
     "text": [
      "['Xenopus laevis', 'Drosophila melanogaster', 'Homo sapiens', 'Mus musculus', 'Xenopus laevis']\n"
     ]
    }
   ],
   "source": [
    "organimos2[0] = organimos2[-1]\n",
    "print(organimos2)"
   ]
  },
  {
   "cell_type": "code",
   "execution_count": null,
   "metadata": {},
   "outputs": [],
   "source": []
  },
  {
   "cell_type": "markdown",
   "metadata": {},
   "source": [
    "Para saber cuántos elementos contiene la lista usamos la función len( )"
   ]
  },
  {
   "cell_type": "code",
   "execution_count": 10,
   "metadata": {},
   "outputs": [
    {
     "name": "stdout",
     "output_type": "stream",
     "text": [
      "Tenemos 5 en la lista.\n"
     ]
    }
   ],
   "source": [
    "print('Tenemos', len(organismos), 'en la lista.')"
   ]
  },
  {
   "cell_type": "code",
   "execution_count": 11,
   "metadata": {},
   "outputs": [
    {
     "name": "stdout",
     "output_type": "stream",
     "text": [
      "Tenemos 5 en la lista.\n"
     ]
    }
   ],
   "source": [
    "# recordemos que podemos asignar el largo de la lista a una variable para luego trabajar con ella\n",
    "cantidad_organismos = len(organismos)\n",
    "print('Tenemos', len(organismos), 'en la lista.')"
   ]
  },
  {
   "cell_type": "markdown",
   "metadata": {},
   "source": [
    "Para agregar elementos a una lista tenemos dos métodos:\n",
    "* .append() > agrega un elemento al final de la lista\n",
    "* .insert() >  agrega un elemento en una determinada posición (tenemos que decirle donde va agregar el nuevo elemento)\n",
    "\n",
    "tener en cuenta que estamos agregando elementos a la lista original"
   ]
  },
  {
   "cell_type": "code",
   "execution_count": 21,
   "metadata": {},
   "outputs": [
    {
     "name": "stdout",
     "output_type": "stream",
     "text": [
      "['Homo sapiens', 'Mus musculus', 'Drosophila melanogaster', 'Arabidopsis thaliana', 'Xenopus laevis']\n",
      "['Homo sapiens', 'Mus musculus', 'Drosophila melanogaster', 'Arabidopsis thaliana', 'Xenopus laevis', 'Schizosaccharomyces pombe']\n",
      "['Homo sapiens', 'Mus musculus', 'Drosophila melanogaster', 'Gallus gallus', 'Arabidopsis thaliana', 'Xenopus laevis', 'Schizosaccharomyces pombe']\n"
     ]
    }
   ],
   "source": [
    "print(organismos)\n",
    "organismos.append('Schizosaccharomyces pombe')\n",
    "print(organismos)\n",
    "organismos.insert(3, 'Gallus gallus')\n",
    "print(organismos)"
   ]
  },
  {
   "cell_type": "markdown",
   "metadata": {},
   "source": [
    "Para borrar elementos de la lista podemos utilizar:\n",
    "* .remove() Quita el elemento de la lista\n",
    "* .pop() Quita un elemento de la lista según la posición"
   ]
  },
  {
   "cell_type": "code",
   "execution_count": 26,
   "metadata": {},
   "outputs": [
    {
     "name": "stdout",
     "output_type": "stream",
     "text": [
      "['Homo sapiens', 'Mus musculus', 'Drosophila melanogaster', 'Gallus gallus', 'Arabidopsis thaliana', 'Xenopus laevis', 'Schizosaccharomyces pombe']\n",
      "['Homo sapiens', 'Mus musculus', 'Drosophila melanogaster', 'Gallus gallus', 'Arabidopsis thaliana', 'Schizosaccharomyces pombe']\n",
      "['Homo sapiens', 'Mus musculus', 'Drosophila melanogaster', 'Arabidopsis thaliana', 'Schizosaccharomyces pombe']\n",
      "['Homo sapiens', 'Mus musculus', 'Drosophila melanogaster', 'Arabidopsis thaliana']\n"
     ]
    }
   ],
   "source": [
    "print(organismos)\n",
    "organismos.remove(\"Xenopus laevis\")\n",
    "print(organismos)\n",
    "organismos.pop(3)\n",
    "print(organismos)\n",
    "organismos.pop(-1)\n",
    "print(organismos)"
   ]
  },
  {
   "cell_type": "code",
   "execution_count": null,
   "metadata": {},
   "outputs": [],
   "source": [
    "# Completar:\n",
    "\n",
    "organismos.insert(__, ____)"
   ]
  },
  {
   "cell_type": "markdown",
   "metadata": {},
   "source": [
    "Para ordenar alfabeticamente o de menor a mayor los elementos de una lista podemos utilizar:\n",
    "* la función sorted( )\n",
    "* el método .sort( )"
   ]
  },
  {
   "cell_type": "code",
   "execution_count": 29,
   "metadata": {},
   "outputs": [
    {
     "name": "stdout",
     "output_type": "stream",
     "text": [
      "['Arabidopsis thaliana', 'Drosophila melanogaster', 'Homo sapiens', 'Mus musculus', 'Xenopus laevis']\n"
     ]
    }
   ],
   "source": [
    "print(sorted(organismos))"
   ]
  },
  {
   "cell_type": "markdown",
   "metadata": {},
   "source": [
    "Como sería con sorted?\n"
   ]
  },
  {
   "cell_type": "code",
   "execution_count": 31,
   "metadata": {},
   "outputs": [
    {
     "name": "stdout",
     "output_type": "stream",
     "text": [
      "None\n"
     ]
    }
   ],
   "source": [
    "print(organismos.sort())"
   ]
  },
  {
   "cell_type": "markdown",
   "metadata": {},
   "source": [
    "Qué paso?"
   ]
  },
  {
   "cell_type": "markdown",
   "metadata": {},
   "source": [
    "Diferencia entre sorted() y .sort()"
   ]
  },
  {
   "cell_type": "code",
   "execution_count": null,
   "metadata": {},
   "outputs": [],
   "source": []
  }
 ],
 "metadata": {
  "kernelspec": {
   "display_name": "Python 3.8.5 64-bit",
   "language": "python",
   "name": "python38564bitf828598673ad40bcad451c0ce82d561d"
  },
  "language_info": {
   "codemirror_mode": {
    "name": "ipython",
    "version": 3
   },
   "file_extension": ".py",
   "mimetype": "text/x-python",
   "name": "python",
   "nbconvert_exporter": "python",
   "pygments_lexer": "ipython3",
   "version": "3.8.5"
  }
 },
 "nbformat": 4,
 "nbformat_minor": 4
}
