{
 "cells": [
  {
   "cell_type": "markdown",
   "metadata": {},
   "source": [
    "# Python para Bionformática\n",
    "\n",
    "## Clase de los días 1 y 2, ver donde hacer el corte.\n",
    "\n",
    "### Secciones\n",
    "\n",
    "* Python como calculadora para que usen las celdas por primera vez\n",
    "* Operadores matematicos\n",
    "* Explicar qué es una variable y que asignen algunas cuentas matematicas\n",
    "* Tipos de datos de datos numértico, booleanos, strings(brevemente)\n",
    "\n",
    "* Algunas funciones built-in\n",
    "* Breve definición de métodos.\n",
    "* principales funciones y métodos de ints, bool y strings.\n",
    "\n",
    "* Listas\n",
    "* For\n",
    "* Diccionarios\n",
    "* if / else"
   ]
  },
  {
   "cell_type": "markdown",
   "metadata": {},
   "source": [
    "---"
   ]
  },
  {
   "cell_type": "markdown",
   "metadata": {},
   "source": [
    "Algunas cuentitas con Python:"
   ]
  },
  {
   "cell_type": "code",
   "execution_count": 3,
   "metadata": {},
   "outputs": [
    {
     "data": {
      "text/plain": [
       "3"
      ]
     },
     "execution_count": 3,
     "metadata": {},
     "output_type": "execute_result"
    }
   ],
   "source": [
    "3 "
   ]
  },
  {
   "cell_type": "code",
   "execution_count": 10,
   "metadata": {},
   "outputs": [
    {
     "data": {
      "text/plain": [
       "40"
      ]
     },
     "execution_count": 10,
     "metadata": {},
     "output_type": "execute_result"
    }
   ],
   "source": [
    "4 * 10"
   ]
  },
  {
   "cell_type": "code",
   "execution_count": 15,
   "metadata": {},
   "outputs": [
    {
     "data": {
      "text/plain": [
       "100000000000000"
      ]
     },
     "execution_count": 15,
     "metadata": {},
     "output_type": "execute_result"
    }
   ],
   "source": [
    "10 ** (10 + 4)"
   ]
  },
  {
   "cell_type": "code",
   "execution_count": 9,
   "metadata": {},
   "outputs": [
    {
     "data": {
      "text/plain": [
       "2.5"
      ]
     },
     "execution_count": 9,
     "metadata": {},
     "output_type": "execute_result"
    }
   ],
   "source": [
    "(12 - 2) * 2 / (10 - 2)"
   ]
  },
  {
   "cell_type": "markdown",
   "metadata": {},
   "source": [
    "Si quiero guardar el resultado de una cuenta? Lo asignamos a una variable.\n",
    "\n",
    "una variable es una etiqueta que utilizamos para referenciar al valor.\n",
    "\n",
    "* pueden incluir letras, numeros y guiones bajos (_)\n",
    "* no pueden empezar con un numero\n",
    "* son case sensitive (diferencia entre mayuscula y minusculas)"
   ]
  },
  {
   "cell_type": "markdown",
   "metadata": {},
   "source": [
    "Ahora podemos hacer cuentas con el nombre de la variable pi en lugar de hacerlo con el valor:"
   ]
  },
  {
   "cell_type": "markdown",
   "metadata": {},
   "source": [
    "![](https://idpfun.github.io/IDP_Python/fig/python-sticky-note-variables-02.svg)"
   ]
  },
  {
   "cell_type": "code",
   "execution_count": 17,
   "metadata": {},
   "outputs": [],
   "source": [
    "pi = 3.14159"
   ]
  },
  {
   "cell_type": "markdown",
   "metadata": {},
   "source": [
    "y realizar operaciones con la variable"
   ]
  },
  {
   "cell_type": "code",
   "execution_count": 18,
   "metadata": {},
   "outputs": [
    {
     "data": {
      "text/plain": [
       "62.8318"
      ]
     },
     "execution_count": 18,
     "metadata": {},
     "output_type": "execute_result"
    }
   ],
   "source": [
    "20 * pi"
   ]
  },
  {
   "cell_type": "markdown",
   "metadata": {},
   "source": [
    "calcular (y guardar) el área de un círculo de diametro 20."
   ]
  },
  {
   "cell_type": "code",
   "execution_count": 41,
   "metadata": {},
   "outputs": [],
   "source": [
    "area = pi * (50 / 2) ** 2 # Area de un círculo de di+ametro 20"
   ]
  },
  {
   "cell_type": "code",
   "execution_count": 27,
   "metadata": {},
   "outputs": [],
   "source": [
    "diametro = 50\n",
    "radio = diametro / 2\n",
    "area = pi * radio ** 2"
   ]
  },
  {
   "cell_type": "markdown",
   "metadata": {},
   "source": [
    "Si queremos imprimir en pantalla el valor de una variable podemos hacerlo con la función print():\n",
    "```python\n",
    "print(variable)\n",
    "```\n",
    "* impriman en la pantalla las variables diametro, radio, y area :)"
   ]
  },
  {
   "cell_type": "markdown",
   "metadata": {},
   "source": []
  },
  {
   "cell_type": "markdown",
   "metadata": {},
   "source": [
    "En python podemos tener diferentes **tipos de datos**\n",
    "Los más simpleson:\n",
    "\n",
    "* Numéricos\n",
    "```python\n",
    "int:      3, 8, -12, 100\n",
    "float:    2.3, 0.01, -2,31\n",
    "complex:  2 + 3j \n",
    "```\n",
    "\n",
    "\n",
    "* Cadenas de texto (se escriben entre comillas )\n",
    "```python\n",
    "string:  'Texto', \"a\", '28', \"\", \"ATGTGCGTGGAAGATGCG\"\n",
    "    ```\n",
    "\n",
    "\n",
    "\n",
    "* Booleanos\n",
    "```python\n",
    "bool:     True, False```\n",
    "\n",
    "\n",
    "\n"
   ]
  },
  {
   "cell_type": "code",
   "execution_count": 37,
   "metadata": {},
   "outputs": [],
   "source": [
    "entero = 2021\n",
    "flotante = pi\n",
    "texto = \"ATGTGCGTGGAAGATGCG\""
   ]
  },
  {
   "cell_type": "code",
   "execution_count": 42,
   "metadata": {},
   "outputs": [
    {
     "name": "stdout",
     "output_type": "stream",
     "text": [
      "2021 3.14159 ATGTGCGTGGAAGATGCG\n"
     ]
    }
   ],
   "source": [
    "print(entero, flotante, texto) # la función print nos permite imprimir más de un elemento"
   ]
  },
  {
   "cell_type": "markdown",
   "metadata": {},
   "source": [
    "\n",
    "Para conocer el tipo de dato de un valor o una variable utilizamos la función type():"
   ]
  },
  {
   "cell_type": "code",
   "execution_count": 34,
   "metadata": {},
   "outputs": [
    {
     "data": {
      "text/plain": [
       "float"
      ]
     },
     "execution_count": 34,
     "metadata": {},
     "output_type": "execute_result"
    }
   ],
   "source": [
    "type(pi)"
   ]
  },
  {
   "cell_type": "code",
   "execution_count": 36,
   "metadata": {},
   "outputs": [
    {
     "name": "stdout",
     "output_type": "stream",
     "text": [
      "<class 'int'>\n"
     ]
    },
    {
     "data": {
      "text/plain": [
       "str"
      ]
     },
     "execution_count": 36,
     "metadata": {},
     "output_type": "execute_result"
    }
   ],
   "source": [
    "print(type(100))\n",
    "print(type())\n",
    "print(type(\"Txt\"))"
   ]
  },
  {
   "cell_type": "markdown",
   "metadata": {},
   "source": [
    "En python, los operadores y las funciones que podamos utilizar sobre un dato va a depender de su tipo.\n",
    "+ Qué tipo de dato obtenemos de sumar dos enteros?\n",
    "+ Qué tipo de dato obtenemos de divir un entero por otro entero?\n",
    "+ Podremos sumar dos cadenas de texto?"
   ]
  },
  {
   "cell_type": "code",
   "execution_count": 45,
   "metadata": {},
   "outputs": [
    {
     "name": "stdout",
     "output_type": "stream",
     "text": [
      "<class 'int'>\n",
      "<class 'float'>\n"
     ]
    }
   ],
   "source": [
    "suma = 9 + 2\n",
    "div = 9 / 2\n",
    "\n",
    "print(type(suma))\n",
    "print(type(div))"
   ]
  },
  {
   "cell_type": "code",
   "execution_count": 49,
   "metadata": {},
   "outputs": [
    {
     "name": "stdout",
     "output_type": "stream",
     "text": [
      "4.0 <class 'float'>\n"
     ]
    }
   ],
   "source": [
    "# el float es porque la division no es exacta?\n",
    "div = 8/2\n",
    "print(div, type(div))"
   ]
  },
  {
   "cell_type": "code",
   "execution_count": 50,
   "metadata": {},
   "outputs": [
    {
     "data": {
      "text/plain": [
       "55"
      ]
     },
     "execution_count": 50,
     "metadata": {},
     "output_type": "execute_result"
    }
   ],
   "source": [
    "45 + 10"
   ]
  },
  {
   "cell_type": "code",
   "execution_count": 51,
   "metadata": {},
   "outputs": [
    {
     "data": {
      "text/plain": [
       "'4510'"
      ]
     },
     "execution_count": 51,
     "metadata": {},
     "output_type": "execute_result"
    }
   ],
   "source": [
    "'45' + '10' "
   ]
  },
  {
   "cell_type": "code",
   "execution_count": null,
   "metadata": {},
   "outputs": [],
   "source": [
    "El operador suma + suma algebraicamente dos enteros y concatena dos strings."
   ]
  },
  {
   "cell_type": "code",
   "execution_count": 52,
   "metadata": {},
   "outputs": [],
   "source": [
    "# Qué pasa si \"sumo\" un entero y un string?"
   ]
  },
  {
   "cell_type": "code",
   "execution_count": 53,
   "metadata": {},
   "outputs": [
    {
     "ename": "TypeError",
     "evalue": "unsupported operand type(s) for +: 'int' and 'str'",
     "output_type": "error",
     "traceback": [
      "\u001b[0;31m---------------------------------------------------------------------------\u001b[0m",
      "\u001b[0;31mTypeError\u001b[0m                                 Traceback (most recent call last)",
      "\u001b[0;32m<ipython-input-53-70f3accf862c>\u001b[0m in \u001b[0;36m<module>\u001b[0;34m\u001b[0m\n\u001b[0;32m----> 1\u001b[0;31m \u001b[0;36m45\u001b[0m \u001b[0;34m+\u001b[0m \u001b[0;34m'10'\u001b[0m\u001b[0;34m\u001b[0m\u001b[0;34m\u001b[0m\u001b[0m\n\u001b[0m",
      "\u001b[0;31mTypeError\u001b[0m: unsupported operand type(s) for +: 'int' and 'str'"
     ]
    }
   ],
   "source": [
    "45 + '10'"
   ]
  },
  {
   "cell_type": "markdown",
   "metadata": {},
   "source": [
    "El operador suma + hace la suma algebraica cuando se lo aplica sobre dos enteros mientras que sobre cadenas de texto las concatena."
   ]
  },
  {
   "cell_type": "markdown",
   "metadata": {},
   "source": [
    "En algunos casos es neceario convertir un tipo de dato en otro.\n",
    "Las funciones:\n",
    "+ int() convierte un valor a entero\n",
    "+ float() a flotante\n",
    "+ str() a string\n",
    "+ bool() a booleanos\n",
    "\n",
    "Esto no siempre es posible, depende el caso"
   ]
  },
  {
   "cell_type": "code",
   "execution_count": 59,
   "metadata": {},
   "outputs": [
    {
     "name": "stdout",
     "output_type": "stream",
     "text": [
      "55\n",
      "4510\n"
     ]
    }
   ],
   "source": [
    "print( 45 + int(\"10\"))\n",
    "print( \"45\" + str(\"10\"))"
   ]
  },
  {
   "cell_type": "code",
   "execution_count": 61,
   "metadata": {},
   "outputs": [
    {
     "ename": "ValueError",
     "evalue": "invalid literal for int() with base 10: 'treinta'",
     "output_type": "error",
     "traceback": [
      "\u001b[0;31m---------------------------------------------------------------------------\u001b[0m",
      "\u001b[0;31mValueError\u001b[0m                                Traceback (most recent call last)",
      "\u001b[0;32m<ipython-input-61-d6e1b6ee3daa>\u001b[0m in \u001b[0;36m<module>\u001b[0;34m\u001b[0m\n\u001b[0;32m----> 1\u001b[0;31m \u001b[0mint\u001b[0m\u001b[0;34m(\u001b[0m\u001b[0;34m\"treinta\"\u001b[0m\u001b[0;34m)\u001b[0m\u001b[0;34m\u001b[0m\u001b[0;34m\u001b[0m\u001b[0m\n\u001b[0m",
      "\u001b[0;31mValueError\u001b[0m: invalid literal for int() with base 10: 'treinta'"
     ]
    }
   ],
   "source": [
    "int(\"treinta\")"
   ]
  },
  {
   "cell_type": "code",
   "execution_count": null,
   "metadata": {},
   "outputs": [],
   "source": []
  },
  {
   "cell_type": "markdown",
   "metadata": {},
   "source": [
    "## Listas"
   ]
  },
  {
   "cell_type": "markdown",
   "metadata": {},
   "source": [
    "* Colección **ordenada** de elementos (datos)\n",
    "* Mutable (se pueden cambiar los elementos)"
   ]
  },
  {
   "cell_type": "markdown",
   "metadata": {},
   "source": [
    "Las listas se definen mediante corchetes [] con los elementos que conforman la lista separados por comas ,"
   ]
  },
  {
   "cell_type": "code",
   "execution_count": 28,
   "metadata": {},
   "outputs": [],
   "source": [
    "organismos = ['Homo sapiens', 'Mus musculus', 'Drosophila melanogaster', 'Arabidopsis thaliana', \"Xenopus laevis\"]"
   ]
  },
  {
   "cell_type": "code",
   "execution_count": 4,
   "metadata": {},
   "outputs": [
    {
     "name": "stdout",
     "output_type": "stream",
     "text": [
      "['Homo sapiens', 'Mus musculus', 'Drosophila melanogaster', 'Arabidopsis thaliana', 'Xenopus laevis']\n",
      "<class 'list'>\n"
     ]
    }
   ],
   "source": [
    "print(organismos)\n",
    "print(type(organismos))"
   ]
  },
  {
   "cell_type": "markdown",
   "metadata": {},
   "source": [
    "### Qué podemos hacer con una lista?\n",
    "\n",
    "* Acceder a los elementos\n",
    "* Modificar elementos\n",
    "* Contar elementos\n",
    "* Agregar elementos\n",
    "* Quitar elementos\n",
    "* Ordenar la lista\n",
    "* Saber si un elemento está en la lista\n"
   ]
  },
  {
   "cell_type": "markdown",
   "metadata": {},
   "source": [
    "Utilizando los [ ] podemos acceder a los elementos de la lista según su posición (similar a como hicimos con los strings)"
   ]
  },
  {
   "cell_type": "code",
   "execution_count": 9,
   "metadata": {},
   "outputs": [
    {
     "name": "stdout",
     "output_type": "stream",
     "text": [
      "El tercer organismo de la lista es: Arabidopsis thaliana\n"
     ]
    }
   ],
   "source": [
    "print('El tercer organismo de la lista es:', organismos[3])\n"
   ]
  },
  {
   "cell_type": "markdown",
   "metadata": {},
   "source": [
    "Completar"
   ]
  },
  {
   "cell_type": "code",
   "execution_count": null,
   "metadata": {},
   "outputs": [],
   "source": [
    "print('El primer organismo de la lista es:', _____ )\n",
    "print('El segundo organismo de la lista es:', _____ )\n",
    "print('El organismo de la lista es:', organismos [__])\n"
   ]
  },
  {
   "cell_type": "markdown",
   "metadata": {},
   "source": [
    "Utilizando los índices y la asignación podemos modificar los elementos de la lista"
   ]
  },
  {
   "cell_type": "code",
   "execution_count": 35,
   "metadata": {},
   "outputs": [
    {
     "name": "stdout",
     "output_type": "stream",
     "text": [
      "['Arabidopsis thaliana', 'Drosophila melanogaster', 'Homo sapiens', 'Mus musculus', 'Xenopus laevis']\n"
     ]
    }
   ],
   "source": [
    "organismos2 = organismos.copy() # copiamos la lista para no modificar la original\n",
    "print(organismos2)"
   ]
  },
  {
   "cell_type": "code",
   "execution_count": null,
   "metadata": {},
   "outputs": [],
   "source": [
    "organimos2[2] = 'S. Pombe'\n",
    "print(organismos2)"
   ]
  },
  {
   "cell_type": "code",
   "execution_count": 36,
   "metadata": {},
   "outputs": [
    {
     "name": "stdout",
     "output_type": "stream",
     "text": [
      "['Xenopus laevis', 'Drosophila melanogaster', 'Homo sapiens', 'Mus musculus', 'Xenopus laevis']\n"
     ]
    }
   ],
   "source": [
    "organimos2[0] = organimos2[-1]\n",
    "print(organimos2)"
   ]
  },
  {
   "cell_type": "code",
   "execution_count": null,
   "metadata": {},
   "outputs": [],
   "source": []
  },
  {
   "cell_type": "markdown",
   "metadata": {},
   "source": [
    "Para saber cuántos elementos contiene la lista usamos la función len( )"
   ]
  },
  {
   "cell_type": "code",
   "execution_count": 10,
   "metadata": {},
   "outputs": [
    {
     "name": "stdout",
     "output_type": "stream",
     "text": [
      "Tenemos 5 en la lista.\n"
     ]
    }
   ],
   "source": [
    "print('Tenemos', len(organismos), 'en la lista.')"
   ]
  },
  {
   "cell_type": "code",
   "execution_count": 11,
   "metadata": {},
   "outputs": [
    {
     "name": "stdout",
     "output_type": "stream",
     "text": [
      "Tenemos 5 en la lista.\n"
     ]
    }
   ],
   "source": [
    "# recordemos que podemos asignar el largo de la lista a una variable para luego trabajar con ella\n",
    "cantidad_organismos = len(organismos)\n",
    "print('Tenemos', len(organismos), 'en la lista.')"
   ]
  },
  {
   "cell_type": "markdown",
   "metadata": {},
   "source": [
    "Para agregar elementos a una lista tenemos dos métodos:\n",
    "* .append() > agrega un elemento al final de la lista\n",
    "* .insert() >  agrega un elemento en una determinada posición (tenemos que decirle donde va agregar el nuevo elemento)\n",
    "\n",
    "tener en cuenta que estamos agregando elementos a la lista original"
   ]
  },
  {
   "cell_type": "code",
   "execution_count": 21,
   "metadata": {},
   "outputs": [
    {
     "name": "stdout",
     "output_type": "stream",
     "text": [
      "['Homo sapiens', 'Mus musculus', 'Drosophila melanogaster', 'Arabidopsis thaliana', 'Xenopus laevis']\n",
      "['Homo sapiens', 'Mus musculus', 'Drosophila melanogaster', 'Arabidopsis thaliana', 'Xenopus laevis', 'Schizosaccharomyces pombe']\n",
      "['Homo sapiens', 'Mus musculus', 'Drosophila melanogaster', 'Gallus gallus', 'Arabidopsis thaliana', 'Xenopus laevis', 'Schizosaccharomyces pombe']\n"
     ]
    }
   ],
   "source": [
    "print(organismos)\n",
    "organismos.append('Schizosaccharomyces pombe')\n",
    "print(organismos)\n",
    "organismos.insert(3, 'Gallus gallus')\n",
    "print(organismos)"
   ]
  },
  {
   "cell_type": "markdown",
   "metadata": {},
   "source": [
    "Para borrar elementos de la lista podemos utilizar:\n",
    "* .remove() Quita el elemento de la lista\n",
    "* .pop() Quita un elemento de la lista según la posición"
   ]
  },
  {
   "cell_type": "code",
   "execution_count": 26,
   "metadata": {},
   "outputs": [
    {
     "name": "stdout",
     "output_type": "stream",
     "text": [
      "['Homo sapiens', 'Mus musculus', 'Drosophila melanogaster', 'Gallus gallus', 'Arabidopsis thaliana', 'Xenopus laevis', 'Schizosaccharomyces pombe']\n",
      "['Homo sapiens', 'Mus musculus', 'Drosophila melanogaster', 'Gallus gallus', 'Arabidopsis thaliana', 'Schizosaccharomyces pombe']\n",
      "['Homo sapiens', 'Mus musculus', 'Drosophila melanogaster', 'Arabidopsis thaliana', 'Schizosaccharomyces pombe']\n",
      "['Homo sapiens', 'Mus musculus', 'Drosophila melanogaster', 'Arabidopsis thaliana']\n"
     ]
    }
   ],
   "source": [
    "print(organismos)\n",
    "organismos.remove(\"Xenopus laevis\")\n",
    "print(organismos)\n",
    "organismos.pop(3)\n",
    "print(organismos)\n",
    "organismos.pop(-1)\n",
    "print(organismos)"
   ]
  },
  {
   "cell_type": "code",
   "execution_count": null,
   "metadata": {},
   "outputs": [],
   "source": [
    "# Completar:\n",
    "\n",
    "organismos.insert(__, ____)"
   ]
  },
  {
   "cell_type": "markdown",
   "metadata": {},
   "source": [
    "Para ordenar alfabeticamente o de menor a mayor los elementos de una lista podemos utilizar:\n",
    "* la función sorted( )\n",
    "* el método .sort( )"
   ]
  },
  {
   "cell_type": "code",
   "execution_count": 29,
   "metadata": {},
   "outputs": [
    {
     "name": "stdout",
     "output_type": "stream",
     "text": [
      "['Arabidopsis thaliana', 'Drosophila melanogaster', 'Homo sapiens', 'Mus musculus', 'Xenopus laevis']\n"
     ]
    }
   ],
   "source": [
    "print(sorted(organismos))"
   ]
  },
  {
   "cell_type": "markdown",
   "metadata": {},
   "source": [
    "Como sería con sorted?\n"
   ]
  },
  {
   "cell_type": "code",
   "execution_count": 31,
   "metadata": {},
   "outputs": [
    {
     "name": "stdout",
     "output_type": "stream",
     "text": [
      "None\n"
     ]
    }
   ],
   "source": [
    "print(organismos.sort())"
   ]
  },
  {
   "cell_type": "markdown",
   "metadata": {},
   "source": [
    "Qué paso?"
   ]
  },
  {
   "cell_type": "markdown",
   "metadata": {},
   "source": [
    "Diferencia entre sorted() y .sort()"
   ]
  },
  {
   "cell_type": "code",
   "execution_count": 37,
   "metadata": {},
   "outputs": [
    {
     "data": {
      "text/html": [
       "\n",
       "        <iframe\n",
       "            width=\"100%\"\n",
       "            height=\"500\"\n",
       "            src=\"https://htmlpreview.github.io/?https://raw.githubusercontent.com/Ferorti/escuela2019/master/pres.html\"\n",
       "            frameborder=\"0\"\n",
       "            allowfullscreen\n",
       "        ></iframe>\n",
       "        "
      ],
      "text/plain": [
       "<IPython.lib.display.IFrame at 0x7fdb8e7613a0>"
      ]
     },
     "metadata": {},
     "output_type": "display_data"
    }
   ],
   "source": [
    "from IPython.display import IFrame\n",
    "display(IFrame('https://htmlpreview.github.io/?https://raw.githubusercontent.com/Ferorti/escuela2019/master/pres.html', width='100%', height=500))"
   ]
  },
  {
   "cell_type": "markdown",
   "metadata": {},
   "source": [
    "<head>\n",
    "<syle\n",
    ".error {\n",
    " color:#bd2c00;\n",
    " border:solid 0.5px #bd2c00;\n",
    " border-left:solid 5px #bd2c00;\n",
    " margin:15px 5px 10px 0;\n",
    " border-radius:4px 0 0 4px\n",
    "}\n",
    ".output {\n",
    " color:#303030;\n",
    " border:solid 0.5px #303030;\n",
    " border-left:solid 5px #303030;\n",
    " margin:15px 5px 10px 0;\n",
    " border-radius:4px 0 0 4px\n",
    "}\n",
    ".source {\n",
    " color:#6e5494;\n",
    " border:solid 0.5px #6e5494;\n",
    " border-left:solid 5px #6e5494;\n",
    " margin:15px 5px 10px 0;\n",
    " border-radius:4px 0 0 4px\n",
    "}\n",
    ".bash,\n",
    ".language-bash {\n",
    " color:#6e5494;\n",
    " border:solid 0.5px #6e5494;\n",
    " border-left:solid 5px #6e5494;\n",
    " margin:15px 5px 10px 0;\n",
    " border-radius:4px 0 0 4px\n",
    "}\n",
    ".make,\n",
    ".language-make {\n",
    " color:#6e5494;\n",
    " border:solid 0.5px #6e5494;\n",
    " border-left:solid 5px #6e5494;\n",
    " margin:15px 5px 10px 0;\n",
    " border-radius:4px 0 0 4px\n",
    "}\n",
    ".matlab,\n",
    ".language-matlab {\n",
    " color:#6e5494;\n",
    " border:solid 0.5px #6e5494;\n",
    " border-left:solid 5px #6e5494;\n",
    " margin:15px 5px 10px 0;\n",
    " border-radius:4px 0 0 4px\n",
    "}\n",
    ".python,\n",
    ".language-python {\n",
    " color:#6e5494;\n",
    " border:solid 0.5px #6e5494;\n",
    " border-left:solid 5px #6e5494;\n",
    " margin:15px 5px 10px 0;\n",
    " border-radius:4px 0 0 4px\n",
    "}\n",
    ".r,\n",
    ".language-r {\n",
    " color:#6e5494;\n",
    " border:solid 0.5px #6e5494;\n",
    " border-left:solid 5px #6e5494;\n",
    " margin:15px 5px 10px 0;\n",
    " border-radius:4px 0 0 4px\n",
    "}\n",
    ".sql,\n",
    ".language-sql {\n",
    " color:#6e5494;\n",
    " border:solid 0.5px #6e5494;\n",
    " border-left:solid 5px #6e5494;\n",
    " margin:15px 5px 10px 0;\n",
    " border-radius:4px 0 0 4px\n",
    "}\n",
    ".error::before,\n",
    ".output::before,\n",
    ".source::before,\n",
    ".bash::before,\n",
    ".language-bash::before,\n",
    ".make::before,\n",
    ".language-make::before,\n",
    ".matlab::before,\n",
    ".language-matlab::before,\n",
    ".python::before,\n",
    ".language-python::before,\n",
    ".r::before,\n",
    ".language-r::before,\n",
    ".sql::before,\n",
    ".language-sql::before {\n",
    " background-color:#f2eff6;\n",
    " display:block;\n",
    " font-weight:bold;\n",
    " padding:5px 10px\n",
    "}\n",
    ".error::before {\n",
    " background-color:#ffebe6;\n",
    " content:\"Error\"\n",
    "}\n",
    ".output::before {\n",
    " background-color:#efefef;\n",
    " content:\"Output\"\n",
    "}\n",
    ".source::before {\n",
    " content:\"Code\"\n",
    "}\n",
    ".bash::before,\n",
    ".language-bash::before {\n",
    " content:\"Bash\"\n",
    "}\n",
    ".make::before,\n",
    ".language-make::before {\n",
    " content:\"Make\"\n",
    "}\n",
    ".matlab::before,\n",
    ".language-matlab::before {\n",
    " content:\"Matlab\"\n",
    "}\n",
    ".python::before,\n",
    ".language-python::before {\n",
    " content:\"Python\"\n",
    "}\n",
    ".r::before,\n",
    ".language-r::before {\n",
    " content:\"R\"\n",
    "}\n",
    ".sql::before,\n",
    ".language-sql::before {\n",
    " content:\"SQL\"\n",
    "}\n",
    ".callout {\n",
    " padding:0 0 5px 5px;\n",
    " border:1px solid;\n",
    " border-color:#f4fd9c;\n",
    " border-radius:4px;\n",
    " margin:15px 5px 10px 0\n",
    "}\n",
    ".callout h2 {\n",
    " padding-top:5px;\n",
    " padding-bottom:5px;\n",
    " font-size:20px;\n",
    " background:linear-gradient(to bottom, #f4fd9c, #f5fda6);\n",
    " border-color:#f4fd9c;\n",
    " margin-top:0px;\n",
    " margin-left:-5px\n",
    "}\n",
    ".callout h2:before {\n",
    " font-family:'Glyphicons Halflings';\n",
    " content:\"\";\n",
    " float:left;\n",
    " padding-left:5px;\n",
    " padding-right:5px;\n",
    " display:inline-block;\n",
    " -webkit-font-smoothing:antialiased\n",
    "}\n",
    ".challenge {\n",
    " padding:0 0 5px 5px;\n",
    " border:1px solid;\n",
    " border-color:#eec275;\n",
    " border-radius:4px;\n",
    " margin:15px 5px 10px 0\n",
    "}\n",
    ".challenge h2 {\n",
    " padding-top:5px;\n",
    " padding-bottom:5px;\n",
    " font-size:20px;\n",
    " background:linear-gradient(to bottom, #eec275, #f0c883);\n",
    " border-color:#eec275;\n",
    " margin-top:0px;\n",
    " margin-left:-5px\n",
    "}\n",
    ".challenge h2:before {\n",
    " font-family:'Glyphicons Halflings';\n",
    " content:\"✏\";\n",
    " float:left;\n",
    " padding-left:5px;\n",
    " padding-right:5px;\n",
    " display:inline-block;\n",
    " -webkit-font-smoothing:antialiased\n",
    "}\n",
    ".checklist {\n",
    " padding:0 0 5px 5px;\n",
    " border:1px solid;\n",
    " border-color:#dfd2a0;\n",
    " border-radius:4px;\n",
    " margin:15px 5px 10px 0\n",
    "}\n",
    ".checklist h2 {\n",
    " padding-top:5px;\n",
    " padding-bottom:5px;\n",
    " font-size:20px;\n",
    " background:linear-gradient(to bottom, #dfd2a0, #e2d7aa);\n",
    " border-color:#dfd2a0;\n",
    " margin-top:0px;\n",
    " margin-left:-5px\n",
    "}\n",
    ".checklist h2:before {\n",
    " font-family:'Glyphicons Halflings';\n",
    " content:\"\";\n",
    " float:left;\n",
    " padding-left:5px;\n",
    " padding-right:5px;\n",
    " display:inline-block;\n",
    " -webkit-font-smoothing:antialiased\n",
    "}\n",
    ".discussion {\n",
    " padding:0 0 5px 5px;\n",
    " border:1px solid;\n",
    " border-color:#eec275;\n",
    " border-radius:4px;\n",
    " margin:15px 5px 10px 0\n",
    "}\n",
    ".discussion h2 {\n",
    " padding-top:5px;\n",
    " padding-bottom:5px;\n",
    " font-size:20px;\n",
    " background:linear-gradient(to bottom, #eec275, #f0c883);\n",
    " border-color:#eec275;\n",
    " margin-top:0px;\n",
    " margin-left:-5px\n",
    "}\n",
    ".discussion h2:before {\n",
    " font-family:'Glyphicons Halflings';\n",
    " content:\"\";\n",
    " float:left;\n",
    " padding-left:5px;\n",
    " padding-right:5px;\n",
    " display:inline-block;\n",
    " -webkit-font-smoothing:antialiased\n",
    "}\n",
    ".keypoints {\n",
    " padding:0 0 5px 5px;\n",
    " border:1px solid;\n",
    " border-color:#7ae78e;\n",
    " border-radius:4px;\n",
    " margin:15px 5px 10px 0\n",
    "}\n",
    ".keypoints h2 {\n",
    " padding-top:5px;\n",
    " padding-bottom:5px;\n",
    " font-size:20px;\n",
    " background:linear-gradient(to bottom, #7ae78e, #87e999);\n",
    " border-color:#7ae78e;\n",
    " margin-top:0px;\n",
    " margin-left:-5px\n",
    "}\n",
    ".keypoints h2:before {\n",
    " font-family:'Glyphicons Halflings';\n",
    " content:\"\";\n",
    " float:left;\n",
    " padding-left:5px;\n",
    " padding-right:5px;\n",
    " display:inline-block;\n",
    " -webkit-font-smoothing:antialiased\n",
    "}\n",
    ".objectives {\n",
    " padding:0 0 5px 5px;\n",
    " border:1px solid;\n",
    " border-color:#daee84;\n",
    " border-radius:4px;\n",
    " margin:15px 5px 10px 0\n",
    "}\n",
    ".objectives h2 {\n",
    " padding-top:5px;\n",
    " padding-bottom:5px;\n",
    " font-size:20px;\n",
    " background:linear-gradient(to bottom, #daee84, #def090);\n",
    " border-color:#daee84;\n",
    " margin-top:0px;\n",
    " margin-left:-5px\n",
    "}\n",
    ".objectives h2:before {\n",
    " font-family:'Glyphicons Halflings';\n",
    " content:\"\";\n",
    " float:left;\n",
    " padding-left:5px;\n",
    " padding-right:5px;\n",
    " display:inline-block;\n",
    " -webkit-font-smoothing:antialiased\n",
    "}\n",
    ".prereq {\n",
    " padding:0 0 5px 5px;\n",
    " border:1px solid;\n",
    " border-color:#9cd6dc;\n",
    " border-radius:4px;\n",
    " margin:15px 5px 10px 0\n",
    "}\n",
    ".prereq h2 {\n",
    " padding-top:5px;\n",
    " padding-bottom:5px;\n",
    " font-size:20px;\n",
    " background:linear-gradient(to bottom, #9cd6dc, #a6dae0);\n",
    " border-color:#9cd6dc;\n",
    " margin-top:0px;\n",
    " margin-left:-5px\n",
    "}\n",
    ".prereq h2:before {\n",
    " font-family:'Glyphicons Halflings';\n",
    " content:\"\";\n",
    " float:left;\n",
    " padding-left:5px;\n",
    " padding-right:5px;\n",
    " display:inline-block;\n",
    " -webkit-font-smoothing:antialiased\n",
    "}\n",
    ".solution {\n",
    " padding:0 0 5px 5px;\n",
    " border:1px solid;\n",
    " border-color:#ded4b9;\n",
    " border-radius:4px;\n",
    " margin:15px 5px 10px 0\n",
    "}\n",
    ".solution h2 {\n",
    " padding-top:5px;\n",
    " padding-bottom:5px;\n",
    " font-size:20px;\n",
    " background:linear-gradient(to bottom, #ded4b9, #e1d8c0);\n",
    " border-color:#ded4b9;\n",
    " margin-top:0px;\n",
    " margin-left:-5px\n",
    "}\n",
    ".solution h2:before {\n",
    " font-family:'Glyphicons Halflings';\n",
    " content:\"\";\n",
    " float:left;\n",
    " padding-left:5px;\n",
    " padding-right:5px;\n",
    " display:inline-block;\n",
    " -webkit-font-smoothing:antialiased\n",
    "}\n",
    ".testimonial {\n",
    " padding:0 0 5px 5px;\n",
    " border:1px solid;\n",
    " border-color:#fc8dc1;\n",
    " border-radius:4px;\n",
    " margin:15px 5px 10px 0\n",
    "}\n",
    ".testimonial h2 {\n",
    " padding-top:5px;\n",
    " padding-bottom:5px;\n",
    " font-size:20px;\n",
    " background:linear-gradient(to bottom, #fc8dc1, #fc98c7);\n",
    " border-color:#fc8dc1;\n",
    " margin-top:0px;\n",
    " margin-left:-5px\n",
    "}\n",
    ".testimonial h2:before {\n",
    " font-family:'Glyphicons Halflings';\n",
    " content:\"\";\n",
    " float:left;\n",
    " padding-left:5px;\n",
    " padding-right:5px;\n",
    " display:inline-block;\n",
    " -webkit-font-smoothing:antialiased\n",
    "}\n",
    ".callout h3,\n",
    ".challenge h3,\n",
    ".checklist h3,\n",
    ".discussion h3,\n",
    ".keypoints h3,\n",
    ".objectives h3,\n",
    ".prereq h3,\n",
    ".solution h3,\n",
    ".testimonial h3 {\n",
    " font-size:18px\n",
    "}\n",
    ".challenge {\n",
    " background-color:#eec27520\n",
    "}\n",
    ".callout {\n",
    " background-color:#f4fd9c20\n",
    "}\n",
    ".challenge {\n",
    " background-color:#eec27520\n",
    "}\n",
    ".checklist {\n",
    " background-color:#dfd2a020\n",
    "}\n",
    ".discussion {\n",
    " background-color:#eec27520\n",
    "}\n",
    ".keypoints {\n",
    " background-color:#7ae78e20\n",
    "}\n",
    ".objectives {\n",
    " background-color:#daee8420\n",
    "}\n",
    ".prereq {\n",
    " background-color:#9cd6dc20\n",
    "}\n",
    ".solution {\n",
    " background-color:#ded4b94d\n",
    "}\n",
    ".testimonial {\n",
    " background-color:#fc8dc120\n",
    "}\n",
    "blockquote p {\n",
    " margin:5px\n",
    "}\n",
    "code {\n",
    " white-space:nowrap;\n",
    " padding:2px 5px;\n",
    " color:#006cad;\n",
    " background-color:#e7e7e7\n",
    "}\n",
    "article img {\n",
    " display:block;\n",
    " margin:20px auto;\n",
    " max-width:100%\n",
    "}\n",
    "article h2 {\n",
    " margin:48px 0 16px;\n",
    " border-bottom:solid 1px #eaecef;\n",
    " padding-bottom:0.3em;\n",
    " line-height:1.25\n",
    "}\n",
    "article h3 {\n",
    " margin:40px 0 16px\n",
    "}\n",
    "article pre {\n",
    " margin:0;\n",
    " border:0\n",
    "}\n",
    ".figures h2 {\n",
    " margin-top:100px\n",
    "}\n",
    ".maintitle {\n",
    " text-align:center\n",
    "}\n",
    ".footertext {\n",
    " text-align:center\n",
    "}\n",
    "footer .copyright,\n",
    "footer .help-links {\n",
    " font-size:inherit;\n",
    " margin-top:10px;\n",
    " margin-bottom:10px;\n",
    " font-weight:500;\n",
    " line-height:1.1\n",
    "}\n",
    "img.navbar-logo {\n",
    " height:40px;\n",
    " padding-top:5px;\n",
    " padding-right:10px\n",
    "}\n",
    "div.branding {\n",
    " color:#2b3990\n",
    "}\n",
    "ul,\n",
    "ol {\n",
    " padding-left:2em\n",
    "}\n",
    "span.fold-unfold {\n",
    " margin-left:1em;\n",
    " opacity:0.5\n",
    "}\n",
    "div.life-cycle {\n",
    " position:-webkit-sticky;\n",
    " position:sticky;\n",
    " top:0;\n",
    " z-index:100;\n",
    " font-size:1.2em;\n",
    " text-align:center;\n",
    " margin-bottom:-1px;\n",
    " border-radius:0\n",
    "}\n",
    ".pre-alpha {\n",
    " color:#a94442;\n",
    " background:#f2dede\n",
    "}\n",
    ".alpha {\n",
    " color:#8a6d3b;\n",
    " background:#fcf8e3\n",
    "}\n",
    ".beta {\n",
    " color:#31708f;\n",
    " background:#d9edf7\n",
    "}\n",
    "kbd {\n",
    " display:inline-block;\n",
    " margin:0 .1em;\n",
    " padding:.1em .6em;\n",
    " font-family:Arial,\"Helvetica Neue\",Helvetica,sans-serif;\n",
    " font-size:11px;\n",
    " line-height:1.4;\n",
    " color:#242729;\n",
    " text-shadow:0 1px 0 #FFF;\n",
    " background-color:#e1e3e5;\n",
    " border:1px solid #adb3b9;\n",
    " border-radius:3px;\n",
    " box-shadow:0 1px 0 rgba(12,13,14,0.2),0 0 0 2px #FFF inset;\n",
    " white-space:nowrap;\n",
    " font-style:normal\n",
    "}\n",
    "\n",
    ">\n",
    "</head>\n",
    "\n",
    "<h2>Key Points</h2>\n",
    "<ul class='keypoints'>\n",
    "<li><p>Every value has a type.</p></li>\n",
    "<li><p>Use the built-in function <code class=\"language-plaintext highlighter-rouge\">type</code> to find the type of a value.</p></li>\n",
    "<li><p>Types control what operations can be done on values.</p>\n",
    "</ul>\n"
   ]
  },
  {
   "cell_type": "code",
   "execution_count": null,
   "metadata": {},
   "outputs": [],
   "source": []
  }
 ],
 "metadata": {
  "kernelspec": {
   "display_name": "Python 3",
   "language": "python",
   "name": "python3"
  },
  "language_info": {
   "codemirror_mode": {
    "name": "ipython",
    "version": 3
   },
   "file_extension": ".py",
   "mimetype": "text/x-python",
   "name": "python",
   "nbconvert_exporter": "python",
   "pygments_lexer": "ipython3",
   "version": "3.8.5"
  }
 },
 "nbformat": 4,
 "nbformat_minor": 4
}
