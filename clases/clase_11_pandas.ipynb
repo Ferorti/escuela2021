{
 "cells": [
  {
   "cell_type": "markdown",
   "metadata": {},
   "source": [
    "#### Secciones\n",
    "\n",
    "+ Agrupamiento de datos\n",
    "+ Union de dataframes\n",
    "+ Visualizaciones"
   ]
  },
  {
   "cell_type": "markdown",
   "metadata": {},
   "source": [
    "En uno de los ejercicios vistos en clase teniamos dos listas pareadas con los pesos moleculares de los aminoácidos."
   ]
  },
  {
   "cell_type": "code",
   "execution_count": null,
   "metadata": {},
   "outputs": [],
   "source": [
    "import pandas as pd"
   ]
  },
  {
   "cell_type": "code",
   "execution_count": null,
   "metadata": {},
   "outputs": [],
   "source": [
    "df = pd.read_csv(\"https://raw.githubusercontent.com/Ferorti/escuela2021/main/data/america.csv\")"
   ]
  },
  {
   "cell_type": "code",
   "execution_count": null,
   "metadata": {},
   "outputs": [],
   "source": [
    "df['letalidad'] = df['fallecidos'] / df['casos_totales'] * 100"
   ]
  },
  {
   "cell_type": "markdown",
   "metadata": {},
   "source": [
    "Muchas veces tenemos que agrupar datos según más de una categoría.\n",
    "\n",
    "Con lo que aprendimos podríamos realizar subsets o querys para generar distintos dataframes con cada categoría, por ej:\n"
   ]
  },
  {
   "cell_type": "code",
   "execution_count": null,
   "metadata": {},
   "outputs": [],
   "source": [
    "sudamerica = df.query('region == \"S\"')\n",
    "centroamerica = df.query('region == \"C\"')\n",
    "norteamerica = df.query('region == \"N\"')"
   ]
  },
  {
   "cell_type": "markdown",
   "metadata": {},
   "source": [
    "Esto es un proceso poco practico y menos aún si hay muchas categorías. \n",
    "\n",
    "Con pandas podemos agrupar dataframes automaticamente por una columna categórica utilizando el método ```.groupby()```"
   ]
  },
  {
   "cell_type": "code",
   "execution_count": null,
   "metadata": {},
   "outputs": [],
   "source": [
    "dfs = {}\n",
    "for region, grupo in df.groupby('region'):\n",
    "    dfs[region] = grupo"
   ]
  },
  {
   "cell_type": "code",
   "execution_count": null,
   "metadata": {},
   "outputs": [],
   "source": [
    "dfs['S']"
   ]
  },
  {
   "cell_type": "markdown",
   "metadata": {},
   "source": [
    "Además de crear datafrmes, el método groupby nos permite realizar directamente operaciones para cada grupo:"
   ]
  },
  {
   "cell_type": "code",
   "execution_count": null,
   "metadata": {},
   "outputs": [],
   "source": [
    "df.groupby('region').sum()"
   ]
  },
  {
   "cell_type": "code",
   "execution_count": null,
   "metadata": {},
   "outputs": [],
   "source": [
    "df.groupby('region').mean().round()"
   ]
  },
  {
   "cell_type": "code",
   "execution_count": null,
   "metadata": {},
   "outputs": [],
   "source": [
    "df.groupby('region').fallecidos.sum()"
   ]
  },
  {
   "cell_type": "markdown",
   "metadata": {},
   "source": [
    "Utilizando el método .agg() podemos aplicar varias funciones sobre los grupos:"
   ]
  },
  {
   "cell_type": "code",
   "execution_count": null,
   "metadata": {},
   "outputs": [],
   "source": [
    "df.groupby('region').fallecidos.agg([\"sum\",'count', 'mean', 'std']).round()"
   ]
  },
  {
   "cell_type": "code",
   "execution_count": null,
   "metadata": {},
   "outputs": [],
   "source": [
    "df.groupby('region').agg({'fallecidos':['sum', 'mean'], 'letalidad':['mean', 'max', 'min']}).round(2)"
   ]
  },
  {
   "cell_type": "code",
   "execution_count": null,
   "metadata": {},
   "outputs": [],
   "source": [
    "def listar_paises(lista):\n",
    "    return \", \".join(lista)\n",
    "    "
   ]
  },
  {
   "cell_type": "code",
   "execution_count": null,
   "metadata": {},
   "outputs": [],
   "source": [
    "df.groupby('region').agg({'fallecidos':['sum', 'mean'], 'letalidad':['mean', 'max', 'min'], 'pais':['count', listar_paises]}).round(2)"
   ]
  },
  {
   "cell_type": "code",
   "execution_count": null,
   "metadata": {},
   "outputs": [],
   "source": []
  },
  {
   "cell_type": "markdown",
   "metadata": {},
   "source": [
    "Combinar DataFrames\n",
    "\n",
    "En el caso de que tengamos diferentes tablas, combinarlas de diferentes formas:\n",
    "\n",
    "+ podemos concatener dataframes con la función ```pd.concat()``` tanto con filas como con columnas:\n",
    "\n",
    "+ podemos unir distintos datafarme utilizando el método ```.merge()``` o el método ```.join()```\n",
    "\n",
    "Juegmos un poco con el dataframe de los pesos moleculares"
   ]
  },
  {
   "cell_type": "code",
   "execution_count": null,
   "metadata": {},
   "outputs": [],
   "source": [
    "pms = [['I', 'Ile', 131.1736], ['L', 'Leu', 131.1736], ['K', 'Lys', 146.1882], ['M', 'Met', 149.2124], ['F', 'Phe', 165.19], ['T', 'Thr', 119.1197], ['W', 'Trp', 204.2262], ['V', 'Val', 117.1469], ['R', 'Arg', 174.2017], ['H', 'His', 155.1552], ['A', 'Ala', 89.0935], ['N', 'Asn', 132.1184],\n",
    " ['D', 'Asp', 133.1032], ['C', 'Cys', 121.159], ['E', 'Glu', 147.1299], ['Q', 'Gln', 146.1451], ['G', 'Gly', 75.0669], ['P', 'Pro', 115.131], ['S', 'Ser', 105.093], ['Y', 'Tyr', 181.1894]]\n",
    "\n",
    "pesos_moleculares = pd.DataFrame(pms, columns=['aa', 'codigo', 'pesos'])"
   ]
  },
  {
   "cell_type": "code",
   "execution_count": null,
   "metadata": {},
   "outputs": [],
   "source": [
    "primeros = pesos_moleculares.head()\n",
    "primeros"
   ]
  },
  {
   "cell_type": "code",
   "execution_count": null,
   "metadata": {},
   "outputs": [],
   "source": [
    "ultimos = pesos_moleculares.tail()\n",
    "ultimos"
   ]
  },
  {
   "cell_type": "code",
   "execution_count": null,
   "metadata": {},
   "outputs": [],
   "source": [
    "codigos = pesos_moleculares[['aa', 'codigo']]\n",
    "codigos"
   ]
  },
  {
   "cell_type": "code",
   "execution_count": null,
   "metadata": {},
   "outputs": [],
   "source": [
    "pesos = pesos_moleculares[['aa','pesos']]\n",
    "pesos"
   ]
  },
  {
   "cell_type": "code",
   "execution_count": null,
   "metadata": {},
   "outputs": [],
   "source": [
    "# Concatener uno abajo del otro\n",
    "pd.concat([primeros, ultimos])"
   ]
  },
  {
   "cell_type": "code",
   "execution_count": null,
   "metadata": {},
   "outputs": [],
   "source": [
    "pd.concat([codigos, pesos], axis=1).T.drop_duplicates().T"
   ]
  },
  {
   "cell_type": "markdown",
   "metadata": {},
   "source": [
    "Qué pasa si estan mezclados?"
   ]
  },
  {
   "cell_type": "code",
   "execution_count": null,
   "metadata": {},
   "outputs": [],
   "source": [
    "pesos_reordenados = pesos.sort_values('aa').reset_index(drop=True)\n",
    "pesos_reordenados"
   ]
  },
  {
   "cell_type": "code",
   "execution_count": null,
   "metadata": {},
   "outputs": [],
   "source": [
    "pd.concat([codigos,pesos_reordenados], axis=1)"
   ]
  },
  {
   "cell_type": "code",
   "execution_count": null,
   "metadata": {},
   "outputs": [],
   "source": [
    "codigos.merge(pesos_reordenados)"
   ]
  },
  {
   "cell_type": "markdown",
   "metadata": {},
   "source": [
    "Dependiendo de el parametro how podemos quedaron con distintos resultados:\n",
    "\n",
    "![](https://www.softwaretestinghelp.com/wp-content/qa/uploads/2019/05/Capture-1.jpg)"
   ]
  },
  {
   "cell_type": "code",
   "execution_count": null,
   "metadata": {},
   "outputs": [],
   "source": [
    "codigos.merge(pesos_reordenados.head()) # ver la ayuda para distintas combinaciones "
   ]
  },
  {
   "cell_type": "markdown",
   "metadata": {},
   "source": [
    "join funciona similar pero por indices:\n"
   ]
  },
  {
   "cell_type": "code",
   "execution_count": null,
   "metadata": {},
   "outputs": [],
   "source": [
    "codigos.join(pesos_reordenados.set_index('aa'), 'aa')"
   ]
  },
  {
   "cell_type": "markdown",
   "metadata": {},
   "source": [
    "Truquito"
   ]
  },
  {
   "cell_type": "code",
   "execution_count": null,
   "metadata": {},
   "outputs": [],
   "source": [
    "from google.colab.data_table import DataTable as View\n",
    "import pandas as pd\n",
    "uniprots = pd.read_csv(\"https://raw.githubusercontent.com/Ferorti/escuela2021/main/data/swiss_prot.tab\")\n",
    "View(uniprots)"
   ]
  },
  {
   "cell_type": "markdown",
   "metadata": {},
   "source": [
    "#### Visualizaciones"
   ]
  },
  {
   "cell_type": "markdown",
   "metadata": {},
   "source": [
    "Pandas tiene el método ```.plot()``` para realizar gráficos simples sobre dataframes y series.\n",
    "\n",
    "A continuación vamos a ver algunos ejemplos:"
   ]
  },
  {
   "cell_type": "code",
   "execution_count": null,
   "metadata": {},
   "outputs": [],
   "source": [
    "df = df.set_index(\"pais\")"
   ]
  },
  {
   "cell_type": "markdown",
   "metadata": {},
   "source": [
    "+ Barras"
   ]
  },
  {
   "cell_type": "code",
   "execution_count": null,
   "metadata": {},
   "outputs": [],
   "source": []
  },
  {
   "cell_type": "code",
   "execution_count": null,
   "metadata": {},
   "outputs": [],
   "source": [
    "df.letalidad.plot.bar() # desordenado"
   ]
  },
  {
   "cell_type": "code",
   "execution_count": null,
   "metadata": {},
   "outputs": [],
   "source": [
    "df.letalidad.sort_values().plot.bar()"
   ]
  },
  {
   "cell_type": "code",
   "execution_count": null,
   "metadata": {},
   "outputs": [],
   "source": [
    "df.letalidad.sort_values(ascending=False).plot.bar()"
   ]
  },
  {
   "cell_type": "code",
   "execution_count": null,
   "metadata": {},
   "outputs": [],
   "source": [
    "df.letalidad.sort_values().plot.barh()"
   ]
  },
  {
   "cell_type": "code",
   "execution_count": null,
   "metadata": {},
   "outputs": [],
   "source": [
    "df_coloreado = df.sort_values('letalidad')\n",
    "df_coloreado['color'] = df.region.map({'N':'steelblue','C':'seagreen','S':'lightcoral'})"
   ]
  },
  {
   "cell_type": "code",
   "execution_count": null,
   "metadata": {},
   "outputs": [],
   "source": []
  },
  {
   "cell_type": "code",
   "execution_count": null,
   "metadata": {},
   "outputs": [],
   "source": [
    "df_coloreado.sort_values('letalidad').plot.barh(y='letalidad', color=df_coloreado.color, figsize=(6,6), title='Letalidad por pais', legend=None)"
   ]
  },
  {
   "cell_type": "code",
   "execution_count": null,
   "metadata": {},
   "outputs": [],
   "source": [
    "df_plot = df.groupby('region').sum()[['casos_totales','recuperados']]\n",
    "display(df_plot)\n",
    "\n",
    "df_plot.plot.bar()"
   ]
  },
  {
   "cell_type": "code",
   "execution_count": null,
   "metadata": {},
   "outputs": [],
   "source": [
    "df_plot.plot.bar(stacked=True)"
   ]
  },
  {
   "cell_type": "markdown",
   "metadata": {},
   "source": [
    "* Pieplots"
   ]
  },
  {
   "cell_type": "code",
   "execution_count": null,
   "metadata": {},
   "outputs": [],
   "source": [
    "df.region.value_counts().plot.pie()"
   ]
  },
  {
   "cell_type": "code",
   "execution_count": null,
   "metadata": {},
   "outputs": [],
   "source": [
    "df.sort_values('casos_totales').head(12).plot.scatter(x='casos_totales', y = 'fallecidos')"
   ]
  },
  {
   "cell_type": "markdown",
   "metadata": {},
   "source": [
    "* boxplots"
   ]
  },
  {
   "cell_type": "code",
   "execution_count": null,
   "metadata": {},
   "outputs": [],
   "source": [
    "iris = pd.read_csv(\"https://raw.githubusercontent.com/Ferorti/escuela2021/main/data/iris.data.csv\")"
   ]
  },
  {
   "cell_type": "code",
   "execution_count": null,
   "metadata": {},
   "outputs": [],
   "source": [
    "iris.boxplot(by='variedad', figsize=(10,10));"
   ]
  },
  {
   "cell_type": "code",
   "execution_count": null,
   "metadata": {},
   "outputs": [],
   "source": [
    "iris.boxplot(column='petal_length', by='variedad', grid=False, fontsize=14);"
   ]
  },
  {
   "cell_type": "code",
   "execution_count": null,
   "metadata": {},
   "outputs": [],
   "source": [
    "import seaborn as sns"
   ]
  },
  {
   "cell_type": "code",
   "execution_count": null,
   "metadata": {},
   "outputs": [],
   "source": [
    "sns.boxplot(data=iris, x='petal_length', y='variedad')"
   ]
  },
  {
   "cell_type": "code",
   "execution_count": null,
   "metadata": {},
   "outputs": [],
   "source": [
    "for g,grupo in iris.groupby('variedad'):\n",
    "    sns.distplot(grupo.sepal_length, label=g)"
   ]
  },
  {
   "cell_type": "code",
   "execution_count": null,
   "metadata": {},
   "outputs": [],
   "source": [
    "for g,grupo in iris.groupby('variedad'):\n",
    "    sns.distplot(grupo.sepal_length, label=g, hist=None)"
   ]
  },
  {
   "cell_type": "code",
   "execution_count": null,
   "metadata": {},
   "outputs": [],
   "source": [
    "sns.scatterplot(data=iris, x='sepal_length', y ='petal_length')"
   ]
  },
  {
   "cell_type": "code",
   "execution_count": null,
   "metadata": {},
   "outputs": [],
   "source": [
    "sns.scatterplot(data=iris, x='sepal_length', y ='petal_length', hue='variedad')"
   ]
  },
  {
   "cell_type": "code",
   "execution_count": null,
   "metadata": {},
   "outputs": [],
   "source": [
    "sns.pairplot(iris, hue='variedad')"
   ]
  }
 ],
 "metadata": {
  "kernelspec": {
   "display_name": "Python 3",
   "language": "python",
   "name": "python3"
  },
  "language_info": {
   "codemirror_mode": {
    "name": "ipython",
    "version": 3
   },
   "file_extension": ".py",
   "mimetype": "text/x-python",
   "name": "python",
   "nbconvert_exporter": "python",
   "pygments_lexer": "ipython3",
   "version": "3.8.3"
  }
 },
 "nbformat": 4,
 "nbformat_minor": 4
}
