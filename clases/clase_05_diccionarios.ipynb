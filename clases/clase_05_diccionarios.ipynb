{
  "nbformat": 4,
  "nbformat_minor": 0,
  "metadata": {
    "language_info": {
      "codemirror_mode": {
        "name": "ipython",
        "version": 3
      },
      "file_extension": ".py",
      "mimetype": "text/x-python",
      "name": "python",
      "nbconvert_exporter": "python",
      "pygments_lexer": "ipython3",
      "version": "3.9.0-final"
    },
    "orig_nbformat": 2,
    "kernelspec": {
      "name": "python3",
      "display_name": "Python 3.9.0 64-bit ('venv')",
      "metadata": {
        "interpreter": {
          "hash": "7341b9afafe5a943debca8c76d79d051c693ad015f257acb1152bde5799729e2"
        }
      }
    },
    "colab": {
      "name": "clase_05_diccionarios.ipynb",
      "provenance": []
    }
  },
  "cells": [
    {
      "cell_type": "markdown",
      "metadata": {
        "id": "mVzENpMLQaSK"
      },
      "source": [
        "# Diccionarios\n",
        "\n",
        "[![Open In Colab](https://colab.research.google.com/assets/colab-badge.svg)](https://colab.research.google.com/github/Ferorti/escuela2021/blob/main/clases/clase_05_diccionarios.ipynb)\n",
        "\n",
        "## Secciones\n",
        "- ¿Que son los diccionarios?\n",
        "- Métodos\n",
        "- Recorrer un diccionario"
      ]
    },
    {
      "cell_type": "markdown",
      "metadata": {
        "id": "9s8IbmVxQaSQ"
      },
      "source": [
        "##  ¿Qué son los diccionarios?\n",
        "\n",
        "Son estructuras de datos que asocian dos grupos de datos diferentes.\n",
        "\n",
        "Se asocia un valor de un grupo, con otro valor del otro grupo.\n",
        "\n",
        "Veamos el ejemplo:\n"
      ]
    },
    {
      "cell_type": "markdown",
      "metadata": {
        "id": "wZgsQsVrQaSR"
      },
      "source": [
        "Tengo dos grupos de datos.\n",
        "\n",
        "- El primero es una lista con nombre de aminoácidos (código de una letra).\n",
        "- El segundo es una lista con el peso molecular de los aminoácidos."
      ]
    },
    {
      "cell_type": "code",
      "metadata": {
        "id": "giI2K6UKQaSS"
      },
      "source": [
        "amino = [\n",
        "\t'I', 'L', 'K', 'M', 'F',\n",
        "\t'T', 'W', 'V', 'R', 'H',\n",
        "\t'A', 'N', 'D', 'C', 'E',\n",
        "\t'Q', 'G', 'P', 'S', 'Y'\n",
        "]\n",
        "pm = [\n",
        "\t131.1736, 131.1736, 146.1882, 149.2124, 165.1900,\n",
        "\t119.1197, 204.2262, 117.1469, 174.2017, 155.1552,\n",
        "\t89.0935,  132.1184, 133.1032, 121.1590, 147.1299,\n",
        "    146.1451, 75.0669,  115.1310, 105.0930, 181.1894\n",
        "]"
      ],
      "execution_count": null,
      "outputs": []
    },
    {
      "cell_type": "markdown",
      "metadata": {
        "id": "Qt89JrQwQaST"
      },
      "source": [
        "El valor en la lista __pm__ en cierta posición corresponde al peso molecular del aminoácido de la lista amino en la misma posición."
      ]
    },
    {
      "cell_type": "code",
      "metadata": {
        "id": "7Wb7O6BQQaST",
        "outputId": "1b7a39a7-c5ee-4706-facc-4ab56755b603"
      },
      "source": [
        "print(\"El peso molecular de\", amino[2], \"es\", pm[2], \"gr/mol.\")"
      ],
      "execution_count": null,
      "outputs": [
        {
          "output_type": "stream",
          "text": [
            "El peso molecular de K es 146.1882 gr/mol.\n"
          ],
          "name": "stdout"
        }
      ]
    },
    {
      "cell_type": "code",
      "metadata": {
        "id": "bQPImRZ2QaSU"
      },
      "source": [
        "En lugar de tener dos listas separadas y recordar que el valor de una lista se corresponde con la otra.\n",
        "Podemmos construir un diccionario, donde la correspondencia es explícita y muy fácil de entender."
      ],
      "execution_count": null,
      "outputs": []
    },
    {
      "cell_type": "code",
      "metadata": {
        "id": "HR_Hg1pEQaSV"
      },
      "source": [
        "pesos_de_amino = {\n",
        "    'I': 131.1736 , # la clave 'I' está asociada al valor 131.1736.\n",
        "    'L': 131.1736 ,\n",
        "    'K': 146.1882 ,\n",
        "    'M': 149.2124 ,\n",
        "    'F': 165.1900 ,\n",
        "    'T': 119.1197 ,\n",
        "    'W': 204.2262 ,\n",
        "    'V': 117.1469 ,\n",
        "    'R': 174.2017 ,\n",
        "    'H': 155.1552 ,\n",
        "    'A': 89.0935 ,\n",
        "    'N': 132.1184 ,\n",
        "    'D': 133.1032 ,\n",
        "    'C': 121.1590 ,\n",
        "    'E': 147.1299 ,\n",
        "    'Q': 146.1451 ,\n",
        "    'G': 75.0669 ,\n",
        "    'P': 115.1310 ,\n",
        "    'S': 105.0930 ,\n",
        "    'Y': 181.189 \n",
        "}"
      ],
      "execution_count": 1,
      "outputs": []
    },
    {
      "cell_type": "markdown",
      "metadata": {
        "id": "jeBqZW81QaSV"
      },
      "source": [
        "En este ejemplo, el código de los aminoácidos funciona como una clave (o etiqueta, o __key__) que sirve para acceder al valor que le corresponde."
      ]
    },
    {
      "cell_type": "markdown",
      "metadata": {
        "id": "Gsz2A65kQaSV"
      },
      "source": [
        "Para recuperar el valor que le corresponde a una clave uso \\[ \\]"
      ]
    },
    {
      "cell_type": "code",
      "metadata": {
        "id": "1HU7pq0IQaSV",
        "outputId": "15d73f2b-ad82-4301-e0f2-e345601923c3",
        "colab": {
          "base_uri": "https://localhost:8080/"
        }
      },
      "source": [
        "print(\"El peso molecular de Y es\", pesos_de_amino[\"Y\"])"
      ],
      "execution_count": 3,
      "outputs": [
        {
          "output_type": "stream",
          "text": [
            "El peso molecular de Y es 181.189\n"
          ],
          "name": "stdout"
        }
      ]
    },
    {
      "cell_type": "markdown",
      "metadata": {
        "id": "1xICb2vLQaSY"
      },
      "source": [
        "Si quiero recuperar un valor con una clave que no existe en el diccionario, se genera un error (KeyError)."
      ]
    },
    {
      "cell_type": "code",
      "metadata": {
        "id": "tEXx3JtSQaSY",
        "outputId": "4623c693-13b2-4eaa-fd65-0d542586d1b4",
        "colab": {
          "base_uri": "https://localhost:8080/",
          "height": 174
        }
      },
      "source": [
        "print(\"El peso molecular de O es\", pesos_de_amino[\"O\"])"
      ],
      "execution_count": 4,
      "outputs": [
        {
          "output_type": "error",
          "ename": "KeyError",
          "evalue": "ignored",
          "traceback": [
            "\u001b[0;31m---------------------------------------------------------------------------\u001b[0m",
            "\u001b[0;31mKeyError\u001b[0m                                  Traceback (most recent call last)",
            "\u001b[0;32m<ipython-input-4-b44ed3dc3461>\u001b[0m in \u001b[0;36m<module>\u001b[0;34m()\u001b[0m\n\u001b[0;32m----> 1\u001b[0;31m \u001b[0mprint\u001b[0m\u001b[0;34m(\u001b[0m\u001b[0;34m\"El peso molecular de O es\"\u001b[0m\u001b[0;34m,\u001b[0m \u001b[0mpesos_de_amino\u001b[0m\u001b[0;34m[\u001b[0m\u001b[0;34m\"O\"\u001b[0m\u001b[0;34m]\u001b[0m\u001b[0;34m)\u001b[0m\u001b[0;34m\u001b[0m\u001b[0;34m\u001b[0m\u001b[0m\n\u001b[0m",
            "\u001b[0;31mKeyError\u001b[0m: 'O'"
          ]
        }
      ]
    },
    {
      "cell_type": "code",
      "metadata": {
        "id": "x7Ac2wzoQaSY"
      },
      "source": [
        "Las claves no tienen que ser __strings__. Pueden otras cosas, por ejemplo números."
      ],
      "execution_count": null,
      "outputs": []
    },
    {
      "cell_type": "code",
      "metadata": {
        "id": "YGYXuJW3QaSZ",
        "outputId": "1ec0aad4-efed-49dd-b63f-037cb00d5ecf",
        "colab": {
          "base_uri": "https://localhost:8080/"
        }
      },
      "source": [
        "numero_en_palabras = {\n",
        "    1: 'Uno',\n",
        "    2: 'Dos',\n",
        "    3: 'Tres'\n",
        "}\n",
        "print(\"El número 2 se escribe:\", numero_en_palabras[2])"
      ],
      "execution_count": 6,
      "outputs": [
        {
          "output_type": "stream",
          "text": [
            "El número 2 se escribe: Dos\n"
          ],
          "name": "stdout"
        }
      ]
    },
    {
      "cell_type": "code",
      "metadata": {
        "id": "3nYyUF-hQaSZ"
      },
      "source": [
        "Para completar, hacer una función que calcula el peso molecular de una proteína, dada su secuencia."
      ],
      "execution_count": null,
      "outputs": []
    },
    {
      "cell_type": "code",
      "metadata": {
        "id": "rsKDg-1-QaSZ",
        "outputId": "2a3bc98c-5507-4e29-af38-6d2b7a7d279a",
        "colab": {
          "base_uri": "https://localhost:8080/"
        }
      },
      "source": [
        "def prot_pm(secuencia):\n",
        "    pesos_de_amino = {\n",
        "      'I': 131.1736 , 'L': 131.1736 ,'K': 146.1882 , 'M': 149.2124 , 'F': 165.1900 , 'T': 119.1197 , 'W': 204.2262 ,\n",
        "      'V': 117.1469 , 'R': 174.2017 , 'H': 155.1552 , 'A': 89.0935 , 'N': 132.1184 , 'D': 133.1032 , 'C': 121.1590 , 'E': 147.1299 ,\n",
        "      'Q': 146.1451 , 'G': 75.0669 , 'P': 115.1310 ,'S': 105.0930 , 'Y': 181.189 \n",
        "    }\n",
        "    pm = 0\n",
        "    for aa in secuencia:\n",
        "        pm_aa = pesos_de_amino[aa]\n",
        "        pm = pm + pm_aa\n",
        "    return pm\n",
        "\n",
        "secuencia = \"MGQCCLPLPL\"\n",
        "print(\"El peso molecular de\", secuencia, \"es\", prot_pm(secuencia))"
      ],
      "execution_count": 8,
      "outputs": [
        {
          "output_type": "stream",
          "text": [
            "El peso molecular de MGQCCLPLPL es 1236.5252\n"
          ],
          "name": "stdout"
        }
      ]
    },
    {
      "cell_type": "markdown",
      "metadata": {
        "id": "Ti_nfXfqQaSZ"
      },
      "source": [
        "## Algunos métodos y funciones de los diccionarios\n",
        "\n",
        "La función __list()__ aplicada a un diccionario permite obtener una lista con las claves."
      ]
    },
    {
      "cell_type": "code",
      "metadata": {
        "id": "1f5kjSj7QaSa",
        "outputId": "13fd0ccc-4373-4d88-dbc4-b507280b1373"
      },
      "source": [
        "claves = list(pesos_de_amino)\n",
        "print(\"Las claves son:\", claves)"
      ],
      "execution_count": null,
      "outputs": [
        {
          "output_type": "stream",
          "text": [
            "Las claves son: ['I', 'L', 'K', 'M', 'F', 'T', 'W', 'V', 'R', 'H', 'A', 'N', 'D', 'C', 'E', 'Q', 'G', 'P', 'S', 'Y']\n"
          ],
          "name": "stdout"
        }
      ]
    },
    {
      "cell_type": "markdown",
      "metadata": {
        "id": "kJvZsj8mQaSa"
      },
      "source": [
        "El método __values()__ permite recuperar a todos los valores del diccionario."
      ]
    },
    {
      "cell_type": "code",
      "metadata": {
        "id": "2wmcCwozQaSa",
        "outputId": "4c94e49c-7de3-4963-e3b5-7851e7f6dadf"
      },
      "source": [
        "valores = list(pesos_de_amino.values())\n",
        "print(\"Los valores son:\", valores)"
      ],
      "execution_count": null,
      "outputs": [
        {
          "output_type": "stream",
          "text": [
            "Los valores son: [131.1736, 131.1736, 146.1882, 149.2124, 165.19, 119.1197, 204.2262, 117.1469, 174.2017, 155.1552, 89.0935, 132.1184, 133.1032, 121.159, 147.1299, 146.1451, 75.0669, 115.131, 105.093, 181.189]\n"
          ],
          "name": "stdout"
        }
      ]
    },
    {
      "cell_type": "markdown",
      "metadata": {
        "id": "VigUUimVQaSa"
      },
      "source": [
        "Otra forma de recuperar un valor de un diccionario es con el método __.get()__."
      ]
    },
    {
      "cell_type": "code",
      "metadata": {
        "id": "9l2HtAU9QaSb",
        "outputId": "2c9b4e15-3922-486c-af42-537f5578c5ff",
        "colab": {
          "base_uri": "https://localhost:8080/"
        }
      },
      "source": [
        "# print(pesos_de_amino[\"O\"])\r\n",
        "\r\n",
        "print(\"El peso molecular de la Alanina es\", pesos_de_amino.get(\"O\"), \"gr/mol\")"
      ],
      "execution_count": 11,
      "outputs": [
        {
          "output_type": "stream",
          "text": [
            "El peso molecular de la Alanina es None gr/mol\n"
          ],
          "name": "stdout"
        }
      ]
    },
    {
      "cell_type": "code",
      "metadata": {
        "id": "QddhEsscV9we",
        "outputId": "7654892b-77dd-4eb0-ce95-1f305baa6508",
        "colab": {
          "base_uri": "https://localhost:8080/"
        }
      },
      "source": [
        "print(pesos_de_amino.get(\"J\", 0.0))"
      ],
      "execution_count": 17,
      "outputs": [
        {
          "output_type": "stream",
          "text": [
            "0.0\n"
          ],
          "name": "stdout"
        }
      ]
    },
    {
      "cell_type": "code",
      "metadata": {
        "id": "Hgi9iDtSQaSb",
        "outputId": "66406bfe-dd28-4289-85fb-28f0867db877"
      },
      "source": [
        "print(\"El peso molecular de la Ornitina es\", pesos_de_amino.get(\"O\"), \"gr/mol\")\n",
        "# La función .get() no genera un error si una clave no está presente. \n",
        "# En cambio devuelve None."
      ],
      "execution_count": null,
      "outputs": [
        {
          "output_type": "stream",
          "text": [
            "El peso molecular de la Ornitina es None gr/mol\n"
          ],
          "name": "stdout"
        }
      ]
    },
    {
      "cell_type": "markdown",
      "metadata": {
        "id": "s2d1cJl_QaSc"
      },
      "source": [
        "Es posible agregar nuevos elementos a un diccionario que ya existe."
      ]
    },
    {
      "cell_type": "code",
      "metadata": {
        "id": "I4rMDNexQaSc"
      },
      "source": [
        "pesos_de_amino[\"U\"] = 167.06 # U es Selenocisteina\r\n",
        "\r\n",
        "pesos_de_amino[\"U\"] = 168.09 # Nuevo Valor para \"U\"\r\n"
      ],
      "execution_count": 18,
      "outputs": []
    },
    {
      "cell_type": "code",
      "metadata": {
        "id": "HSB0-8N-V2VH",
        "outputId": "ddcaab71-029a-4bcf-c531-fae75f8c041d",
        "colab": {
          "base_uri": "https://localhost:8080/"
        }
      },
      "source": [
        "pesos_de_amino[\"U\"]"
      ],
      "execution_count": 19,
      "outputs": [
        {
          "output_type": "execute_result",
          "data": {
            "text/plain": [
              "168.09"
            ]
          },
          "metadata": {
            "tags": []
          },
          "execution_count": 19
        }
      ]
    },
    {
      "cell_type": "code",
      "metadata": {
        "id": "pJh7BTIpWnFD"
      },
      "source": [
        "dic_nuevo = {\r\n",
        "    'america': ['Argentina', 'Brasil', 'Canada', 'Mexico'],\r\n",
        "    'europa': ['España', 'Italia', 'Gracia']\r\n",
        "}"
      ],
      "execution_count": 23,
      "outputs": []
    },
    {
      "cell_type": "code",
      "metadata": {
        "id": "wlOa1UMsYZf1",
        "outputId": "1b8af9e5-54e1-4b03-f17a-18ae29380752",
        "colab": {
          "base_uri": "https://localhost:8080/"
        }
      },
      "source": [
        "dic_nuevo['america']"
      ],
      "execution_count": 24,
      "outputs": [
        {
          "output_type": "execute_result",
          "data": {
            "text/plain": [
              "['Argentina', 'Brasil', 'Canada', 'Mexico']"
            ]
          },
          "metadata": {
            "tags": []
          },
          "execution_count": 24
        }
      ]
    },
    {
      "cell_type": "code",
      "metadata": {
        "id": "leB4LkxzXMOi"
      },
      "source": [
        "del dic_nuevo['europa']"
      ],
      "execution_count": 21,
      "outputs": []
    },
    {
      "cell_type": "code",
      "metadata": {
        "id": "sONhpNypXWWS",
        "outputId": "b6c67605-0f57-4c0b-be66-f8c80621b6e9",
        "colab": {
          "base_uri": "https://localhost:8080/"
        }
      },
      "source": [
        "print(dic_nuevo)"
      ],
      "execution_count": 22,
      "outputs": [
        {
          "output_type": "stream",
          "text": [
            "{'america': ['Argentina', 'Brasil', 'Canada', 'Mexico']}\n"
          ],
          "name": "stdout"
        }
      ]
    }
  ]
}