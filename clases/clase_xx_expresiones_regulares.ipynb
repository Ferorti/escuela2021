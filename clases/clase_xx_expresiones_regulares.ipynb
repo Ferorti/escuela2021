{
  "nbformat": 4,
  "nbformat_minor": 0,
  "metadata": {
    "colab": {
      "name": "clase_xx_expresiones_regulares.ipynb",
      "provenance": [],
      "collapsed_sections": [],
      "toc_visible": true,
      "authorship_tag": "ABX9TyOCRm/RyR51TbYwAmmBPHuF",
      "include_colab_link": true
    },
    "kernelspec": {
      "name": "python3",
      "display_name": "Python 3"
    }
  },
  "cells": [
    {
      "cell_type": "markdown",
      "metadata": {
        "id": "view-in-github",
        "colab_type": "text"
      },
      "source": [
        "<a href=\"https://colab.research.google.com/github/Ferorti/escuela2021/blob/main/clases/clase_xx_expresiones_regulares.ipynb\" target=\"_parent\"><img src=\"https://colab.research.google.com/assets/colab-badge.svg\" alt=\"Open In Colab\"/></a>"
      ]
    },
    {
      "cell_type": "markdown",
      "metadata": {
        "id": "VtmrzE4Jrxfk"
      },
      "source": [
        "# ¿Qué son las Expresiones regulares?"
      ]
    },
    {
      "cell_type": "markdown",
      "metadata": {
        "id": "7DhS5EaGr4ZL"
      },
      "source": [
        "Las expresiones regulares son patrones utilizados para encontrar una determinada combinación de caracteres dentro de una cadena de texto proporcionando una manera muy flexible de hacer la búsqueda y reconocer cadenas de texto.\r\n",
        "\r\n",
        "Ejemplo clásico es que estamos leyendo un PDF y buscamos una palabra que lleva acento con y si él y se obtinen los mismos resultados. (cámara y camara) "
      ]
    },
    {
      "cell_type": "markdown",
      "metadata": {
        "id": "9Wtu4Y4zuGFi"
      },
      "source": [
        "# Expresiones regulares en Python"
      ]
    },
    {
      "cell_type": "markdown",
      "metadata": {
        "id": "D89ONEKMuMcN"
      },
      "source": [
        "En python la clase que se utiliza para buscar expresiones regulares en textos es ***re*** y para ello se utilizan las siguientes líneas de código:"
      ]
    },
    {
      "cell_type": "code",
      "metadata": {
        "colab": {
          "base_uri": "https://localhost:8080/"
        },
        "id": "mKc2gDYDuscm",
        "outputId": "0a787fe6-162e-485c-df30-928bf8516f4a"
      },
      "source": [
        "# importar la biblioteca\r\n",
        "import re\r\n",
        "# compilar la expresión regular, es el texto que se pasa como parámetro a la función compile\r\n",
        "rege1 = re.compile('aaa')\r\n",
        "#texto donde deseo hacer la búsqueda\r\n",
        "texto = 'aaatttaaatttcccgggAAATTTCCCDDD'\r\n",
        "# buscar las coincidencias en un texto que se pasa como parámetro a la función search\r\n",
        "#el objeto match tiene el patrón, la cadena y la posición de inicio - fin de la coincidencia\r\n",
        "match = rege1.search(texto)\r\n",
        "# imprimir las coincidencias\r\n",
        "print(match.group())"
      ],
      "execution_count": null,
      "outputs": [
        {
          "output_type": "stream",
          "text": [
            "aaa\n"
          ],
          "name": "stdout"
        }
      ]
    },
    {
      "cell_type": "markdown",
      "metadata": {
        "id": "WG_KqwVeGTEm"
      },
      "source": [
        "# Usos de la biblioteca ***re***"
      ]
    },
    {
      "cell_type": "markdown",
      "metadata": {
        "id": "Wj6SP6cHFPr8"
      },
      "source": [
        "**Buscar en que posición está una coincidencia**"
      ]
    },
    {
      "cell_type": "code",
      "metadata": {
        "colab": {
          "base_uri": "https://localhost:8080/"
        },
        "id": "Z5B4pr-HGk4p",
        "outputId": "bea8b746-cf98-47a6-88e0-12f91d1b9c3e"
      },
      "source": [
        "print('Encontrada \"{}\"\\nen \"{}\"\\ninicio {} fin {} (\"{}\")'.format(\r\n",
        "    match.re.pattern, match.string, match.start(), match.end(), texto[match.start():match.end()]))"
      ],
      "execution_count": null,
      "outputs": [
        {
          "output_type": "stream",
          "text": [
            "Encontrada \"aaa\"\n",
            "en \"aaatttaaatttcccgggAAATTTCCCDDD\"\n",
            "inicio 0 fin 3 (\"aaa\")\n"
          ],
          "name": "stdout"
        }
      ]
    },
    {
      "cell_type": "markdown",
      "metadata": {
        "id": "m2SehCT0GdCC"
      },
      "source": [
        "**Acotar la búsqueda**"
      ]
    },
    {
      "cell_type": "code",
      "metadata": {
        "colab": {
          "base_uri": "https://localhost:8080/"
        },
        "id": "aXVtXDhBINxJ",
        "outputId": "7261913a-aeb6-4b2b-ed3c-925b0a14e14a"
      },
      "source": [
        "# match2 = rege1.search(texto, 4)\r\n",
        "\r\n",
        "match2 = rege1.search(texto, 4, 25)\r\n",
        "if match2 != None:\r\n",
        "  print('Encontrada \"{}\"\\nen \"{}\"\\ninicio {} fin {} (\"{}\")'.format(\r\n",
        "    match2.re.pattern, match2.string, match2.start(), match2.end(), texto[match2.start():match2.end()]))"
      ],
      "execution_count": null,
      "outputs": [
        {
          "output_type": "stream",
          "text": [
            "Encontrada \"aaa\"\n",
            "en \"aaatttaaatttcccgggAAATTTCCCDDD\"\n",
            "inicio 6 fin 9 (\"aaa\")\n"
          ],
          "name": "stdout"
        }
      ]
    },
    {
      "cell_type": "code",
      "metadata": {
        "colab": {
          "base_uri": "https://localhost:8080/"
        },
        "id": "9bROsv2BNb9d",
        "outputId": "a1e70868-3095-46ca-ce52-63e72e0e04f1"
      },
      "source": [
        "match3 = rege1.search(texto, 15, 30)\r\n",
        "if match3 != None:\r\n",
        "  print('Encontrada \"{}\"\\nen \"{}\"\\ninicio {} fin {} (\"{}\")'.format(\r\n",
        "    match3.re.pattern, match3.string, match3.start(), match3.end(), texto[match3.start():match3.end()]))\r\n",
        "else:\r\n",
        "  print('No encontrada')  "
      ],
      "execution_count": null,
      "outputs": [
        {
          "output_type": "stream",
          "text": [
            "No encontrada\n"
          ],
          "name": "stdout"
        }
      ]
    },
    {
      "cell_type": "markdown",
      "metadata": {
        "id": "6OYrmYtQFhF7"
      },
      "source": [
        "**No diferenciar entre mayúsculas y minúsculas**"
      ]
    },
    {
      "cell_type": "code",
      "metadata": {
        "colab": {
          "base_uri": "https://localhost:8080/"
        },
        "id": "AlOjIq_RE2eI",
        "outputId": "5cb27d06-c2e2-4560-8d88-591ef11c8348"
      },
      "source": [
        "rege2 = re.compile('aaa', re.IGNORECASE)\r\n",
        "\r\n",
        "match4 = rege2.search(texto, 15, 30)\r\n",
        "if match4 != None:\r\n",
        "  print('Encontrada \"{}\"\\nen \"{}\"\\ninicio {} fin {} (\"{}\")'.format(\r\n",
        "    match4.re.pattern, match4.string, match4.start(), match4.end(), texto[match4.start():match4.end()]))\r\n",
        "else:\r\n",
        "  print('No encontrada')  \r\n"
      ],
      "execution_count": null,
      "outputs": [
        {
          "output_type": "stream",
          "text": [
            "Encontrada \"aaa\"\n",
            "en \"aaatttaaatttcccgggAAATTTCCCDDD\"\n",
            "inicio 18 fin 21 (\"AAA\")\n"
          ],
          "name": "stdout"
        }
      ]
    },
    {
      "cell_type": "markdown",
      "metadata": {
        "id": "Ryx2JWsRFc7L"
      },
      "source": [
        "**buscar todas las coincidencias en el texto**"
      ]
    },
    {
      "cell_type": "code",
      "metadata": {
        "colab": {
          "base_uri": "https://localhost:8080/"
        },
        "id": "6VGRU5I4GMIS",
        "outputId": "4432088b-9086-42c2-9cb3-a7eadb2031b7"
      },
      "source": [
        "match5 = rege2.findall(texto)\r\n",
        "print(match5)"
      ],
      "execution_count": null,
      "outputs": [
        {
          "output_type": "stream",
          "text": [
            "['aaa', 'aaa', 'AAA']\n"
          ],
          "name": "stdout"
        }
      ]
    },
    {
      "cell_type": "markdown",
      "metadata": {
        "id": "5gpHMYCTFokb"
      },
      "source": [
        "**Dividir texto con una expresion regular**"
      ]
    },
    {
      "cell_type": "code",
      "metadata": {
        "colab": {
          "base_uri": "https://localhost:8080/"
        },
        "id": "vrv266iuGHo6",
        "outputId": "7835fbdb-7e08-4f72-9a24-2add76a899ff"
      },
      "source": [
        "match6 = rege2.split(texto)\r\n",
        "print(texto)\r\n",
        "print(match6)"
      ],
      "execution_count": null,
      "outputs": [
        {
          "output_type": "stream",
          "text": [
            "aaatttaaatttcccgggAAATTTCCCDDD\n",
            "['', 'ttt', 'tttcccggg', 'TTTCCCDDD']\n"
          ],
          "name": "stdout"
        }
      ]
    },
    {
      "cell_type": "markdown",
      "metadata": {
        "id": "wcPGNzQwAyhw"
      },
      "source": [
        "**Subtituir texto con expresion regular**"
      ]
    },
    {
      "cell_type": "code",
      "metadata": {
        "colab": {
          "base_uri": "https://localhost:8080/"
        },
        "id": "2-UhZzcwGWl3",
        "outputId": "8cbe7e52-a2b3-43de-c408-2d43d688ca5c"
      },
      "source": [
        "# match7 = rege2.sub('---', texto) #todas las sustituciones\r\n",
        "# match7 = rege2.sub('---', texto, 0) #todas las sustituciones\r\n",
        "# match7 = rege2.sub('---', texto, 1) #solo la primera se sustituye\r\n",
        "# match7 = rege2.sub('---', texto, 2) #solo la primera y la segunda se sustituyen\r\n",
        "\r\n",
        "match7 = rege2.sub('---', texto)\r\n",
        "print(texto)\r\n",
        "print(match7)"
      ],
      "execution_count": null,
      "outputs": [
        {
          "output_type": "stream",
          "text": [
            "aaatttaaatttcccgggAAATTTCCCDDD\n",
            "---ttt---tttcccggg---TTTCCCDDD\n"
          ],
          "name": "stdout"
        }
      ]
    },
    {
      "cell_type": "markdown",
      "metadata": {
        "id": "sVPoZaESr2CS"
      },
      "source": [
        "# Caracteres Especiales"
      ]
    },
    {
      "cell_type": "markdown",
      "metadata": {
        "id": "v-mCZvfK3wGg"
      },
      "source": [
        "**Utilizaré la siguiente función para imprimir las coincidencias y textos**"
      ]
    },
    {
      "cell_type": "code",
      "metadata": {
        "id": "-EbVe9OA35dL"
      },
      "source": [
        "def imprimir_coincidencias(reg, lista):\r\n",
        "  exp_coincidencia = []\r\n",
        "  texto_coincidencia = []\r\n",
        "  for texto in lista:  \r\n",
        "    match = reg.search(texto)\r\n",
        "    if match:\r\n",
        "      exp_coincidencia.append(match.group())\r\n",
        "      texto_coincidencia.append(texto)\r\n",
        "  print(lista)\r\n",
        "  print(texto_coincidencia)  \r\n",
        "  print(exp_coincidencia)"
      ],
      "execution_count": null,
      "outputs": []
    },
    {
      "cell_type": "markdown",
      "metadata": {
        "id": "a5_TzAUvsxEM"
      },
      "source": [
        "**\".\"  Cualquier caracter excepto el fin de linea**"
      ]
    },
    {
      "cell_type": "code",
      "metadata": {
        "colab": {
          "base_uri": "https://localhost:8080/"
        },
        "id": "7lrA81KvtNjS",
        "outputId": "cdc597cc-1650-4433-99c5-850ab68da83d"
      },
      "source": [
        "a = [\"ACT\", \"ACTG\", \"ACTGAT\", \"GGAATT\", \"ATGATG\", \"ATACTAGG\"]\r\n",
        "reg1 = re.compile(\"ACT.\")\r\n",
        "\r\n",
        "imprimir_coincidencias(reg1, a)"
      ],
      "execution_count": null,
      "outputs": [
        {
          "output_type": "stream",
          "text": [
            "['ACT', 'ACTG', 'ACTGAT', 'GGAATT', 'ATGATG', 'ATACTAGG']\n",
            "['ACTG', 'ACTGAT', 'ATACTAGG']\n",
            "['ACTG', 'ACTG', 'ACTA']\n"
          ],
          "name": "stdout"
        }
      ]
    },
    {
      "cell_type": "markdown",
      "metadata": {
        "id": "P89GJ-0-2FTT"
      },
      "source": [
        "**\"^\" Inicio de línea**"
      ]
    },
    {
      "cell_type": "code",
      "metadata": {
        "colab": {
          "base_uri": "https://localhost:8080/"
        },
        "id": "3c9A7KNK2L6d",
        "outputId": "50753871-223f-4113-e45f-81db0346163d"
      },
      "source": [
        "reg2 = re.compile(\"^ACT.\")\r\n",
        "imprimir_coincidencias(reg2, a)\r\n"
      ],
      "execution_count": null,
      "outputs": [
        {
          "output_type": "stream",
          "text": [
            "['ACT', 'ACTG', 'ACTGAT', 'GGAATT', 'ATGATG', 'ATACTAGG']\n",
            "['ACTG', 'ACTGAT']\n",
            "['ACTG', 'ACTG']\n"
          ],
          "name": "stdout"
        }
      ]
    },
    {
      "cell_type": "markdown",
      "metadata": {
        "id": "1jzQeUos4rS8"
      },
      "source": [
        "**\"$\" Fin de línea**"
      ]
    },
    {
      "cell_type": "code",
      "metadata": {
        "colab": {
          "base_uri": "https://localhost:8080/"
        },
        "id": "LZ419w2W41po",
        "outputId": "549b4e31-c96a-46dd-f186-5a2c8b838c6d"
      },
      "source": [
        "reg3 = re.compile(\"^ACT.$\")\r\n",
        "imprimir_coincidencias(reg3, a)"
      ],
      "execution_count": null,
      "outputs": [
        {
          "output_type": "stream",
          "text": [
            "['ACT', 'ACTG', 'ACTGAT', 'GGAATT', 'ATGATG', 'ATACTAGG']\n",
            "['ACTG']\n",
            "['ACTG']\n"
          ],
          "name": "stdout"
        }
      ]
    },
    {
      "cell_type": "markdown",
      "metadata": {
        "id": "sLkiEllt5RAa"
      },
      "source": [
        "**\"\\*\" La expresion que se antepone se repite 0 o más veces**"
      ]
    },
    {
      "cell_type": "code",
      "metadata": {
        "colab": {
          "base_uri": "https://localhost:8080/"
        },
        "id": "Ml7h_5a254yb",
        "outputId": "4543b7c3-0f28-4bab-f553-40281b92a523"
      },
      "source": [
        "reg4 = re.compile(\"ACT.*\")\r\n",
        "imprimir_coincidencias(reg4, a)"
      ],
      "execution_count": null,
      "outputs": [
        {
          "output_type": "stream",
          "text": [
            "['ACT', 'ACTG', 'ACTGAT', 'GGAATT', 'ATGATG', 'ATACTAGG']\n",
            "['ACT', 'ACTG', 'ACTGAT', 'ATACTAGG']\n",
            "['ACT', 'ACTG', 'ACTGAT', 'ACTAGG']\n"
          ],
          "name": "stdout"
        }
      ]
    },
    {
      "cell_type": "markdown",
      "metadata": {
        "id": "BNbEw53w6Kow"
      },
      "source": [
        "**\"+\" La expresión que se antepone se repite 1 o más veces**"
      ]
    },
    {
      "cell_type": "code",
      "metadata": {
        "colab": {
          "base_uri": "https://localhost:8080/"
        },
        "id": "et705X4d6mmY",
        "outputId": "07285d1f-a9ca-4373-979a-5f99d6865147"
      },
      "source": [
        "reg5 = re.compile(\"ACT.+\")\r\n",
        "imprimir_coincidencias(reg5, a)"
      ],
      "execution_count": null,
      "outputs": [
        {
          "output_type": "stream",
          "text": [
            "['ACT', 'ACTG', 'ACTGAT', 'GGAATT', 'ATGATG', 'ATACTAGG']\n",
            "['ACTG', 'ACTGAT', 'ATACTAGG']\n",
            "['ACTG', 'ACTGAT', 'ACTAGG']\n"
          ],
          "name": "stdout"
        }
      ]
    },
    {
      "cell_type": "markdown",
      "metadata": {
        "id": "jb2n8ce26tTj"
      },
      "source": [
        "**\"?\" la expresión que se antepone se repite 0 o 1 vez**"
      ]
    },
    {
      "cell_type": "code",
      "metadata": {
        "colab": {
          "base_uri": "https://localhost:8080/"
        },
        "id": "C62Jpfv_618o",
        "outputId": "1d87fb39-d35b-4b06-b15b-c8cbada13095"
      },
      "source": [
        "reg6 = re.compile(\"ACT.?\")\r\n",
        "imprimir_coincidencias(reg6, a)"
      ],
      "execution_count": null,
      "outputs": [
        {
          "output_type": "stream",
          "text": [
            "['ACT', 'ACTG', 'ACTGAT', 'GGAATT', 'ATGATG', 'ATACTAGG']\n",
            "['ACT', 'ACTG', 'ACTGAT', 'ATACTAGG']\n",
            "['ACT', 'ACTG', 'ACTG', 'ACTA']\n"
          ],
          "name": "stdout"
        }
      ]
    },
    {
      "cell_type": "markdown",
      "metadata": {
        "id": "IfCywSd07Hgo"
      },
      "source": [
        "**\"{n}\" La expresión que se antepone coincida n veces.**\r\n",
        "\r\n",
        "**\"{n,m}\" La expresión que se antepone coincida como mínimo n veces y como máximo m veces.**\r\n",
        "\r\n",
        "**\"{,m}\" La expresión que se antepone coincida como mínimo 0 veces y como máximo m veces.**\r\n",
        "\r\n",
        "**\"{n,}\" La expresión que se antepone coincida como mínimo n veces y como máximo todas las posibles.** "
      ]
    },
    {
      "cell_type": "code",
      "metadata": {
        "colab": {
          "base_uri": "https://localhost:8080/"
        },
        "id": "_ujmlxrG708i",
        "outputId": "74cde2b4-8e4e-451d-b6b0-153d78c76ef1"
      },
      "source": [
        "reg7 = re.compile(\"ACT.{2}\")\r\n",
        "imprimir_coincidencias(reg7, a)"
      ],
      "execution_count": null,
      "outputs": [
        {
          "output_type": "stream",
          "text": [
            "['ACT', 'ACTG', 'ACTGAT', 'GGAATT', 'ATGATG', 'ATACTAGG']\n",
            "['ACTGAT', 'ATACTAGG']\n",
            "['ACTGA', 'ACTAG']\n"
          ],
          "name": "stdout"
        }
      ]
    },
    {
      "cell_type": "code",
      "metadata": {
        "colab": {
          "base_uri": "https://localhost:8080/"
        },
        "id": "Cjs5iWGl8GVT",
        "outputId": "c40b5a96-327c-412b-deee-f4ec037dd3f1"
      },
      "source": [
        "reg8 = re.compile(\"ACT.{2,5}\")\r\n",
        "imprimir_coincidencias(reg8, a)"
      ],
      "execution_count": null,
      "outputs": [
        {
          "output_type": "stream",
          "text": [
            "['ACT', 'ACTG', 'ACTGAT', 'GGAATT', 'ATGATG', 'ATACTAGG']\n",
            "['ACTGAT', 'ATACTAGG']\n",
            "['ACTGAT', 'ACTAGG']\n"
          ],
          "name": "stdout"
        }
      ]
    },
    {
      "cell_type": "markdown",
      "metadata": {
        "id": "1_4zsOe6-1ck"
      },
      "source": [
        "**\"\\\\\" Caracter de escape**\r\n",
        "\r\n",
        "Se utiliza cuando queremos incluir en nuestra expresión alguno de los caracteres especiales, por ejemplo para buscar el caracter:\r\n",
        " \r\n",
        "*   \".\" tenemos que escribir \"\\\\.\"\r\n",
        "*   \"\\\\\" tenemos que escribir \"\\\\\\\\\"\r\n",
        "*   \"(\" tenemos que escribir \"\\(\"\r\n",
        "*   tabulación tenemos que escribir \"\\\\t\"\r\n",
        "*   fin de línea tenemos que escribir \"\\\\n\"\r\n",
        "\r\n",
        "\r\n",
        "\r\n"
      ]
    },
    {
      "cell_type": "code",
      "metadata": {
        "colab": {
          "base_uri": "https://localhost:8080/"
        },
        "id": "renTnJGkVD9I",
        "outputId": "4a89b82d-1bbb-40b4-c0ac-773b7b71d48a"
      },
      "source": [
        "texto2 = '3.14'\r\n",
        "y = re.search('.', texto2)\r\n",
        "print('Patrón \"{}\" en \"{}\" inicio {} fin {} coincidencia \"{}\"'.format(\r\n",
        "    y.re.pattern, y.string, y.start(), y.end(), y.group(), y.group()))\r\n",
        "\r\n",
        "z = re.search('\\.', texto2)\r\n",
        "print('Patrón \"{}\" en \"{}\" inicio {} fin {} coincidencia \"{}\"'.format(\r\n",
        "    z.re.pattern, z.string, z.start(), z.end(), z.group()))"
      ],
      "execution_count": null,
      "outputs": [
        {
          "output_type": "stream",
          "text": [
            "Patrón \".\" en \"3.14\" inicio 0 fin 1 coincidencia \"3\"\n",
            "Patrón \"\\.\" en \"3.14\" inicio 1 fin 2 coincidencia \".\"\n"
          ],
          "name": "stdout"
        }
      ]
    },
    {
      "cell_type": "markdown",
      "metadata": {
        "id": "FLnCsnve9qqs"
      },
      "source": [
        "**\"[...]\" Descripción de conjuntos**"
      ]
    },
    {
      "cell_type": "code",
      "metadata": {
        "colab": {
          "base_uri": "https://localhost:8080/"
        },
        "id": "BZZ5pAE69w4L",
        "outputId": "138e3a4d-fa8a-418e-c90c-e87a383e98ec"
      },
      "source": [
        "reg9 = re.compile(\"A[CT]T\")\r\n",
        "imprimir_coincidencias(reg9, a)"
      ],
      "execution_count": null,
      "outputs": [
        {
          "output_type": "stream",
          "text": [
            "['ACT', 'ACTG', 'ACTGAT', 'GGAATT', 'ATGATG', 'ATACTAGG']\n",
            "['ACT', 'ACTG', 'ACTGAT', 'GGAATT', 'ATACTAGG']\n",
            "['ACT', 'ACT', 'ACT', 'ATT', 'ACT']\n"
          ],
          "name": "stdout"
        }
      ]
    },
    {
      "cell_type": "markdown",
      "metadata": {
        "id": "3xcG7Ma3-NFu"
      },
      "source": [
        "**Algunos ejemplos de conjuntos son:**\r\n",
        "\r\n",
        "\r\n",
        "*   [actg] las 4 posibles letras para nucleótidos\r\n",
        "*   [actgACTG] las 4 posibles letras para nucleótidos en minúscula o mayúscula\r\n",
        "*   [a-zA-Z] las letras del abecedario, mayúsculas y minúsculas\r\n",
        "*   [0-9] los números decimales\r\n",
        "*   [^0-9] cualquier caracter que no sean los números decimales\r\n",
        "\r\n",
        "\r\n",
        "\r\n",
        "\r\n",
        "\r\n",
        "\r\n",
        "\r\n",
        "\r\n",
        "\r\n",
        "\r\n"
      ]
    },
    {
      "cell_type": "markdown",
      "metadata": {
        "id": "T7k6-_wk-sNC"
      },
      "source": [
        "**Algunos conjuntos predefinidos en python que se utilizan con el caracter de escape:**\r\n",
        "\r\n",
        "*   \\d coincide con [0-9]\r\n",
        "*   \\D coincide con [^0-9]\r\n",
        "*   \\w coincide con [a-zA-Z0-9]\r\n",
        "*   \\W coincide con [^a-zA-Z0-9_]\r\n",
        "*   \\s coincide con [ \\t\\n\\r\\f\\v]\r\n",
        "*   \\S coincide con [^ \\t\\n\\r\\f\\v]\r\n",
        "\r\n",
        "\r\n",
        "\r\n"
      ]
    },
    {
      "cell_type": "markdown",
      "metadata": {
        "id": "g40Wu_pi8C-j"
      },
      "source": [
        "**\"(...)\" grupos de expresiones**"
      ]
    },
    {
      "cell_type": "code",
      "metadata": {
        "colab": {
          "base_uri": "https://localhost:8080/"
        },
        "id": "xFzvrz6aKGCm",
        "outputId": "7e65d1bf-8d3e-48f8-e1be-22d3139ecec6"
      },
      "source": [
        "#ejemplo de grupo\r\n",
        "reg10 = re.compile(\"([atg]{3}){2,5}\", re.IGNORECASE)\r\n",
        "imprimir_coincidencias(reg10, a)"
      ],
      "execution_count": null,
      "outputs": [
        {
          "output_type": "stream",
          "text": [
            "['ACT', 'ACTG', 'ACTGAT', 'GGAATT', 'ATGATG', 'ATACTAGG']\n",
            "['GGAATT', 'ATGATG']\n",
            "['GGAATT', 'ATGATG']\n"
          ],
          "name": "stdout"
        }
      ]
    },
    {
      "cell_type": "code",
      "metadata": {
        "colab": {
          "base_uri": "https://localhost:8080/"
        },
        "id": "byYGYFN-d9yR",
        "outputId": "f01b8e77-b88e-4bed-fd07-9fe4e94037a8"
      },
      "source": [
        "#ejemplo de obtener solo un grupo\r\n",
        "reg11 = re.compile(\"[at]{3}(.{2,5})a\", re.IGNORECASE)\r\n",
        "exp_group1 = []\r\n",
        "texto_coincidencia = []\r\n",
        "for texto in a:  \r\n",
        "  match = reg11.search(texto)\r\n",
        "  if match:\r\n",
        "    exp_group1.append(match.group(1))\r\n",
        "    texto_coincidencia.append(texto)\r\n",
        "print(a)\r\n",
        "print(texto_coincidencia)\r\n",
        "print(exp_group1)  "
      ],
      "execution_count": null,
      "outputs": [
        {
          "output_type": "stream",
          "text": [
            "['ACT', 'ACTG', 'ACTGAT', 'GGAATT', 'ATGATG', 'ATACTAGG']\n",
            "['ATACTAGG']\n",
            "['CT']\n"
          ],
          "name": "stdout"
        }
      ]
    },
    {
      "cell_type": "code",
      "metadata": {
        "colab": {
          "base_uri": "https://localhost:8080/"
        },
        "id": "Hm3BG1JtfGEC",
        "outputId": "83e79ea8-4e6c-4f9b-8303-ca2a6f1d6614"
      },
      "source": [
        "#subtitutir con el grupo\r\n",
        "reg12 = re.compile(\"[at]{3}(.{2,5})a\", re.IGNORECASE)\r\n",
        "new_list = []\r\n",
        "for texto in a:  \r\n",
        "  match = reg12.sub(\"---\\\\1-\", texto)\r\n",
        "  new_list.append(match) \r\n",
        "print(a)  \r\n",
        "print(new_list)"
      ],
      "execution_count": null,
      "outputs": [
        {
          "output_type": "stream",
          "text": [
            "['ACT', 'ACTG', 'ACTGAT', 'GGAATT', 'ATGATG', 'ATACTAGG']\n",
            "['ACT', 'ACTG', 'ACTGAT', 'GGAATT', 'ATGATG', '---CT-GG']\n"
          ],
          "name": "stdout"
        }
      ]
    },
    {
      "cell_type": "code",
      "metadata": {
        "colab": {
          "base_uri": "https://localhost:8080/"
        },
        "id": "lkImjeIagNpz",
        "outputId": "31889d85-ead1-4136-c480-083dc5b57855"
      },
      "source": [
        "#subtitutir cambiando el orden de los grupos\r\n",
        "reg13 = re.compile(\"([at]{3})(.{2,3})(.*)\", re.IGNORECASE)\r\n",
        "new_list2 = []\r\n",
        "for texto in a:  \r\n",
        "  match = reg13.sub(\"\\\\2---\\\\1---\\\\3\", texto)\r\n",
        "  new_list2.append(match) \r\n",
        "print(a)  \r\n",
        "print(new_list2)"
      ],
      "execution_count": null,
      "outputs": [
        {
          "output_type": "stream",
          "text": [
            "['ACT', 'ACTG', 'ACTGAT', 'GGAATT', 'ATGATG', 'ATACTAGG']\n",
            "['ACT', 'ACTG', 'ACTGAT', 'GGAATT', 'ATGATG', 'CTA---ATA---GG']\n"
          ],
          "name": "stdout"
        }
      ]
    },
    {
      "cell_type": "markdown",
      "metadata": {
        "id": "YiFlokD9CGpO"
      },
      "source": [
        "**\"|\" hay coincidencias si está la expresión anterior o la siguiente**"
      ]
    },
    {
      "cell_type": "code",
      "metadata": {
        "colab": {
          "base_uri": "https://localhost:8080/"
        },
        "id": "ucfmSR2hClKJ",
        "outputId": "c63e7a81-d439-4004-9d26-2b41037af8be"
      },
      "source": [
        "reg14 = re.compile(\"(ACTG)|(GAT)\")\r\n",
        "imprimir_coincidencias(reg14, a)"
      ],
      "execution_count": null,
      "outputs": [
        {
          "output_type": "stream",
          "text": [
            "['ACT', 'ACTG', 'ACTGAT', 'GGAATT', 'ATGATG', 'ATACTAGG']\n",
            "['ACTG', 'ACTGAT', 'ATGATG']\n",
            "['ACTG', 'ACTG', 'GAT']\n"
          ],
          "name": "stdout"
        }
      ]
    },
    {
      "cell_type": "markdown",
      "metadata": {
        "id": "s7mY2DnWBpdL"
      },
      "source": [
        "# Ejemplo de expresiones regulares en bioinformática, ejemplo de SLIMs"
      ]
    },
    {
      "cell_type": "markdown",
      "metadata": {
        "id": "Yi_aSDdBB-RR"
      },
      "source": [
        "SLIMs, del inglés short lineal motifs. Son las siglas utilizadas para catalogar patrones cortos que ocurren en las secuencias de proteínas. Se describen mediante espresiones regulares. Pues estos motivos lineales pueden describir una función.\r\n",
        "\r\n",
        "[ELM](http://elm.eu.org/) es un servidor web de SLIMs en eucariotas para sitios funcionales de proteínas.\r\n"
      ]
    },
    {
      "cell_type": "markdown",
      "metadata": {
        "id": "VPCCN21Q0pC8"
      },
      "source": [
        "![](https://github.com/Ferorti/escuela2021/blob/main/images/png/ELM.png)\r\n",
        "\r\n",
        "\r\n",
        "\r\n"
      ]
    },
    {
      "cell_type": "markdown",
      "metadata": {
        "id": "pOPNrZ7b2Er4"
      },
      "source": [
        "![](../images/png/ELM.png)\r\n",
        "\r\n",
        "\r\n",
        "\r\n"
      ]
    }
  ]
}