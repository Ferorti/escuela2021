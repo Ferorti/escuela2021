{
 "metadata": {
  "language_info": {
   "codemirror_mode": {
    "name": "ipython",
    "version": 3
   },
   "file_extension": ".py",
   "mimetype": "text/x-python",
   "name": "python",
   "nbconvert_exporter": "python",
   "pygments_lexer": "ipython3",
   "version": "3.9.0-final"
  },
  "orig_nbformat": 2,
  "kernelspec": {
   "name": "python3",
   "display_name": "Python 3.9.0 64-bit ('venv')",
   "metadata": {
    "interpreter": {
     "hash": "7341b9afafe5a943debca8c76d79d051c693ad015f257acb1152bde5799729e2"
    }
   }
  }
 },
 "nbformat": 4,
 "nbformat_minor": 2,
 "cells": [
  {
   "source": [
    "# Funciones\n",
    "\n",
    "[![Open In Colab](https://colab.research.google.com/assets/colab-badge.svg)](https://colab.research.google.com/github/Ferorti/escuela2021/blob/main/clases/clase_04_funciones.ipynb)\n",
    "\n",
    "## Secciones\n",
    "- ¿Que son las funciones?\n",
    "- ¿Como definir funciones propias?\n"
   ],
   "cell_type": "markdown",
   "metadata": {}
  },
  {
   "source": [
    "## ¿Qué son las funciones?\n",
    "\n",
    "Anterioremente, usamos algunas funciones como __len()__, que permite calcular el tamaño de un elemento, o __type()__, que devuelve el tipo de cierto dato.\n",
    "\n",
    "Podemos pensar a las funciones como porciones que código que:\n",
    "\n",
    "- Tienen un funcionalidad muy específica.\n",
    "- Son potencialmente usables en muchos contextos diferentes.\n",
    "- Evita tener que escribir el mismo código una y otra vez.\n",
    "\n"
   ],
   "cell_type": "markdown",
   "metadata": {}
  },
  {
   "source": [
    "Veamos un ejemplo con la función __len()__"
   ],
   "cell_type": "markdown",
   "metadata": {}
  },
  {
   "cell_type": "code",
   "execution_count": 5,
   "metadata": {},
   "outputs": [],
   "source": [
    "texto = \"En un lugar de la Mancha, de cuyo nombre no quiero acordarme, ...\"\n",
    "largo = len(texto)\n",
    "# 'texto' es un argumento de la función len(). \n",
    "# Las funciones pueden tener cero, uno, o más argumentos.\n",
    "# El valor de retorno de la función len() es asignado a la variable largo.\n",
    "# Todas las funciones en python devuelven uno o más valores de retorno."
   ]
  },
  {
   "cell_type": "code",
   "execution_count": 6,
   "metadata": {},
   "outputs": [
    {
     "output_type": "stream",
     "name": "stdout",
     "text": [
      "hola\nEl resultado de print(hola) es  None\n"
     ]
    }
   ],
   "source": [
    "print_result = print(\"hola\")\n",
    "print(\"El resultado de print(hola) es \", print_result)"
   ]
  },
  {
   "source": [
    "Las funciones pueden devolver el valor __None__."
   ],
   "cell_type": "markdown",
   "metadata": {}
  },
  {
   "source": [
    "La función __pow()__, que sirve para calcular la potencia de los números, acepta dos argumentos:\n",
    "\n",
    "- Uno que corresponde a la base.\n",
    "- El otro al exponente.\n"
   ],
   "cell_type": "markdown",
   "metadata": {}
  },
  {
   "cell_type": "code",
   "execution_count": 7,
   "metadata": {},
   "outputs": [
    {
     "output_type": "stream",
     "name": "stdout",
     "text": [
      "Dos elevado al cubo es 8\n"
     ]
    }
   ],
   "source": [
    "dos_al_cubo = pow(2,3)\n",
    "print(\"Dos elevado al cubo es\", dos_al_cubo)"
   ]
  },
  {
   "source": [
    "## Funciones propias\n",
    "\n",
    "Python tiene muchas funciones predefinidas (como __len()__), pero nosotros podemos crear nuestras propias funciones.\n",
    "\n",
    "Para crear una función utilizamos la palabra clave __def__ de esta forma:"
   ],
   "cell_type": "markdown",
   "metadata": {}
  },
  {
   "cell_type": "code",
   "execution_count": 11,
   "metadata": {},
   "outputs": [
    {
     "output_type": "stream",
     "name": "stdout",
     "text": [
      "5 pies y 9 pulgadas equivale a  1.7526 metros\n"
     ]
    }
   ],
   "source": [
    "def feet_inches_to_meters(feet, inches): # Este es el encabezado de la función\n",
    "    meters = 0.0254 * inches # Este es el cuerpo de la función\n",
    "    meters += 0.3048 * feet  # Este es el cuerpo de la función\n",
    "    return meters            # Este es el cuerpo de la función\n",
    "#   | Tener el cuenta el indentado\n",
    "\n",
    "print(\"5 pies y 9 pulgadas equivale a\",feet_inches_to_meters(5, 9), \"metros\")"
   ]
  },
  {
   "cell_type": "code",
   "execution_count": 15,
   "metadata": {},
   "outputs": [
    {
     "output_type": "stream",
     "name": "stdout",
     "text": [
      "1.7526 metros equivale a  5 pies y 9.0 pulgadas\n"
     ]
    }
   ],
   "source": [
    "def meters_to_feet_inches(meters):\n",
    "    inches = meters / 0.0254\n",
    "    feet = int(inches/12)\n",
    "    inches = inches - 12 * feet\n",
    "    return feet, inches\n",
    "\n",
    "pies, pulgadas = meters_to_feet_inches(1.7526)\n",
    "print(\"1.7526 metros equivale a\", pies, \"pies y\", pulgadas, \"pulgadas\")"
   ]
  },
  {
   "source": [
    "Para completar, escribir una función que convierta metros en centímetros."
   ],
   "cell_type": "markdown",
   "metadata": {}
  },
  {
   "cell_type": "code",
   "execution_count": null,
   "metadata": {},
   "outputs": [],
   "source": []
  },
  {
   "source": [
    "Veamos otro ejemplo:"
   ],
   "cell_type": "markdown",
   "metadata": {}
  },
  {
   "cell_type": "code",
   "execution_count": 16,
   "metadata": {},
   "outputs": [
    {
     "output_type": "stream",
     "name": "stdout",
     "text": [
      "La palabra 'Avenida' tiene 4 vocales\n"
     ]
    }
   ],
   "source": [
    "def contar_vocales(texto):\n",
    "    posibles_vocales = ['a', 'e', 'i', 'o', 'u', 'A', 'E', 'I', 'O', 'U'] # Y las acentuadas...bah, no importa.\n",
    "    total_de_vocales = 0\n",
    "    for letra in texto:\n",
    "        if letra in posibles_vocales: # if ejecuta un código si se cumple cierta condición.\n",
    "            total_de_vocales += 1\n",
    "    return total_de_vocales\n",
    "\n",
    "print(\"La palabra 'Avenida' tiene\", contar_vocales('Avenida'), \"vocales\")"
   ]
  },
  {
   "source": [
    "Para completar, escribir una función que cuente los número mayores a 5 de una lista de números."
   ],
   "cell_type": "markdown",
   "metadata": {}
  },
  {
   "cell_type": "code",
   "execution_count": null,
   "metadata": {},
   "outputs": [],
   "source": []
  },
  {
   "source": [
    "Para completar, escribir una función parecida a la anterior, pero que permite al usuario de la función cualquier número que quiera, no solo el 5."
   ],
   "cell_type": "markdown",
   "metadata": {}
  },
  {
   "cell_type": "code",
   "execution_count": null,
   "metadata": {},
   "outputs": [],
   "source": []
  }
 ]
}