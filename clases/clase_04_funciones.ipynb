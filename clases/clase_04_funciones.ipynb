{
 "cells": [
  {
   "cell_type": "markdown",
   "metadata": {},
   "source": [
    "# Funciones\n",
    "\n",
    "[![Open In Colab](https://colab.research.google.com/assets/colab-badge.svg)](https://colab.research.google.com/github/Ferorti/escuela2021/blob/main/clases/clase_04_funciones.ipynb)\n",
    "\n",
    "## Secciones\n",
    "- ¿Que son las funciones?\n",
    "- ¿Como definir funciones propias?\n",
    "- Importar módulos y funciones \n"
   ]
  },
  {
   "cell_type": "markdown",
   "metadata": {},
   "source": [
    "## ¿Qué son las funciones?\n",
    "\n",
    "Anterioremente, usamos algunas funciones como __len()__, que permite calcular el tamaño de un elemento, o __type()__, que devuelve el tipo de cierto dato.\n",
    "\n",
    "Podemos pensar a las funciones como porciones que código que:\n",
    "\n",
    "- Tienen un funcionalidad muy específica.\n",
    "- Son potencialmente usables en muchos contextos diferentes.\n",
    "- Evita tener que escribir el mismo código una y otra vez.\n",
    "- Ayudan a simplificar la estructura del código.\n",
    "\n"
   ]
  },
  {
   "cell_type": "markdown",
   "metadata": {},
   "source": [
    "Veamos un ejemplo con la función __len()__"
   ]
  },
  {
   "cell_type": "code",
   "execution_count": 5,
   "metadata": {},
   "outputs": [],
   "source": [
    "texto = \"En un lugar de la Mancha, de cuyo nombre no quiero acordarme, ...\"\n",
    "largo = len(texto)\n",
    "# 'texto' es un argumento de la función len(). \n",
    "# Las funciones pueden tener cero, uno, o más argumentos.\n",
    "# El valor de retorno de la función len() es asignado a la variable largo.\n",
    "# Todas las funciones en python devuelven uno o más valores de retorno."
   ]
  },
  {
   "cell_type": "code",
   "execution_count": 6,
   "metadata": {},
   "outputs": [
    {
     "name": "stdout",
     "output_type": "stream",
     "text": [
      "hola\n",
      "El resultado de print(hola) es  None\n"
     ]
    }
   ],
   "source": [
    "print_result = print(\"hola\")\n",
    "print(\"El resultado de print(hola) es \", print_result)"
   ]
  },
  {
   "cell_type": "markdown",
   "metadata": {},
   "source": [
    "Las funciones pueden devolver el valor __None__."
   ]
  },
  {
   "cell_type": "markdown",
   "metadata": {},
   "source": [
    "La función __pow()__, que sirve para calcular la potencia de los números, acepta dos argumentos:\n",
    "\n",
    "- Uno que corresponde a la base.\n",
    "- El otro al exponente.\n"
   ]
  },
  {
   "cell_type": "code",
   "execution_count": 7,
   "metadata": {},
   "outputs": [
    {
     "name": "stdout",
     "output_type": "stream",
     "text": [
      "Dos elevado al cubo es 8\n"
     ]
    }
   ],
   "source": [
    "dos_al_cubo = pow(2,3)\n",
    "print(\"Dos elevado al cubo es\", dos_al_cubo)"
   ]
  },
  {
   "cell_type": "markdown",
   "metadata": {},
   "source": [
    "## Funciones propias\n",
    "\n",
    "Python tiene muchas funciones predefinidas (como __len()__), pero nosotros podemos crear nuestras propias funciones.\n",
    "\n",
    "Para crear una función utilizamos la palabra clave __def__ de esta forma:"
   ]
  },
  {
   "cell_type": "code",
   "execution_count": 2,
   "metadata": {},
   "outputs": [
    {
     "name": "stdout",
     "output_type": "stream",
     "text": [
      "La Energía Potencial de un cuerpo de masa 2.5 Kg a 10 metros de altura es de:  245.0 J\n"
     ]
    }
   ],
   "source": [
    "def calcular_ep(m, g, h):    # Este es el encabezado de la función\n",
    "    ep =  m * g * h          # Este es el cuerpo de la función\n",
    "    return ep                # Lo que la funcion devuelve o retorna\n",
    "\n",
    "\n",
    "print(\"La Energía Potencial de un cuerpo de masa 2.5 Kg a 10 metros de altura es de: \", calcular_ep(2.5, 9.8, 10), \"J\")"
   ]
  },
  {
   "cell_type": "code",
   "execution_count": 3,
   "metadata": {},
   "outputs": [
    {
     "name": "stdout",
     "output_type": "stream",
     "text": [
      "La Energía Potencial de un cuerpo de masa 2.5 Kg a 10 metros de altura es de:  245.0 J\n"
     ]
    }
   ],
   "source": [
    "def calcular_ep(m, h):# Este es el encabezado de la función\n",
    "    g = 9.8\n",
    "    ep =  m * g * h          # Este es el cuerpo de la función\n",
    "    return ep                # Lo que la funcion devuelve o retorna\n",
    "\n",
    "\n",
    "print(\"La Energía Potencial de un cuerpo de masa 2.5 Kg a 10 metros de altura es de: \", calcular_ep(2.5, 10), \"J\")"
   ]
  },
  {
   "cell_type": "markdown",
   "metadata": {},
   "source": [
    "Podemos integrar las funciones en un bu"
   ]
  },
  {
   "cell_type": "code",
   "execution_count": null,
   "metadata": {},
   "outputs": [],
   "source": []
  },
  {
   "cell_type": "markdown",
   "metadata": {},
   "source": [
    "Veamos otro ejemplo:"
   ]
  },
  {
   "cell_type": "code",
   "execution_count": 16,
   "metadata": {},
   "outputs": [
    {
     "name": "stdout",
     "output_type": "stream",
     "text": [
      "La palabra 'Avenida' tiene 4 vocales\n"
     ]
    }
   ],
   "source": [
    "def contar_vocales(texto):\n",
    "    posibles_vocales = ['a', 'e', 'i', 'o', 'u', 'A', 'E', 'I', 'O', 'U'] # Y las acentuadas...bah, no importa.\n",
    "    total_de_vocales = 0\n",
    "    for letra in texto:\n",
    "        if letra in posibles_vocales: # if ejecuta un código si se cumple cierta condición.\n",
    "            total_de_vocales += 1\n",
    "    return total_de_vocales\n",
    "\n",
    "print(\"La palabra 'Avenida' tiene\", contar_vocales('Avenida'), \"vocales\")"
   ]
  },
  {
   "cell_type": "markdown",
   "metadata": {},
   "source": [
    "Para completar, escribir una función que cuente los número mayores a 5 de una lista de números."
   ]
  },
  {
   "cell_type": "code",
   "execution_count": null,
   "metadata": {},
   "outputs": [],
   "source": []
  },
  {
   "cell_type": "markdown",
   "metadata": {},
   "source": [
    "Para completar, escribir una función parecida a la anterior, pero que permite al usuario de la función cualquier número que quiera, no solo el 5."
   ]
  },
  {
   "cell_type": "code",
   "execution_count": null,
   "metadata": {},
   "outputs": [],
   "source": []
  },
  {
   "cell_type": "markdown",
   "metadata": {},
   "source": [
    "## Importar módulos y funciones"
   ]
  },
  {
   "cell_type": "markdown",
   "metadata": {},
   "source": [
    "Python viene con muchas funciones (y objetos) predefinidas.\n",
    "\n",
    "Estas funciones están agrupadas en un __módulos__ que tienen una funcionalidad relacionada.\n",
    "\n",
    "Por ejemplo el módulo __random__ tiene funciones que están relacionadas con la generación de números aleatorios.\n",
    "\n",
    "Algunos funciones de este módulo son:\n",
    "\n",
    "- random() : Elige un número flotante al azar entre 0 y 1.\n",
    "- randint() : Elige un número entero de un rando dado por dos valores.\n",
    "- choice() : Elige una valor de una lista dada"
   ]
  },
  {
   "cell_type": "markdown",
   "metadata": {},
   "source": [
    "La mayoría de estas funciones predefinidas no están disponibles de primera mano.\n",
    "\n",
    "Para usarlas tenemos que importar esas funciones o módulos."
   ]
  },
  {
   "cell_type": "code",
   "execution_count": 2,
   "metadata": {},
   "outputs": [
    {
     "name": "stdout",
     "output_type": "stream",
     "text": [
      "0.9990126024665164\n"
     ]
    }
   ],
   "source": [
    "import random # Importa el módulo random\n",
    "\n",
    "print(random.random())"
   ]
  },
  {
   "cell_type": "code",
   "execution_count": 32,
   "metadata": {},
   "outputs": [
    {
     "name": "stdout",
     "output_type": "stream",
     "text": [
      "2\n"
     ]
    }
   ],
   "source": [
    "from random import randint # Importa la función randint del módulo random\n",
    "\n",
    "print(randint(1,5))"
   ]
  },
  {
   "cell_type": "markdown",
   "metadata": {},
   "source": [
    "Además hay disponibles muchos módulos que no están predefinidos en Python, sino que\n",
    "pueden obtenerse de __paquetes__ producidos por terceros.\n",
    "\n",
    "Por ejemplo:\n",
    "\n",
    "- el paquete __pandas__ contiene módulos para el análisis de datos.\n",
    "- el paquete __numpy__ contiene módulos para hacer coputación scientifica.\n",
    "- el paquete __biopython__ contiene módulos con herramientas bioinformáticas.\n"
   ]
  },
  {
   "cell_type": "markdown",
   "metadata": {},
   "source": [
    "Para que estos paquetes estén disponibles es necesario instalarlos.\n",
    "\n",
    "La instalación es diferente según la distribución de Python que se use."
   ]
  },
  {
   "cell_type": "markdown",
   "metadata": {},
   "source": [
    "### Python base\n",
    "\n",
    "Los paquetes se instalan con el comando __pip__.\n",
    "\n",
    "__pip__ se ejecuta en la línea de comandos del sistema operativo.\n",
    "\n",
    "```{bash}\n",
    "> pip install requests\n",
    "# Estamos instalando el paquete requests. \n",
    "# pip se encarga de descargar el paquete, instalarlo y configurarlo.\n",
    "```"
   ]
  },
  {
   "cell_type": "markdown",
   "metadata": {},
   "source": [
    "### Anaconda Python\n",
    "\n",
    "Los paquetes se instalan con el comando __conda__:\n",
    "\n",
    "__conda__ se ejecuta en la línea de comandos del sistema operativo.\n",
    "\n",
    "Anaconda trae una interfaz gráfica que ayuda a instalar paquetes.\n",
    "\n",
    "```{bash}\n",
    "> conda install requests\n",
    "# Estamos instalando el paquete requests. \n",
    "# conda se encarga de descargar el paquete, instalarlo y configurarlo.\n",
    "```"
   ]
  },
  {
   "cell_type": "markdown",
   "metadata": {},
   "source": [
    "### Google Colab\n",
    "\n",
    "En google Colab se usa también __pip__, peroo no hay un acceso directo a la línea de comandos del sistema operativo.\n",
    "\n",
    "En una celda se escribe el comando __pip__ que corresponde y se agrega el símbolo __!__ al inicio:\n",
    "\n",
    "```{python}\n",
    "!pip install requests\n",
    "```"
   ]
  }
 ],
 "metadata": {
  "kernelspec": {
   "display_name": "Python 3",
   "language": "python",
   "name": "python3"
  },
  "language_info": {
   "codemirror_mode": {
    "name": "ipython",
    "version": 3
   },
   "file_extension": ".py",
   "mimetype": "text/x-python",
   "name": "python",
   "nbconvert_exporter": "python",
   "pygments_lexer": "ipython3",
   "version": "3.8.3"
  }
 },
 "nbformat": 4,
 "nbformat_minor": 4
}
