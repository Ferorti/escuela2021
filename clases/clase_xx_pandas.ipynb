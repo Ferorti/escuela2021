{
 "cells": [
  {
   "cell_type": "markdown",
   "metadata": {},
   "source": [
    "#### Secciones\n",
    "* Series (Breve introduccion para que entiendan mejor los dataframes\n",
    "* DataFrames\n",
    " * crear o cargar un df \n",
    " * primera exploracion de la estructura del df\n",
    " * subseting de columnas y filas\n",
    "* Primeros graficos exploratorios\n",
    "* Transformaciones\n",
    "* grouping y reshaping\n"
   ]
  },
  {
   "cell_type": "code",
   "execution_count": null,
   "metadata": {},
   "outputs": [],
   "source": [
    "\n"
   ]
  },
  {
   "cell_type": "markdown",
   "metadata": {},
   "source": [
    "### PANDAS"
   ]
  },
  {
   "cell_type": "code",
   "execution_count": null,
   "metadata": {},
   "outputs": [],
   "source": [
    "import pandas as pd"
   ]
  },
  {
   "cell_type": "code",
   "execution_count": null,
   "metadata": {},
   "outputs": [],
   "source": [
    "# Crear uno desde un diccionario"
   ]
  },
  {
   "cell_type": "code",
   "execution_count": null,
   "metadata": {},
   "outputs": [],
   "source": []
  },
  {
   "cell_type": "code",
   "execution_count": null,
   "metadata": {},
   "outputs": [],
   "source": [
    "# cargar tablas"
   ]
  },
  {
   "cell_type": "code",
   "execution_count": null,
   "metadata": {},
   "outputs": [],
   "source": [
    "# Descargar tabla\n",
    "!wget https://raw.githubusercontent.com/Ferorti/escuela2021/main/data/america.csv"
   ]
  },
  {
   "cell_type": "code",
   "execution_count": null,
   "metadata": {},
   "outputs": [],
   "source": [
    "df = pd.read_csv('../data/america.csv', index_col='pais')"
   ]
  },
  {
   "cell_type": "markdown",
   "metadata": {},
   "source": [
    "Podemos ver las primeras 5 filas de nuestra tabla utilizando el método ```.head()```"
   ]
  },
  {
   "cell_type": "code",
   "execution_count": null,
   "metadata": {},
   "outputs": [],
   "source": [
    "df.head()"
   ]
  },
  {
   "cell_type": "markdown",
   "metadata": {},
   "source": [
    "si al contrario, queremos ver las ultimas filas utilizamos ```.tail()```"
   ]
  },
  {
   "cell_type": "code",
   "execution_count": null,
   "metadata": {},
   "outputs": [],
   "source": [
    "df.tail()"
   ]
  },
  {
   "cell_type": "markdown",
   "metadata": {},
   "source": [
    "Para conocer las dimensiones de la tabla utilizamos el atributo ```.shape```"
   ]
  },
  {
   "cell_type": "code",
   "execution_count": null,
   "metadata": {},
   "outputs": [],
   "source": [
    "dims = df.shape\n",
    "print('dimensiones:', dims)\n",
    "nrows = df.shape[0]\n",
    "ncols = df.shape[1]\n",
    "print('La tabla tiene {} filas y {} columnas'.format(nrows, ncols))"
   ]
  },
  {
   "cell_type": "markdown",
   "metadata": {},
   "source": [
    "Otro método muy útil de los dataframes es ```.info()```"
   ]
  },
  {
   "cell_type": "code",
   "execution_count": null,
   "metadata": {},
   "outputs": [],
   "source": [
    "df.info()"
   ]
  },
  {
   "cell_type": "markdown",
   "metadata": {},
   "source": [
    "Que información podemos obtener con ```.info()```?\n",
    "\n",
    "Como tiene pocas filas, podemos ver el dataframe completo:"
   ]
  },
  {
   "cell_type": "code",
   "execution_count": null,
   "metadata": {},
   "outputs": [],
   "source": [
    "df"
   ]
  },
  {
   "cell_type": "markdown",
   "metadata": {},
   "source": [
    "Podemos ordenar los datos según una columna específica, por ejemplo por la cantidad total de fallecidos:"
   ]
  },
  {
   "cell_type": "code",
   "execution_count": null,
   "metadata": {},
   "outputs": [],
   "source": [
    "df.sort_values('fallecidos')"
   ]
  },
  {
   "cell_type": "markdown",
   "metadata": {},
   "source": [
    "Cuando tenemos datos numéricos, un método muy útil para tener una idea de cómo son los datos es el ```.describe()```"
   ]
  },
  {
   "cell_type": "code",
   "execution_count": null,
   "metadata": {},
   "outputs": [],
   "source": [
    "df.describe()"
   ]
  },
  {
   "cell_type": "markdown",
   "metadata": {},
   "source": [
    "---\n",
    "\n",
    "### Subsets de datos"
   ]
  },
  {
   "cell_type": "markdown",
   "metadata": {},
   "source": [
    "Muchas veces no queremos trabajar con todos los datos disponibles en la tabla sino con una parte.\n",
    "La idea es poder decirle a python qué filas y qué columnas del dataframe queremos conservar u obtener.\n",
    "\n",
    "ya vimos dos métodos que hacen un subset por filas, recuerdan cuales?\n",
    "\n",
    "El subset de datos se puede hacer de varias formas, el primero que vamos a ver es ```.loc[]``` con la siguiente sintaxis:\n",
    "\n",
    "```python\n",
    "subset = df.loc[filas, columnas]\n",
    "```"
   ]
  },
  {
   "cell_type": "code",
   "execution_count": null,
   "metadata": {},
   "outputs": [],
   "source": [
    "filas_del_subset = ['Argentina', 'Brasil', 'Paraguay', 'Uruguay']\n",
    "columnas_del_subset = ['casos_totales', 'fallecidos']"
   ]
  },
  {
   "cell_type": "code",
   "execution_count": null,
   "metadata": {},
   "outputs": [],
   "source": [
    "subset = df.loc[filas_del_subset, columnas_del_subset]\n",
    "subset.sort_values('casos_totales', ascending=False)"
   ]
  },
  {
   "cell_type": "markdown",
   "metadata": {},
   "source": [
    "A veces querenos quedarnos con algunas columnas y todas las filas (o algunas filas y todas las columnas)\n",
    "Las dos cosas podemos hacer utilizando ```.loc[]```, poniendo ```.loc[]``` y dos puntos ```:``` en lugar de la lista:\n",
    "\n",
    "Por ej:\n",
    "\n",
    "```python\n",
    "subset = df.loc[ : , columnas] # Me quedo con todas las filas, y las columnas de interes\n",
    "subset = df.loc[ filas , : ] # Me quedo con todas las filas, y las columnas de interes\n",
    "\n",
    "```"
   ]
  },
  {
   "cell_type": "code",
   "execution_count": null,
   "metadata": {},
   "outputs": [],
   "source": [
    "df.loc[ : , columnas_del_subset ] # Todas las filas"
   ]
  },
  {
   "cell_type": "code",
   "execution_count": null,
   "metadata": {},
   "outputs": [],
   "source": [
    "df.loc[ filas_del_subset , : ] # Todas las columnas"
   ]
  },
  {
   "cell_type": "markdown",
   "metadata": {},
   "source": [
    "Que pasa si pongo ```.loc[:,:]```"
   ]
  },
  {
   "cell_type": "markdown",
   "metadata": {},
   "source": [
    "Hasta ahora hicimos un subset con varias filas y varias columnas, que pasa si lo quiero hacer sobre solo una fila o solo una columna?"
   ]
  },
  {
   "cell_type": "code",
   "execution_count": null,
   "metadata": {},
   "outputs": [],
   "source": [
    "df.loc[:, 'casos_totales']"
   ]
  },
  {
   "cell_type": "code",
   "execution_count": null,
   "metadata": {},
   "outputs": [],
   "source": [
    "df.loc[filas_del_subset, 'casos_totales']"
   ]
  },
  {
   "cell_type": "code",
   "execution_count": null,
   "metadata": {},
   "outputs": [],
   "source": [
    "df.loc[\"USA\", columnas_del_subset]"
   ]
  },
  {
   "cell_type": "markdown",
   "metadata": {},
   "source": [
    "Pandas nos ofrece formas simplificadas realizar subsets\n",
    "Por ej:\n",
    "```python\n",
    "\n",
    "# Columnas\n",
    "casos_totales = df['casos_totales']            # Me quedo solo con la columna casos totales y todas las filas\n",
    "casos_totales = df.casos_totales               # Me quedo solo con la columna casos totales y todas las filas, esta forma tiene limitaciones\n",
    "casos_y_fallecidos = df[['casos_totales', 'fallecidos']] # Me quedo con la columnas casos_totales  y fallecidos, y todas las filas\n",
    "\n",
    "# Filas\n",
    "usa = df.loc['USA']\n",
    "mercosur_df = df.loc[filas_del_subset]\n",
    "\n",
    "```"
   ]
  },
  {
   "cell_type": "code",
   "execution_count": null,
   "metadata": {},
   "outputs": [],
   "source": [
    "mercosur_df = df.loc[filas_del_subset]\n",
    "mercosur_df"
   ]
  },
  {
   "cell_type": "code",
   "execution_count": null,
   "metadata": {},
   "outputs": [],
   "source": []
  },
  {
   "cell_type": "markdown",
   "metadata": {},
   "source": [
    "Como vimos hasta ahora podemos realizar subsets de datos utilizando los nombres de las columnas o el índice.\n",
    "\n",
    "Además, con ```.loc[:,:]``` podemos utilizar listas de booleanos para el subset. En estos casos nos vamos a quedar con las filas(o columnas) que tengan True en la lista:\n",
    "\n",
    "Por ej\n"
   ]
  },
  {
   "cell_type": "code",
   "execution_count": null,
   "metadata": {},
   "outputs": [],
   "source": []
  },
  {
   "cell_type": "code",
   "execution_count": null,
   "metadata": {},
   "outputs": [],
   "source": [
    "mask = [True, False, True, True]"
   ]
  },
  {
   "cell_type": "code",
   "execution_count": null,
   "metadata": {},
   "outputs": [],
   "source": [
    "subset.loc[mask, : ]"
   ]
  },
  {
   "cell_type": "markdown",
   "metadata": {},
   "source": [
    "Generalmente no le vamos a pasar una lista de booleanos creada por nosotrxs sino una lista o serie de booleanos proveniente de una operación de comparación:"
   ]
  },
  {
   "cell_type": "code",
   "execution_count": null,
   "metadata": {},
   "outputs": [],
   "source": [
    "casos_totales = df['casos_totales']\n",
    "mas_1M = casos_totales > 1_000_000\n",
    "mas_1M"
   ]
  },
  {
   "cell_type": "code",
   "execution_count": null,
   "metadata": {},
   "outputs": [],
   "source": [
    "df.loc[mas_1M, ['casos_totales', 'fallecidos']]"
   ]
  },
  {
   "cell_type": "markdown",
   "metadata": {},
   "source": [
    "Hay otro método bastante útil para seleccionar filas segun se cumpla una condicion, el método ```.query()```:\n",
    "\n",
    "```python \n",
    "\n",
    "df.query('casos_totales > 1_000_000')\n",
    "\n",
    "```\n"
   ]
  },
  {
   "cell_type": "markdown",
   "metadata": {},
   "source": [
    "Por ultimo en cuanto a subseting, también podemos seleccionar filas o columnas según su posición, en lugar del índice. Para eso se utiliza el 'metodo' ```iloc[]```"
   ]
  },
  {
   "cell_type": "code",
   "execution_count": null,
   "metadata": {},
   "outputs": [],
   "source": [
    "df.iloc[:5, :] #equivalente al método .head()"
   ]
  },
  {
   "cell_type": "code",
   "execution_count": null,
   "metadata": {},
   "outputs": [],
   "source": [
    "df.iloc[3:8, 3:-2]   # De la cuarta fila a la octava, de la cuarta columna a la antpeneultima"
   ]
  },
  {
   "cell_type": "markdown",
   "metadata": {},
   "source": [
    "Para hacer:\n",
    "A partir del dataframe df, generar otro dataframe llamado sudamerica con:\n",
    "+ Sólo los paises de Sudamérica\n",
    "+ Ordenado por la cantidad de fallecidos (de mayor a menor)\n",
    "+ Que muestre las columnas casos_totales, fallecidos, condicion_critica y recuperados (En ese orden)"
   ]
  },
  {
   "cell_type": "code",
   "execution_count": null,
   "metadata": {},
   "outputs": [],
   "source": []
  },
  {
   "cell_type": "markdown",
   "metadata": {},
   "source": [
    "---"
   ]
  },
  {
   "cell_type": "markdown",
   "metadata": {},
   "source": [
    "### Manipular los datos"
   ]
  },
  {
   "cell_type": "code",
   "execution_count": null,
   "metadata": {},
   "outputs": [],
   "source": [
    "# solo los paises de sudamerica\n",
    "\n",
    "sudamerica = df.loc[df['region'] == 'S', ['casos_totales','fallecidos', 'condicion_critica', 'recuperados']]\n",
    "\n",
    "sudamerica = sudamerica.sort_values('fallecidos', ascending=False)\n",
    "\n",
    "sudamerica"
   ]
  },
  {
   "cell_type": "code",
   "execution_count": null,
   "metadata": {},
   "outputs": [],
   "source": [
    "sudamerica = sudamerica.query('casos_totales > 1_000_000')"
   ]
  },
  {
   "cell_type": "code",
   "execution_count": null,
   "metadata": {},
   "outputs": [],
   "source": [
    "pd.options.mode.chained_assignment = None  # ocultar alertas"
   ]
  },
  {
   "cell_type": "markdown",
   "metadata": {},
   "source": [
    "En pandas podemos generar nuevos datos a partir de los existentes, de multiples maneras:\n",
    "\n",
    "Por ejemplo con operaciones matematicas entre una columna y un numero"
   ]
  },
  {
   "cell_type": "code",
   "execution_count": null,
   "metadata": {},
   "outputs": [],
   "source": [
    "sudamerica['casos_totales'] / 1_000_000 # Podemos separar los numeros con _ para poder leerlos mejor, Python va a ignorar los _"
   ]
  },
  {
   "cell_type": "code",
   "execution_count": null,
   "metadata": {},
   "outputs": [],
   "source": [
    "sudamerica['millon_de_casos'] = sudamerica['casos_totales'] / 1_000_000\n"
   ]
  },
  {
   "cell_type": "markdown",
   "metadata": {},
   "source": [
    "Podemos también aplicar los métodos de una serie para cambiarla sus valores o para agregarla en otra columna:"
   ]
  },
  {
   "cell_type": "code",
   "execution_count": null,
   "metadata": {},
   "outputs": [],
   "source": [
    "sudamerica['millon_de_casos'] = sudamerica['millon_de_casos'].round(2)\n"
   ]
  },
  {
   "cell_type": "markdown",
   "metadata": {},
   "source": [
    "También nos permite realizar operaciones matemáticas combinando series y números"
   ]
  },
  {
   "cell_type": "code",
   "execution_count": null,
   "metadata": {},
   "outputs": [],
   "source": [
    "sudamerica['letalidad'] = sudamerica['fallecidos'] / sudamerica['casos_totales'] * 100"
   ]
  },
  {
   "cell_type": "code",
   "execution_count": null,
   "metadata": {},
   "outputs": [],
   "source": [
    "sudamerica['tasa_recuperados'] = sudamerica['recuperados'] / sudamerica['casos_totales']\n"
   ]
  },
  {
   "cell_type": "markdown",
   "metadata": {},
   "source": [
    "Otra opcion que nos permite pandas es aplicar generar  series aplicando una funcion a todos los elementos de la serie, utilizando el método  ```.map()``` de la serie.\n",
    "Con la siguiente sintaxis:\n",
    " ```python\n",
    "nueva_serie = serie.map(nombre_de_funcion_de_interes)\n",
    "```"
   ]
  },
  {
   "cell_type": "code",
   "execution_count": null,
   "metadata": {},
   "outputs": [],
   "source": [
    "def porciento(numero):\n",
    "    redondeo = round(numero * 100)\n",
    "    return '{}%'.format(redondeo)"
   ]
  },
  {
   "cell_type": "code",
   "execution_count": null,
   "metadata": {},
   "outputs": [],
   "source": [
    "sudamerica['porcentaje_recuperados'] = sudamerica.tasa_recuperados.map(porciento) # la funcion no lleva los parentesis"
   ]
  },
  {
   "cell_type": "code",
   "execution_count": null,
   "metadata": {},
   "outputs": [],
   "source": [
    "sudamerica.info()"
   ]
  },
  {
   "cell_type": "markdown",
   "metadata": {},
   "source": [
    "puedo operar con el índice, que tambien es un subtipo particular de Series."
   ]
  },
  {
   "cell_type": "code",
   "execution_count": null,
   "metadata": {},
   "outputs": [],
   "source": [
    "sudamerica.index"
   ]
  },
  {
   "cell_type": "markdown",
   "metadata": {},
   "source": [
    "el metodo map es muy versátil, no solo acepta funciones sino tambien diccionarios:"
   ]
  },
  {
   "cell_type": "code",
   "execution_count": null,
   "metadata": {},
   "outputs": [],
   "source": [
    "poblaciones = {'USA': 332299143, 'Brasil': 213568068, 'Argentina': 45472346, 'Canada': 37962879, 'Peru': 33277411,'Colombia': 51244298}"
   ]
  },
  {
   "cell_type": "code",
   "execution_count": null,
   "metadata": {},
   "outputs": [],
   "source": [
    "sudamerica['poblacion'] = sudamerica.index.map(poblaciones)"
   ]
  },
  {
   "cell_type": "code",
   "execution_count": null,
   "metadata": {},
   "outputs": [],
   "source": [
    "sudamerica"
   ]
  },
  {
   "cell_type": "markdown",
   "metadata": {},
   "source": [
    "Para hacer:\n",
    "Crear las siguientes columnas:\n",
    "+ casos millon de habitantes\n",
    "+ fallecidos cada 100 mil habitantes"
   ]
  },
  {
   "cell_type": "code",
   "execution_count": null,
   "metadata": {},
   "outputs": [],
   "source": [
    "sudamerica['casos_por_millon'] = sudamerica['casos_totales'] / sudamerica['poblacion'] * 1_000_000"
   ]
  },
  {
   "cell_type": "code",
   "execution_count": null,
   "metadata": {},
   "outputs": [],
   "source": [
    "sudamerica['fallecidos_por_cienmil'] = sudamerica.fallecidos / sudamerica.poblacion * 100_000"
   ]
  },
  {
   "cell_type": "code",
   "execution_count": null,
   "metadata": {},
   "outputs": [],
   "source": [
    "sudamerica"
   ]
  },
  {
   "cell_type": "markdown",
   "metadata": {},
   "source": [
    "---"
   ]
  },
  {
   "cell_type": "raw",
   "metadata": {},
   "source": [
    "Podemos utilizar lo que aprendimos a hacer con los bucles for.\n",
    "Para eso utilizamos el metodo iterrows() para recorrer las filas:"
   ]
  },
  {
   "cell_type": "code",
   "execution_count": null,
   "metadata": {},
   "outputs": [],
   "source": [
    "casos = {}\n",
    "for fila in df.iterrows():\n",
    "    print(fila)"
   ]
  },
  {
   "cell_type": "markdown",
   "metadata": {},
   "source": [
    "Para hacer:\n",
    "\n",
    "utilizando un bucle for, genere un dicionario con los paises de centroamerica como claves y el porcentaje de letalidad (fallecidos por 100 casos confirmados) respectivo a cada pais como valores."
   ]
  },
  {
   "cell_type": "code",
   "execution_count": null,
   "metadata": {},
   "outputs": [],
   "source": []
  },
  {
   "cell_type": "code",
   "execution_count": null,
   "metadata": {},
   "outputs": [],
   "source": []
  },
  {
   "cell_type": "code",
   "execution_count": null,
   "metadata": {},
   "outputs": [],
   "source": []
  },
  {
   "cell_type": "code",
   "execution_count": null,
   "metadata": {},
   "outputs": [],
   "source": [
    "print('Paises de Norteamerica:')\n",
    "for pais, fila in df.iterrows():\n",
    "    if fila['region'] == 'N':\n",
    "        print('En', pais, 'existen',fila['casos_activos'],'casos actualmente activos')"
   ]
  },
  {
   "cell_type": "code",
   "execution_count": null,
   "metadata": {},
   "outputs": [],
   "source": []
  }
 ],
 "metadata": {
  "kernelspec": {
   "display_name": "Python 3",
   "language": "python",
   "name": "python3"
  },
  "language_info": {
   "codemirror_mode": {
    "name": "ipython",
    "version": 3
   },
   "file_extension": ".py",
   "mimetype": "text/x-python",
   "name": "python",
   "nbconvert_exporter": "python",
   "pygments_lexer": "ipython3",
   "version": "3.8.3"
  }
 },
 "nbformat": 4,
 "nbformat_minor": 4
}
