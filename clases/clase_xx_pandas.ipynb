{
 "cells": [
  {
   "cell_type": "markdown",
   "metadata": {},
   "source": [
    "#### Secciones\n",
    "* Series \n",
    "* DataFrames\n",
    " * crear o cargar un df \n",
    " * primera exploracion de la estructura del df\n",
    " * subseting de columnas y filas\n",
    " * manipular datos\n"
   ]
  },
  {
   "cell_type": "markdown",
   "metadata": {},
   "source": [
    "En uno de los ejercicios vistos en clase teniamos dos listas pareadas con los pesos moleculares de los aminoácidos."
   ]
  },
  {
   "cell_type": "code",
   "execution_count": null,
   "metadata": {},
   "outputs": [],
   "source": [
    "amino = [\n",
    "        'I', 'L', 'K', 'M', 'F',\n",
    "        'T', 'W', 'V', 'R', 'H',\n",
    "        'A', 'N', 'D', 'C', 'E',\n",
    "        'Q', 'G', 'P', 'S', 'Y'\n",
    "        ]\n",
    "pm = [\n",
    "        131.1736, 131.1736, 146.1882, 149.2124, 165.1900,\n",
    "        119.1197, 204.2262, 117.1469, 174.2017, 155.1552,\n",
    "        89.0935,  132.1184, 133.1032, 121.1590, 147.1299,\n",
    "        146.1451, 75.0669,  115.1310, 105.0930, 181.1894\n",
    "    ]\n"
   ]
  },
  {
   "cell_type": "code",
   "execution_count": null,
   "metadata": {},
   "outputs": [],
   "source": [
    "for aa,peso in zip(amino, pm):\n",
    "    if peso > 150:\n",
    "        print(aa, peso)"
   ]
  },
  {
   "cell_type": "code",
   "execution_count": null,
   "metadata": {},
   "outputs": [],
   "source": [
    "pesos_moleculares = dict(zip(amino, pm)) # Convierto a un diccionario, las claves son la primer lista y los valores la segunda\n",
    "\n",
    "for aa in pesos_moleculares:\n",
    "    if pesos_moleculares[aa] > 150:\n",
    "        print(aa, pesos_moleculares[aa])"
   ]
  },
  {
   "cell_type": "markdown",
   "metadata": {},
   "source": [
    "### Pandas Series"
   ]
  },
  {
   "cell_type": "code",
   "execution_count": null,
   "metadata": {},
   "outputs": [],
   "source": [
    "import pandas as pd"
   ]
  },
  {
   "cell_type": "code",
   "execution_count": null,
   "metadata": {},
   "outputs": [],
   "source": [
    "serie = pd.Series(pm) # A partir de la lista de pesos moleculares construimos una Serie\n",
    "serie"
   ]
  },
  {
   "cell_type": "markdown",
   "metadata": {},
   "source": [
    "A diferencia con las listas o diccionarios, puedo hacer operaciones y comparaciones sencillamente sobre cada elemento de la serie:"
   ]
  },
  {
   "cell_type": "code",
   "execution_count": null,
   "metadata": {},
   "outputs": [],
   "source": [
    "serie ** 2"
   ]
  },
  {
   "cell_type": "code",
   "execution_count": null,
   "metadata": {},
   "outputs": [],
   "source": [
    "serie > 150"
   ]
  },
  {
   "cell_type": "code",
   "execution_count": null,
   "metadata": {},
   "outputs": [],
   "source": [
    "serie[serie > 150]"
   ]
  },
  {
   "cell_type": "markdown",
   "metadata": {},
   "source": [
    "Así como está no termina de servirnos para ver cuales son los aminoácidos de PM > 150.\n",
    "\n",
    "Podemos definir el índice de las series, en este caso para trabajar directamente con los aminoácidos en vez de con las posiciones"
   ]
  },
  {
   "cell_type": "code",
   "execution_count": null,
   "metadata": {},
   "outputs": [],
   "source": [
    "serie = pd.Series(pm, index=amino)"
   ]
  },
  {
   "cell_type": "code",
   "execution_count": null,
   "metadata": {},
   "outputs": [],
   "source": [
    "serie[serie > 150]"
   ]
  },
  {
   "cell_type": "markdown",
   "metadata": {},
   "source": [
    "Si recuerdan el ejercicio de energia potencial:"
   ]
  },
  {
   "cell_type": "code",
   "execution_count": null,
   "metadata": {},
   "outputs": [],
   "source": [
    "h = 50\n",
    "g = 9.8\n",
    "print('\"EP\" a {}m y g de {}'.format(h,g))\n",
    "serie * g * h "
   ]
  },
  {
   "cell_type": "markdown",
   "metadata": {},
   "source": [
    "### Pandas DataFrames"
   ]
  },
  {
   "cell_type": "code",
   "execution_count": null,
   "metadata": {},
   "outputs": [],
   "source": [
    "lista_pre_df = [['I', 'Ile', 131.1736],\n",
    " ['L', 'Leu', 131.1736],\n",
    " ['K', 'Lys', 146.1882],\n",
    " ['M', 'Met', 149.2124],\n",
    " ['F', 'Phe', 165.19],\n",
    " ['T', 'Thr', 119.1197],\n",
    " ['W', 'Trp', 204.2262],\n",
    " ['V', 'Val', 117.1469],\n",
    " ['R', 'Arg', 174.2017],\n",
    " ['H', 'His', 155.1552],\n",
    " ['A', 'Ala', 89.0935],\n",
    " ['N', 'Asn', 132.1184],\n",
    " ['D', 'Asp', 133.1032],\n",
    " ['C', 'Cys', 121.159],\n",
    " ['E', 'Glu', 147.1299],\n",
    " ['Q', 'Gln', 146.1451],\n",
    " ['G', 'Gly', 75.0669],\n",
    " ['P', 'Pro', 115.131],\n",
    " ['S', 'Ser', 105.093],\n",
    " ['Y', 'Tyr', 181.1894]]\n",
    "\n",
    "for fila in lista_pre_df:\n",
    "    print(fila[0], fila[1], fila[2])"
   ]
  },
  {
   "cell_type": "markdown",
   "metadata": {},
   "source": [
    "de una manera similar a como construímos una serie, podemos construir un dataframe (tabla)."
   ]
  },
  {
   "cell_type": "code",
   "execution_count": null,
   "metadata": {},
   "outputs": [],
   "source": [
    "df = pd.DataFrame(lista_pre_df, columns=['aa', 'codigo', 'pm'])\n",
    "df"
   ]
  },
  {
   "cell_type": "markdown",
   "metadata": {},
   "source": [
    "Podemos ver las primeras 5 filas de nuestra tabla utilizando el método ```.head()```"
   ]
  },
  {
   "cell_type": "code",
   "execution_count": null,
   "metadata": {},
   "outputs": [],
   "source": [
    "df.head()"
   ]
  },
  {
   "cell_type": "markdown",
   "metadata": {},
   "source": [
    "si al contrario, queremos ver las ultimas filas utilizamos ```.tail()```"
   ]
  },
  {
   "cell_type": "code",
   "execution_count": null,
   "metadata": {},
   "outputs": [],
   "source": [
    "df.tail()"
   ]
  },
  {
   "cell_type": "markdown",
   "metadata": {},
   "source": [
    "Para conocer las dimensiones de la tabla utilizamos el atributo ```.shape```"
   ]
  },
  {
   "cell_type": "code",
   "execution_count": null,
   "metadata": {},
   "outputs": [],
   "source": [
    "dims = df.shape\n",
    "print('dimensiones:', dims)\n",
    "nrows = df.shape[0]\n",
    "ncols = df.shape[1]\n",
    "print('La tabla tiene {} filas y {} columnas'.format(nrows, ncols))"
   ]
  },
  {
   "cell_type": "markdown",
   "metadata": {},
   "source": [
    "Otro método muy útil de los dataframes es ```.info()```"
   ]
  },
  {
   "cell_type": "code",
   "execution_count": null,
   "metadata": {},
   "outputs": [],
   "source": [
    "df.info()"
   ]
  },
  {
   "cell_type": "markdown",
   "metadata": {},
   "source": [
    "la tabla no parece estar ordenada, como hacemos para ordenarla según algún criterio? \n",
    "\n",
    "utilizando el método ```.sort_values()```"
   ]
  },
  {
   "cell_type": "code",
   "execution_count": null,
   "metadata": {},
   "outputs": [],
   "source": [
    "df.sort_values('aa')"
   ]
  },
  {
   "cell_type": "markdown",
   "metadata": {},
   "source": [
    "Cambió la tabla orginal?\n",
    "\n",
    "Qué podríamos hacer para que quede definitivamente ordenado?"
   ]
  },
  {
   "cell_type": "markdown",
   "metadata": {},
   "source": [
    "---"
   ]
  },
  {
   "cell_type": "markdown",
   "metadata": {},
   "source": [
    "### Cargar Tablas"
   ]
  },
  {
   "cell_type": "markdown",
   "metadata": {},
   "source": [
    "La mayoría de las veces vamos a cargar datos tabulados en algun formato, en lugar de construirlos nosotros mismos con ```pd.DataFrame()```.\n",
    "\n",
    "Qué método tenemos que utilizar para leer esos archivos depende del tipo de archivo y de como estén organizados o separados los datos, las opciones más comúnes son archivos de textos separados por:\n",
    "+ comas \",\"\n",
    "+ tabulaciones \"\\'t\"\n",
    "+ espacios \" \"\n",
    "\n",
    "En estos casos se utiliza el ḿetodo ```pd.read_csv()``` aclarando el tipo de separador, por ej:\n",
    "\n",
    "```python\n",
    "tabla = pd.DataFrame(ruta_del_archivo, sep = ',')     # separados por coma\n",
    "tabla = pd.DataFrame(ruta_del_archivo, sep = '\\t')    # tabulaciones\n",
    "tabla = pd.DataFrame(ruta_del_archivo, sep = ' ')     # espacios\n",
    "```\n",
    "\n",
    "tambien se pueden abrir archivos excel con ```pd.read_excel()```, algunas tablas de de paginas web con ```pd.read_html()```, y varios más."
   ]
  },
  {
   "cell_type": "markdown",
   "metadata": {},
   "source": [
    "Vamos a descargar una tablas con algunos datos de COVID19 de paises de América\n",
    "\n",
    "El siguiente comando descarga el archivo"
   ]
  },
  {
   "cell_type": "code",
   "execution_count": null,
   "metadata": {},
   "outputs": [],
   "source": [
    "# Descargar tabla\n",
    "!wget https://raw.githubusercontent.com/Ferorti/escuela2021/main/data/america.tab"
   ]
  },
  {
   "cell_type": "code",
   "execution_count": null,
   "metadata": {},
   "outputs": [],
   "source": [
    "!ls"
   ]
  },
  {
   "cell_type": "code",
   "execution_count": null,
   "metadata": {},
   "outputs": [],
   "source": [
    "!head america.csv"
   ]
  },
  {
   "cell_type": "code",
   "execution_count": null,
   "metadata": {},
   "outputs": [],
   "source": [
    "df = pd.read_csv('america.csv', index_col='pais') # Por que no pongo el sep=',' ?"
   ]
  },
  {
   "cell_type": "markdown",
   "metadata": {},
   "source": [
    "Realicemos un primer ańalsis exploratorio sobre esta tabla.\n",
    "\n",
    "+ ver las primeras 5 filas del df\n",
    "+ ver las ultimas 5\n",
    "+ Cuantas filas y columnas tiene el df? de qué tipo es cada columna?\n",
    "+ Como son los índices de este df comparado con el anterior? son del mismo tipo?\n",
    "+ ordene los datos por cantidad de casos totales de forma descendente.\n",
    "+ que información obtenemos con describe()\n",
    "\n"
   ]
  },
  {
   "cell_type": "code",
   "execution_count": null,
   "metadata": {},
   "outputs": [],
   "source": []
  },
  {
   "cell_type": "markdown",
   "metadata": {},
   "source": [
    "Cuando tenemos datos numéricos, un método muy útil para tener una idea de cómo son los datos es el ```.describe()```"
   ]
  },
  {
   "cell_type": "markdown",
   "metadata": {},
   "source": [
    "---\n",
    "\n",
    "### Subsets de datos"
   ]
  },
  {
   "cell_type": "markdown",
   "metadata": {},
   "source": [
    "Muchas veces no queremos trabajar con todos los datos disponibles en la tabla sino con una parte.\n",
    "La idea es poder decirle a python qué filas y qué columnas del dataframe queremos conservar u obtener.\n",
    "\n",
    "\n",
    "El subset de datos se puede hacer de varias formas, el primero que vamos a ver es ```.loc[]``` con la siguiente sintaxis:\n",
    "\n",
    "```python\n",
    "subset = df.loc[filas, columnas]\n",
    "```"
   ]
  },
  {
   "cell_type": "code",
   "execution_count": null,
   "metadata": {},
   "outputs": [],
   "source": [
    "filas_del_subset = ['Argentina', 'Brasil', 'Paraguay', 'Uruguay']\n",
    "columnas_del_subset = ['casos_totales', 'fallecidos']"
   ]
  },
  {
   "cell_type": "code",
   "execution_count": null,
   "metadata": {},
   "outputs": [],
   "source": [
    "subset = df.loc[filas_del_subset, columnas_del_subset]\n",
    "subset.sort_values('casos_totales', ascending=False)"
   ]
  },
  {
   "cell_type": "markdown",
   "metadata": {},
   "source": [
    "A veces querenos quedarnos con algunas columnas y todas las filas (o algunas filas y todas las columnas)\n",
    "Las dos cosas podemos hacer utilizando ```.loc[]```, poniendo ```.loc[]``` y dos puntos ```:``` en lugar de la lista:\n",
    "\n",
    "Por ej:\n",
    "\n",
    "```python\n",
    "subset = df.loc[ : , columnas] # Me quedo con todas las filas, y las columnas de interes\n",
    "subset = df.loc[ filas , : ] # Me quedo con todas las filas, y las columnas de interes\n",
    "\n",
    "```"
   ]
  },
  {
   "cell_type": "code",
   "execution_count": null,
   "metadata": {},
   "outputs": [],
   "source": [
    "df.loc[ : , columnas_del_subset ] # Todas las filas"
   ]
  },
  {
   "cell_type": "code",
   "execution_count": null,
   "metadata": {},
   "outputs": [],
   "source": [
    "df.loc[ filas_del_subset , : ] # Todas las columnas"
   ]
  },
  {
   "cell_type": "markdown",
   "metadata": {},
   "source": [
    "Que pasa si pongo ```.loc[:,:]```"
   ]
  },
  {
   "cell_type": "markdown",
   "metadata": {},
   "source": [
    "Hasta ahora hicimos un subset con varias filas y varias columnas, que pasa si lo quiero hacer sobre solo una fila o solo una columna?"
   ]
  },
  {
   "cell_type": "code",
   "execution_count": null,
   "metadata": {},
   "outputs": [],
   "source": [
    "df.loc[:, 'casos_totales']"
   ]
  },
  {
   "cell_type": "code",
   "execution_count": null,
   "metadata": {},
   "outputs": [],
   "source": [
    "df.loc[filas_del_subset, 'casos_totales']"
   ]
  },
  {
   "cell_type": "code",
   "execution_count": null,
   "metadata": {},
   "outputs": [],
   "source": [
    "df.loc[\"USA\", columnas_del_subset]"
   ]
  },
  {
   "cell_type": "markdown",
   "metadata": {},
   "source": [
    "Pandas nos ofrece formas simplificadas realizar subsets\n",
    "Por ej:\n",
    "```python\n",
    "\n",
    "# Columnas\n",
    "casos_totales = df['casos_totales']            # Me quedo solo con la columna casos totales y todas las filas\n",
    "casos_totales = df.casos_totales               # Me quedo solo con la columna casos totales y todas las filas, esta forma tiene limitaciones\n",
    "casos_y_fallecidos = df[['casos_totales', 'fallecidos']] # Me quedo con la columnas casos_totales  y fallecidos, y todas las filas\n",
    "\n",
    "# Filas\n",
    "usa = df.loc['USA']\n",
    "mercosur_df = df.loc[filas_del_subset]\n",
    "\n",
    "```"
   ]
  },
  {
   "cell_type": "code",
   "execution_count": null,
   "metadata": {},
   "outputs": [],
   "source": [
    "mercosur_df = df.loc[filas_del_subset]\n",
    "mercosur_df"
   ]
  },
  {
   "cell_type": "code",
   "execution_count": null,
   "metadata": {},
   "outputs": [],
   "source": []
  },
  {
   "cell_type": "markdown",
   "metadata": {},
   "source": [
    "Como vimos hasta ahora podemos realizar subsets de datos utilizando los nombres de las columnas o el índice.\n",
    "\n",
    "Además, con ```.loc[:,:]``` podemos utilizar listas de booleanos para el subset. En estos casos nos vamos a quedar con las filas(o columnas) que tengan True en la lista:\n",
    "\n",
    "Por ej\n"
   ]
  },
  {
   "cell_type": "code",
   "execution_count": null,
   "metadata": {},
   "outputs": [],
   "source": []
  },
  {
   "cell_type": "code",
   "execution_count": null,
   "metadata": {},
   "outputs": [],
   "source": [
    "mask = [True, False, True, True]"
   ]
  },
  {
   "cell_type": "code",
   "execution_count": null,
   "metadata": {},
   "outputs": [],
   "source": [
    "subset.loc[mask, : ]"
   ]
  },
  {
   "cell_type": "markdown",
   "metadata": {},
   "source": [
    "Generalmente no le vamos a pasar una lista de booleanos creada por nosotrxs sino una lista o serie de booleanos proveniente de una operación de comparación:"
   ]
  },
  {
   "cell_type": "code",
   "execution_count": null,
   "metadata": {},
   "outputs": [],
   "source": [
    "casos_totales = df['casos_totales']\n",
    "mas_1M = casos_totales > 1_000_000\n",
    "mas_1M"
   ]
  },
  {
   "cell_type": "code",
   "execution_count": null,
   "metadata": {},
   "outputs": [],
   "source": [
    "df.loc[mas_1M, ['casos_totales', 'fallecidos']]"
   ]
  },
  {
   "cell_type": "markdown",
   "metadata": {},
   "source": [
    "Hay otro método bastante útil para seleccionar filas segun se cumpla una condicion, el método ```.query()```:\n",
    "\n",
    "```python \n",
    "\n",
    "df.query('casos_totales > 1_000_000')\n",
    "\n",
    "```\n"
   ]
  },
  {
   "cell_type": "markdown",
   "metadata": {},
   "source": [
    "Por ultimo en cuanto a subseting, también podemos seleccionar filas o columnas según su posición, en lugar del índice. Para eso se utiliza el 'metodo' ```iloc[]```"
   ]
  },
  {
   "cell_type": "code",
   "execution_count": null,
   "metadata": {},
   "outputs": [],
   "source": [
    "df.iloc[:5, :] #equivalente al método .head()"
   ]
  },
  {
   "cell_type": "code",
   "execution_count": null,
   "metadata": {},
   "outputs": [],
   "source": [
    "df.iloc[3:8, 3:-2]   # De la cuarta fila a la octava, de la cuarta columna a la antpeneultima"
   ]
  },
  {
   "cell_type": "markdown",
   "metadata": {},
   "source": [
    "Para hacer:\n",
    "A partir del dataframe df, generar otro dataframe llamado sudamerica con:\n",
    "+ Sólo los paises de Sudamérica\n",
    "+ Ordenado por la cantidad de fallecidos (de mayor a menor)\n",
    "+ Que muestre las columnas casos_totales, fallecidos, condicion_critica y recuperados (En ese orden)"
   ]
  },
  {
   "cell_type": "code",
   "execution_count": null,
   "metadata": {},
   "outputs": [],
   "source": []
  },
  {
   "cell_type": "raw",
   "metadata": {},
   "source": [
    "Podemos utilizar lo que aprendimos a hacer con los bucles for.\n",
    "Para eso utilizamos el metodo iterrows() para recorrer las filas:"
   ]
  },
  {
   "cell_type": "code",
   "execution_count": null,
   "metadata": {},
   "outputs": [],
   "source": [
    "casos = {}\n",
    "for fila in df.iterrows():\n",
    "    print(fila)"
   ]
  },
  {
   "cell_type": "markdown",
   "metadata": {},
   "source": [
    "Para hacer:\n",
    "\n",
    "utilizando un bucle for, genere un dicionario con los paises de centroamerica como claves y el porcentaje de letalidad (fallecidos por 100 casos confirmados) respectivo a cada pais como valores."
   ]
  },
  {
   "cell_type": "code",
   "execution_count": null,
   "metadata": {},
   "outputs": [],
   "source": []
  },
  {
   "cell_type": "markdown",
   "metadata": {},
   "source": [
    "---"
   ]
  },
  {
   "cell_type": "markdown",
   "metadata": {},
   "source": [
    "### Manipular los datos"
   ]
  },
  {
   "cell_type": "code",
   "execution_count": null,
   "metadata": {},
   "outputs": [],
   "source": [
    "# solo los paises de sudamerica\n",
    "\n",
    "sudamerica = df.loc[df['region'] == 'S', ['casos_totales','fallecidos', 'condicion_critica', 'recuperados']]\n",
    "\n",
    "sudamerica = sudamerica.sort_values('fallecidos', ascending=False)\n",
    "\n",
    "sudamerica"
   ]
  },
  {
   "cell_type": "code",
   "execution_count": null,
   "metadata": {},
   "outputs": [],
   "source": [
    "sudamerica = sudamerica.query('casos_totales > 1_000_000')"
   ]
  },
  {
   "cell_type": "code",
   "execution_count": null,
   "metadata": {},
   "outputs": [],
   "source": [
    "pd.options.mode.chained_assignment = None  # ocultar alertas"
   ]
  },
  {
   "cell_type": "markdown",
   "metadata": {},
   "source": [
    "En pandas podemos generar nuevos datos a partir de los existentes, de multiples maneras:\n",
    "\n",
    "Por ejemplo con operaciones matematicas entre una columna y un numero"
   ]
  },
  {
   "cell_type": "code",
   "execution_count": null,
   "metadata": {},
   "outputs": [],
   "source": [
    "sudamerica['casos_totales'] / 1_000_000 # Podemos separar los numeros con _ para poder leerlos mejor, Python va a ignorar los _"
   ]
  },
  {
   "cell_type": "code",
   "execution_count": null,
   "metadata": {},
   "outputs": [],
   "source": [
    "sudamerica['millon_de_casos'] = sudamerica['casos_totales'] / 1_000_000\n"
   ]
  },
  {
   "cell_type": "markdown",
   "metadata": {},
   "source": [
    "Podemos también aplicar los métodos de una serie para cambiarla sus valores o para agregarla en otra columna:"
   ]
  },
  {
   "cell_type": "code",
   "execution_count": null,
   "metadata": {},
   "outputs": [],
   "source": [
    "sudamerica['millon_de_casos'] = sudamerica['millon_de_casos'].round(2)\n"
   ]
  },
  {
   "cell_type": "markdown",
   "metadata": {},
   "source": [
    "También nos permite realizar operaciones matemáticas combinando series y números"
   ]
  },
  {
   "cell_type": "code",
   "execution_count": null,
   "metadata": {},
   "outputs": [],
   "source": [
    "sudamerica['letalidad'] = sudamerica['fallecidos'] / sudamerica['casos_totales'] * 100"
   ]
  },
  {
   "cell_type": "code",
   "execution_count": null,
   "metadata": {},
   "outputs": [],
   "source": [
    "sudamerica['tasa_recuperados'] = sudamerica['recuperados'] / sudamerica['casos_totales']\n"
   ]
  },
  {
   "cell_type": "markdown",
   "metadata": {},
   "source": [
    "Otra opcion que nos permite pandas es aplicar generar  series aplicando una funcion a todos los elementos de la serie, utilizando el método  ```.map()``` de la serie.\n",
    "Con la siguiente sintaxis:\n",
    " ```python\n",
    "nueva_serie = serie.map(nombre_de_funcion_de_interes)\n",
    "```"
   ]
  },
  {
   "cell_type": "code",
   "execution_count": null,
   "metadata": {},
   "outputs": [],
   "source": [
    "def porciento(numero):\n",
    "    redondeo = round(numero * 100)\n",
    "    return '{}%'.format(redondeo)"
   ]
  },
  {
   "cell_type": "code",
   "execution_count": null,
   "metadata": {},
   "outputs": [],
   "source": [
    "sudamerica['porcentaje_recuperados'] = sudamerica.tasa_recuperados.map(porciento) # la funcion no lleva los parentesis"
   ]
  },
  {
   "cell_type": "code",
   "execution_count": null,
   "metadata": {},
   "outputs": [],
   "source": [
    "sudamerica.info()"
   ]
  },
  {
   "cell_type": "markdown",
   "metadata": {},
   "source": [
    "puedo operar con el índice, que tambien es un subtipo particular de Series."
   ]
  },
  {
   "cell_type": "code",
   "execution_count": null,
   "metadata": {},
   "outputs": [],
   "source": [
    "sudamerica.index"
   ]
  },
  {
   "cell_type": "markdown",
   "metadata": {},
   "source": [
    "el metodo map es muy versátil, no solo acepta funciones sino tambien diccionarios:"
   ]
  },
  {
   "cell_type": "code",
   "execution_count": null,
   "metadata": {},
   "outputs": [],
   "source": [
    "poblaciones = {'USA': 332299143, 'Brasil': 213568068, 'Argentina': 45472346, 'Canada': 37962879, 'Peru': 33277411,'Colombia': 51244298}"
   ]
  },
  {
   "cell_type": "code",
   "execution_count": null,
   "metadata": {},
   "outputs": [],
   "source": [
    "sudamerica['poblacion'] = sudamerica.index.map(poblaciones)"
   ]
  },
  {
   "cell_type": "code",
   "execution_count": null,
   "metadata": {},
   "outputs": [],
   "source": [
    "sudamerica"
   ]
  },
  {
   "cell_type": "markdown",
   "metadata": {},
   "source": [
    "Para hacer:\n",
    "Crear las siguientes columnas:\n",
    "+ casos millon de habitantes\n",
    "+ fallecidos cada 100 mil habitantes"
   ]
  },
  {
   "cell_type": "code",
   "execution_count": null,
   "metadata": {},
   "outputs": [],
   "source": [
    "sudamerica['casos_por_millon'] = sudamerica['casos_totales'] / sudamerica['poblacion'] * 1_000_000"
   ]
  },
  {
   "cell_type": "code",
   "execution_count": null,
   "metadata": {},
   "outputs": [],
   "source": [
    "sudamerica['fallecidos_por_cienmil'] = sudamerica.fallecidos / sudamerica.poblacion * 100_000"
   ]
  },
  {
   "cell_type": "code",
   "execution_count": null,
   "metadata": {},
   "outputs": [],
   "source": [
    "sudamerica"
   ]
  },
  {
   "cell_type": "markdown",
   "metadata": {},
   "source": [
    "---"
   ]
  },
  {
   "cell_type": "code",
   "execution_count": null,
   "metadata": {},
   "outputs": [],
   "source": []
  },
  {
   "cell_type": "code",
   "execution_count": null,
   "metadata": {},
   "outputs": [],
   "source": []
  },
  {
   "cell_type": "code",
   "execution_count": null,
   "metadata": {},
   "outputs": [],
   "source": []
  },
  {
   "cell_type": "code",
   "execution_count": null,
   "metadata": {},
   "outputs": [],
   "source": [
    "print('Paises de Norteamerica:')\n",
    "for pais, fila in df.iterrows():\n",
    "    if fila['region'] == 'N':\n",
    "        print('En', pais, 'existen',fila['casos_activos'],'casos actualmente activos')"
   ]
  },
  {
   "cell_type": "code",
   "execution_count": null,
   "metadata": {},
   "outputs": [],
   "source": [
    "df = df.sort_index()"
   ]
  },
  {
   "cell_type": "code",
   "execution_count": null,
   "metadata": {},
   "outputs": [],
   "source": [
    "df.sort_values(['region','casos_totales'], ascending=False)"
   ]
  },
  {
   "cell_type": "code",
   "execution_count": null,
   "metadata": {},
   "outputs": [],
   "source": [
    "sudamerica.index.tolist()"
   ]
  },
  {
   "cell_type": "code",
   "execution_count": null,
   "metadata": {},
   "outputs": [],
   "source": [
    "paises = df.index.tolist()"
   ]
  },
  {
   "cell_type": "code",
   "execution_count": null,
   "metadata": {},
   "outputs": [],
   "source": [
    "casos_covid = df.casos_totales.tolist()"
   ]
  },
  {
   "cell_type": "code",
   "execution_count": null,
   "metadata": {},
   "outputs": [],
   "source": [
    "paises = ['Argentina', 'Belize', 'Bolivia', 'Brasil', 'Canada', 'Chile', 'Colombia', 'Costa Rica', 'Cuba', 'Ecuador', 'El Salvador', 'Guadalupe', 'Guatemala', 'Guyana Francesa', 'Haiti', 'Honduras', 'Jamaica', 'Mexico', 'Panama', 'Paraguay', 'Peru', 'Republica Dominicana', 'USA', 'Uruguay', 'Venezuela']"
   ]
  },
  {
   "cell_type": "code",
   "execution_count": null,
   "metadata": {},
   "outputs": [],
   "source": [
    "casos_covid = [2118676, 12320, 250557, 10647845, 872747, 832512, 2259599, 205514, 51587, 286725, 60491, 10149, 175411,\n",
    "               16627, 12531, 171758, 23838, 2097194, 342019, 161530, 1338297, 240201, 29370705, 59171, 139934]\n",
    "\n",
    "paises = ['Argentina', 'Belize', 'Bolivia', 'Brasil', 'Canada', 'Chile', 'Colombia', 'Costa Rica', 'Cuba', 'Ecuador',\n",
    "          'El Salvador', 'Guadalupe', 'Guatemala', 'Guyana Francesa', 'Haiti', 'Honduras', 'Jamaica', 'Mexico', 'Panama',\n",
    "          'Paraguay', 'Peru', 'Republica Dominicana', 'USA', 'Uruguay', 'Venezuela']"
   ]
  },
  {
   "cell_type": "code",
   "execution_count": null,
   "metadata": {},
   "outputs": [],
   "source": []
  }
 ],
 "metadata": {
  "kernelspec": {
   "display_name": "Python 3",
   "language": "python",
   "name": "python3"
  },
  "language_info": {
   "codemirror_mode": {
    "name": "ipython",
    "version": 3
   },
   "file_extension": ".py",
   "mimetype": "text/x-python",
   "name": "python",
   "nbconvert_exporter": "python",
   "pygments_lexer": "ipython3",
   "version": "3.8.3"
  }
 },
 "nbformat": 4,
 "nbformat_minor": 4
}
