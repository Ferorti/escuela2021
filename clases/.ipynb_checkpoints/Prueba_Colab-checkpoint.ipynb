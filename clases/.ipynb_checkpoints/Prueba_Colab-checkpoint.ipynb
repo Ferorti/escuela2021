{
 "cells": [
  {
   "cell_type": "markdown",
   "metadata": {},
   "source": [
    "### Bienvenidxs al Curso de Python de Bioinformática de la A2B2C en la Fundación Instituto Leloir\n",
    "\n",
    "Vamos a probar que haya cargado correctamente la clase en Colab\n",
    "\n",
    "Para eso correr la siguiente celda, si imprime en la pantalla el número 3 sin dar ningun error, cargó correctamente y ya estamos listxs para programar.\n",
    "\n",
    "Para correr la celda hacer click en la flechita a la izquierda del código."
   ]
  },
  {
   "cell_type": "code",
   "execution_count": null,
   "metadata": {},
   "outputs": [],
   "source": [
    "2 + 1"
   ]
  }
 ],
 "metadata": {
  "kernelspec": {
   "display_name": "Python 3",
   "language": "python",
   "name": "python3"
  },
  "language_info": {
   "codemirror_mode": {
    "name": "ipython",
    "version": 3
   },
   "file_extension": ".py",
   "mimetype": "text/x-python",
   "name": "python",
   "nbconvert_exporter": "python",
   "pygments_lexer": "ipython3",
   "version": "3.8.3"
  }
 },
 "nbformat": 4,
 "nbformat_minor": 4
}
