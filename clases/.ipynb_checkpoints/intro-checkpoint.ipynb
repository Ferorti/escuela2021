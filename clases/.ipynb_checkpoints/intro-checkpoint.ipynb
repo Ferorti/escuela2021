{
 "metadata": {
  "language_info": {
   "codemirror_mode": {
    "name": "ipython",
    "version": 3
   },
   "file_extension": ".py",
   "mimetype": "text/x-python",
   "name": "python",
   "nbconvert_exporter": "python",
   "pygments_lexer": "ipython3",
   "version": "3.8.5-final"
  },
  "orig_nbformat": 2,
  "kernelspec": {
   "name": "python38564bitf828598673ad40bcad451c0ce82d561d",
   "display_name": "Python 3.8.5 64-bit",
   "language": "python"
  }
 },
 "nbformat": 4,
 "nbformat_minor": 2,
 "cells": [
  {
   "source": [
    "## Algunos delos tipos básicos de datos en Python son:\n",
    "* **int** - para representar números enteros <br/>\n",
    "```python\n",
    "entero = 40``` \n",
    "* **long** - para representar números enteros muy largos. _(Solo en Python 2.x)_<br/>\n",
    "```python \n",
    "ent_long =  8947842156455143213546```\n",
    "* **float** - para representar números decimales <br/>\n",
    "```python \n",
    "flotante = 3.14\n",
    "```\n",
    "* **complex** - para representar números complejos<br/>\n",
    "```python\n",
    "complejo = 1 + 2j```\n"
   ],
   "cell_type": "markdown",
   "metadata": {}
  },
  {
   "source": [
    "Vamos a jugar un poco con los datos numéricos utilizando el intérprete de Python como calculadora"
   ],
   "cell_type": "markdown",
   "metadata": {}
  },
  {
   "cell_type": "code",
   "execution_count": null,
   "metadata": {},
   "outputs": [],
   "source": []
  },
  {
   "cell_type": "code",
   "execution_count": null,
   "metadata": {},
   "outputs": [],
   "source": []
  },
  {
   "cell_type": "code",
   "execution_count": null,
   "metadata": {},
   "outputs": [],
   "source": []
  },
  {
   "cell_type": "code",
   "execution_count": null,
   "metadata": {},
   "outputs": [],
   "source": []
  },
  {
   "source": [
    "* **bool** - para representar valores de verdad <br/>\n",
    "```python\n",
    "booleano = True\n",
    "```"
   ],
   "cell_type": "markdown",
   "metadata": {}
  },
  {
   "cell_type": "code",
   "execution_count": null,
   "metadata": {},
   "outputs": [],
   "source": []
  }
 ]
}