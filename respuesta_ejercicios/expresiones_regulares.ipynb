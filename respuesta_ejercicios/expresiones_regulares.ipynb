{
  "nbformat": 4,
  "nbformat_minor": 0,
  "metadata": {
    "colab": {
      "name": "expresiones_regulares.ipynb",
      "provenance": [],
      "collapsed_sections": [],
      "authorship_tag": "ABX9TyMMZPmoEZ51xnjMItXViW2i",
      "include_colab_link": true
    },
    "kernelspec": {
      "name": "python3",
      "display_name": "Python 3"
    }
  },
  "cells": [
    {
      "cell_type": "markdown",
      "metadata": {
        "id": "view-in-github",
        "colab_type": "text"
      },
      "source": [
        "<a href=\"https://colab.research.google.com/github/Ferorti/escuela2021/blob/main/respuesta_ejercicios/expresiones_regulares.ipynb\" target=\"_parent\"><img src=\"https://colab.research.google.com/assets/colab-badge.svg\" alt=\"Open In Colab\"/></a>"
      ]
    },
    {
      "cell_type": "markdown",
      "metadata": {
        "id": "nEbDgqLxEwmH"
      },
      "source": [
        "# Ejercicios de expresiones regulares sobre una secuencia"
      ]
    },
    {
      "cell_type": "markdown",
      "metadata": {
        "id": "mIyYDhWTFbBx"
      },
      "source": [
        "Uilizaremos la secuencia siguiente para los ejercicios.\r\n",
        "Por favor recuerde ejecutar la siguiente celda de código aantes de comenzar a resolver los ejercicios para que tenga la variable **secuencia_ejemplo** definida"
      ]
    },
    {
      "cell_type": "code",
      "metadata": {
        "id": "8F3H-q1QFzfC"
      },
      "source": [
        "secuencia_ejemplo = \"MAALSGGGGGGAEPGQALFNGDMEPEAGAGAGAAASSAADPAIPEEVWNIKQMIKLTQEH\"\r\n",
        "secuencia_ejemplo += \"IEALLDKFGGEHNPPSIYLEAYEEYTSKLDALQQREQQLLESLGNGTDFSVSSSASMDTV\"\r\n",
        "secuencia_ejemplo += \"TSSSSSSLSVLPSSLSVFQNPTDVARSNPKSPQKPIVRVFLPNKQRTVVPARCGVTVRDS\"\r\n",
        "secuencia_ejemplo += \"LKKALMMRGLIPECCAVYRIQDGEKKPIGWDTDISWLTGEELHVEVLENVPLTTHNFVRK\"\r\n",
        "secuencia_ejemplo += \"TFFTLAFCDFCRKLLFQGFRCQTCGYKFHQRCSTEVPLMCVNYDQLDLLFVSKFFEHHPI\"\r\n",
        "secuencia_ejemplo += \"PQEEASLAETALTSGSSPSAPASDSIGPQILTSPSPSKSIPIPQPFRPADEDHRNQFGQR\"\r\n",
        "secuencia_ejemplo += \"DRSSSAPNVHINTIEPVNIDDLIRDQGFRGDGGSTTGLSATPPASLPGSLTNVKALQKSP\"\r\n",
        "secuencia_ejemplo += \"GPQRERKSSSSSEDRNRMKTLGRRDSSDDWEIPDGQITVGQRIGSGSFGTVYKGKWHGDV\"\r\n",
        "secuencia_ejemplo += \"AVKMLNVTAPTPQQLQAFKNEVGVLRKTRHVNILLFMGYSTKPQLAIVTQWCEGSSLYHH\"\r\n",
        "secuencia_ejemplo += \"LHIIETKFEMIKLIDIARQTAQGMDYLHAKSIIHRDLKSNNIFLHEDLTVKIGDFGLATV\"\r\n",
        "secuencia_ejemplo += \"KSRWSGSHQFEQLSGSILWMAPEVIRMQDKNPYSFQSDVYAFGIVLYELMTGQLPYSNIN\"\r\n",
        "secuencia_ejemplo += \"NRDQIIFMVGRGYLSPDLSKVRSNCPKAMKRLMAECLKKKRDERPLFPQILASIELLARS\"\r\n",
        "secuencia_ejemplo += \"LPKIHRSASEPSLNRAGFQTEDFSLYACASPKTPIQAGGYGAFPVH\""
      ],
      "execution_count": 1,
      "outputs": []
    },
    {
      "cell_type": "markdown",
      "metadata": {
        "id": "GXkB6YA7HIGf"
      },
      "source": [
        "**Ejercicio 1**\r\n",
        "\r\n",
        "Si el patrón de 2 aminoácidos AE se encuentra en la secuencia_ejemplo imprimir el rango de aminoácidos correspondientes a la primera ocurrencia del patrón, además imprimir el total de ocurrencias de este patrón en la secuencia.\r\n",
        "\r\n",
        "Sugerencias: \r\n",
        "\r\n",
        "*   testear que exista el patrón\r\n",
        "*   Utilizar función search para buscar el patrón y devolver el rango\r\n",
        "*   Utilizar función findall para buscar todas las coincidencias del patrón\r\n",
        "\r\n",
        "\r\n"
      ]
    },
    {
      "cell_type": "code",
      "metadata": {
        "id": "NjQnqM0-JbNE",
        "colab": {
          "base_uri": "https://localhost:8080/"
        },
        "outputId": "7379ba7d-7e0e-42d5-be72-57fb08ca6c65"
      },
      "source": [
        "#Respuesta al ejercicio 1\r\n",
        "import re\r\n",
        "pat = \"AE\"\r\n",
        "\r\n",
        "rege1 = re.compile(pat)\r\n",
        "match = rege1.search(secuencia_ejemplo)\r\n",
        "if match != None:\r\n",
        "    print('Encontrada \"{}\" inicio {} fin {} (\"{}\")'.format(\r\n",
        "    match.re.pattern, match.start(), match.end(), secuencia_ejemplo[match.start():match.end()]))\r\n",
        "else:\r\n",
        "    print('No encontrada')  \r\n",
        "\r\n",
        "t = len(rege1.findall(secuencia_ejemplo))\r\n",
        "print(\"Total de ocurrencias {}\".format(t))"
      ],
      "execution_count": 2,
      "outputs": [
        {
          "output_type": "stream",
          "text": [
            "Encontrada \"AE\" inicio 11 fin 13 (\"AE\")\n",
            "Total de ocurrencias 3\n"
          ],
          "name": "stdout"
        }
      ]
    },
    {
      "cell_type": "markdown",
      "metadata": {
        "id": "dwT8zcbbJlOf"
      },
      "source": [
        "**Ejercicio 2**\r\n",
        "\r\n",
        "Buscar el patrón de 2 aminoácidos AE a partir del aminoácido 100 y hasta el 350 y devolver en que posiicón comienza el patrón.\r\n",
        "\r\n",
        "Sugerencias: \r\n",
        "\r\n",
        "*   testear que exista el patrón\r\n",
        "*   Utilizar función search acotando la búsqueda al rango dado para buscar el patrón y devolver el rango"
      ]
    },
    {
      "cell_type": "code",
      "metadata": {
        "id": "wUlX2ImvMpys",
        "colab": {
          "base_uri": "https://localhost:8080/"
        },
        "outputId": "6c923030-be28-4c59-8f4d-9dac3e8d10f7"
      },
      "source": [
        "#Respuesta al ejercicio 2\r\n",
        "match = rege1.search(secuencia_ejemplo, 99, 349) #porque los aminoáacidos se numeran a partir de 1, y las cadenas numeran a partir de 0\r\n",
        "if match != None:\r\n",
        "    print('Encontrado \"{}\" posición aa {} - {}'.format(\r\n",
        "        match.re.pattern, match.start() + 1, match.end()))\r\n",
        "else:\r\n",
        "    print('No encontrada')  "
      ],
      "execution_count": 3,
      "outputs": [
        {
          "output_type": "stream",
          "text": [
            "Encontrado \"AE\" posición aa 308 - 309\n"
          ],
          "name": "stdout"
        }
      ]
    },
    {
      "cell_type": "markdown",
      "metadata": {
        "id": "_QNM7BCYLaeT"
      },
      "source": [
        "**Ejercicio 3**\r\n",
        "\r\n",
        "Buscar el patrón compuesto por un primer aminoácido A luego cualquier aminoácido y luego un aminoácido A y substituirlo por 3 gaps (---). Imprimir la nueva secuencia\r\n",
        "\r\n",
        "Sugerencias: \r\n",
        "\r\n",
        "*   testear que exista el patrón\r\n",
        "*   Utilizar función sub"
      ]
    },
    {
      "cell_type": "code",
      "metadata": {
        "id": "u_7XgyeHLVQw",
        "colab": {
          "base_uri": "https://localhost:8080/"
        },
        "outputId": "0d7ed983-60ca-42f8-ce68-952af5a3b4b7"
      },
      "source": [
        "#Respuesta al ejercicio 3\r\n",
        "pat2 = \"A.A\"\r\n",
        "rege2 = re.compile(pat2)\r\n",
        "secuencia2 = rege2.sub('---', secuencia_ejemplo)\r\n",
        "print(secuencia2)\r\n"
      ],
      "execution_count": 4,
      "outputs": [
        {
          "output_type": "stream",
          "text": [
            "MAALSGGGGGGAEPGQALFNGDMEPE---G---AASSAADPAIPEEVWNIKQMIKLTQEHIEALLDKFGGEHNPPSIYLEAYEEYTSKLDALQQREQQLLESLGNGTDFSVSSSASMDTVTSSSSSSLSVLPSSLSVFQNPTDVARSNPKSPQKPIVRVFLPNKQRTVVPARCGVTVRDSLKKALMMRGLIPECCAVYRIQDGEKKPIGWDTDISWLTGEELHVEVLENVPLTTHNFVRKTFFTLAFCDFCRKLLFQGFRCQTCGYKFHQRCSTEVPLMCVNYDQLDLLFVSKFFEHHPIPQEEASLAETALTSGSSPS---SDSIGPQILTSPSPSKSIPIPQPFRPADEDHRNQFGQRDRSSSAPNVHINTIEPVNIDDLIRDQGFRGDGGSTTGLSATPPASLPGSLTNVKALQKSPGPQRERKSSSSSEDRNRMKTLGRRDSSDDWEIPDGQITVGQRIGSGSFGTVYKGKWHGDVAVKMLNVTAPTPQQLQAFKNEVGVLRKTRHVNILLFMGYSTKPQLAIVTQWCEGSSLYHHLHIIETKFEMIKLIDIARQTAQGMDYLHAKSIIHRDLKSNNIFLHEDLTVKIGDFGLATVKSRWSGSHQFEQLSGSILWMAPEVIRMQDKNPYSFQSDVYAFGIVLYELMTGQLPYSNINNRDQIIFMVGRGYLSPDLSKVRSNCPKAMKRLMAECLKKKRDERPLFPQILASIELLARSLPKIHRSASEPSLNRAGFQTEDFSLY---SPKTPIQAGGYGAFPVH\n"
          ],
          "name": "stdout"
        }
      ]
    },
    {
      "cell_type": "markdown",
      "metadata": {
        "id": "QvIBF0vvMtGb"
      },
      "source": [
        "**Ejercicio 4**\r\n",
        "\r\n",
        "Escriba un patrón capaz de obtener las siguientes coincidencias, patrón que identifica a moléculas que interactúan con MAPK:\r\n",
        "\r\n",
        "*   RKTFFTLAF\r\n",
        "*   RKTRHVNILLF\r\n",
        "\r\n",
        "Sugerencia: Trate de alinear las secuencias y así notar el patrón.\r\n",
        "\r\n",
        "\r\n",
        "\r\n",
        "\r\n"
      ]
    },
    {
      "cell_type": "code",
      "metadata": {
        "id": "UAUXqhTxNXc2",
        "colab": {
          "base_uri": "https://localhost:8080/"
        },
        "outputId": "ba1c9836-4f99-4662-e906-faf611bde78d"
      },
      "source": [
        "#Respuesta al ejercicio 4\r\n",
        "pat3 = \"RKT.{3,5}L[AL]F\"\r\n",
        "rege3 = re.compile(pat3)\r\n",
        "match1 = rege3.search('RKTFFTLAF')\r\n",
        "if match1 != None:\r\n",
        "    print(\"{} reconoce a {}\".format(match1.re.pattern, match1.string))\r\n",
        "match2 = rege3.search('RKTRHVNILLF')\r\n",
        "if match2 != None:\r\n",
        "    print(\"{} reconoce a {}\".format(match2.re.pattern, match2.string))\r\n"
      ],
      "execution_count": 5,
      "outputs": [
        {
          "output_type": "stream",
          "text": [
            "RKT.{3,5}L[AL]F reconoce a RKTFFTLAF\n",
            "RKT.{3,5}L[AL]F reconoce a RKTRHVNILLF\n"
          ],
          "name": "stdout"
        }
      ]
    },
    {
      "cell_type": "markdown",
      "metadata": {
        "id": "3AnDWA5YOf3u"
      },
      "source": [
        "**Ejercicio 5**\r\n",
        "\r\n",
        "Aplique el patrón del **Ejercicio 4** a la secuencia_ejemplo e imprima todas las coincidencias."
      ]
    },
    {
      "cell_type": "code",
      "metadata": {
        "id": "rD1-D2Y6SThF",
        "colab": {
          "base_uri": "https://localhost:8080/"
        },
        "outputId": "9987bcc7-340c-40fc-941f-ded63164d6a9"
      },
      "source": [
        "#Respuesta al ejercicio 5\r\n",
        "t = rege3.findall(secuencia_ejemplo)\r\n",
        "print(\"Ocurrencias {}\".format(t))\r\n",
        "\r\n",
        "s = 0\r\n",
        "while (s < len(secuencia_ejemplo)):\r\n",
        "    match3 = rege3.search(secuencia_ejemplo, s)\r\n",
        "    if match3 != None:\r\n",
        "        print(\"{:>3} - {:>3} {}\".format(match3.start() + 1, match3.end(), match3.group()))\r\n",
        "        s = match3.end()\r\n",
        "    else:  \r\n",
        "        break;  \r\n"
      ],
      "execution_count": 6,
      "outputs": [
        {
          "output_type": "stream",
          "text": [
            "Ocurrencias ['RKTFFTLAF', 'RKTRHVNILLF']\n",
            "239 - 247 RKTFFTLAF\n",
            "506 - 516 RKTRHVNILLF\n"
          ],
          "name": "stdout"
        }
      ]
    },
    {
      "cell_type": "markdown",
      "metadata": {
        "id": "AjQbK2HKOio2"
      },
      "source": [
        "**Ejercicio 6**\r\n",
        "\r\n",
        "Escriba un patrón capaz de reconocer una secuencia compuesta por un aminoácido alifático, seguido de 10-20 aminoácidos cualquieras, y luego otro aminoácido alifático."
      ]
    },
    {
      "cell_type": "code",
      "metadata": {
        "id": "Z-oy9hp-SWdH"
      },
      "source": [
        "#Respuesta al ejercicio 6\r\n",
        "pat4 = '[IVL].{10,20}[IVL]'\r\n",
        "rege4 = re.compile(pat4)\r\n",
        "\r\n"
      ],
      "execution_count": 7,
      "outputs": []
    },
    {
      "cell_type": "markdown",
      "metadata": {
        "id": "BdRvQGWId-mu"
      },
      "source": [
        "**Ejercicio 7**\r\n",
        "\r\n",
        "Aplique el patrón del **Ejercicio 6** en la secuencia_ejemplo."
      ]
    },
    {
      "cell_type": "code",
      "metadata": {
        "id": "MD8_JNggeKsX",
        "colab": {
          "base_uri": "https://localhost:8080/"
        },
        "outputId": "58919a31-82dd-4cef-b438-b9d91a4e9e52"
      },
      "source": [
        "#Respuesta al ejercicio 7\r\n",
        "#t = rege4.findall(secuencia_ejemplo)\r\n",
        "#for ocurencia in t:\r\n",
        "#  print(ocurencia)\r\n",
        "\r\n",
        "#mejorando la impresión y colectando el start y el end\r\n",
        "s = 0\r\n",
        "while (s < len(secuencia_ejemplo)):\r\n",
        "    match4 = rege4.search(secuencia_ejemplo, s)\r\n",
        "    if match4 != None:\r\n",
        "        print(\"{:>3} - {:>3} {}\".format(match4.start() + 1, match4.end(), match4.group()))\r\n",
        "        s = match4.end()\r\n",
        "    else:  \r\n",
        "        break;  \r\n"
      ],
      "execution_count": 8,
      "outputs": [
        {
          "output_type": "stream",
          "text": [
            "  4 -  18 LSGGGGGGAEPGQAL\n",
            " 43 -  64 IPEEVWNIKQMIKLTQEHIEAL\n",
            " 65 -  79 LDKFGGEHNPPSIYL\n",
            " 89 - 103 LDALQQREQQLLESL\n",
            "111 - 131 VSSSASMDTVTSSSSSSLSVL\n",
            "135 - 156 LSVFQNPTDVARSNPKSPQKPI\n",
            "157 - 177 VRVFLPNKQRTVVPARCGVTV\n",
            "181 - 200 LKKALMMRGLIPECCAVYRI\n",
            "208 - 227 IGWDTDISWLTGEELHVEVL\n",
            "230 - 245 VPLTTHNFVRKTFFTL\n",
            "255 - 276 LFQGFRCQTCGYKFHQRCSTEV\n",
            "278 - 291 LMCVNYDQLDLLFV\n",
            "300 - 312 IPQEEASLAETAL\n",
            "326 - 342 IGPQILTSPSPSKSIPI\n",
            "369 - 383 VHINTIEPVNIDDLI\n",
            "398 - 416 LSATPPASLPGSLTNVKAL\n",
            "441 - 459 LGRRDSSDDWEIPDGQITV\n",
            "463 - 482 IGSGSFGTVYKGKWHGDVAV\n",
            "485 - 505 LNVTAPTPQQLQAFKNEVGVL\n",
            "511 - 528 VNILLFMGYSTKPQLAIV\n",
            "537 - 556 LYHHLHIIETKFEMIKLIDI\n",
            "567 - 588 LHAKSIIHRDLKSNNIFLHEDL\n",
            "592 - 613 IGDFGLATVKSRWSGSHQFEQL\n",
            "618 - 639 LWMAPEVIRMQDKNPYSFQSDV\n",
            "644 - 665 IVLYELMTGQLPYSNINNRDQI\n",
            "666 - 681 IFMVGRGYLSPDLSKV\n",
            "692 - 711 LMAECLKKKRDERPLFPQIL\n",
            "714 - 733 IELLARSLPKIHRSASEPSL\n",
            "745 - 765 LYACASPKTPIQAGGYGAFPV\n"
          ],
          "name": "stdout"
        }
      ]
    },
    {
      "cell_type": "markdown",
      "metadata": {
        "id": "yK0EqCmfnZkP"
      },
      "source": [
        "**Ejercicio 8**\r\n",
        "\r\n",
        "Escriba un patrón capaz de reconocer una secuencia compuesta por un aminoácido alifático, seguido de 10-20 aminoácidos cualquieras, y luego el mismo aminoácido alifático reconocido en el patrón."
      ]
    },
    {
      "cell_type": "code",
      "metadata": {
        "id": "RLaKxIM_nc_U"
      },
      "source": [
        "#Respuesta al ejercicio 8\r\n",
        "pat5 = '([IVL]).{10,20}\\\\1'\r\n",
        "rege5 = re.compile(pat5)"
      ],
      "execution_count": 9,
      "outputs": []
    },
    {
      "cell_type": "markdown",
      "metadata": {
        "id": "9wAK7JrpnjiL"
      },
      "source": [
        "**Ejercicio 9**\r\n",
        "\r\n",
        "Aplique el patrón del Ejercicio 8 en la secuencia_ejemplo."
      ]
    },
    {
      "cell_type": "code",
      "metadata": {
        "colab": {
          "base_uri": "https://localhost:8080/"
        },
        "id": "dLFFfC3jnnqV",
        "outputId": "0d456864-1d77-4686-ee6d-1af11df42552"
      },
      "source": [
        "#Respuesta al ejercicio 9\r\n",
        "match5 = rege5.search(secuencia_ejemplo)\r\n",
        "print(match5.group())\r\n",
        "\r\n",
        "s = 0\r\n",
        "while (s < len(secuencia_ejemplo)):\r\n",
        "    match6 = rege5.search(secuencia_ejemplo, s)\r\n",
        "    if match6 != None:\r\n",
        "        print(\"{:>3} - {:>3} {}\".format(match6.start() + 1, match6.end(), match6.group()))\r\n",
        "        s = match6.end()\r\n",
        "    else:  \r\n",
        "        break;\r\n",
        "\r\n",
        "\r\n",
        "#falla\r\n",
        "#\r\n",
        "#t = rege5.findall(secuencia_ejemplo)\r\n",
        "#for ocurencia in t:\r\n",
        "#  print(ocurencia)\r\n"
      ],
      "execution_count": 10,
      "outputs": [
        {
          "output_type": "stream",
          "text": [
            "LSGGGGGGAEPGQAL\n",
            "  4 -  18 LSGGGGGGAEPGQAL\n",
            " 43 -  61 IPEEVWNIKQMIKLTQEHI\n",
            " 64 -  79 LLDKFGGEHNPPSIYL\n",
            " 89 - 103 LDALQQREQQLLESL\n",
            "111 - 130 VSSSASMDTVTSSSSSSLSV\n",
            "137 - 157 VFQNPTDVARSNPKSPQKPIV\n",
            "159 - 177 VFLPNKQRTVVPARCGVTV\n",
            "191 - 208 IPECCAVYRIQDGEKKPI\n",
            "217 - 232 LTGEELHVEVLENVPL\n",
            "276 - 291 VPLMCVNYDQLDLLFV\n",
            "312 - 331 LTSGSSPSAPASDSIGPQIL\n",
            "371 - 383 INTIEPVNIDDLI\n",
            "398 - 416 LSATPPASLPGSLTNVKAL\n",
            "452 - 463 IPDGQITVGQRI\n",
            "471 - 487 VYKGKWHGDVAVKMLNV\n",
            "495 - 515 LQAFKNEVGVLRKTRHVNILL\n",
            "525 - 541 LAIVTQWCEGSSLYHHL\n",
            "543 - 556 IIETKFEMIKLIDI\n",
            "567 - 588 LHAKSIIHRDLKSNNIFLHEDL\n",
            "597 - 618 LATVKSRWSGSHQFEQLSGSIL\n",
            "624 - 645 VIRMQDKNPYSFQSDVYAFGIV\n",
            "654 - 674 LPYSNINNRDQIIFMVGRGYL\n",
            "678 - 697 LSKVRSNCPKAMKRLMAECL\n",
            "706 - 721 LFPQILASIELLARSL\n",
            "733 - 745 LNRAGFQTEDFSL\n"
          ],
          "name": "stdout"
        }
      ]
    }
  ]
}