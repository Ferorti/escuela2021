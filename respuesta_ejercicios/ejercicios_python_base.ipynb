{
 "cells": [
  {
   "cell_type": "markdown",
   "metadata": {
    "colab_type": "text",
    "id": "view-in-github"
   },
   "source": [
    "# Ejercicios de Python base\n",
    "\n",
    "<a href=\"https://colab.research.google.com/github/Ferorti/escuela2021/blob/main/respuesta_ejercicios/ejercicios_python_base.ipynb\" target=\"_parent\"><img src=\"https://colab.research.google.com/assets/colab-badge.svg\" alt=\"Open In Colab\"/></a>"
   ]
  },
  {
   "cell_type": "markdown",
   "metadata": {
    "id": "pH_cH6j5bWVc"
   },
   "source": [
    "## Ejercicio 1\n",
    "La Energía Potencial Gravitatoria se define como:  \n",
    "$$E_p = m \\times g \\times h$$\n",
    "\n",
    "1. Asigne a g el valor 9,8  \n",
    "2. Calcular la Ep de un cuerpo de 2,5 kg situado a una altura de 10,0 m.  \n",
    "3. Imprima en pantalla el texto: \"La energía potencial vale ... J\"  \n",
    "4. Qué tipo de dato es el resultado?"
   ]
  },
  {
   "cell_type": "code",
   "execution_count": 1,
   "metadata": {},
   "outputs": [
    {
     "output_type": "stream",
     "name": "stdout",
     "text": [
      "La energía potencial vale 245.0 J\n<class 'float'>\n"
     ]
    }
   ],
   "source": [
    "# 1. \n",
    "g = 9.8\n",
    "# 2.\n",
    "ep =  2.5 * g * 10\n",
    "# 3.\n",
    "print(\"La energía potencial vale\", ep, \"J\")\n",
    "# 4.\n",
    "print(type(ep))"
   ]
  },
  {
   "cell_type": "markdown",
   "metadata": {},
   "source": [
    "## Ejercicio 2    \n",
    "Crear una funcion para calcular la energia potencial gravitatoria de un cuerpo."
   ]
  },
  {
   "cell_type": "code",
   "execution_count": null,
   "metadata": {},
   "outputs": [],
   "source": [
    "def ep(m, h):\n",
    "    return 9.8 * m * h"
   ]
  },
  {
   "cell_type": "markdown",
   "metadata": {
    "id": "NOwXK0kwbWVj"
   },
   "source": [
    "## Ejercicio 3\n",
    "\n",
    "La velocidad específica de crecimiento (K) de un microorganismo se puede determinar durante fase exponencial según se indica:  \n",
    "\n",
    "$$K = \\frac{ln{2}}{g}$$\n",
    "\n",
    "1. Calcule K para una bacteria cuyo tiempo de duplicación (g) es de 0,33 horas.  \n",
    "2. ¿Qué tipo de dato es K?  \n"
   ]
  },
  {
   "cell_type": "code",
   "execution_count": 3,
   "metadata": {},
   "outputs": [
    {
     "output_type": "stream",
     "name": "stdout",
     "text": [
      "2.100446001696804\n"
     ]
    }
   ],
   "source": [
    "#1. \n",
    "import math\n",
    "g = 0.33\n",
    "k = math.log(2) / g\n",
    "print(k)"
   ]
  },
  {
   "cell_type": "markdown",
   "metadata": {},
   "source": [
    "## Ejercicio 4:\n",
    "Dadas las seguientes listas:  \n",
    "\n",
    "```python\n",
    "bacterias = [\n",
    "    'campylobacter_jejuni', 'vibrio_cholerae',\n",
    "    'staphylococcus_aureus', 'clostridium_perfringens',\n",
    "    'bacillus_cereus', 'eschericchia_coli',\n",
    "    'listeria_monocitogenes'\n",
    "]\n",
    "levaduras = [\n",
    "    'saccharomyces_cerevisiae', 'zygosaccharomyces_rouxii',\n",
    "    'candida_albicans', 'cryptococcus_neoformans',\n",
    "    'cryptococcus_albidus'\n",
    "]\n",
    "```\n",
    "1. Escriba en mayúscula la primer letra de cada género\n",
    "2. Ordenarlas alfabeticamente\n",
    "2. Compruebe cual es de mayor longitud\n",
    "3. Crear una lista nueva y almacenar los primeros tres generos de cada lista"
   ]
  },
  {
   "cell_type": "code",
   "execution_count": 15,
   "metadata": {},
   "outputs": [
    {
     "output_type": "stream",
     "name": "stdout",
     "text": [
      "C\nV\nS\nC\nB\nE\nL\nS\nZ\nC\nC\nC\n['bacillus_cereus', 'campylobacter_jejuni', 'clostridium_perfringens', 'eschericchia_coli', 'listeria_monocitogenes', 'staphylococcus_aureus', 'vibrio_cholerae'] ['candida_albicans', 'cryptococcus_albidus', 'cryptococcus_neoformans', 'saccharomyces_cerevisiae', 'zygosaccharomyces_rouxii']\nclostridium_perfringens saccharomyces_cerevisiae\n['clostridium', 'listeria', 'staphylococcus', 'saccharomyces', 'zygosaccharomyces', 'cryptococcus']\n"
     ]
    }
   ],
   "source": [
    "bacterias = [\n",
    "    'campylobacter_jejuni', 'vibrio_cholerae',\n",
    "    'staphylococcus_aureus', 'clostridium_perfringens',\n",
    "    'bacillus_cereus', 'eschericchia_coli',\n",
    "    'listeria_monocitogenes'\n",
    "]\n",
    "levaduras = [\n",
    "    'saccharomyces_cerevisiae', 'zygosaccharomyces_rouxii',\n",
    "    'candida_albicans', 'cryptococcus_neoformans',\n",
    "    'cryptococcus_albidus'\n",
    "]\n",
    "\n",
    "#1 \n",
    "for l in [bacterias, levaduras]:\n",
    "    for org in l:\n",
    "        print(org[0].upper())\n",
    "\n",
    "#2\n",
    "for l in [bacterias, levaduras]:\n",
    "    l.sort()\n",
    "print(bacterias, levaduras)\n",
    "\n",
    "#3\n",
    "for l in [bacterias, levaduras]:\n",
    "    l.sort(key=len, reverse=True)\n",
    "print(bacterias[0], levaduras[0])\n",
    "\n",
    "#4 \n",
    "for i in range(len(bacterias)):\n",
    "    a = bacterias[i].split(\"_\")\n",
    "    bacterias[i] = a[0]\n",
    "for i in range(len(levaduras)):\n",
    "    a = levaduras[i].split(\"_\")\n",
    "    levaduras[i] = a[0]\n",
    "\n",
    "nueva_lista = bacterias[0:3]+levaduras[0:3]\n",
    "print(nueva_lista)"
   ]
  },
  {
   "cell_type": "markdown",
   "metadata": {
    "colab": {
     "base_uri": "https://localhost:8080/",
     "height": 35
    },
    "id": "rRQzh1xk2CcU",
    "outputId": "619ba720-d995-4db5-d9db-1837083db819"
   },
   "source": [
    "## Ejercicio 5\n",
    "\n",
    "La siguiente secuencia corresponde a la proteina luciferasa:  \n",
    "\n",
    "```python\n",
    "luciferasa = (\n",
    "    \"MEDAKNIKKGPAPFYPLEDGTAGEQLHKAMKRYALVPGTIAFTDAHIEVNITYAEYFEMSVRLAEAMKRYGLNTNHRIVV\"\n",
    "    \"CSENSLQFFMPVLGALFIGVAVAPANDIYNERELLNSMNISQPTVVFVSKKGLQKILNVQKKLPIIQKIIIMDSKTDYQG\"\n",
    "    \"FQSMYTFVTSHLPPGFNEYDFVPESFDRDKTIALIMNSSGSTGLPKGVALPHRTACVRFSHARDPIFGNQIIPDTAILSV\"\n",
    "    \"VPFHHGFGMFTTLGYLICGFRVVLMYRFEEELFLRSLQDYKIQSALLVPTLFSFFAKSTLIDKYDLSNLHEIASGGAPLS\"\n",
    "    \"KEVGEAVAKRFHLPGIRQGYGLTETTSAILITPEGDDKPGAVGKVVPFFEAKVVDLDTGKTLGVNQRGELCVRGPMIMSG\"\n",
    "    \"YVNNPEATNALIDKDGWLHSGDIAYWDEDEHFFIVDRLKSLIKYKGYQVAPAELESILLQHPNIFDAGVAGLPDDDAGEL\"\n",
    "    \"PAAVVVLEHGKTMTEKEIVDYVASQVTTAKKLRGGVVFVDEVPKGLTGKLDARKIREILIKAKKGGKSKL\"\n",
    ")\n",
    "```\n",
    "\n",
    "Esta proteína tiene dos dominios descriptos en la base de datos [Pfam](https://pfam.xfam.org/protein/P08659):\n",
    "\n",
    "- AMP-binding enzyme. Residuos 30 a 445\n",
    "- AMP-binding enzyme C-terminal domain: Residuos 453 a 529\n",
    "\n",
    "1. Extraiga las subsecuencias (usando _slices_) y guardelas en dos variables."
   ]
  },
  {
   "cell_type": "code",
   "execution_count": null,
   "metadata": {},
   "outputs": [],
   "source": [
    "dom1 = luciferasa[29:445]\n",
    "dom2 = luciferasa[452:529]"
   ]
  },
  {
   "cell_type": "markdown",
   "metadata": {
    "id": "A99DERF7Hmr1"
   },
   "source": [
    "## Ejercicio 6\n",
    "El siguiente diccionario representa las áreas (en metros cuadrados) de distintos espacios de un instituto de investigación:  \n",
    "\n",
    "```python\n",
    "areas = {\n",
    "    \"entrada\": 4.0,\n",
    "    \"pasillos\": 11.25,\n",
    "    \"cocina\": 18.0,\n",
    "    \"lab1\": 20.0,\n",
    "    \"lab2\": 10.75,\n",
    "    \"ciber\": 15.50,\n",
    "    \"baño\": 9.50\n",
    "}\n",
    "```\n",
    "1. Guarde en una variable el área del lab1 y en otra el área del lab2\n",
    "2. Sume las areas de lab1 y lab2 y guarde el resultado en la variable \"areas_de_trabajo\"\n",
    "3. Cambie el nombre de \"ciber\" a \"sala_becarios\"\n",
    "4. Agregue al diccionario las áreas de la biblioteca y del estacionamiento, de 12.0 y 25.75 respectivamente\n"
   ]
  },
  {
   "cell_type": "code",
   "execution_count": null,
   "metadata": {},
   "outputs": [],
   "source": [
    "#1 \n",
    "area_lab1 = areas[\"lab1\"]\n",
    "area_lab2 = areas[\"lab2\"]\n",
    "\n",
    "#2\n",
    "areas_de_trabajo = area_lab1 + area_lab2\n",
    "\n",
    "#3\n",
    "areas[\"sala_becarios\"] = areas[\"ciber\"].pop()\n",
    "\n",
    "#4\n",
    "areas[\"biblioteca\"] = 12.0\n",
    "areas[\"biblioteca\"] = 25.75\n"
   ]
  },
  {
   "cell_type": "markdown",
   "metadata": {
    "id": "ZljRFYOBBniK"
   },
   "source": [
    "## Ejercicio 7\n",
    "1. Crear un diccionario con la siguiente clasificacion aminoacidos:  \n",
    "  - Hidrófobos: F, A, L, M, I, W, P, V  \n",
    "  - Polares: C, G, Q, N, S, Y, T  \n",
    "2. ¿Cómo averiguamos el numero de aminoácidos que son polares?\n",
    "3. Agregue los siguientes grupos de aminoacidos al diccionario:\n",
    "  - Básicos: H, R, K \n",
    "  - Ácidos: D, E"
   ]
  },
  {
   "cell_type": "code",
   "execution_count": null,
   "metadata": {},
   "outputs": [],
   "source": [
    "#1\n",
    "aminoacidos = {\n",
    "    'hidrofobos' : ['F', 'A', 'L', 'M', 'I', 'W', 'P', 'V'],\n",
    "    'polares': ['C', 'G', 'Q', 'N', 'S', 'Y', 'T'],\n",
    "}\n",
    "#2\n",
    "print(aminoacidos['polares'])\n",
    "\n",
    "#3\n",
    "aminoacidos['basicos'] = ['H', 'R', 'K']\n",
    "aminoacidos['acidos'] = ['D', 'E']"
   ]
  },
  {
   "cell_type": "markdown",
   "metadata": {},
   "source": [
    "## Ejericio 8\n",
    "\n",
    "El contenido CG de una secuencia de DNA se puede calcular como la razón entre la suma de Cs y Gs en la secuencia y la sumatoria de los 4 nucleotidos en la secuencia:\n",
    "$$\\frac{C+G}{A+T+C+G}$$\n",
    "\n",
    "1. Escriba una funcion \"contenido_cg\" que pueda tomar cualquier secuencia de DNA y calcular su contenido CG\n",
    "2. Calcule el contenido CG de la siguiente secuencia \"ACTGATCGATTACGTATAGTATTTGCTATCATACATATATATCGATGCGTTCAT\"\n",
    "3. Calcule el contenido CG de la secuencia \"aactgtagctagctagcagcgta\""
   ]
  },
  {
   "source": [
    "#1\n",
    "def contenido_gc(secuencia):\n",
    "    secuencia = secuencia.upper()\n",
    "    a = secuencia.count('A')\n",
    "    c = secuencia.count('C')\n",
    "    t = secuencia.count('T')\n",
    "    g = secuencia.count('G')\n",
    "    return float(c+g)/(a+c+t+g)\n",
    "\n",
    "#2 \n",
    "s = \"ACTGATCGATTACGTATAGTATTTGCTATCATACATATATATCGATGCGTTCAT\"\n",
    "print(contenido_gc(s))\n",
    "\n",
    "#3 \n",
    "s = \"aactgtagctagctagcagcgta\"\n",
    "print(contenido_gc(s))\n"
   ],
   "cell_type": "code",
   "metadata": {
    "colab": {
     "base_uri": "https://localhost:8080/"
    },
    "id": "fGGDpb8LHmDt",
    "outputId": "b67b7ba6-210d-4530-9964-2704105b69ae"
   },
   "execution_count": null,
   "outputs": []
  },
  {
   "cell_type": "markdown",
   "metadata": {
    "id": "Y41Mqs2Hm3ch"
   },
   "source": [
    "## Ejercicio 9\n",
    "Dada la siguiente secuencia:\n",
    "\n",
    "`\n",
    "CTGCAGAAATAACTAGGTACTAAGCCCGTTTGTGAAAAGTGGCCAAACCCATAAATTTGGCAATTACAATAAAGAAGCTA\n",
    "AAATTGTGGTCAAACTCACAAACATTTTTATTATATACATTTTAGTAGCTGATGCTTATAAAAGCAATATTTAAATCGTA\n",
    "AACAACAAATAAAATAAAATTTAAACGATGTGATTAAGAGCCAAAGGTCCTCTAGAAAAAGGTATTTAAGCAACGGAATT\n",
    "CCTTTGTGTTACATTCTTGAATGTCGCTCGCAGTGACATTAGCATTCCGGTACTGTTGGTAAAATGGAAGACGCCAAAAA\n",
    "CATAAAGAAAGGCCCGGCGCCATTCTATCCTCTAGAGGATGGAACCGCTGGAGAGCAACTGCATAAGGCTATGAAGAGAT\n",
    "ACGCCCTGGTTCCTGGAACAATTGCTTTTGTGAGTATTTCTGTCTGATTTCTTTCGAGTTAACGAAATGTTCTTATGTTT\n",
    "CTTTAGACAGATGCACATATCGAGGTGAACATCACGTACGCGGAATACTTCGAAATGTCCGTTCGGTTGGCAGAAGCTAT\n",
    "GAAACGATATGGGCTGAATACAAATCACAGAATCGTCGTATGCAGTGAAAACTCTCTTCAATTCTTTATGCCGGTGTTGG\n",
    "GCGCGTTATTTATCGGAGTTGCAGTTGCGCCCGCGAACGACATTTATAATGAACGTAAGCACCCTCGCCATCAGACCAAA\n",
    "GGGAATGACGTATTTAATTTTTAAGGTGAATTGCTCAACAGTATGAACATTTCGCAGCCTACCGTAGTGTTTGTTTCCAA\n",
    "AAAGGGGTTGCAAAAAATTTTGAACGTGCAAAAAAAATTACCAATAATCCAGAAAATTATTATCATGGATTCTAAAACGG\n",
    "ATTACCAGGGATTTCAGTCGATGTACACGTTCGTCACATCTCATCTACCTCCCGGTTTTAATGAATACGATTTTGTACCA\n",
    "GAGTCCTTTGATCGTGACAAAACAATTGCACTGATAATGAATTCCTCTGGATCTACTGGGTTACCTAAGGGTGTGGCCCT\n",
    "TCCGCATAGAACTGCCTGCGTCAGATTCTCGCATGCCAGGTATGTCGTATAACAAGAGATTAAGTAATGTTGCTACACAC\n",
    "ATTGTAGAGATCCTATTTTTGGCAATCAAATCATTCCGGATACTGCGATTTTAAGTGTTGTTCCATTCCATCACGGTTTT\n",
    "GGAATGTTTACTACACTCGGATATTTGATATGTGGATTTCGAGTCGTCTTAATGTATAGATTTGAAGAAGAGCTGTTTTT\n",
    "ACGATCCCTTCAGGATTACAAAATTCAAAGTGCGTTGCTAGTACCAACCCTATTTTCATTCTTCGCCAAAAGCACTCTGA\n",
    "TTGACAAATACGATTTATCTAATTTACACGAAATTGCTTCTGGGGGCGCACCTCTTTCGAAAGAAGTCGGGGAAGCGGTT\n",
    "GCAAAACGGTGAGTTAAGCGCATTGCTAGTATTTCAAGGCTCTAAAACGGCGCGTAGCTTCCATCTTCCAGGGATACGAC\n",
    "AAGGATATGGGCTCACTGAGACTACATCAGCTATTCTGATTACACCCGAGGGGGATGATAAACCGGGCGCGGTCGGTAAA\n",
    "GTTGTTCCATTTTTTGAAGCGAAGGTTGTGGATCTGGATACCGGGAAAACGCTGGGCGTTAATCAGAGAGGCGAATTATG\n",
    "TGTCAGAGGACCTATGATTATGTCCGGTTATGTAAACAATCCGGAAGCGACCAACGCCTTGATTGACAAGGATGGATGGC\n",
    "TACATTCTGGAGACATAGCTTACTGGGACGAAGACGAACACTTCTTCATAGTTGACCGCTTGAAGTCTTTAATTAAATAC\n",
    "AAAGGATATCAGGTAATGAAGATTTTTACATGCACACACGCTACAATACCTGTAGGTGGCCCCCGCTGAATTGGAATCGA\n",
    "TATTGTTACAACACCCCAACATCTTCGACGCGGGCGTGGCAGGTCTTCCCGACGATGACGCCGGTGAACTTCCCGCCGCC\n",
    "GTTGTTGTTTTGGAGCACGGAAAGACGATGACGGAAAAAGAGATCGTGGATTACGTCGCCAGTAAATGAATTCGTTTTAC\n",
    "GTTACTCGTACTACAATTCTTTTCATAGGTCAAGTAACAACCGCGAAAAAGTTGCGCGGAGGAGTTGTGTTTGTGGACGA\n",
    "AGTACCGAAAGGTCTTACCGGAAAACTCGACGCAAGAAAAATCAGAGAGATCCTCATAAAGGCCAAGAAGGGCGGAAAGT\n",
    "CCAAATTGTAAAATGTAACTGTATTCAGCGATGACGAAATTCTTAGCTATTGTAATATTATATGCAAATTGATGAATGGT\n",
    "AATTTTGTAATTGTGGGTCACTGTACTATTTTAACGAATAATAAAATCAGGTATAGGTAACTAAAAA\n",
    "`\n",
    "\n",
    "1. Imprima el tamaño de la misma  \n",
    "2. Calcule su contenido CG\n",
    "3. Seleccione los nucleotidos 304 al 429 y guardelos como lista en la variable 'exon1'\n"
   ]
  },
  {
   "source": [
    "seq = (\n",
    "    \"CTGCAGAAATAACTAGGTACTAAGCCCGTTTGTGAAAAGTGGCCAAACCCATAAATTTGGCAATTACAATAAAGAAGCTA\"\n",
    "    \"AAATTGTGGTCAAACTCACAAACATTTTTATTATATACATTTTAGTAGCTGATGCTTATAAAAGCAATATTTAAATCGTA\"\n",
    "    \"AACAACAAATAAAATAAAATTTAAACGATGTGATTAAGAGCCAAAGGTCCTCTAGAAAAAGGTATTTAAGCAACGGAATT\"\n",
    "    \"CCTTTGTGTTACATTCTTGAATGTCGCTCGCAGTGACATTAGCATTCCGGTACTGTTGGTAAAATGGAAGACGCCAAAAA\"\n",
    "    \"CATAAAGAAAGGCCCGGCGCCATTCTATCCTCTAGAGGATGGAACCGCTGGAGAGCAACTGCATAAGGCTATGAAGAGAT\"\n",
    "    \"ACGCCCTGGTTCCTGGAACAATTGCTTTTGTGAGTATTTCTGTCTGATTTCTTTCGAGTTAACGAAATGTTCTTATGTTT\"\n",
    "    \"CTTTAGACAGATGCACATATCGAGGTGAACATCACGTACGCGGAATACTTCGAAATGTCCGTTCGGTTGGCAGAAGCTAT\"\n",
    "    \"GAAACGATATGGGCTGAATACAAATCACAGAATCGTCGTATGCAGTGAAAACTCTCTTCAATTCTTTATGCCGGTGTTGG\"\n",
    "    \"GCGCGTTATTTATCGGAGTTGCAGTTGCGCCCGCGAACGACATTTATAATGAACGTAAGCACCCTCGCCATCAGACCAAA\"\n",
    "    \"GGGAATGACGTATTTAATTTTTAAGGTGAATTGCTCAACAGTATGAACATTTCGCAGCCTACCGTAGTGTTTGTTTCCAA\"\n",
    "    \"AAAGGGGTTGCAAAAAATTTTGAACGTGCAAAAAAAATTACCAATAATCCAGAAAATTATTATCATGGATTCTAAAACGG\"\n",
    "    \"ATTACCAGGGATTTCAGTCGATGTACACGTTCGTCACATCTCATCTACCTCCCGGTTTTAATGAATACGATTTTGTACCA\"\n",
    "    \"GAGTCCTTTGATCGTGACAAAACAATTGCACTGATAATGAATTCCTCTGGATCTACTGGGTTACCTAAGGGTGTGGCCCT\"\n",
    "    \"TCCGCATAGAACTGCCTGCGTCAGATTCTCGCATGCCAGGTATGTCGTATAACAAGAGATTAAGTAATGTTGCTACACAC\"\n",
    "    \"ATTGTAGAGATCCTATTTTTGGCAATCAAATCATTCCGGATACTGCGATTTTAAGTGTTGTTCCATTCCATCACGGTTTT\"\n",
    "    \"GGAATGTTTACTACACTCGGATATTTGATATGTGGATTTCGAGTCGTCTTAATGTATAGATTTGAAGAAGAGCTGTTTTT\"\n",
    "    \"ACGATCCCTTCAGGATTACAAAATTCAAAGTGCGTTGCTAGTACCAACCCTATTTTCATTCTTCGCCAAAAGCACTCTGA\"\n",
    "    \"TTGACAAATACGATTTATCTAATTTACACGAAATTGCTTCTGGGGGCGCACCTCTTTCGAAAGAAGTCGGGGAAGCGGTT\"\n",
    "    \"GCAAAACGGTGAGTTAAGCGCATTGCTAGTATTTCAAGGCTCTAAAACGGCGCGTAGCTTCCATCTTCCAGGGATACGAC\"\n",
    "    \"AAGGATATGGGCTCACTGAGACTACATCAGCTATTCTGATTACACCCGAGGGGGATGATAAACCGGGCGCGGTCGGTAAA\"\n",
    "    \"GTTGTTCCATTTTTTGAAGCGAAGGTTGTGGATCTGGATACCGGGAAAACGCTGGGCGTTAATCAGAGAGGCGAATTATG\"\n",
    "    \"TGTCAGAGGACCTATGATTATGTCCGGTTATGTAAACAATCCGGAAGCGACCAACGCCTTGATTGACAAGGATGGATGGC\"\n",
    "    \"TACATTCTGGAGACATAGCTTACTGGGACGAAGACGAACACTTCTTCATAGTTGACCGCTTGAAGTCTTTAATTAAATAC\"\n",
    "    \"AAAGGATATCAGGTAATGAAGATTTTTACATGCACACACGCTACAATACCTGTAGGTGGCCCCCGCTGAATTGGAATCGA\"\n",
    "    \"TATTGTTACAACACCCCAACATCTTCGACGCGGGCGTGGCAGGTCTTCCCGACGATGACGCCGGTGAACTTCCCGCCGCC\"\n",
    "    \"GTTGTTGTTTTGGAGCACGGAAAGACGATGACGGAAAAAGAGATCGTGGATTACGTCGCCAGTAAATGAATTCGTTTTAC\"\n",
    "    \"GTTACTCGTACTACAATTCTTTTCATAGGTCAAGTAACAACCGCGAAAAAGTTGCGCGGAGGAGTTGTGTTTGTGGACGA\"\n",
    "    \"AGTACCGAAAGGTCTTACCGGAAAACTCGACGCAAGAAAAATCAGAGAGATCCTCATAAAGGCCAAGAAGGGCGGAAAGT\"\n",
    "    \"CCAAATTGTAAAATGTAACTGTATTCAGCGATGACGAAATTCTTAGCTATTGTAATATTATATGCAAATTGATGAATGGT\"\n",
    "    \"AATTTTGTAATTGTGGGTCACTGTACTATTTTAACGAATAATAAAATCAGGTATAGGTAACTAAAAA\"\n",
    ")\n",
    "\n",
    "#1\n",
    "print(len(seq))\n",
    "\n",
    "#2\n",
    "print(contenido_gc(s))\n",
    "\n",
    "#3\n",
    "exon1 = seq[303: 429]\n",
    "print(exon1)"
   ],
   "cell_type": "code",
   "metadata": {},
   "execution_count": null,
   "outputs": []
  },
  {
   "cell_type": "markdown",
   "metadata": {
    "id": "qXLH8kAy6hqo"
   },
   "source": [
    "## Ejercicio 10 \n",
    "En el siguiente diccionario se representan algunas proteinas con su contenido de desorden (fracción de las posiciones que son condideradas como desordenadas). Las claves corresponden al codigo de acceso de la proteina en UniProt    \n",
    "```python\n",
    "{\n",
    "    'Q8WZ42': ['Titin', 'Homo sapiens', 0.0626],\n",
    "    'P04818': ['Thymidylate synthase', 'Homo sapiens', 0.1565],\n",
    "    'P37840': ['Alpha-synuclein', 'Homo sapiens', 1.0],\n",
    "    'P11387': ['DNA topoisomerase 1', 'Homo sapiens', 0.3804],\n",
    "    'P19339': ['Protein sex-lethal', 'Drosophila melanogaster', 0.0876],\n",
    "    'P04637': ['Cellular tumor antigen p53', 'Homo sapiens', 0.4809],\n",
    "    'Q9MAA7': ['Gibberellin receptor GID1A', 'Arabidopsis thaliana', 0.0377],\n",
    "    'P11473': ['Vitamin D3 receptor', 'Homo sapiens', 0.3489],\n",
    "    'Q8RWK8': ['Coilin', 'Arabidopsis thaliana', 0.3849]\n",
    "}\n",
    "```\n",
    "\n",
    "1. Crear un DataFrame a partir del diccionario\n",
    "2. Agregue una columna que represente el desorden porcentual (%)\n",
    "3. Realice un subset donde el organismo corresponda a 'Homo sapiens' y el contenido de desorden mayor al 30%"
   ]
  },
  {
   "source": [
    "import pandas\n",
    "#1\n",
    "data = {\n",
    "    'Q8WZ42': ['Titin', 'Homo sapiens', 0.0626],\n",
    "    'P04818': ['Thymidylate synthase', 'Homo sapiens', 0.1565],\n",
    "    'P37840': ['Alpha-synuclein', 'Homo sapiens', 1.0],\n",
    "    'P11387': ['DNA topoisomerase 1', 'Homo sapiens', 0.3804],\n",
    "    'P19339': ['Protein sex-lethal', 'Drosophila melanogaster', 0.0876],\n",
    "    'P04637': ['Cellular tumor antigen p53', 'Homo sapiens', 0.4809],\n",
    "    'Q9MAA7': ['Gibberellin receptor GID1A', 'Arabidopsis thaliana', 0.0377],\n",
    "    'P11473': ['Vitamin D3 receptor', 'Homo sapiens', 0.3489],\n",
    "    'Q8RWK8': ['Coilin', 'Arabidopsis thaliana', 0.3849]\n",
    "}\n",
    "df = pandas.DataFrame.from_dict(data, orient='index')\n",
    "print(df)\n",
    "\n",
    "#2\n",
    "df[3] = df[2]*100\n",
    "print(df)\n",
    "\n",
    "#3 \n",
    "df[(df[1] == 'Homo sapiens') & (df[3] > 30.0)]\n",
    "print(df)"
   ],
   "cell_type": "code",
   "metadata": {},
   "execution_count": null,
   "outputs": []
  },
  {
   "source": [
    "## Ejercicio 11\n",
    "\n",
    "1. Escribir una función para calcular la temperatura de Melting de un oligonucleótido según las siguientes aproximaciones:\n",
    "\n",
    "- Para secuencias con 13 o menos nuleotidos se usa la ecuación:\n",
    "\n",
    "$$\n",
    "    T_m = (wA+xT) \\times 2 + (yG+zC) \\times 4\n",
    "$$\n",
    "\n",
    "- Para secuencias más largas:\n",
    "\n",
    "$$\n",
    "    Tm = 64.9 + 41 \\times \\frac{(yG+zC-16.4)}{(wA+xT+yG+zC)}\n",
    "$$\n",
    "\n",
    "La función tiene que tener cuatro argumentos, uno con la cantidad de A, otro con la cantidad de C, otro con la cantidad de G y otro con la cantidad de T."
   ],
   "cell_type": "markdown",
   "metadata": {}
  },
  {
   "cell_type": "code",
   "execution_count": null,
   "metadata": {},
   "outputs": [],
   "source": [
    "def tm(a, c, t, g):\n",
    "    n = a + c + t + g\n",
    "    if n<=13:\n",
    "        return 2*(a+t) + 4*(g+c)\n",
    "    else:\n",
    "        return 64.9 + 41 * float(g+c-16.4) / (a+c+t+g) "
   ]
  },
  {
   "source": [
    "## Ejercicio 12\n",
    "\n",
    "Escribir una función similar al del ejericio aneterior, pero que tenga un solo argumento, que sea la secuencia del oligoneleótido."
   ],
   "cell_type": "markdown",
   "metadata": {}
  },
  {
   "cell_type": "code",
   "execution_count": null,
   "metadata": {},
   "outputs": [],
   "source": [
    "def tm2(seq):\n",
    "    seq = seq.upper()\n",
    "    a = seq.count('A')\n",
    "    c = seq.count('C')\n",
    "    g = seq.count('G')\n",
    "    t = seq.count('T')\n",
    "    n = a + c + t + g\n",
    "    if n<=13:\n",
    "        return 2*(a+t) + 4*(g+c)\n",
    "    else:\n",
    "        return 64.9 + 41 * float(g+c-16.4) / (a+c+t+g) "
   ]
  },
  {
   "source": [
    "## Ejercicio 13\n",
    "\n",
    "Dada una secuencia de DNA, escribir una función que encuentre la repetición de un nucleótido más larga. La función debe devolver la posición dentro de la secuencia donde comienza la repteción, el nucleótido que se repite y el largo de la repetición.\n"
   ],
   "cell_type": "markdown",
   "metadata": {}
  },
  {
   "source": [
    "def find_repeat(seq):\n",
    "    max_rep = 0\n",
    "    max_pos = 0\n",
    "    c_rep = 0\n",
    "    c_pos = 0\n",
    "    last_char = None\n",
    "    for i in range(len(seq)):\n",
    "        print(i)\n",
    "        current_char = seq[i]\n",
    "        if current_char == last_char:\n",
    "            c_rep += 1\n",
    "            if c_rep > max_rep:\n",
    "                max_pos = c_pos\n",
    "                max_rep = c_rep\n",
    "        else:\n",
    "            last_char = current_char\n",
    "            c_pos = i\n",
    "            c_rep = 1\n",
    "    return max_pos, seq[max_pos], max_rep\n",
    "    \n",
    "find_repeat(\"AAAA\")"
   ],
   "cell_type": "code",
   "metadata": {},
   "execution_count": null,
   "outputs": []
  },
  {
   "source": [
    "## Ejercicio 14\n",
    "\n",
    "Vamos a jugar al MasterMind.\n",
    "\n",
    "MasterMind es un juego donde el jugador debe adivinar un número de cuatro cifras elegido al azar por la computadora.\n",
    "Este número debe cumplir ciertas reglas:\n",
    "\n",
    "- Debe estar formado por los números del al 4.\n",
    "- Cada número debe estar presente solo una vez.\n",
    "\n",
    "El jugador tiene seis intentos para adivinar el número. \n",
    "El jugador gana si adivina en alguno de los intentos el número elegido.\n",
    "Luego de cada intento fallido, se le informa al jugador\n",
    "cuantos números está ubicados en la posición correcta (pero no cuales).\n",
    "\n",
    "Si el jugador ingresa un número inválido, ese intento no se computa y puede volver a intentarlo.\n",
    "El número es inválido si:\n",
    "\n",
    "- Tiene más o menos de cuatros dígitos.\n",
    "- Si hay dígitos diferentes a los números de 1 al 4.\n",
    "- Si tiene dígitos repetidos.\n",
    "- Si contiene símbolos que no son números.\n",
    "\n",
    "Si el jugador ingresa la palabra 'salir' el juego termina inmediatamente.\n",
    "\n",
    "1. Escribir una función que permita jugar al MasterMind"
   ],
   "cell_type": "markdown",
   "metadata": {}
  },
  {
   "source": [
    "from random import shuffle\n",
    "\n",
    "def pick_random_number():\n",
    "    r = [1, 2, 3, 4]\n",
    "    shuffle(r)\n",
    "    return r\n",
    "    \n",
    "def get_input():\n",
    "    while True:\n",
    "        n = input()\n",
    "        if n.upper() == \"SALIR\":\n",
    "            return True, None\n",
    "        if sorted(n) == ['1', '2', '3', '4']:\n",
    "            n = list(n)\n",
    "            for i in range(len(n)):\n",
    "                n[i] = int(n[i])\n",
    "            return False, n\n",
    "\n",
    "def check_numbers(secret_number, number):\n",
    "    total = 0\n",
    "    for i in range(len(secret_number)):\n",
    "        if secret_number[i] == number[i]:\n",
    "            total += 1\n",
    "    return total\n",
    "\n",
    "def mastermind():\n",
    "    secret_number = pick_random_number()\n",
    "    tries_left = 6\n",
    "    success = False\n",
    "    while tries_left > 0:\n",
    "        print(\"Intentos restantes: \", tries_left)\n",
    "        exit_game, number = get_input()\n",
    "        if exit_game:\n",
    "            tries_left = 0\n",
    "            print(\"Abandonaste el juego\")\n",
    "            return \n",
    "        print(\"Elegiste el número:\", number)\n",
    "        corrent_numbers = check_numbers(secret_number, number)\n",
    "        if corrent_numbers == 4:\n",
    "            tries_left = 0\n",
    "            print(\"Ganaste el juego\")\n",
    "            return \n",
    "        print(\"Tenes\",corrent_numbers,\"números en la posición correcta\")\n",
    "        tries_left -= 1\n",
    "    print(\"Perdiste. Te quedaste sin intentos\")\n",
    "            \n",
    "\n",
    "mastermind()\n",
    "\n",
    "\n",
    "\n"
   ],
   "cell_type": "code",
   "metadata": {},
   "execution_count": null,
   "outputs": []
  }
 ],
 "metadata": {
  "colab": {
   "include_colab_link": true,
   "name": "ejercicios.ipynb",
   "provenance": []
  },
  "kernelspec": {
   "display_name": "Python 3",
   "language": "python",
   "name": "python3"
  },
  "language_info": {
   "codemirror_mode": {
    "name": "ipython",
    "version": 3
   },
   "file_extension": ".py",
   "mimetype": "text/x-python",
   "name": "python",
   "nbconvert_exporter": "python",
   "pygments_lexer": "ipython3",
   "version": "3.9.0-final"
  }
 },
 "nbformat": 4,
 "nbformat_minor": 1
}