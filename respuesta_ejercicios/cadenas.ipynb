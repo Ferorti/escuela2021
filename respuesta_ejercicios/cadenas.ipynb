{
  "nbformat": 4,
  "nbformat_minor": 0,
  "metadata": {
    "colab": {
      "name": "respuesta_ejercicios_cadenas.ipynb",
      "provenance": [],
      "collapsed_sections": [],
      "authorship_tag": "ABX9TyOG1dha2ddQGNp1C+2GsqcF",
      "include_colab_link": true
    },
    "kernelspec": {
      "name": "python3",
      "display_name": "Python 3"
    }
  },
  "cells": [
    {
      "cell_type": "markdown",
      "metadata": {
        "id": "view-in-github",
        "colab_type": "text"
      },
      "source": [
        "<a href=\"https://colab.research.google.com/github/Ferorti/escuela2021/blob/main/respuesta_ejercicios/cadenas.ipynb\" target=\"_parent\"><img src=\"https://colab.research.google.com/assets/colab-badge.svg\" alt=\"Open In Colab\"/></a>"
      ]
    },
    {
      "cell_type": "markdown",
      "metadata": {
        "id": "JMqCOSwwACPl"
      },
      "source": [
        "# Ejercicios sobre cadenas"
      ]
    },
    {
      "cell_type": "markdown",
      "metadata": {
        "id": "yQ2S_413AjKQ"
      },
      "source": [
        "No se olvide de ejecutar el siguiente código para tener las cadenas que utilizaremos en los ejercicios."
      ]
    },
    {
      "cell_type": "code",
      "metadata": {
        "id": "SGgAZ7j7Asqr"
      },
      "source": [
        "cadena1 = \"  \\t    GENE XXX tiene id YYY y ZZZ aa---\"\r\n",
        "cadena2 = \"Gene\\tUniprot\\tAA\\tPeso\\nBRAF\\tP15056\\t766\\t84436.135 DA\\nEGFR\\tP00533\\t1210\\t134276.185\\nTP53\\tP04637\\t393\\t43652.79 DA\\nKRAS\\tP01116\\t189\\t21655.67\\n\"\r\n"
      ],
      "execution_count": 1,
      "outputs": []
    },
    {
      "cell_type": "markdown",
      "metadata": {
        "id": "I-Mij1I9Kku9"
      },
      "source": [
        "**Ejercicio 1**\r\n",
        "\r\n",
        "Elimine los caracteres blancos del inicio de la cadena1 y los caracteres \"-\" del final de la cadena1. Imprima esta nueva cadena"
      ]
    },
    {
      "cell_type": "code",
      "metadata": {
        "id": "oHWnRMBAQ4uC",
        "colab": {
          "base_uri": "https://localhost:8080/"
        },
        "outputId": "7f2dab08-8e62-4bed-bd50-88c5ef2e0f39"
      },
      "source": [
        "# respuesta ejercicio 1\r\n",
        "txt1 = cadena1.lstrip()\r\n",
        "txt2 = txt1.rstrip(\"-\")\r\n",
        "print(\"\\\"\" + cadena1 + \"\\\"\")\r\n",
        "print(\"\\\"\" + txt2 + \"\\\"\")"
      ],
      "execution_count": 2,
      "outputs": [
        {
          "output_type": "stream",
          "text": [
            "\"  \t    GENE XXX tiene id YYY y ZZZ aa---\"\n",
            "\"GENE XXX tiene id YYY y ZZZ aa\"\n"
          ],
          "name": "stdout"
        }
      ]
    },
    {
      "cell_type": "markdown",
      "metadata": {
        "id": "Ix3OWl7JLZL6"
      },
      "source": [
        "**Ejercicio 2**\r\n",
        "\r\n",
        "Imprima la cadena resultante del **Ejercicio 1**\r\n",
        "\r\n",
        "*   toda en minúsculas\r\n",
        "*   toda en mayúsculas\r\n",
        "*   toda en minúsculas y solo con la primera letra en mayúscula\r\n",
        "\r\n"
      ]
    },
    {
      "cell_type": "code",
      "metadata": {
        "id": "_Ps_zLEgQ50T",
        "colab": {
          "base_uri": "https://localhost:8080/"
        },
        "outputId": "72e1bc65-0fbc-443a-8f28-b74fd35d56b5"
      },
      "source": [
        "# respuesta ejercicio 2\r\n",
        "print(\"\\\"\" + txt2.lower() + \"\\\"\")\r\n",
        "print(\"\\\"\" + txt2.upper() + \"\\\"\")\r\n",
        "print(\"\\\"\" + txt2.capitalize() + \"\\\"\")"
      ],
      "execution_count": 3,
      "outputs": [
        {
          "output_type": "stream",
          "text": [
            "\"gene xxx tiene id yyy y zzz aa\"\n",
            "\"GENE XXX TIENE ID YYY Y ZZZ AA\"\n",
            "\"Gene xxx tiene id yyy y zzz aa\"\n"
          ],
          "name": "stdout"
        }
      ]
    },
    {
      "cell_type": "markdown",
      "metadata": {
        "id": "-qBJ2_VKK3nR"
      },
      "source": [
        "**Ejercicio 3**\r\n",
        "\r\n",
        "Realice las siguientes sustituciones en la cadena1, e imprima la nueva cadena:\r\n",
        " \r\n",
        "*   XXX por BRAF\r\n",
        "*   YYY por P15056\r\n",
        "*   ZZZ por 766\r\n",
        "\r\n"
      ]
    },
    {
      "cell_type": "code",
      "metadata": {
        "id": "3KNcgDL-Q7AK",
        "colab": {
          "base_uri": "https://localhost:8080/"
        },
        "outputId": "2da1eacb-a87c-4f9f-d93b-01b5c3841721"
      },
      "source": [
        "# respuesta ejercicio 3\r\n",
        "txt3 = cadena1.replace(\"XXX\", \"BRAF\")\r\n",
        "txt4 = txt3.replace(\"YYY\", \"P15056\")\r\n",
        "txt5 = txt4.replace(\"ZZZ\", \"766\")\r\n",
        "\r\n",
        "txt6 = cadena1.replace(\"XXX\", \"BRAF\").replace(\"YYY\", \"P15056\").replace(\"ZZZ\", \"766\")\r\n",
        "\r\n",
        "print(\"\\\"\" + cadena1 + \"\\\"\")\r\n",
        "print(\"\\\"\" + txt5 + \"\\\"\")\r\n",
        "print(\"\\\"\" + txt6 + \"\\\"\")\r\n"
      ],
      "execution_count": 4,
      "outputs": [
        {
          "output_type": "stream",
          "text": [
            "\"  \t    GENE XXX tiene id YYY y ZZZ aa---\"\n",
            "\"  \t    GENE BRAF tiene id P15056 y 766 aa---\"\n",
            "\"  \t    GENE BRAF tiene id P15056 y 766 aa---\"\n"
          ],
          "name": "stdout"
        }
      ]
    },
    {
      "cell_type": "markdown",
      "metadata": {
        "id": "6rPEkWi2Mp6e"
      },
      "source": [
        "**Ejercicio 4**\r\n",
        "\r\n",
        "Divida la cadena2 por el separador \\t obteniendo y guarde el resultado"
      ]
    },
    {
      "cell_type": "code",
      "metadata": {
        "id": "gf53fzAnQ8gq",
        "colab": {
          "base_uri": "https://localhost:8080/"
        },
        "outputId": "71975a7c-5971-4729-ad46-b05fe6e60f1f"
      },
      "source": [
        "# respuesta ejercicio 4\r\n",
        "lista1 = cadena2.split(\"\\t\")\r\n",
        "print(lista1)"
      ],
      "execution_count": 5,
      "outputs": [
        {
          "output_type": "stream",
          "text": [
            "['Gene', 'Uniprot', 'AA', 'Peso\\nBRAF', 'P15056', '766', '84436.135 DA\\nEGFR', 'P00533', '1210', '134276.185\\nTP53', 'P04637', '393', '43652.79 DA\\nKRAS', 'P01116', '189', '21655.67\\n']\n"
          ],
          "name": "stdout"
        }
      ]
    },
    {
      "cell_type": "markdown",
      "metadata": {
        "id": "qPORTmRZM2-l"
      },
      "source": [
        "**Ejercicio 5**\r\n",
        "\r\n",
        "Utilize el resultado del **Ejercicio 4** para unir los elementos de la lista en una nueva cadena que utilize como separador el caracter \",\""
      ]
    },
    {
      "cell_type": "code",
      "metadata": {
        "id": "rPTUFfThQ9mM",
        "colab": {
          "base_uri": "https://localhost:8080/"
        },
        "outputId": "8bc54ff4-7be2-44eb-ea69-5cdfdc2ed4dc"
      },
      "source": [
        "# respuesta ejercicio 5\r\n",
        "txt7 = \",\".join(lista1)\r\n",
        "print(\"\\\"\" + txt7 + \"\\\"\")"
      ],
      "execution_count": 6,
      "outputs": [
        {
          "output_type": "stream",
          "text": [
            "\"Gene,Uniprot,AA,Peso\n",
            "BRAF,P15056,766,84436.135 DA\n",
            "EGFR,P00533,1210,134276.185\n",
            "TP53,P04637,393,43652.79 DA\n",
            "KRAS,P01116,189,21655.67\n",
            "\"\n"
          ],
          "name": "stdout"
        }
      ]
    },
    {
      "cell_type": "markdown",
      "metadata": {
        "id": "JXWGuftxAIPe"
      },
      "source": [
        "**Ejercicio 6**\r\n",
        "\r\n",
        "Convierta la cadena2 en una lista de tuplas como la siguiente:\r\n",
        "\r\n",
        "```\r\n",
        "[\r\n",
        "  (\"BRAF\", \"P15056\", 766, 84436.135), \r\n",
        "  (\"EGFR\", \"P00533\", 1210, 134276.185),\r\n",
        "  (\"TP53\", \"P04637\", 393, 43652.79), \r\n",
        "  (\"KRAS\", \"P01116\", 189, 21655.67)\r\n",
        "]\r\n",
        "```\r\n",
        "\r\n",
        "Sugerencias:\r\n",
        "\r\n",
        "*   Utilize la función split\r\n",
        "*   Utilize ciclo for o while \r\n",
        "\r\n",
        "\r\n",
        "\r\n"
      ]
    },
    {
      "cell_type": "code",
      "metadata": {
        "id": "hMTQzGLERARz",
        "colab": {
          "base_uri": "https://localhost:8080/"
        },
        "outputId": "3ceaf214-8897-4cf7-f09d-5609389cb336"
      },
      "source": [
        "# respuesta ejercicio 6\r\n",
        "lista2 = []\r\n",
        "lista3 = cadena2.split(\"\\n\")\r\n",
        "#omito la primera linea que es de encabezados\r\n",
        "for i in range(1, len(lista3) - 1):\r\n",
        "  y = lista3[i].split(\"\\t\")\r\n",
        "  #eliminar el espacio y el DA \r\n",
        "  y[3] = y[3].split(\" \")[0]\r\n",
        "  #convertir aa a entero\r\n",
        "  y[2] = int(y[2])\r\n",
        "  #convertir peso a float\r\n",
        "  y[3] = float(y[3])\r\n",
        "  t = tuple(y)\r\n",
        "  lista2.append(t)\r\n",
        "  \r\n",
        "print(lista2)"
      ],
      "execution_count": 7,
      "outputs": [
        {
          "output_type": "stream",
          "text": [
            "[('BRAF', 'P15056', 766, 84436.135), ('EGFR', 'P00533', 1210, 134276.185), ('TP53', 'P04637', 393, 43652.79), ('KRAS', 'P01116', 189, 21655.67)]\n"
          ],
          "name": "stdout"
        }
      ]
    },
    {
      "cell_type": "markdown",
      "metadata": {
        "id": "36GoU1BQGfG9"
      },
      "source": [
        "**Ejercicio 7**\r\n",
        "\r\n",
        "Convierta la cadena2 en un diccionario como el siguiente:\r\n",
        "\r\n",
        "\r\n",
        "```\r\n",
        "{\r\n",
        "  \"BRAF\" : {\"uniprot\": \"P15056\", \"aa\": 766, \"peso\": 84436.135}, \r\n",
        "  \"EGFR\": {\"uniprot\":\"P00533\", \"aa\": 1210, \"peso\": 134276.185}, \r\n",
        "  \"TP53\": {\"uniprot\":\"P04637\", \"aa\": 393,  \"peso\": 43652.79 }, \r\n",
        "  \"KRAS\": {\"uniprot\":\"P01116\", \"aa\": 189, \"peso\": 21655.67}\r\n",
        "}\r\n",
        "```\r\n",
        "\r\n",
        "\r\n",
        "\r\n",
        "\r\n",
        "\r\n",
        "Sugerencias:\r\n",
        "\r\n",
        "*   Utilize la función split\r\n",
        "*   Utilize ciclo for o while "
      ]
    },
    {
      "cell_type": "code",
      "metadata": {
        "id": "ktsJuoDJABVe",
        "colab": {
          "base_uri": "https://localhost:8080/"
        },
        "outputId": "9d23a3ed-e93d-47f3-e6b9-7bbcbbe06921"
      },
      "source": [
        "# respuesta ejercicio 7\r\n",
        "dic1 = {}\r\n",
        "lista3 = cadena2.split(\"\\n\")\r\n",
        "#omito la primera linea que es de encabezados\r\n",
        "for i in range(1, len(lista3) - 1):\r\n",
        "  y = lista3[i].split(\"\\t\")\r\n",
        "  #eliminar el espacio y el DA \r\n",
        "  y[3] = y[3].split(\" \")[0]\r\n",
        "  #convertir aa a entero\r\n",
        "  y[2] = int(y[2])\r\n",
        "  #convertir peso a float\r\n",
        "  y[3] = float(y[3])\r\n",
        "  dic2 = {\r\n",
        "      y[0] : {\r\n",
        "          \"uniprot\": y[1],\r\n",
        "          \"aa\": y[2],\r\n",
        "          \"peso\": y[3] \r\n",
        "      }\r\n",
        "  }\r\n",
        "  dic1.update(dic2)\r\n",
        "  \r\n",
        "print(dic1)"
      ],
      "execution_count": 11,
      "outputs": [
        {
          "output_type": "stream",
          "text": [
            "{'BRAF': {'uniprot': 'P15056', 'aa': 766, 'peso': 84436.135}, 'EGFR': {'uniprot': 'P00533', 'aa': 1210, 'peso': 134276.185}, 'TP53': {'uniprot': 'P04637', 'aa': 393, 'peso': 43652.79}, 'KRAS': {'uniprot': 'P01116', 'aa': 189, 'peso': 21655.67}}\n"
          ],
          "name": "stdout"
        }
      ]
    },
    {
      "cell_type": "markdown",
      "metadata": {
        "id": "CYkEE3T8NX5S"
      },
      "source": [
        "**Ejercicio 8**\r\n",
        "\r\n",
        "Haciendo uso de la lista obtenida en el **Ejercicio 6** imprima un texto por cada tupla en la lista que tenga el siguiente formato:\r\n",
        "\r\n",
        "*   cada nombre de gene ocupe 8 espacios y esté alineado a la izquierda \r\n",
        "*   cada id de uniprot ocupe 10 espacios, esté alineado al centro y utilize como caracter de relleno el \"*\"\r\n",
        "*   cada cantidad de aminoacidos ocupe 5 espacios y esté alineado a la derecha\r\n",
        "*   después halla dos tabulaciones \r\n",
        "*   cada peso molecular ocupe 10 espacios, dos de los espacios reservados para los decimales y esté alineado a la derecha\r\n",
        "\r\n",
        "Debe quedar una cadena como la siguiente:\r\n",
        "\r\n",
        "```\r\n",
        "\"BRAF    **P15056**  766\t\t  84436.13\"\r\n",
        "```\r\n",
        "\r\n",
        "Sugerencia: Utilize la función format. Si le es más cómodo puede utilizar el diccionario obtenido en el **Ejercicio 7**.\r\n",
        "\r\n"
      ]
    },
    {
      "cell_type": "code",
      "metadata": {
        "id": "cbPWH_crKfkg",
        "colab": {
          "base_uri": "https://localhost:8080/"
        },
        "outputId": "effd2c43-2f5c-4c6f-e9d0-665395359284"
      },
      "source": [
        "# respuesta ejercicio 8\r\n",
        "for i_row in lista2:\r\n",
        "  print(\"{:<8}{:*^10}{:>5}\\t\\t{:>10.2f}\".format(i_row[0], i_row[1], i_row[2], i_row[3]))"
      ],
      "execution_count": 28,
      "outputs": [
        {
          "output_type": "stream",
          "text": [
            "BRAF    **P15056**  766\t\t  84436.13\n",
            "EGFR    **P00533** 1210\t\t 134276.18\n",
            "TP53    **P04637**  393\t\t  43652.79\n",
            "KRAS    **P01116**  189\t\t  21655.67\n"
          ],
          "name": "stdout"
        }
      ]
    }
  ]
}