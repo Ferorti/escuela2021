{
  "nbformat": 4,
  "nbformat_minor": 0,
  "metadata": {
    "colab": {
      "name": "expresiones_regulares.ipynb",
      "provenance": [],
      "collapsed_sections": [],
      "toc_visible": true,
      "authorship_tag": "ABX9TyOy/075Bx0ONrU7+C9M7z9N",
      "include_colab_link": true
    },
    "kernelspec": {
      "name": "python3",
      "display_name": "Python 3"
    }
  },
  "cells": [
    {
      "cell_type": "markdown",
      "metadata": {
        "id": "view-in-github",
        "colab_type": "text"
      },
      "source": [
        "<a href=\"https://colab.research.google.com/github/Ferorti/escuela2021/blob/main/Clase_XX_expresiones_regulares.ipynb\" target=\"_parent\"><img src=\"https://colab.research.google.com/assets/colab-badge.svg\" alt=\"Open In Colab\"/></a>"
      ]
    },
    {
      "cell_type": "markdown",
      "metadata": {
        "id": "VtmrzE4Jrxfk"
      },
      "source": [
        "# ¿Qué son las Expresiones regulares?"
      ]
    },
    {
      "cell_type": "markdown",
      "metadata": {
        "id": "7DhS5EaGr4ZL"
      },
      "source": [
        "Las expresiones regulares son patrones utilizados para encontrar una determinada combinación de caracteres dentro de una cadena de texto proporcionando una manera muy flexible de hacer la búsqueda y reconocer cadenas de texto.\r\n",
        "\r\n",
        "Ejemplo clásico es que estamos leyendo un PDF y buscamos una palabra que lleva acento con y si él y se obtinen los mismos resultados. (cámara y camara) "
      ]
    },
    {
      "cell_type": "markdown",
      "metadata": {
        "id": "9Wtu4Y4zuGFi"
      },
      "source": [
        "# Expresiones regulares en Python"
      ]
    },
    {
      "cell_type": "markdown",
      "metadata": {
        "id": "D89ONEKMuMcN"
      },
      "source": [
        "En python la clase que se utiliza para buscar expresiones regulares en textos es ***re*** y para ello se utilizan las siguientes líneas de código:"
      ]
    },
    {
      "cell_type": "code",
      "metadata": {
        "colab": {
          "base_uri": "https://localhost:8080/"
        },
        "id": "mKc2gDYDuscm",
        "outputId": "6c325bfa-36a1-4d84-d9a0-b448c7371b59"
      },
      "source": [
        "# importar la biblioteca\r\n",
        "import re\r\n",
        "# compilar la expresión regular, es el texto que se pasa como parámetro a la función compile\r\n",
        "rege1 = re.compile('aaa')\r\n",
        "#texto donde deseo hacer la búsqueda\r\n",
        "texto = 'aaatttaaatttcccgggAAATTTCCCDDD'\r\n",
        "# buscar las coincidencias en un texto que se pasa como parámetro a la función search\r\n",
        "#el objeto match tiene el patrón, la cadena y la posición de inicio - fin de la coincidencia\r\n",
        "match = rege1.search(texto)\r\n",
        "# imprimir las coincidencias\r\n",
        "print(match.group())"
      ],
      "execution_count": 1,
      "outputs": [
        {
          "output_type": "stream",
          "text": [
            "aaa\n"
          ],
          "name": "stdout"
        }
      ]
    },
    {
      "cell_type": "markdown",
      "metadata": {
        "id": "WG_KqwVeGTEm"
      },
      "source": [
        "# Usos de la biblioteca ***re***"
      ]
    },
    {
      "cell_type": "markdown",
      "metadata": {
        "id": "Wj6SP6cHFPr8"
      },
      "source": [
        "Buscar en que posición está una coincidencia"
      ]
    },
    {
      "cell_type": "code",
      "metadata": {
        "colab": {
          "base_uri": "https://localhost:8080/"
        },
        "id": "Z5B4pr-HGk4p",
        "outputId": "fd7321d1-48a3-49f0-a6d8-422d6947d207"
      },
      "source": [
        "print('Encontrada \"{}\"\\nen \"{}\"\\ninicio {} fin {} (\"{}\")'.format(\r\n",
        "    match.re.pattern, match.string, match.start(), match.end(), texto[match.start():match.end()]))"
      ],
      "execution_count": 2,
      "outputs": [
        {
          "output_type": "stream",
          "text": [
            "Encontrada \"aaa\"\n",
            "en \"aaatttaaatttcccgggAAATTTCCCDDD\"\n",
            "inicio 0 fin 3 (\"aaa\")\n"
          ],
          "name": "stdout"
        }
      ]
    },
    {
      "cell_type": "markdown",
      "metadata": {
        "id": "m2SehCT0GdCC"
      },
      "source": [
        "Acotar la búsqueda"
      ]
    },
    {
      "cell_type": "code",
      "metadata": {
        "colab": {
          "base_uri": "https://localhost:8080/"
        },
        "id": "aXVtXDhBINxJ",
        "outputId": "33f69bae-ccab-4652-db81-9cd8cdde52e4"
      },
      "source": [
        "# match2 = rege1.search(texto, 4)\r\n",
        "\r\n",
        "match2 = rege1.search(texto, 4, 25)\r\n",
        "if match2 != None:\r\n",
        "  print('Encontrada \"{}\"\\nen \"{}\"\\ninicio {} fin {} (\"{}\")'.format(\r\n",
        "    match2.re.pattern, match2.string, match2.start(), match2.end(), texto[match2.start():match2.end()]))"
      ],
      "execution_count": 3,
      "outputs": [
        {
          "output_type": "stream",
          "text": [
            "Encontrada \"aaa\"\n",
            "en \"aaatttaaatttcccgggAAATTTCCCDDD\"\n",
            "inicio 6 fin 9 (\"aaa\")\n"
          ],
          "name": "stdout"
        }
      ]
    },
    {
      "cell_type": "code",
      "metadata": {
        "colab": {
          "base_uri": "https://localhost:8080/"
        },
        "id": "9bROsv2BNb9d",
        "outputId": "85f8ae55-3b95-4556-80fe-205002e3a72c"
      },
      "source": [
        "match3 = rege1.search(texto, 15, 30)\r\n",
        "if match3 != None:\r\n",
        "  print('Encontrada \"{}\"\\nen \"{}\"\\ninicio {} fin {} (\"{}\")'.format(\r\n",
        "    match3.re.pattern, match3.string, match3.start(), match3.end(), texto[match3.start():match3.end()]))\r\n",
        "else:\r\n",
        "  print('No encontrada')  "
      ],
      "execution_count": 4,
      "outputs": [
        {
          "output_type": "stream",
          "text": [
            "No encontrada\n"
          ],
          "name": "stdout"
        }
      ]
    },
    {
      "cell_type": "markdown",
      "metadata": {
        "id": "6OYrmYtQFhF7"
      },
      "source": [
        "No diferenciar entre mayúsculas y minúsculas"
      ]
    },
    {
      "cell_type": "code",
      "metadata": {
        "colab": {
          "base_uri": "https://localhost:8080/"
        },
        "id": "AlOjIq_RE2eI",
        "outputId": "af9cd65d-39ef-48c5-cb12-f3b87e35ce81"
      },
      "source": [
        "rege2 = re.compile('aaa', re.IGNORECASE)\r\n",
        "\r\n",
        "match4 = rege2.search(texto, 15, 30)\r\n",
        "if match4 != None:\r\n",
        "  print('Encontrada \"{}\"\\nen \"{}\"\\ninicio {} fin {} (\"{}\")'.format(\r\n",
        "    match4.re.pattern, match4.string, match4.start(), match4.end(), texto[match4.start():match4.end()]))\r\n",
        "else:\r\n",
        "  print('No encontrada')  \r\n"
      ],
      "execution_count": 5,
      "outputs": [
        {
          "output_type": "stream",
          "text": [
            "Encontrada \"aaa\"\n",
            "en \"aaatttaaatttcccgggAAATTTCCCDDD\"\n",
            "inicio 18 fin 21 (\"AAA\")\n"
          ],
          "name": "stdout"
        }
      ]
    },
    {
      "cell_type": "markdown",
      "metadata": {
        "id": "Ryx2JWsRFc7L"
      },
      "source": [
        "buscar todas las coincidencias en el texto"
      ]
    },
    {
      "cell_type": "code",
      "metadata": {
        "colab": {
          "base_uri": "https://localhost:8080/"
        },
        "id": "6VGRU5I4GMIS",
        "outputId": "4846722a-01ba-468d-9d46-4ed7b3dc7883"
      },
      "source": [
        "match5 = rege2.findall(texto)\r\n",
        "print(match5)"
      ],
      "execution_count": 6,
      "outputs": [
        {
          "output_type": "stream",
          "text": [
            "['aaa', 'aaa', 'AAA']\n"
          ],
          "name": "stdout"
        }
      ]
    },
    {
      "cell_type": "markdown",
      "metadata": {
        "id": "5gpHMYCTFokb"
      },
      "source": [
        "Dividir texto con una expresion regular"
      ]
    },
    {
      "cell_type": "code",
      "metadata": {
        "colab": {
          "base_uri": "https://localhost:8080/"
        },
        "id": "vrv266iuGHo6",
        "outputId": "7d95dcd1-19a5-4fc2-9d1b-a01bb217c2dd"
      },
      "source": [
        "match6 = rege2.split(texto)\r\n",
        "print(texto)\r\n",
        "print(match6)"
      ],
      "execution_count": 7,
      "outputs": [
        {
          "output_type": "stream",
          "text": [
            "aaatttaaatttcccgggAAATTTCCCDDD\n",
            "['', 'ttt', 'tttcccggg', 'TTTCCCDDD']\n"
          ],
          "name": "stdout"
        }
      ]
    },
    {
      "cell_type": "markdown",
      "metadata": {
        "id": "wcPGNzQwAyhw"
      },
      "source": [
        "Subtituir texto con expresion regular"
      ]
    },
    {
      "cell_type": "code",
      "metadata": {
        "colab": {
          "base_uri": "https://localhost:8080/"
        },
        "id": "2-UhZzcwGWl3",
        "outputId": "53460645-8297-46a7-b9d3-3f796a639853"
      },
      "source": [
        "# match7 = rege2.sub('---', texto) #todas las sustituciones\r\n",
        "# match7 = rege2.sub('---', texto, 0) #todas las sustituciones\r\n",
        "# match7 = rege2.sub('---', texto, 1) #solo la primera se sustituye\r\n",
        "# match7 = rege2.sub('---', texto, 2) #solo la primera y la segunda se sustituyen\r\n",
        "\r\n",
        "match7 = rege2.sub('---', texto)\r\n",
        "print(texto)\r\n",
        "print(match7)"
      ],
      "execution_count": 8,
      "outputs": [
        {
          "output_type": "stream",
          "text": [
            "aaatttaaatttcccgggAAATTTCCCDDD\n",
            "---ttt---tttcccggg---TTTCCCDDD\n"
          ],
          "name": "stdout"
        }
      ]
    },
    {
      "cell_type": "markdown",
      "metadata": {
        "id": "sVPoZaESr2CS"
      },
      "source": [
        "# Caracteres Especiales"
      ]
    },
    {
      "cell_type": "markdown",
      "metadata": {
        "id": "v-mCZvfK3wGg"
      },
      "source": [
        "Utilizaré la siguiente función para imprimir las coincidencias y textos\r\n"
      ]
    },
    {
      "cell_type": "code",
      "metadata": {
        "id": "-EbVe9OA35dL"
      },
      "source": [
        "def imprimir_coincidencias(reg, lista):\r\n",
        "  exp_coincidencia = []\r\n",
        "  texto_coincidencia = []\r\n",
        "  for texto in lista:  \r\n",
        "    match = reg.search(texto)\r\n",
        "    if match:\r\n",
        "      exp_coincidencia.append(match.group())\r\n",
        "      texto_coincidencia.append(texto)\r\n",
        "  print(lista)\r\n",
        "  print(texto_coincidencia)  \r\n",
        "  print(exp_coincidencia)"
      ],
      "execution_count": 9,
      "outputs": []
    },
    {
      "cell_type": "markdown",
      "metadata": {
        "id": "a5_TzAUvsxEM"
      },
      "source": [
        "\".\"  Cualquier caracter excepto el fin de linea"
      ]
    },
    {
      "cell_type": "code",
      "metadata": {
        "colab": {
          "base_uri": "https://localhost:8080/"
        },
        "id": "7lrA81KvtNjS",
        "outputId": "7fb918cb-36de-43a8-eeb3-37b1406cab78"
      },
      "source": [
        "a = [\"ACT\", \"ACTG\", \"ACTGAT\", \"GGAATT\", \"ATGATG\", \"ATACTAGG\"]\r\n",
        "reg1 = re.compile(\"ACT.\")\r\n",
        "\r\n",
        "imprimir_coincidencias(reg1, a)"
      ],
      "execution_count": 10,
      "outputs": [
        {
          "output_type": "stream",
          "text": [
            "['ACT', 'ACTG', 'ACTGAT', 'GGAATT', 'ATGATG', 'ATACTAGG']\n",
            "['ACTG', 'ACTGAT', 'ATACTAGG']\n",
            "['ACTG', 'ACTG', 'ACTA']\n"
          ],
          "name": "stdout"
        }
      ]
    },
    {
      "cell_type": "markdown",
      "metadata": {
        "id": "P89GJ-0-2FTT"
      },
      "source": [
        "\"^\" Inicio de línea"
      ]
    },
    {
      "cell_type": "code",
      "metadata": {
        "colab": {
          "base_uri": "https://localhost:8080/"
        },
        "id": "3c9A7KNK2L6d",
        "outputId": "91637a82-ee8c-4db4-dbe5-639f77278e28"
      },
      "source": [
        "reg2 = re.compile(\"^ACT.\")\r\n",
        "imprimir_coincidencias(reg2, a)\r\n"
      ],
      "execution_count": 11,
      "outputs": [
        {
          "output_type": "stream",
          "text": [
            "['ACT', 'ACTG', 'ACTGAT', 'GGAATT', 'ATGATG', 'ATACTAGG']\n",
            "['ACTG', 'ACTGAT']\n",
            "['ACTG', 'ACTG']\n"
          ],
          "name": "stdout"
        }
      ]
    },
    {
      "cell_type": "markdown",
      "metadata": {
        "id": "1jzQeUos4rS8"
      },
      "source": [
        "\"$\" Fin de línea"
      ]
    },
    {
      "cell_type": "code",
      "metadata": {
        "colab": {
          "base_uri": "https://localhost:8080/"
        },
        "id": "LZ419w2W41po",
        "outputId": "be4bebd5-30fb-40b8-a173-cea5404ec494"
      },
      "source": [
        "reg3 = re.compile(\"^ACT.$\")\r\n",
        "imprimir_coincidencias(reg3, a)"
      ],
      "execution_count": 12,
      "outputs": [
        {
          "output_type": "stream",
          "text": [
            "['ACT', 'ACTG', 'ACTGAT', 'GGAATT', 'ATGATG', 'ATACTAGG']\n",
            "['ACTG']\n",
            "['ACTG']\n"
          ],
          "name": "stdout"
        }
      ]
    },
    {
      "cell_type": "markdown",
      "metadata": {
        "id": "sLkiEllt5RAa"
      },
      "source": [
        "\"*\" La expresion que se antepone se repite 0 o más veces"
      ]
    },
    {
      "cell_type": "code",
      "metadata": {
        "colab": {
          "base_uri": "https://localhost:8080/"
        },
        "id": "Ml7h_5a254yb",
        "outputId": "80813e66-5a53-42c9-e412-4b2f567eaf4d"
      },
      "source": [
        "reg4 = re.compile(\"ACT.*\")\r\n",
        "imprimir_coincidencias(reg4, a)"
      ],
      "execution_count": 13,
      "outputs": [
        {
          "output_type": "stream",
          "text": [
            "['ACT', 'ACTG', 'ACTGAT', 'GGAATT', 'ATGATG', 'ATACTAGG']\n",
            "['ACT', 'ACTG', 'ACTGAT', 'ATACTAGG']\n",
            "['ACT', 'ACTG', 'ACTGAT', 'ACTAGG']\n"
          ],
          "name": "stdout"
        }
      ]
    },
    {
      "cell_type": "markdown",
      "metadata": {
        "id": "BNbEw53w6Kow"
      },
      "source": [
        "\"+\" La expresión que se antepone se repite 1 o más veces"
      ]
    },
    {
      "cell_type": "code",
      "metadata": {
        "colab": {
          "base_uri": "https://localhost:8080/"
        },
        "id": "et705X4d6mmY",
        "outputId": "4e87413a-233c-4054-9dae-88e71789d0c9"
      },
      "source": [
        "reg5 = re.compile(\"ACT.+\")\r\n",
        "imprimir_coincidencias(reg5, a)"
      ],
      "execution_count": 14,
      "outputs": [
        {
          "output_type": "stream",
          "text": [
            "['ACT', 'ACTG', 'ACTGAT', 'GGAATT', 'ATGATG', 'ATACTAGG']\n",
            "['ACTG', 'ACTGAT', 'ATACTAGG']\n",
            "['ACTG', 'ACTGAT', 'ACTAGG']\n"
          ],
          "name": "stdout"
        }
      ]
    },
    {
      "cell_type": "markdown",
      "metadata": {
        "id": "jb2n8ce26tTj"
      },
      "source": [
        "\"?\" la expresión que se antepone se repite 0 o 1 vez"
      ]
    },
    {
      "cell_type": "code",
      "metadata": {
        "colab": {
          "base_uri": "https://localhost:8080/"
        },
        "id": "C62Jpfv_618o",
        "outputId": "42d4e94e-ac89-477d-a6d7-9d27767dec1f"
      },
      "source": [
        "reg6 = re.compile(\"ACT.?\")\r\n",
        "imprimir_coincidencias(reg6, a)"
      ],
      "execution_count": 15,
      "outputs": [
        {
          "output_type": "stream",
          "text": [
            "['ACT', 'ACTG', 'ACTGAT', 'GGAATT', 'ATGATG', 'ATACTAGG']\n",
            "['ACT', 'ACTG', 'ACTGAT', 'ATACTAGG']\n",
            "['ACT', 'ACTG', 'ACTG', 'ACTA']\n"
          ],
          "name": "stdout"
        }
      ]
    },
    {
      "cell_type": "markdown",
      "metadata": {
        "id": "IfCywSd07Hgo"
      },
      "source": [
        "\"{n}\" La expresión que se antepone coincida n veces.\r\n",
        "\r\n",
        "\"{n,m}\" La expresión que se antepone coincida como mínimo n veces y como máximo m veces.\r\n",
        "\r\n",
        "\"{,m}\" La expresión que se antepone coincida como mínimo 0 veces y como máximo m veces.\r\n",
        "\r\n",
        "\"{n,}\" La expresión que se antepone coincida como mínimo n veces y como máximo todas las posibles."
      ]
    },
    {
      "cell_type": "code",
      "metadata": {
        "colab": {
          "base_uri": "https://localhost:8080/"
        },
        "id": "_ujmlxrG708i",
        "outputId": "fdd46690-1816-43d1-9f33-acbab378036b"
      },
      "source": [
        "reg7 = re.compile(\"ACT.{2}\")\r\n",
        "imprimir_coincidencias(reg7, a)"
      ],
      "execution_count": 16,
      "outputs": [
        {
          "output_type": "stream",
          "text": [
            "['ACT', 'ACTG', 'ACTGAT', 'GGAATT', 'ATGATG', 'ATACTAGG']\n",
            "['ACTGAT', 'ATACTAGG']\n",
            "['ACTGA', 'ACTAG']\n"
          ],
          "name": "stdout"
        }
      ]
    },
    {
      "cell_type": "code",
      "metadata": {
        "colab": {
          "base_uri": "https://localhost:8080/"
        },
        "id": "Cjs5iWGl8GVT",
        "outputId": "2a6e1ee0-7ee1-4339-eecf-f3925fcadc14"
      },
      "source": [
        "reg8 = re.compile(\"ACT.{2,5}\")\r\n",
        "imprimir_coincidencias(reg8, a)"
      ],
      "execution_count": 17,
      "outputs": [
        {
          "output_type": "stream",
          "text": [
            "['ACT', 'ACTG', 'ACTGAT', 'GGAATT', 'ATGATG', 'ATACTAGG']\n",
            "['ACTGAT', 'ATACTAGG']\n",
            "['ACTGAT', 'ACTAGG']\n"
          ],
          "name": "stdout"
        }
      ]
    },
    {
      "cell_type": "markdown",
      "metadata": {
        "id": "1_4zsOe6-1ck"
      },
      "source": [
        "\"\\\\\" Caracter de escape\r\n",
        "\r\n",
        "Se utiliza cuando queremos incluir en nuestra expresión alguno de los caracteres especiales, por ejemplo para buscar el caracter:\r\n",
        " \r\n",
        "*   \".\" tenemos que escribir \"\\\\.\"\r\n",
        "*   \"\\\\\" tenemos que escribir \"\\\\\\\\\"\r\n",
        "*   \"(\" tenemos que escribir \"\\(\"\r\n",
        "*   tabulación tenemos que escribir \"\\\\t\"\r\n",
        "*   fin de línea tenemos que escribir \"\\\\n\"\r\n",
        "\r\n",
        "\r\n",
        "\r\n"
      ]
    },
    {
      "cell_type": "code",
      "metadata": {
        "colab": {
          "base_uri": "https://localhost:8080/"
        },
        "id": "renTnJGkVD9I",
        "outputId": "448feb0b-b81a-42dd-a9a9-fdba4f9d026d"
      },
      "source": [
        "texto2 = '3.14'\r\n",
        "y = re.search('.', texto2)\r\n",
        "print('Patrón \"{}\" en \"{}\" inicio {} fin {} coincidencia \"{}\"'.format(\r\n",
        "    y.re.pattern, y.string, y.start(), y.end(), y.group(), y.group()))\r\n",
        "\r\n",
        "z = re.search('\\.', texto2)\r\n",
        "print('Patrón \"{}\" en \"{}\" inicio {} fin {} coincidencia \"{}\"'.format(\r\n",
        "    z.re.pattern, z.string, z.start(), z.end(), z.group()))"
      ],
      "execution_count": 18,
      "outputs": [
        {
          "output_type": "stream",
          "text": [
            "Patrón \".\" en \"3.14\" inicio 0 fin 1 coincidencia \"3\"\n",
            "Patrón \"\\.\" en \"3.14\" inicio 1 fin 2 coincidencia \".\"\n"
          ],
          "name": "stdout"
        }
      ]
    },
    {
      "cell_type": "markdown",
      "metadata": {
        "id": "FLnCsnve9qqs"
      },
      "source": [
        "\"[...]\" Descripción de conjuntos"
      ]
    },
    {
      "cell_type": "code",
      "metadata": {
        "colab": {
          "base_uri": "https://localhost:8080/"
        },
        "id": "BZZ5pAE69w4L",
        "outputId": "ef73d8a4-13c2-492a-d5b9-6feb84f58a65"
      },
      "source": [
        "reg9 = re.compile(\"A[CT]T\")\r\n",
        "imprimir_coincidencias(reg9, a)"
      ],
      "execution_count": 19,
      "outputs": [
        {
          "output_type": "stream",
          "text": [
            "['ACT', 'ACTG', 'ACTGAT', 'GGAATT', 'ATGATG', 'ATACTAGG']\n",
            "['ACT', 'ACTG', 'ACTGAT', 'GGAATT', 'ATACTAGG']\n",
            "['ACT', 'ACT', 'ACT', 'ATT', 'ACT']\n"
          ],
          "name": "stdout"
        }
      ]
    },
    {
      "cell_type": "markdown",
      "metadata": {
        "id": "3xcG7Ma3-NFu"
      },
      "source": [
        "Algunos ejemplos de conjuntos son:\r\n",
        "\r\n",
        "\r\n",
        "*   [actg] las 4 posibles letras para nucleótidos\r\n",
        "*   [actgACTG] las 4 posibles letras para nucleótidos en minúscula o mayúscula\r\n",
        "*   [a-zA-Z] las letras del abecedario, mayúsculas y minúsculas\r\n",
        "*   [0-9] los números decimales\r\n",
        "*   [^0-9] cualquier caracter que no sean los números decimales\r\n",
        "\r\n",
        "\r\n",
        "\r\n",
        "\r\n",
        "\r\n",
        "\r\n",
        "\r\n",
        "\r\n",
        "\r\n",
        "\r\n"
      ]
    },
    {
      "cell_type": "markdown",
      "metadata": {
        "id": "T7k6-_wk-sNC"
      },
      "source": [
        "Algunos conjuntos predefinidos en python. Se pueden utilizar haciendo uso del caracter de escape:\r\n",
        "\r\n",
        "*   \\d coincide con [0-9]\r\n",
        "*   \\D coincide con [^0-9]\r\n",
        "*   \\w coincide con [a-zA-Z0-9]\r\n",
        "*   \\W coincide con [^a-zA-Z0-9_]\r\n",
        "*   \\s coincide con [ \\t\\n\\r\\f\\v]\r\n",
        "*   \\S coincide con [^ \\t\\n\\r\\f\\v]\r\n",
        "\r\n",
        "\r\n",
        "\r\n"
      ]
    },
    {
      "cell_type": "markdown",
      "metadata": {
        "id": "g40Wu_pi8C-j"
      },
      "source": [
        "\"(...)\" grupos de expresiones"
      ]
    },
    {
      "cell_type": "code",
      "metadata": {
        "colab": {
          "base_uri": "https://localhost:8080/"
        },
        "id": "xFzvrz6aKGCm",
        "outputId": "04c820ad-dae1-42a9-d449-958fc16e1ce8"
      },
      "source": [
        "#ejemplo de grupo\r\n",
        "reg10 = re.compile(\"([atg]{3}){2,5}\", re.IGNORECASE)\r\n",
        "imprimir_coincidencias(reg10, a)"
      ],
      "execution_count": 20,
      "outputs": [
        {
          "output_type": "stream",
          "text": [
            "['ACT', 'ACTG', 'ACTGAT', 'GGAATT', 'ATGATG', 'ATACTAGG']\n",
            "['GGAATT', 'ATGATG']\n",
            "['GGAATT', 'ATGATG']\n"
          ],
          "name": "stdout"
        }
      ]
    },
    {
      "cell_type": "code",
      "metadata": {
        "colab": {
          "base_uri": "https://localhost:8080/"
        },
        "id": "byYGYFN-d9yR",
        "outputId": "ff8a1071-50d6-4d48-bdc2-9b9e5781c59f"
      },
      "source": [
        "#ejemplo de obtener solo un grupo\r\n",
        "reg11 = re.compile(\"[at]{3}(.{2,5})a\", re.IGNORECASE)\r\n",
        "exp_group1 = []\r\n",
        "texto_coincidencia = []\r\n",
        "for texto in a:  \r\n",
        "  match = reg11.search(texto)\r\n",
        "  if match:\r\n",
        "    exp_group1.append(match.group(1))\r\n",
        "    texto_coincidencia.append(texto)\r\n",
        "print(a)\r\n",
        "print(texto_coincidencia)\r\n",
        "print(exp_group1)  "
      ],
      "execution_count": 21,
      "outputs": [
        {
          "output_type": "stream",
          "text": [
            "['ACT', 'ACTG', 'ACTGAT', 'GGAATT', 'ATGATG', 'ATACTAGG']\n",
            "['ATACTAGG']\n",
            "['CT']\n"
          ],
          "name": "stdout"
        }
      ]
    },
    {
      "cell_type": "code",
      "metadata": {
        "colab": {
          "base_uri": "https://localhost:8080/"
        },
        "id": "Hm3BG1JtfGEC",
        "outputId": "3b6050e2-6f67-4d8d-e824-497c9ffd6807"
      },
      "source": [
        "#subtitutir con el grupo\r\n",
        "reg12 = re.compile(\"[at]{3}(.{2,5})a\", re.IGNORECASE)\r\n",
        "new_list = []\r\n",
        "for texto in a:  \r\n",
        "  match = reg12.sub(\"---\\\\1-\", texto)\r\n",
        "  new_list.append(match) \r\n",
        "print(a)  \r\n",
        "print(new_list)"
      ],
      "execution_count": 26,
      "outputs": [
        {
          "output_type": "stream",
          "text": [
            "['ACT', 'ACTG', 'ACTGAT', 'GGAATT', 'ATGATG', 'ATACTAGG']\n",
            "['ACT', 'ACTG', 'ACTGAT', 'GGAATT', 'ATGATG', '---CT-GG']\n"
          ],
          "name": "stdout"
        }
      ]
    },
    {
      "cell_type": "code",
      "metadata": {
        "colab": {
          "base_uri": "https://localhost:8080/"
        },
        "id": "lkImjeIagNpz",
        "outputId": "63d4f19d-46b2-4d71-dc72-b8cdf454f37d"
      },
      "source": [
        "#subtitutir cambiando el orden de los grupos\r\n",
        "reg13 = re.compile(\"([at]{3})(.{2,3})(.*)\", re.IGNORECASE)\r\n",
        "new_list2 = []\r\n",
        "for texto in a:  \r\n",
        "  match = reg13.sub(\"\\\\2---\\\\1---\\\\3\", texto)\r\n",
        "  new_list2.append(match) \r\n",
        "print(a)  \r\n",
        "print(new_list2)"
      ],
      "execution_count": 27,
      "outputs": [
        {
          "output_type": "stream",
          "text": [
            "['ACT', 'ACTG', 'ACTGAT', 'GGAATT', 'ATGATG', 'ATACTAGG']\n",
            "['ACT', 'ACTG', 'ACTGAT', 'GGAATT', 'ATGATG', 'CTA---ATA---GG']\n"
          ],
          "name": "stdout"
        }
      ]
    },
    {
      "cell_type": "markdown",
      "metadata": {
        "id": "YiFlokD9CGpO"
      },
      "source": [
        "\"|\" hay coincidencias si está la expresión anterior o la siguiente"
      ]
    },
    {
      "cell_type": "code",
      "metadata": {
        "colab": {
          "base_uri": "https://localhost:8080/"
        },
        "id": "ucfmSR2hClKJ",
        "outputId": "f8cf2f01-84d4-487a-814e-30101fd87b4f"
      },
      "source": [
        "reg14 = re.compile(\"(ACTG)|(GAT)\")\r\n",
        "imprimir_coincidencias(reg14, a)"
      ],
      "execution_count": 24,
      "outputs": [
        {
          "output_type": "stream",
          "text": [
            "['ACT', 'ACTG', 'ACTGAT', 'GGAATT', 'ATGATG', 'ATACTAGG']\n",
            "['ACTG', 'ACTGAT', 'ATGATG']\n",
            "['ACTG', 'ACTG', 'GAT']\n"
          ],
          "name": "stdout"
        }
      ]
    },
    {
      "cell_type": "markdown",
      "metadata": {
        "id": "s7mY2DnWBpdL"
      },
      "source": [
        "# Ejemplo de expresiones regulares en bioinformática, ejemplo de SLIMs"
      ]
    },
    {
      "cell_type": "markdown",
      "metadata": {
        "id": "Yi_aSDdBB-RR"
      },
      "source": [
        "SLIMs, del inglés short lineal motifs. Son las siglas utilizadas para catalogar patrones cortos que ocurren en las secuencias de proteínas. Se describen mediante espresiones regulares. Pues estos motivos lineales pueden describir una función.\r\n",
        "\r\n",
        "[ELM](http://elm.eu.org/) es un servidor web de SLIMs en eucariotas para sitios funcionales de proteínas.\r\n",
        "\r\n",
        "![ejemplo_motivos.png](data:image/png;base64,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)"
      ]
    },
    {
      "cell_type": "markdown",
      "metadata": {
        "id": "VPCCN21Q0pC8"
      },
      "source": [
        ""
      ]
    }
  ]
}